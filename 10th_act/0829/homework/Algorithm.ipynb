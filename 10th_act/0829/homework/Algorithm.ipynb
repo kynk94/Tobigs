{
 "cells": [
  {
   "cell_type": "markdown",
   "metadata": {},
   "source": [
    "#### 공지사항\n",
    "- 7문제 중 본인이 풀고 싶은 4문제를 선택해서 풀어주시면 됩니다. 물론 5문제 이상 푸셔도 됩니다.\n",
    "- 코드 실행시, 제시된 답안과 동일하게 출력되어야 합니다.\n",
    "- 2, 3, 4, 5, 6번 문제는 코드 실행시 입력창이 나타나게 되고, 입력할 때마다 다음 입력값을 받아야 하며, 공백에 대해서 입력을 할 시 종료가 되는 방식으로 작성해주시면 됩니다.\n",
    "- 1번, 7번은 코드 실행시 자동으로 출력을 하게끔 작성해주시면 됩니다.\n",
    "\n",
    "# 알고리즘 과제 공지\n",
    "\n",
    "- 총 7문제가 있는데, 본인이 원하는 문제를 선택해서 총 4문제 이상 푸시면 됩니다.\n",
    "- def ____: 부분을 작성해주시면 되며, 주피터노트북에 실행결과창과 동일하게 출력되게 해주시면 됩니다.\n",
    "- input 개념을 이용해서 코드 실행시 인자값을 받는 것과, 공백으로 입력시 코드가 종료되는 방식으로 작성하는 걸 추천합니다."
   ]
  },
  {
   "cell_type": "markdown",
   "metadata": {},
   "source": [
    "# Exercise 1: Reverse Order\n",
    "- Write a program that reads integers from the user and stores them in a list. Use 0 as a sentinel value to mark the end of the input. Once all of the values have been read your program should display them (except for the 0) in reverse order, with one value\n",
    "appearing on each line."
   ]
  },
  {
   "cell_type": "code",
   "execution_count": 27,
   "metadata": {},
   "outputs": [
    {
     "name": "stdout",
     "output_type": "stream",
     "text": [
      "User: \n",
      "6162\n",
      "746\n",
      "8819\n",
      "9991\n",
      "6517\n",
      "3202\n",
      "6473\n",
      "8558\n",
      "9267\n",
      "7014\n",
      "0\n",
      "2004\n",
      "6365\n",
      "7984\n",
      "4563\n",
      "6078\n",
      "6511\n",
      "2366\n",
      "2900\n",
      "4721\n",
      "7207\n",
      "\n",
      "End\n",
      "\n",
      "7014\n",
      "9267\n",
      "8558\n",
      "6473\n",
      "3202\n",
      "6517\n",
      "9991\n",
      "8819\n",
      "746\n",
      "6162\n"
     ]
    }
   ],
   "source": [
    "import random\n",
    "def Reverse(user):\n",
    "    print(\"User: \")\n",
    "    for i in user:\n",
    "        print(i)\n",
    "    print('\\nEnd\\n')\n",
    "    user=list(user)\n",
    "    reverse = user[::-1]\n",
    "    k=0\n",
    "    for j in reverse:\n",
    "        if k == 1:\n",
    "            print(j)\n",
    "        if j == 0:\n",
    "            k=1\n",
    "        \n",
    "user = [random.randrange(0,10000) for i in range(0,10)]+[0]+[random.randrange(0,10000) for i in range(0,10)]\n",
    "Reverse(user)"
   ]
  },
  {
   "cell_type": "markdown",
   "metadata": {},
   "source": [
    "# Exercise 2: Avoiding Duplicates\n",
    "- In this exercise, you will create a program that reads words from the user until the user enters a blank line. After the user enters a blank line your program should display each word entered by the user exactly once. The words should be displayed in the same order that they were entered. For example, if the user enters:\n",
    "\n",
    "##### first\n",
    "##### second\n",
    "##### first\n",
    "##### third\n",
    "##### second\n",
    "\n",
    "then your program should display:\n",
    "\n",
    "- first\n",
    "- second\n",
    "- third"
   ]
  },
  {
   "cell_type": "code",
   "execution_count": 3,
   "metadata": {},
   "outputs": [],
   "source": [
    "def drop_duplicates():\n",
    "    input_list = []\n",
    "    while True:\n",
    "        adder = input()\n",
    "        if adder !=\"\":\n",
    "            if adder in input_list:\n",
    "                pass\n",
    "            else:\n",
    "                input_list.append((adder))\n",
    "        else:\n",
    "            break\n",
    "    print(\"\\n\\n\")\n",
    "    for i in input_list:\n",
    "        print(i)"
   ]
  },
  {
   "cell_type": "code",
   "execution_count": 4,
   "metadata": {
    "scrolled": false
   },
   "outputs": [
    {
     "name": "stdout",
     "output_type": "stream",
     "text": [
      "apple\n",
      "banana\n",
      "orange\n",
      "apple\n",
      "watermelon\n",
      "orange\n",
      "\n",
      "\n",
      "\n",
      "\n",
      "apple\n",
      "banana\n",
      "orange\n",
      "watermelon\n"
     ]
    }
   ],
   "source": [
    "drop_duplicates()"
   ]
  },
  {
   "cell_type": "markdown",
   "metadata": {},
   "source": [
    "# Exercise 3: Negatives, Zeros and Positives\n",
    "- Create a program that reads integers from the user until a blank line is entered. Once all of the integers have been read your program should display all of the negative numbers, followed by all of the zeros, followed by all of the positive numbers. Within each group the numbers should be displayed in the same order that they were entered by the user. For example, if the user enters the values 3, -4, 1, 0, -1, 0, and -2 then your program should output the values -4, -1, -2, 0, 0, 3, and 1. Your program should display each value on its own line."
   ]
  },
  {
   "cell_type": "code",
   "execution_count": 9,
   "metadata": {},
   "outputs": [],
   "source": [
    "def a():\n",
    "    integer = []\n",
    "    while True:\n",
    "        alpha=input(\"Input Integer :\")\n",
    "        if alpha != \"\":\n",
    "            integer.append(int(alpha))\n",
    "        else:\n",
    "            break\n",
    "            \n",
    "    pos_list = []\n",
    "    zero_list = []\n",
    "    neg_list = []\n",
    "    \n",
    "    for i in integer:\n",
    "        if i < 0:\n",
    "            neg_list.append(i)\n",
    "        elif i == 0:\n",
    "            zero_list.append(i)\n",
    "        else:\n",
    "            pos_list.append(i)\n",
    "    for i in neg_list:\n",
    "        print(i)\n",
    "    for i in zero_list:\n",
    "        print(i)\n",
    "    for i in pos_list:\n",
    "        print(i)    "
   ]
  },
  {
   "cell_type": "code",
   "execution_count": 10,
   "metadata": {},
   "outputs": [
    {
     "name": "stdout",
     "output_type": "stream",
     "text": [
      "Input Integer :5\n",
      "Input Integer :6\n",
      "Input Integer :7\n",
      "Input Integer :0\n",
      "Input Integer :-9\n",
      "Input Integer :1\n",
      "Input Integer :-654\n",
      "Input Integer :56\n",
      "Input Integer :0\n",
      "Input Integer :\n",
      "-9\n",
      "-654\n",
      "0\n",
      "0\n",
      "5\n",
      "6\n",
      "7\n",
      "1\n",
      "56\n"
     ]
    }
   ],
   "source": [
    "a()"
   ]
  },
  {
   "cell_type": "markdown",
   "metadata": {},
   "source": [
    "# Exercise 4: Perfect Numbers\n",
    "- An integer, n, is said to be perfect when the sum of all of the proper divisors of n is equal to n. For example, 28 is a perfect number because its proper divisors are 1, 2, 4, 7 and 14, and 1 + 2 + 4 + 7 + 14 = 28. Write a function that determines whether or not a positive integer is perfect. Your function will take one parameter. If that parameter is a perfect number then your func- tion will return true. Otherwise it will return false. In addition, write a main program that uses your function to identify and display all of the perfect numbers between 1 and 10,000. Import your solution to Exercise 109 when completing this task."
   ]
  },
  {
   "cell_type": "code",
   "execution_count": 30,
   "metadata": {},
   "outputs": [],
   "source": [
    "def Perfect_Numbers():\n",
    "    measure_list=[]\n",
    "    target_num = int(input(\"Enter a number:\"))\n",
    "    for i in range(target_num):\n",
    "        if target_num%(i+1) == 0:\n",
    "            measure_list.append(i+1)\n",
    "        else:\n",
    "            pass\n",
    "    check = 0\n",
    "    for j in range(len(measure_list)):\n",
    "        check += measure_list[j]\n",
    "        #print(check)\n",
    "    check -= target_num\n",
    "    #print(check)\n",
    "    print(\"Numbers: \",target_num)\n",
    "    print(\"measure_list:  \",measure_list)\n",
    "    if check == target_num:\n",
    "        print(target_num, \" is Perfect Numbers\")\n",
    "    else:\n",
    "        print(target_num, \" is not Perfect Numbers\")"
   ]
  },
  {
   "cell_type": "code",
   "execution_count": 31,
   "metadata": {},
   "outputs": [
    {
     "name": "stdout",
     "output_type": "stream",
     "text": [
      "Enter a number:28\n",
      "Numbers:  28\n",
      "measure_list:   [1, 2, 4, 7, 14, 28]\n",
      "28  is Perfect Numbers\n"
     ]
    }
   ],
   "source": [
    "Perfect_Numbers()"
   ]
  },
  {
   "cell_type": "code",
   "execution_count": 32,
   "metadata": {},
   "outputs": [
    {
     "name": "stdout",
     "output_type": "stream",
     "text": [
      "Enter a number:29\n",
      "Numbers:  29\n",
      "measure_list:   [1, 29]\n",
      "29  is not Perfect Numbers\n"
     ]
    }
   ],
   "source": [
    "Perfect_Numbers()"
   ]
  },
  {
   "cell_type": "markdown",
   "metadata": {},
   "source": [
    "# Exercise 5: Formatting a List\n",
    "- When writing out a list of items in English, one normally separates the items with commas. In addition, the word “and” is normally included before the last item, unless the list only contains one item. Consider the following four lists:\n",
    "\n",
    "##### apples\n",
    "##### apples and oranges\n",
    "##### apples, oranges and bananas\n",
    "##### apples, oranges, bananas and lemons\n",
    "\n",
    "- Write a function that takes a list of strings as its only parameter. Your function should return a string that contains all of the items in the list formatted in the manner described previously as its only result. While the examples shown previously only include lists containing four elements or less, your function should behave correctly for lists of any length. Include a main program that reads several items from the user, formats them by calling your function, and then displays the result returned by the function."
   ]
  },
  {
   "cell_type": "code",
   "execution_count": 27,
   "metadata": {},
   "outputs": [],
   "source": [
    "def Format():\n",
    "    input_list=[]\n",
    "    while True:\n",
    "        adder = input()\n",
    "        if adder !=\"\":\n",
    "            print('Items: ', adder)\n",
    "            input_list.append(adder)\n",
    "        else:\n",
    "            break\n",
    "    output =\"\"\n",
    "    for i in range(len(input_list)):\n",
    "        if i != (len(input_list) -1 ):\n",
    "            adder_2 = \" \" + input_list[i] +\",\"\n",
    "            output += adder_2\n",
    "        else:\n",
    "            adder_2 = \" \" + input_list[i] \n",
    "            output += \" and \"\n",
    "            output += adder_2\n",
    "    print(\"Items: \\n\" ,output)\n",
    "            \n",
    "    "
   ]
  },
  {
   "cell_type": "code",
   "execution_count": 28,
   "metadata": {},
   "outputs": [
    {
     "name": "stdout",
     "output_type": "stream",
     "text": [
      "one\n",
      "Items:  one\n",
      "two\n",
      "Items:  two\n",
      "three\n",
      "Items:  three\n",
      "four\n",
      "Items:  four\n",
      "\n",
      "Items: \n",
      "  one, two, three, and  four\n"
     ]
    }
   ],
   "source": [
    "Format()"
   ]
  },
  {
   "cell_type": "markdown",
   "metadata": {},
   "source": [
    "# Exercise 6: Unique Characters\n",
    "- Create a program that determines and displays the number of unique characters in a string entered by the user. For example, Hello, World! has 10 unique characters while zzz has only one unique character. Use a dictionary or set to solve this problem."
   ]
  },
  {
   "cell_type": "code",
   "execution_count": 14,
   "metadata": {},
   "outputs": [
    {
     "name": "stdout",
     "output_type": "stream",
     "text": [
      "Input : alpha beta gamma\n",
      "10\n"
     ]
    }
   ],
   "source": [
    "def Unique_Characters():\n",
    "    s = input(\"Input : \")\n",
    "    print(len(list(set(s))))\n",
    "Unique_Characters()"
   ]
  },
  {
   "cell_type": "code",
   "execution_count": 60,
   "metadata": {},
   "outputs": [
    {
     "name": "stdout",
     "output_type": "stream",
     "text": [
      "Hi, I'm Chad.\n",
      "Hi,I'mChad.\n"
     ]
    }
   ],
   "source": [
    "Unique_Characters()"
   ]
  },
  {
   "cell_type": "code",
   "execution_count": 17,
   "metadata": {
    "scrolled": true
   },
   "outputs": [
    {
     "name": "stdout",
     "output_type": "stream",
     "text": [
      "Sentences: Tobigs is too difficult!\n",
      "14\n"
     ]
    }
   ],
   "source": [
    "Unique_Characters()"
   ]
  },
  {
   "cell_type": "markdown",
   "metadata": {},
   "source": [
    "# Exercise 7: Anagrams\n",
    "- Two words are anagrams if they contain all of the same letters, but in a different order. For example, “evil” and “live” are anagrams because each contains one e, one i, one l, and one v. Create a program that reads two strings from the user, determines whether or not they are anagrams, and reports the result.\n"
   ]
  },
  {
   "cell_type": "code",
   "execution_count": 65,
   "metadata": {},
   "outputs": [],
   "source": [
    "def Anagrams(a,b):\n",
    "    list_A=[]\n",
    "    list_B=[]\n",
    "    for i in a:\n",
    "        list_A.append(i)\n",
    "    for j in b:\n",
    "        list_B.append(j)\n",
    "    if set(list_A) == set(list_B):\n",
    "        print(\"True\")\n",
    "    else:\n",
    "        print(\"False\")"
   ]
  },
  {
   "cell_type": "code",
   "execution_count": 66,
   "metadata": {},
   "outputs": [
    {
     "name": "stdout",
     "output_type": "stream",
     "text": [
      "False\n"
     ]
    }
   ],
   "source": [
    "Anagrams('korea', 'ersoka')"
   ]
  },
  {
   "cell_type": "code",
   "execution_count": 67,
   "metadata": {},
   "outputs": [
    {
     "name": "stdout",
     "output_type": "stream",
     "text": [
      "True\n"
     ]
    }
   ],
   "source": [
    "Anagrams('evil', 'live')"
   ]
  },
  {
   "cell_type": "code",
   "execution_count": 68,
   "metadata": {},
   "outputs": [
    {
     "name": "stdout",
     "output_type": "stream",
     "text": [
      "False\n"
     ]
    }
   ],
   "source": [
    "Anagrams('Apple', 'apple')"
   ]
  },
  {
   "cell_type": "code",
   "execution_count": 69,
   "metadata": {},
   "outputs": [
    {
     "name": "stdout",
     "output_type": "stream",
     "text": [
      "False\n"
     ]
    }
   ],
   "source": [
    "Anagrams('samsung', 'apple')"
   ]
  },
  {
   "cell_type": "code",
   "execution_count": 70,
   "metadata": {},
   "outputs": [
    {
     "name": "stdout",
     "output_type": "stream",
     "text": [
      "True\n"
     ]
    }
   ],
   "source": [
    "Anagrams('maybe','ybeam')"
   ]
  }
 ],
 "metadata": {
  "kernelspec": {
   "display_name": "Python 3",
   "language": "python",
   "name": "python3"
  },
  "language_info": {
   "codemirror_mode": {
    "name": "ipython",
    "version": 3
   },
   "file_extension": ".py",
   "mimetype": "text/x-python",
   "name": "python",
   "nbconvert_exporter": "python",
   "pygments_lexer": "ipython3",
   "version": "3.6.3"
  }
 },
 "nbformat": 4,
 "nbformat_minor": 2
}
