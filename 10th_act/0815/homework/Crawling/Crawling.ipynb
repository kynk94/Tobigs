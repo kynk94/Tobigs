{
 "cells": [
  {
   "cell_type": "code",
   "execution_count": 39,
   "metadata": {
    "collapsed": true
   },
   "outputs": [],
   "source": [
    "from bs4 import BeautifulSoup as bs\n",
    "from selenium import webdriver\n",
    "from selenium.common.exceptions import *\n",
    "import requests\n",
    "import re\n",
    "from tqdm import trange\n",
    "from lxml.html import parse\n",
    "import numpy as np\n",
    "import pandas as pd"
   ]
  },
  {
   "cell_type": "code",
   "execution_count": 2,
   "metadata": {},
   "outputs": [],
   "source": [
    "options = webdriver.ChromeOptions()\n",
    "#options.add_argument('headless')\n",
    "#options.add_argument('window-size=1920x1080')\n",
    "options.add_argument('user-agent=Mozilla/5.0 (Windows NT 10.0; Win64; x64) AppleWebKit/537.36 (KHTML, like Gecko) Chrome/68.0.3440.106 Safari/537.36')\n",
    "driver = webdriver.Chrome('chromedriver', chrome_options=options)\n",
    "#driver.set_window_size(1080,720)\n",
    "driver.implicitly_wait(2)\n",
    "driver.get('https://google.com')"
   ]
  },
  {
   "cell_type": "code",
   "execution_count": 3,
   "metadata": {},
   "outputs": [],
   "source": [
    "elem=driver.find_element_by_id('lst-ib')\n",
    "elem.clear()\n",
    "elem.send_keys('autopilot')\n",
    "elem.submit()"
   ]
  },
  {
   "cell_type": "code",
   "execution_count": 4,
   "metadata": {},
   "outputs": [],
   "source": [
    "tab = driver.find_elements_by_css_selector('a.q.qs')\n",
    "for i in tab:\n",
    "    if ('뉴스' in i.text):\n",
    "        newstab=i.get_attribute('href')\n",
    "        driver.get(newstab)\n",
    "        break"
   ]
  },
  {
   "cell_type": "code",
   "execution_count": 5,
   "metadata": {
    "collapsed": false
   },
   "outputs": [
    {
     "name": "stderr",
     "output_type": "stream",
     "text": [
      "\r  0%|          | 0/10 [00:00<?, ?it/s]"
     ]
    },
    {
     "name": "stderr",
     "output_type": "stream",
     "text": [
      "\r 10%|█         | 1/10 [00:00<00:01,  5.77it/s]"
     ]
    },
    {
     "name": "stderr",
     "output_type": "stream",
     "text": [
      "\r 20%|██        | 2/10 [00:00<00:03,  2.05it/s]"
     ]
    },
    {
     "name": "stderr",
     "output_type": "stream",
     "text": [
      "\r 30%|███       | 3/10 [00:01<00:03,  1.97it/s]"
     ]
    },
    {
     "name": "stderr",
     "output_type": "stream",
     "text": [
      "\r 40%|████      | 4/10 [00:02<00:03,  1.83it/s]"
     ]
    },
    {
     "name": "stderr",
     "output_type": "stream",
     "text": [
      "\r 50%|█████     | 5/10 [00:02<00:02,  1.75it/s]"
     ]
    },
    {
     "name": "stderr",
     "output_type": "stream",
     "text": [
      "\r 60%|██████    | 6/10 [00:03<00:02,  1.69it/s]"
     ]
    },
    {
     "name": "stderr",
     "output_type": "stream",
     "text": [
      "\r 70%|███████   | 7/10 [00:04<00:01,  1.63it/s]"
     ]
    },
    {
     "name": "stderr",
     "output_type": "stream",
     "text": [
      "\r 80%|████████  | 8/10 [00:05<00:01,  1.59it/s]"
     ]
    },
    {
     "name": "stderr",
     "output_type": "stream",
     "text": [
      "\r 90%|█████████ | 9/10 [00:05<00:00,  1.57it/s]"
     ]
    },
    {
     "name": "stderr",
     "output_type": "stream",
     "text": [
      "\r100%|██████████| 10/10 [00:06<00:00,  1.53it/s]"
     ]
    },
    {
     "name": "stderr",
     "output_type": "stream",
     "text": [
      "\n"
     ]
    }
   ],
   "source": [
    "pagenum=10\n",
    "article_urls=[]\n",
    "if (driver.find_element_by_css_selector('td.cur').text=='1'):\n",
    "    article = driver.find_elements_by_css_selector('a.l.lLrAF')           \n",
    "    article_urls = [i.get_attribute('href') for i in article]\n",
    "for i in trange(pagenum):\n",
    "    page=driver.find_elements_by_css_selector('a.fl')\n",
    "    for j in page:\n",
    "        if j.text==str(i+1):\n",
    "            alpha=j.get_attribute('href')\n",
    "            driver.get(alpha)\n",
    "            article = driver.find_elements_by_css_selector('a.l.lLrAF')           \n",
    "            article_urls.extend([k.get_attribute('href') for k in article])\n",
    "            break"
   ]
  },
  {
   "cell_type": "code",
   "execution_count": null,
   "metadata": {
    "collapsed": true
   },
   "outputs": [
    {
     "data": {
      "text/plain": [
       "['https://www.ttnews.com/articles/tesla-public-or-private-still-will-release-autopilot-safety-data',\n 'https://www.businessinsider.com/tesla-starts-offering-owners-free-autopilot-trials-2018-8',\n 'https://www.forbes.com/sites/davidsilver/2018/08/15/tesla-model-3-autopilot-outperforms-model-s-competitors-in-lane-keeping-test/',\n 'https://www.sfchronicle.com/business/article/Tesla-public-or-private-will-still-release-13159080.php',\n 'https://www.theverge.com/2018/8/1/17641186/tesla-elon-musk-self-driving-coast-to-coast-delay',\n 'https://interestingengineering.com/elon-musk-reveals-tesla-autopilot-30-will-be-free-with-5000-full-self-driving-pack',\n 'https://electrek.co/2018/07/28/tesla-model-3-autopilot-avoid-crash-nearmiss-dashcam/',\n 'https://insideevs.com/get-your-free-tesla-autopilot-trial-now/',\n 'https://electrek.co/2018/08/08/tesla-autopilot-hardware-upgrade-free-with-full-self-driving-package/',\n 'https://www.techrepublic.com/article/teslas-autopilot-cheat-sheet/',\n 'https://www.thestreet.com/technology/these-vehicles-can-not-drive-on-their-own-tesla-autopilot-included-14679368',\n 'https://www.heraldgoa.in/Edit/Editorial/Where-governance-is-autopilot-politics-is-virtual-reality/134931.html',\n 'https://cleantechnica.com/2018/07/19/tesla-autopilot-miles-skyrocketing-cool-graphs/',\n 'https://www.teslarati.com/tesla-model-3-robert-scoble-autopilot-roadtrip/',\n 'https://www.teslarati.com/tesla-tsla-420-share-bargain-autopilot-data/',\n 'https://electrek.co/2018/08/07/tesla-autopilots-crash-avoidance-fewer-claims-iihs/',\n 'https://driving.ca/tesla/features/feature-story/watch-this-tesla-model-3-avoid-crash-using-autopilot',\n 'https://www.flightglobal.com/news/articles/fatigued-cj4-pilot-likely-failed-to-engage-autopilot-450691/',\n 'https://interestingengineering.com/dashcam-video-shows-tesla-model-3-on-autopilot-swiftly-avoid-an-accident',\n 'https://www.consumerreports.org/cars-driving/talking-cars-163-toyota-corolla-hatchback-and-convenience-vs-safety/',\n 'https://mobilesyrup.com/2018/08/10/tesla-free-trial-autopilot/',\n 'https://www.ainonline.com/aviation-news/general-aviation/2018-07-23/genesys-autopilot-gets-approval-piper-pa-32',\n 'https://www.cartoq.com/indias-first-tesla-model-x-100d-electric-suv-with-autopilot-is-here/',\n 'https://www.cnbc.com/2018/08/16/nvidia-ceo-is-more-than-happy-to-help-if-tesla-ai-chip-plan-fails.html',\n 'https://www.irishexaminer.com/examviral/people-are-sharing-the-dumbest-things-theyve-done-while-on-autopilot-861436.html',\n 'https://autobible.euro.cz/dalsi-fatalni-nehoda-tesly-usa-ukazuje-ze-autopilot-opravdu-nefunguje/',\n 'https://www.greencarreports.com/news/1118185_taking-tesla-private-autopilot-testing-mazda-cx-5-diesel-nissan-leaf-batteries-the-week-in-reverse',\n 'https://www.caradvice.com.au/668814/teslas-autopilot-driven-1-9b-kilometres/',\n 'https://www.ainonline.com/aviation-news/general-aviation/2018-07-27/garmin-autopilots-approved-more-aircraft',\n 'https://www.thestar.com/news/canada/2018/08/02/fishing-boat-involved-in-deadly-june-accident-was-on-autopilot-investigators-say.html',\n 'https://sputniknews.com/asia/201807301066790112-malaysia-mh370-investigation-report/',\n 'https://timesofindia.indiatimes.com/india/indian-foreign-policy-should-not-be-on-autopilot-says-jaishankar/articleshow/65283135.cms',\n 'http://positivesource24.com/2018/08/16/global-commercial-aircraft-autopilot-system-market-growth-analysis-2018-2023-avidyne/',\n 'https://www.cbc.ca/news/canada/prince-edward-island/pei-marine-transportation-safety-board-investigation-1.4770092',\n 'http://www.governing.com/gov-institute/funkhouser/gov-state-budgets.html',\n 'https://www.businessinsider.com/volvo-xc40-review-price-and-pictures-2018-7',\n 'https://www.sfchronicle.com/business/article/After-Uber-accident-fewer-people-want-13159087.php',\n 'https://www.thestreet.com/investing/tesla-s-killer-app-is-its-software-updates-14684545',\n 'https://www.stereogum.com/2010150/nicki-minaj-queen-review/franchises/status-aint-hood/',\n 'http://positivesource24.com/2018/08/16/global-aircraft-autopilot-systems-market-growth-analysis-2018-2023-garmin/',\n 'https://www.aikenstandard.com/horoscopes-for-aug/article_749cc2e4-981f-11e8-91aa-b338f378275d.html',\n 'https://1reddrop.com/2018/08/15/4-weeks-tesla-firmware-v9-0-what-to-expect-timeline-autopilot-hardware-3/',\n 'https://www.bloomberg.com/news/videos/2018-07-27/ecb-policy-is-on-autopilot-sgh-macro-advisors-ceo-says-video',\n 'https://www.fresnobee.com/sports/outdoors/hunting-fishing/article215435800.html',\n 'https://theindustryherald.com/2018/08/17/global-uav-autopilot-market-analysis-2018-airware/',\n 'http://www.ekathimerini.com/231204/article/ekathimerini/business/athex-autopilot-sees-stocks-lose-more-altitude',\n 'https://mybroadband.co.za/news/software/271735-tesla-to-release-vehicle-security-source-code.html',\n 'https://www.cnbc.com/2018/08/10/autonomous-vehicles-are-creating-jobs-heres-where.html',\n 'https://economictimes.indiatimes.com/news/politics-and-nation/scientist-vr-lalithambika-will-lead-isros-human-space-flight-programme/articleshow/65450174.cms',\n 'https://cleantechnica.com/2018/08/18/nissan-leaf-vs-tesla-model-3-vs-chevy-bolt/',\n 'https://www.businessinsider.com/teslas-autopilot-faces-scrutiny-after-accidents-2018-5',\n 'https://www.leiphone.com/news/201808/mKMqPgiiDdEead6Q.html',\n 'https://www.golem.de/news/tesla-vor-mercedes-und-bmw-nicht-alle-fahrassistenzsysteme-sind-gleich-gut-1808-135960.html',\n 'https://www.theverge.com/2018/6/5/17431484/tesla-autopilot-free-trial-elon-musk-purchase',\n 'https://www.wired.com/story/thatcham-autopilot-grading-semi-autonomous/',\n 'https://www.reuters.com/article/us-tesla-stocks/teslas-autopilot-to-get-full-self-driving-feature-in-august-idUSKBN1J71YY',\n 'https://www.businessinsider.com/what-its-like-to-try-teslas-autopilot-2018-7',\n 'https://www.cnbc.com/2018/06/07/driver-in-fatal-tesla-autopilot-crash-did-not-have-hands-on-wheel-u-s-agency-says.html',\n 'https://www.theguardian.com/technology/2018/mar/31/tesla-car-crash-autopilot-mountain-view',\n 'https://electrek.co/2018/06/18/what-tesla-autopilot-see-understand/',\n 'https://www.bloomberg.com/news/articles/2018-05-03/musk-has-a-plan-to-end-the-autopilot-safety-debate',\n 'https://www.wired.com/story/tesla-autopilot-safety-statistics/',\n 'https://www.businessinsider.com/tesla-autopilot-strategy-is-a-mistake-2018-4',\n 'https://www.reuters.com/article/us-tesla-autopilot-lawsuit/tesla-settles-class-action-lawsuit-over-dangerous-autopilot-system-idUSKCN1IQ1SH',\n 'https://www.recode.net/2018/4/2/17183860/tesla-crash-autopilot-elon-musk',\n 'https://www.reuters.com/article/us-tesla-autopilot/consumer-groups-ask-u-s-agency-to-probe-tesla-autopilot-ads-idUSKCN1IO1IQ',\n 'https://www.bbc.com/news/technology-44300952',\n 'https://mashable.com/2018/05/30/tesla-autopilot-stationary-crashes/',\n 'https://www.theverge.com/2018/6/19/17479316/tesla-autopilot-buddy-aftermarket-nhtsa',\n 'https://bgr.com/2018/05/14/tesla-autopilot-hands-on-wheel-sensors-vs-cadillac-super-cruise/',\n 'https://www.wired.com/story/tesla-autopilot-crash-safety/',\n 'https://bgr.com/2018/06/18/tesla-autopilot-video-real-time-analysis/',\n 'https://www.bbc.com/news/av/business-44460980/this-car-is-on-autopilot-what-happens-next',\n 'https://www.businessinsider.com/tesla-autopilot-worth-questioned-2018-5',\n 'https://bgr.com/2018/06/03/tesla-autopilot-saves-life-for-a-change/',\n 'https://www.businessinsider.com/elon-musk-teases-mad-max-mode-for-tesla-autopilot-2018-6',\n 'https://www.forbes.com/sites/ellevate/2018/06/07/reprogram-your-autopilot-and-take-your-leadership-to-a-new-level/',\n 'https://www.cnbc.com/2018/03/27/tesla-defends-autopilot-record-after-feds-launch-investigation-into-fatal-crash.html',\n 'https://brandequity.economictimes.indiatimes.com/be-blogs/are-brands-buying-or-investing-in-marketing-tech/3201',\n 'https://mashable.com/2018/04/29/tesla-autopilot-passenger-seat/',\n 'https://electrek.co/2018/07/17/tesla-autopilot-miles-shadow-mode-report/',\n 'https://fox5sandiego.com/2018/08/11/can-this-thing-do-a-backflip-hear-the-audio-from-seattle-plane-theft-crash/',\n 'https://www.reuters.com/article/us-tesla-autopilot/u-s-safety-agency-says-did-not-assess-tesla-autopilot-effectiveness-idUSKBN1I334A',\n 'https://www.forbes.com/sites/sebastianblanco/2018/04/30/tesla-autopilot-stunt-loses-driver-license/',\n 'https://edition.cnn.com/2018/06/26/motorsport/tesla-testing-mad-max-autopilot-mode/index.html',\n 'https://www.techradar.com/news/tesla-plans-autopilot-update-to-clarify-hold-steering-wheel-alert',\n 'https://www.digitaltrends.com/cars/tesla-autopilot-full-package-august/',\n 'https://bgr.com/2018/03/17/tesla-autopilot-update-winding-twisty-roads-video-improved/',\n 'https://mashable.com/2018/04/30/tesla-autopilot-save-truck-crash/',\n 'https://www.theverge.com/2018/5/2/17313324/tesla-autopilot-safety-statistics-elon-musk-q1-earnings',\n 'https://www.entrepreneur.com/article/312709',\n 'https://www.washingtonpost.com/news/innovations/wp/2018/04/30/tesla-driver-turns-on-autopilot-and-climbs-into-the-passenger-seat-on-british-highway/',\n 'https://www.theinquirer.net/inquirer/news/3032649/tesla-open-sources-some-of-its-autopilot-source-code',\n 'https://electrek.co/2018/06/11/tesla-ai-director-insights-autopilot-computer-vision-neural-net/',\n 'https://www.bloomberg.com/news/articles/2018-04-26/tesla-says-autopilot-vice-president-keller-is-leaving-carmaker',\n 'https://markets.businessinsider.com/news/stocks/global-luxury-yacht-market-2018-2022-key-vendors-are-amels-azimut-benetti-feadship-isa-yachts-overmarine-group-1027467983',\n 'https://www.sfchronicle.com/business/article/Tesla-s-Autopilot-suspected-in-fatal-accident-12889035.php',\n 'https://www.reuters.com/article/tesla-autopilot/us-safety-agency-prior-probe-did-not-assess-effectiveness-of-tesla-autopilot-idUSL1N1S91XY',\n 'https://mashable.com/2018/05/15/tesla-crash-autopilot-elon-musk/',\n 'http://fortune.com/2018/05/08/uber-autopilot-death-reason/']"
      ]
     },
     "execution_count": 6,
     "metadata": {},
     "output_type": "execute_result"
    }
   ],
   "source": [
    "article_urls[0:len(article_urls)/10]"
   ]
  },
  {
   "cell_type": "code",
   "execution_count": 7,
   "metadata": {
    "collapsed": true
   },
   "outputs": [
    {
     "data": {
      "text/plain": [
       "100"
      ]
     },
     "execution_count": 7,
     "metadata": {},
     "output_type": "execute_result"
    }
   ],
   "source": [
    "len(article_urls)"
   ]
  },
  {
   "cell_type": "code",
   "execution_count": 16,
   "metadata": {},
   "outputs": [
    {
     "name": "stderr",
     "output_type": "stream",
     "text": [
      "\r  0%|          | 0/100 [00:00<?, ?it/s]"
     ]
    },
    {
     "name": "stderr",
     "output_type": "stream",
     "text": [
      "\r  1%|          | 1/100 [00:03<05:45,  3.49s/it]"
     ]
    },
    {
     "name": "stderr",
     "output_type": "stream",
     "text": [
      "\r  2%|▏         | 2/100 [00:09<07:54,  4.84s/it]"
     ]
    },
    {
     "name": "stderr",
     "output_type": "stream",
     "text": [
      "\r  3%|▎         | 3/100 [00:25<13:51,  8.57s/it]"
     ]
    },
    {
     "name": "stderr",
     "output_type": "stream",
     "text": [
      "\r  4%|▍         | 4/100 [00:34<13:44,  8.58s/it]"
     ]
    },
    {
     "name": "stderr",
     "output_type": "stream",
     "text": [
      "\r  5%|▌         | 5/100 [00:41<13:00,  8.22s/it]"
     ]
    },
    {
     "name": "stderr",
     "output_type": "stream",
     "text": [
      "\r  6%|▌         | 6/100 [01:06<17:26, 11.13s/it]"
     ]
    },
    {
     "name": "stderr",
     "output_type": "stream",
     "text": [
      "\r  7%|▋         | 7/100 [01:12<16:07, 10.41s/it]"
     ]
    },
    {
     "name": "stderr",
     "output_type": "stream",
     "text": [
      "\r  8%|▊         | 8/100 [01:17<14:47,  9.65s/it]"
     ]
    },
    {
     "name": "stderr",
     "output_type": "stream",
     "text": [
      "\r  9%|▉         | 9/100 [01:22<13:53,  9.16s/it]"
     ]
    },
    {
     "name": "stderr",
     "output_type": "stream",
     "text": [
      "\r 10%|█         | 10/100 [01:56<17:24, 11.60s/it]"
     ]
    },
    {
     "name": "stderr",
     "output_type": "stream",
     "text": [
      "\r 11%|█         | 11/100 [02:26<19:47, 13.34s/it]"
     ]
    },
    {
     "name": "stderr",
     "output_type": "stream",
     "text": [
      "\r 12%|█▏        | 12/100 [02:51<21:00, 14.33s/it]"
     ]
    },
    {
     "name": "stderr",
     "output_type": "stream",
     "text": [
      "\r 13%|█▎        | 13/100 [03:07<20:55, 14.43s/it]"
     ]
    },
    {
     "name": "stderr",
     "output_type": "stream",
     "text": [
      "\r 14%|█▍        | 14/100 [03:16<20:07, 14.04s/it]"
     ]
    },
    {
     "name": "stderr",
     "output_type": "stream",
     "text": [
      "\r 15%|█▌        | 15/100 [03:22<19:09, 13.53s/it]"
     ]
    },
    {
     "name": "stderr",
     "output_type": "stream",
     "text": [
      "\r 16%|█▌        | 16/100 [03:29<18:19, 13.09s/it]"
     ]
    },
    {
     "name": "stderr",
     "output_type": "stream",
     "text": [
      "\r 17%|█▋        | 17/100 [03:39<17:51, 12.91s/it]"
     ]
    },
    {
     "name": "stderr",
     "output_type": "stream",
     "text": [
      "\r 18%|█▊        | 18/100 [03:44<17:03, 12.48s/it]"
     ]
    },
    {
     "name": "stderr",
     "output_type": "stream",
     "text": [
      "\r 19%|█▉        | 19/100 [04:09<17:44, 13.15s/it]"
     ]
    },
    {
     "name": "stderr",
     "output_type": "stream",
     "text": [
      "\r 20%|██        | 20/100 [04:15<17:01, 12.77s/it]"
     ]
    },
    {
     "name": "stderr",
     "output_type": "stream",
     "text": [
      "\r 21%|██        | 21/100 [08:07<30:34, 23.22s/it]"
     ]
    },
    {
     "name": "stderr",
     "output_type": "stream",
     "text": [
      "\r 22%|██▏       | 22/100 [08:11<29:02, 22.35s/it]"
     ]
    },
    {
     "name": "stderr",
     "output_type": "stream",
     "text": [
      "\r 23%|██▎       | 23/100 [08:16<27:40, 21.57s/it]"
     ]
    },
    {
     "name": "stderr",
     "output_type": "stream",
     "text": [
      "\r 24%|██▍       | 24/100 [08:24<26:36, 21.00s/it]"
     ]
    },
    {
     "name": "stderr",
     "output_type": "stream",
     "text": [
      "\r 25%|██▌       | 25/100 [08:44<26:13, 20.98s/it]"
     ]
    },
    {
     "name": "stderr",
     "output_type": "stream",
     "text": [
      "\r 26%|██▌       | 26/100 [09:07<25:57, 21.04s/it]"
     ]
    },
    {
     "name": "stderr",
     "output_type": "stream",
     "text": [
      "\r 27%|██▋       | 27/100 [09:18<25:09, 20.68s/it]"
     ]
    },
    {
     "name": "stderr",
     "output_type": "stream",
     "text": [
      "\r 28%|██▊       | 28/100 [09:25<24:14, 20.20s/it]"
     ]
    },
    {
     "name": "stderr",
     "output_type": "stream",
     "text": [
      "\r 29%|██▉       | 29/100 [09:28<23:10, 19.59s/it]"
     ]
    },
    {
     "name": "stderr",
     "output_type": "stream",
     "text": [
      "\r 30%|███       | 30/100 [09:43<22:42, 19.46s/it]"
     ]
    },
    {
     "name": "stderr",
     "output_type": "stream",
     "text": [
      "\r 31%|███       | 31/100 [09:57<22:10, 19.28s/it]"
     ]
    },
    {
     "name": "stderr",
     "output_type": "stream",
     "text": [
      "\r 32%|███▏      | 32/100 [10:00<21:16, 18.78s/it]"
     ]
    },
    {
     "name": "stderr",
     "output_type": "stream",
     "text": [
      "\r 33%|███▎      | 33/100 [10:03<20:26, 18.30s/it]"
     ]
    },
    {
     "name": "stderr",
     "output_type": "stream",
     "text": [
      "\r 34%|███▍      | 34/100 [10:10<19:45, 17.96s/it]"
     ]
    },
    {
     "name": "stderr",
     "output_type": "stream",
     "text": [
      "\r 35%|███▌      | 35/100 [10:15<19:02, 17.58s/it]"
     ]
    },
    {
     "name": "stderr",
     "output_type": "stream",
     "text": [
      "\r 36%|███▌      | 36/100 [10:21<18:25, 17.27s/it]"
     ]
    },
    {
     "name": "stderr",
     "output_type": "stream",
     "text": [
      "\r 37%|███▋      | 37/100 [10:33<17:58, 17.12s/it]"
     ]
    },
    {
     "name": "stderr",
     "output_type": "stream",
     "text": [
      "\r 38%|███▊      | 38/100 [10:53<17:45, 17.19s/it]"
     ]
    },
    {
     "name": "stderr",
     "output_type": "stream",
     "text": [
      "\r 39%|███▉      | 39/100 [11:02<17:16, 17.00s/it]"
     ]
    },
    {
     "name": "stderr",
     "output_type": "stream",
     "text": [
      "\r 40%|████      | 40/100 [11:03<16:35, 16.59s/it]"
     ]
    },
    {
     "name": "stderr",
     "output_type": "stream",
     "text": [
      "\r 41%|████      | 41/100 [11:11<16:05, 16.37s/it]"
     ]
    },
    {
     "name": "stderr",
     "output_type": "stream",
     "text": [
      "\r 42%|████▏     | 42/100 [11:17<15:35, 16.12s/it]"
     ]
    },
    {
     "name": "stderr",
     "output_type": "stream",
     "text": [
      "\r 43%|████▎     | 43/100 [11:18<14:59, 15.78s/it]"
     ]
    },
    {
     "name": "stderr",
     "output_type": "stream",
     "text": [
      "\r 44%|████▍     | 44/100 [11:31<14:39, 15.71s/it]"
     ]
    },
    {
     "name": "stderr",
     "output_type": "stream",
     "text": [
      "\r 45%|████▌     | 45/100 [11:34<14:09, 15.44s/it]"
     ]
    },
    {
     "name": "stderr",
     "output_type": "stream",
     "text": [
      "\r 46%|████▌     | 46/100 [11:50<13:54, 15.45s/it]"
     ]
    },
    {
     "name": "stderr",
     "output_type": "stream",
     "text": [
      "\r 47%|████▋     | 47/100 [12:00<13:32, 15.33s/it]"
     ]
    },
    {
     "name": "stderr",
     "output_type": "stream",
     "text": [
      "\r 48%|████▊     | 48/100 [12:10<13:11, 15.21s/it]"
     ]
    },
    {
     "name": "stderr",
     "output_type": "stream",
     "text": [
      "\r 49%|████▉     | 49/100 [12:17<12:48, 15.06s/it]"
     ]
    },
    {
     "name": "stderr",
     "output_type": "stream",
     "text": [
      "\r 50%|█████     | 50/100 [12:43<12:43, 15.28s/it]"
     ]
    },
    {
     "name": "stderr",
     "output_type": "stream",
     "text": [
      "\r 51%|█████     | 51/100 [12:53<12:23, 15.17s/it]"
     ]
    },
    {
     "name": "stderr",
     "output_type": "stream",
     "text": [
      "\r 52%|█████▏    | 52/100 [12:56<11:56, 14.94s/it]"
     ]
    },
    {
     "name": "stderr",
     "output_type": "stream",
     "text": [
      "\r 53%|█████▎    | 53/100 [13:07<11:38, 14.87s/it]"
     ]
    },
    {
     "name": "stderr",
     "output_type": "stream",
     "text": [
      "\r 54%|█████▍    | 54/100 [13:14<11:16, 14.71s/it]"
     ]
    },
    {
     "name": "stderr",
     "output_type": "stream",
     "text": [
      "\r 55%|█████▌    | 55/100 [13:27<11:00, 14.69s/it]"
     ]
    },
    {
     "name": "stderr",
     "output_type": "stream",
     "text": [
      "\r 56%|█████▌    | 56/100 [13:41<10:45, 14.68s/it]"
     ]
    },
    {
     "name": "stderr",
     "output_type": "stream",
     "text": [
      "\r 57%|█████▋    | 57/100 [13:48<10:25, 14.54s/it]"
     ]
    },
    {
     "name": "stderr",
     "output_type": "stream",
     "text": [
      "\r 58%|█████▊    | 58/100 [13:57<10:06, 14.43s/it]"
     ]
    },
    {
     "name": "stderr",
     "output_type": "stream",
     "text": [
      "\r 59%|█████▉    | 59/100 [14:01<09:44, 14.26s/it]"
     ]
    },
    {
     "name": "stderr",
     "output_type": "stream",
     "text": [
      "\r 60%|██████    | 60/100 [14:09<09:26, 14.15s/it]"
     ]
    },
    {
     "name": "stderr",
     "output_type": "stream",
     "text": [
      "\r 61%|██████    | 61/100 [14:10<09:03, 13.94s/it]"
     ]
    },
    {
     "name": "stderr",
     "output_type": "stream",
     "text": [
      "\r 62%|██████▏   | 62/100 [14:25<08:50, 13.96s/it]"
     ]
    },
    {
     "name": "stderr",
     "output_type": "stream",
     "text": [
      "\r 63%|██████▎   | 63/100 [14:32<08:32, 13.85s/it]"
     ]
    },
    {
     "name": "stderr",
     "output_type": "stream",
     "text": [
      "\r 64%|██████▍   | 64/100 [14:41<08:15, 13.77s/it]"
     ]
    },
    {
     "name": "stderr",
     "output_type": "stream",
     "text": [
      "\r 65%|██████▌   | 65/100 [14:46<07:57, 13.64s/it]"
     ]
    },
    {
     "name": "stderr",
     "output_type": "stream",
     "text": [
      "\r 66%|██████▌   | 66/100 [14:51<07:39, 13.51s/it]"
     ]
    },
    {
     "name": "stderr",
     "output_type": "stream",
     "text": [
      "\r 67%|██████▋   | 67/100 [15:00<07:23, 13.44s/it]"
     ]
    },
    {
     "name": "stderr",
     "output_type": "stream",
     "text": [
      "\r 68%|██████▊   | 68/100 [15:39<07:21, 13.81s/it]"
     ]
    },
    {
     "name": "stderr",
     "output_type": "stream",
     "text": [
      "\r 69%|██████▉   | 69/100 [15:45<07:04, 13.70s/it]"
     ]
    },
    {
     "name": "stderr",
     "output_type": "stream",
     "text": [
      "\r 70%|███████   | 70/100 [15:53<06:48, 13.62s/it]"
     ]
    },
    {
     "name": "stderr",
     "output_type": "stream",
     "text": [
      "\r 71%|███████   | 71/100 [16:10<06:36, 13.67s/it]"
     ]
    },
    {
     "name": "stderr",
     "output_type": "stream",
     "text": [
      "\r 72%|███████▏  | 72/100 [16:17<06:20, 13.57s/it]"
     ]
    },
    {
     "name": "stderr",
     "output_type": "stream",
     "text": [
      "\r 73%|███████▎  | 73/100 [16:22<06:03, 13.46s/it]"
     ]
    },
    {
     "name": "stderr",
     "output_type": "stream",
     "text": [
      "\r 74%|███████▍  | 74/100 [16:29<05:47, 13.37s/it]"
     ]
    },
    {
     "name": "stderr",
     "output_type": "stream",
     "text": [
      "\r 75%|███████▌  | 75/100 [16:35<05:31, 13.27s/it]"
     ]
    },
    {
     "name": "stderr",
     "output_type": "stream",
     "text": [
      "\r 76%|███████▌  | 76/100 [16:42<05:16, 13.18s/it]"
     ]
    },
    {
     "name": "stderr",
     "output_type": "stream",
     "text": [
      "\r 77%|███████▋  | 77/100 [17:19<05:10, 13.50s/it]"
     ]
    },
    {
     "name": "stderr",
     "output_type": "stream",
     "text": [
      "\r 78%|███████▊  | 78/100 [17:28<04:55, 13.44s/it]"
     ]
    },
    {
     "name": "stderr",
     "output_type": "stream",
     "text": [
      "\r 79%|███████▉  | 79/100 [17:33<04:40, 13.33s/it]"
     ]
    },
    {
     "name": "stderr",
     "output_type": "stream",
     "text": [
      "\r 80%|████████  | 80/100 [17:55<04:28, 13.44s/it]"
     ]
    },
    {
     "name": "stderr",
     "output_type": "stream",
     "text": [
      "\r 81%|████████  | 81/100 [18:01<04:13, 13.35s/it]"
     ]
    },
    {
     "name": "stderr",
     "output_type": "stream",
     "text": [
      "\r 82%|████████▏ | 82/100 [18:51<04:08, 13.80s/it]"
     ]
    },
    {
     "name": "stderr",
     "output_type": "stream",
     "text": [
      "\r 83%|████████▎ | 83/100 [18:57<03:52, 13.70s/it]"
     ]
    },
    {
     "name": "stderr",
     "output_type": "stream",
     "text": [
      "\r 84%|████████▍ | 84/100 [19:17<03:40, 13.79s/it]"
     ]
    },
    {
     "name": "stderr",
     "output_type": "stream",
     "text": [
      "\r 85%|████████▌ | 85/100 [19:35<03:27, 13.83s/it]"
     ]
    },
    {
     "name": "stderr",
     "output_type": "stream",
     "text": [
      "\r 86%|████████▌ | 86/100 [19:40<03:12, 13.73s/it]"
     ]
    },
    {
     "name": "stderr",
     "output_type": "stream",
     "text": [
      "\r 87%|████████▋ | 87/100 [19:51<02:58, 13.70s/it]"
     ]
    },
    {
     "name": "stderr",
     "output_type": "stream",
     "text": [
      "\r 88%|████████▊ | 88/100 [20:00<02:43, 13.64s/it]"
     ]
    },
    {
     "name": "stderr",
     "output_type": "stream",
     "text": [
      "\r 89%|████████▉ | 89/100 [20:21<02:30, 13.72s/it]"
     ]
    },
    {
     "name": "stderr",
     "output_type": "stream",
     "text": [
      "\r 90%|█████████ | 90/100 [20:26<02:16, 13.63s/it]"
     ]
    },
    {
     "name": "stderr",
     "output_type": "stream",
     "text": [
      "\r 91%|█████████ | 91/100 [20:31<02:01, 13.53s/it]"
     ]
    },
    {
     "name": "stderr",
     "output_type": "stream",
     "text": [
      "\r 92%|█████████▏| 92/100 [20:38<01:47, 13.46s/it]"
     ]
    },
    {
     "name": "stderr",
     "output_type": "stream",
     "text": [
      "\r 93%|█████████▎| 93/100 [20:45<01:33, 13.39s/it]"
     ]
    },
    {
     "name": "stderr",
     "output_type": "stream",
     "text": [
      "\r 94%|█████████▍| 94/100 [20:50<01:19, 13.31s/it]"
     ]
    },
    {
     "name": "stderr",
     "output_type": "stream",
     "text": [
      "\r 95%|█████████▌| 95/100 [20:52<01:05, 13.18s/it]"
     ]
    },
    {
     "name": "stderr",
     "output_type": "stream",
     "text": [
      "\r 96%|█████████▌| 96/100 [21:03<00:52, 13.16s/it]"
     ]
    },
    {
     "name": "stderr",
     "output_type": "stream",
     "text": [
      "\r 97%|█████████▋| 97/100 [21:13<00:39, 13.13s/it]"
     ]
    },
    {
     "name": "stderr",
     "output_type": "stream",
     "text": [
      "\r 98%|█████████▊| 98/100 [21:16<00:26, 13.03s/it]"
     ]
    },
    {
     "name": "stderr",
     "output_type": "stream",
     "text": [
      "\r 99%|█████████▉| 99/100 [21:46<00:13, 13.20s/it]"
     ]
    },
    {
     "name": "stderr",
     "output_type": "stream",
     "text": [
      "\r100%|██████████| 100/100 [21:58<00:00, 13.18s/it]"
     ]
    },
    {
     "name": "stderr",
     "output_type": "stream",
     "text": [
      "\n"
     ]
    }
   ],
   "source": [
    "c=[]\n",
    "for i in trange(len(article_urls)):\n",
    "    try:\n",
    "        driver.get(article_urls[i])\n",
    "        try:\n",
    "            atext=driver.find_elements_by_css_selector('p')\n",
    "            a=[j.text for j in atext]\n",
    "        except StaleElementReferenceException:\n",
    "            atext=driver.find_elements_by_css_selector('p')\n",
    "            a=[j.text for j in atext]\n",
    "        b=''\n",
    "        for k in range(0,len(a)):\n",
    "            b=b+a[k]\n",
    "        if(len(b)<=100):\n",
    "            driver.implicitly_wait(5)\n",
    "            try:\n",
    "                atext=driver.find_elements_by_css_selector('p')\n",
    "                a=[j.text for j in atext]\n",
    "            except StaleElementReferenceException:\n",
    "                atext=driver.find_elements_by_css_selector('p')\n",
    "                a=[j.text for j in atext]\n",
    "            b=''\n",
    "            for k in range(0,len(a)):\n",
    "                b=b+a[k]\n",
    "            if(len(b)<=100):\n",
    "                int('Error')\n",
    "        c.append(b)\n",
    "    except ValueError:\n",
    "        try:\n",
    "            response = requests.get(article_urls[i])\n",
    "            html = response.text\n",
    "            soup=bs(html,'html.parser')\n",
    "            b=''\n",
    "            for tit in soup.find_all('p')[1:]:\n",
    "                b=b+str(tit.find(text=True))\n",
    "            c.append(b)\n",
    "        except ValueError:\n",
    "            error='ValueError'+' '+article_urls[i]\n",
    "            c.append(error)"
   ]
  },
  {
   "cell_type": "code",
   "execution_count": 65,
   "metadata": {},
   "outputs": [
    {
     "data": {
      "text/plain": [
       "'Nach tödlichen Unfällen mit Teslas \"Autopilot\" stellt sich manchen die Frage nach der Sicherheit von Assistenzsystemen. In einer US-Studie schneidet vor allem ein Modell gut ab. Doch die Tester haben offenbar etwas Wichtiges übersehen.Wie sicher sind die fortgeschrittenen Fahrassistenzsysteme in Modellen der Oberklasse? Ein Test des unabhängigen Insurance Institute for Highway Safety (IIHS) in den USA hat ergeben, dass nicht alle getesteten Modelle die Erwartungen gleichermaßen erfüllen. Das gelte sowohl für sogenannte Abstandsregeltempomaten als auch für aktive Spurhalteassistenten. Allerdings scheinen die Tester nicht berücksichtigt zu haben, dass beispielsweise die Mercedes-Modelle manche Funktion bewusst einschränken.Das IIHS untersuchte für den Test einen 5er BMW, eine Mercedes E-Klasse, einen Volvo S90 sowie die Tesla-Modelle S und 3. Allerdings verfügte das Model S nur über die Autopilot-Version 7.1, während das neuere Model 3 die verbesserte Version 8.1 nutzte.Recht zuverlässig funktionieren die Abstandregeltempomaten. Hierbei sollten die Autos in vier verschiedenen Situationen sicher zum Stehen kommen, wenn in der eigenen Spur das vorausfahrende Fahrzeug plötzlich bremst oder ein stehendes Auto auftaucht. Lediglich die Tesla-Modelle seien beim Test auf stehende Autos aufgefahren. Der Volvo S90 habe im Gegensatz zu den anderen Modellen deutlich schärfer gebremst. Hier sei kein Unterschied zur Verzögerung beim Notbremssystem festzustellen.Außerhalb der Testumgebung, auf öffentlichen Straßen, stellten die Tester dem Bericht zufolge jedoch mehr Probleme fest. So registrierte eine E-Klasse nur kurzzeitig einen wartenden Pickup vor einer Ampel, verlor das Fahrzeug aber wieder und beschleunigte, anstatt zu bremsen. Lediglich beim Model 3 habe es solche Probleme nicht gegeben. Allerdings sei dieses Fahrzeug durch übervorsichtiges Verhalten aufgefallen. So habe es auf den knapp 290 Testkilometern zwölf Mal unerwartet gebremst. Sieben Mal davon wegen der Schatten von Bäumen auf den Straßen.Mit Abstand am besten schnitt das Model 3 hingegen beim Spurhalteassistenten ab, gefolgt von der Mercedes E-Klasse. Häufig überquerten hingegen der BMW, der Volvo und das Model S die Fahrbahnmarkierungen. Dabei fuhr das Model S sogar einmal in einer Kurve über den inneren Fahrbahnrand.Inwieweit diese Ergebnisse aber vergleichbar sind, geht aus dem Bericht nicht hervor. So schränkt Mercedes beispielsweise den Spurhalteassistenten bei seinen Modellen derzeit auf eine Querbeschleunigung von 3 m/s2 ein. Das schreibt eine entsprechende UN-ECE-Regelung für teilautomatisierte Systeme vor. Je nach Kurvenradius und Geschwindigkeit muss der Fahrer daher eingreifen, weil das Auto nicht genügend lenken kann. Bei einem Test im Oktober 2016 war Golem.de aufgefallen, dass das damalige Model S selbst bei engeren Kurven auf Landstraßen die Spur einhalten kann und sich das System nicht abschaltet.Das IIHS testete zudem das Verhalten der Fahrzeuge auf einer hügeligen Teststrecke. Hierbei wird die Reichweite der Kameras zur Erkennung der Fahrbahnmarkierungen durch Straßenkuppen eingeschränkt. Recht souverän meisterten das Model 3 und die E-Klasse diese Situationen. Der BMW scheiterte den Angaben zufolge hingegen in allen 14 Versuchen. Das Model S hatte ebenfalls große Probleme und eierte nach dem Überschreiten der Kuppe auf der Fahrbahn herum, bis schließlich eine Markierung gefunden wurde. Immerhin 9 von 16 Strecken schaffte der Volvo.Die Ent\\xadschei\\xaddung ist ge\\xadfal\\xadlen: Ein neu\\xades Fahr\\xadzeug muss her. Wäh\\xadrend Sie ge\\xaddank\\xadlich schon mit den Fin\\xadgern über die Le\\xadder\\xadsit\\xadze strei\\xadfen, war\\xadtet in den meis\\xadten Fäl\\xadlen noch ein Be\\xadsuch bei der Zu\\xadlas\\xadsungs\\xadstel\\xadle auf Sie. » MehrDas IIHS arbeitet nach eigenen Angaben an einem Bewertungssystem, mit dem Verbraucher die Fahrassistenzsysteme einschätzen können. Derzeit will Cheftester David Zuby aber noch kein Urteil darüber abgeben, welches System am sichersten ist. Die Hersteller befänden sich in einem Dilemma. \"Limitieren sie die Funktionen, damit die Fahrer weiter aktiv mitwirken, riskieren sie den Nachteil, dass die Systeme zu primitiv bleiben. Wenn die Systeme hingegen zu gut sind, dann überwachen die Fahrer sie nicht aufmerksam genug, um sie sicher nutzen zu können\", sagte Zuby. Ein wirklich selbstfahrendes Autos werde es aber für etliche Zeit noch nicht beim Händler geben.Tesla will Autobahnen rauf- und runterfahrenWie Studenten autonome Autos schlau machenInvestoren klagen wegen Musks Aussagen zu TeslaTesla will Sicherheitssoftware freigebenTeslas Autopilot beschleunigte vor tödlicher KollisionDas brauche ich nicht. Ich will ja dein Weltbild nicht zerstören, aber so funktioniert...Das ist so, richtig. Ist eine Sicherheitsfunktion - Du als Fahrer gibst den Befehl zum...Blöde Frage: Fährst du die Autos immer im Sport-Setup oder minimaler...Ne, voll ins Schwarze ;)Funktioniert auch auf der Autobahn. Man merkt, ob man 80, 100 oder 120 fährt. Wenn man...KommentierenGolem.de Redakteur Moritz Tremmel erklärt im Interview die Gefahren der Übernahme von Subdomains.Es könnte alles so schön sein abseits vom klassischen Fernsehen. Netflix und Amazon Prime bieten modernes Encoding, 4K-Auflösung, HDR-Farben und -Lichter, flüssige Kamerafahrten wie im Kino - leider nur in der Theorie, denn sie bringen es nicht zum Kunden. Ein IMHO von Michael WieczorekMit den Simpsons ist er selbst Kult geworden, und Nachfolger Futurama hat nicht nur Sci-Fi-Nerds mit einem Auge für verschlüsselte Gags im Bildhintergrund begeistert. Bei Netflix folgt nun Matt Groenings Cartoonserie Disenchantment, die uns trotz liebenswerter Hauptfiguren in Märchenkulissen allerdings nicht ganz zu verzaubern weiß. Eine Rezension von Daniel PookFür Workstations: AMDs Threadripper 2990WX mit 32 Kernen schlägt Intels ähnlich teure 18-Core-CPU klar und der günstigere Threadripper 2950X hält noch mit. Für das Ryzen-Topmodell muss aber die Software angepasst sein und sie darf nicht zu viel Datentransferrate benötigen. Ein Test von Marc Sauter© 1997—2018 Golem.de. Alle Rechte vorbehalten.'"
      ]
     },
     "execution_count": 65,
     "metadata": {},
     "output_type": "execute_result"
    }
   ],
   "source": [
    "c[52]"
   ]
  },
  {
   "cell_type": "code",
   "execution_count": 47,
   "metadata": {},
   "outputs": [],
   "source": [
    "for i in range(0,len(c)):\n",
    "    c[i]=re.sub('\\n|\\r',' ',c[i])"
   ]
  },
  {
   "cell_type": "code",
   "execution_count": 19,
   "metadata": {},
   "outputs": [],
   "source": [
    "driver.quit()"
   ]
  },
  {
   "cell_type": "code",
   "execution_count": 51,
   "metadata": {},
   "outputs": [
    {
     "ename": "IndexError",
     "evalue": "index 8 is out of bounds for axis 0 with size 2",
     "traceback": [
      "\u001b[1;31m---------------------------------------------------------------------------\u001b[0m",
      "\u001b[1;31mIndexError\u001b[0m                                Traceback (most recent call last)",
      "\u001b[1;32m<ipython-input-51-9d8ea42ab42c>\u001b[0m in \u001b[0;36m<module>\u001b[1;34m()\u001b[0m\n\u001b[0;32m      1\u001b[0m \u001b[0mdata\u001b[0m\u001b[1;33m=\u001b[0m\u001b[0mnp\u001b[0m\u001b[1;33m.\u001b[0m\u001b[0marray\u001b[0m\u001b[1;33m(\u001b[0m\u001b[1;33m[\u001b[0m\u001b[0marticle_urls\u001b[0m\u001b[1;33m,\u001b[0m\u001b[0mc\u001b[0m\u001b[1;33m]\u001b[0m\u001b[1;33m)\u001b[0m\u001b[1;33m\u001b[0m\u001b[0m\n\u001b[1;32m----> 2\u001b[1;33m \u001b[0mpd\u001b[0m\u001b[1;33m.\u001b[0m\u001b[0mDataFrame\u001b[0m\u001b[1;33m(\u001b[0m\u001b[0mdata\u001b[0m\u001b[1;33m[\u001b[0m\u001b[1;36m8\u001b[0m\u001b[1;33m]\u001b[0m\u001b[1;33m)\u001b[0m\u001b[1;33m\u001b[0m\u001b[0m\n\u001b[0m",
      "\u001b[1;31mIndexError\u001b[0m: index 8 is out of bounds for axis 0 with size 2"
     ],
     "output_type": "error"
    }
   ],
   "source": [
    "data=np.array([article_urls,c])"
   ]
  },
  {
   "cell_type": "code",
   "execution_count": 60,
   "metadata": {
    "collapsed": true
   },
   "outputs": [],
   "source": [
    "pd.DataFrame(data.T,columns=['URL','Article']).to_csv('Google-autopilot.csv',index=False)"
   ]
  }
 ],
 "metadata": {
  "kernelspec": {
   "display_name": "Python 2",
   "language": "python",
   "name": "python2"
  },
  "language_info": {
   "codemirror_mode": {
    "name": "ipython",
    "version": 2
   },
   "file_extension": ".py",
   "mimetype": "text/x-python",
   "name": "python",
   "nbconvert_exporter": "python",
   "pygments_lexer": "ipython2",
   "version": "2.7.6"
  }
 },
 "nbformat": 4,
 "nbformat_minor": 0
}
