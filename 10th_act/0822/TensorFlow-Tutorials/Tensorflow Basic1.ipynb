{
 "cells": [
  {
   "cell_type": "code",
   "execution_count": 1,
   "metadata": {},
   "outputs": [],
   "source": [
    "import tensorflow as tf\n",
    "import numpy as np"
   ]
  },
  {
   "cell_type": "markdown",
   "metadata": {},
   "source": [
    "# Tensorflow 자료형 \n",
    "# 1. 상수형(constant) \n",
    "# 2. placeholder  \n",
    "# 3. variable(변수형)"
   ]
  },
  {
   "cell_type": "markdown",
   "metadata": {},
   "source": [
    "# 상수형(constant) : \n",
    "# 상수를 저장하는 데이터 형식 "
   ]
  },
  {
   "cell_type": "markdown",
   "metadata": {},
   "source": [
    "# tf.constant(value, dtype=None, shape=None, name='Const')"
   ]
  },
  {
   "cell_type": "code",
   "execution_count": null,
   "metadata": {},
   "outputs": [],
   "source": [
    "#value: 상수의 값\n",
    "#dtype: 상수의 데이터형\n",
    "#shape: 행렬의 차원\n",
    "#name: 상수의 이름을 정의 "
   ]
  },
  {
   "cell_type": "code",
   "execution_count": 22,
   "metadata": {},
   "outputs": [
    {
     "name": "stdout",
     "output_type": "stream",
     "text": [
      "Tensor(\"Const_2:0\", shape=(1,), dtype=float32)\n"
     ]
    }
   ],
   "source": [
    "a = tf.constant([5], dtype=float)\n",
    "print(a)"
   ]
  },
  {
   "cell_type": "code",
   "execution_count": 23,
   "metadata": {},
   "outputs": [
    {
     "data": {
      "text/plain": [
       "array([5.], dtype=float32)"
      ]
     },
     "execution_count": 23,
     "metadata": {},
     "output_type": "execute_result"
    }
   ],
   "source": [
    "sess = tf.Session()\n",
    "sess.run(a)"
   ]
  },
  {
   "cell_type": "markdown",
   "metadata": {},
   "source": [
    "# Matmul : \n",
    "# 행렬 간 곱셈을 위해서는 '*'가 아닌 matmul함수를 이용하여 곱셈을 해야 합니다."
   ]
  },
  {
   "cell_type": "code",
   "execution_count": 9,
   "metadata": {},
   "outputs": [],
   "source": [
    "matrix1 = tf.constant([[1,2],[3,4]])  #shape(2,2)\n",
    "matrix2 = tf.constant([[1],[3]])      #shape(2,1)"
   ]
  },
  {
   "cell_type": "code",
   "execution_count": 10,
   "metadata": {},
   "outputs": [
    {
     "ename": "SyntaxError",
     "evalue": "invalid syntax (<ipython-input-10-edfd1146ff8f>, line 1)",
     "traceback": [
      "\u001b[1;36m  File \u001b[1;32m\"<ipython-input-10-edfd1146ff8f>\"\u001b[1;36m, line \u001b[1;32m1\u001b[0m\n\u001b[1;33m    tf.(matrix1, matrix2).(session=tf.Session())\u001b[0m\n\u001b[1;37m       ^\u001b[0m\n\u001b[1;31mSyntaxError\u001b[0m\u001b[1;31m:\u001b[0m invalid syntax\n"
     ],
     "output_type": "error"
    }
   ],
   "source": [
    "tf.(matrix1, matrix2).(session=tf.Session())"
   ]
  },
  {
   "cell_type": "markdown",
   "metadata": {},
   "source": [
    "# reduce_mean : \n",
    "# 행렬에서 여러 값이 있을 때 줄여주는 역할, axis(=축)에 따라서 평균을 내어줌 "
   ]
  },
  {
   "cell_type": "code",
   "execution_count": 7,
   "metadata": {},
   "outputs": [],
   "source": [
    "x = [[1.,2.],\n",
    "      [3.,4.]]"
   ]
  },
  {
   "cell_type": "code",
   "execution_count": 9,
   "metadata": {},
   "outputs": [
    {
     "name": "stdout",
     "output_type": "stream",
     "text": [
      "2.5\n"
     ]
    }
   ],
   "source": [
    "a = tf.reduce_mean(x).eval(session = tf.Session())\n",
    "print(a)"
   ]
  },
  {
   "cell_type": "code",
   "execution_count": 12,
   "metadata": {},
   "outputs": [
    {
     "name": "stdout",
     "output_type": "stream",
     "text": [
      "[2. 3.]\n"
     ]
    }
   ],
   "source": [
    "#axis=0으로 reduce mean\n",
    "b = tf.reduce_mean(x,axis=0).eval(session = tf.Session())\n",
    "print(b)"
   ]
  },
  {
   "cell_type": "code",
   "execution_count": 13,
   "metadata": {},
   "outputs": [
    {
     "name": "stdout",
     "output_type": "stream",
     "text": [
      "[1.5 3.5]\n"
     ]
    }
   ],
   "source": [
    "#axis=1으로 reduce mean\n",
    "c = tf.reduce_mean(x,axis=1).eval(session = tf.Session())\n",
    "print(c)"
   ]
  },
  {
   "cell_type": "markdown",
   "metadata": {},
   "source": [
    "# reduce_sum "
   ]
  },
  {
   "cell_type": "code",
   "execution_count": 14,
   "metadata": {},
   "outputs": [],
   "source": [
    "x = [[1,1,1],\n",
    "     [1,1,1]]"
   ]
  },
  {
   "cell_type": "code",
   "execution_count": 24,
   "metadata": {},
   "outputs": [
    {
     "data": {
      "text/plain": [
       "6"
      ]
     },
     "execution_count": 24,
     "metadata": {},
     "output_type": "execute_result"
    }
   ],
   "source": [
    "#reduces all dimensions 전체합을 구한다.\n",
    "#즉, [1+1+1+1+1+1=6]\n",
    "#모든 차원이 제거되고 단 하나의 스칼라 값이 출력된다.\n",
    "tf.reduce_sum(x).eval(session=sess)"
   ]
  },
  {
   "cell_type": "code",
   "execution_count": 56,
   "metadata": {},
   "outputs": [
    {
     "data": {
      "text/plain": [
       "array([[2, 2, 2]])"
      ]
     },
     "execution_count": 56,
     "metadata": {},
     "output_type": "execute_result"
    }
   ],
   "source": [
    "#keepdims=True : 최초 차원수와 동일하게 차원 수를 유지한다.\n",
    "tf.reduce_sum(x, ,).eval(session=sess)"
   ]
  },
  {
   "cell_type": "code",
   "execution_count": 57,
   "metadata": {},
   "outputs": [
    {
     "data": {
      "text/plain": [
       "array([[3],\n",
       "       [3]])"
      ]
     },
     "execution_count": 57,
     "metadata": {},
     "output_type": "execute_result"
    }
   ],
   "source": [
    "tf.reduce_sum(x, ,).eval(session=sess)"
   ]
  },
  {
   "cell_type": "code",
   "execution_count": 58,
   "metadata": {},
   "outputs": [
    {
     "data": {
      "text/plain": [
       "array([3, 3])"
      ]
     },
     "execution_count": 58,
     "metadata": {},
     "output_type": "execute_result"
    }
   ],
   "source": [
    "tf.reduce_sum(x, axis=1).eval(session=sess)"
   ]
  },
  {
   "cell_type": "markdown",
   "metadata": {},
   "source": [
    "# Reshape : \n",
    "# tensor의 shape을 변경할 때 사용, 안에 shape에 원하는 값을 넣으면 해당 shape 맞게 조정된다."
   ]
  },
  {
   "cell_type": "code",
   "execution_count": 25,
   "metadata": {},
   "outputs": [],
   "source": [
    "sess = tf.Session()"
   ]
  },
  {
   "cell_type": "code",
   "execution_count": 26,
   "metadata": {},
   "outputs": [
    {
     "name": "stdout",
     "output_type": "stream",
     "text": [
      "[0, 1, 2, 3, 4, 5, 6, 7, 8, 9]\n"
     ]
    }
   ],
   "source": [
    "x = [i for i in range(10)] #0부터 9까지 배열을 만든다.\n",
    "print(x)"
   ]
  },
  {
   "cell_type": "code",
   "execution_count": 36,
   "metadata": {},
   "outputs": [
    {
     "name": "stdout",
     "output_type": "stream",
     "text": [
      "[[0 1]\n [2 3]\n [4 5]\n [6 7]\n [8 9]]\ny.shape: (5, 2)\n"
     ]
    }
   ],
   "source": [
    "#마지막 차원에 2개의 값으로 고정된 2차원 행렬을 만든다.\n",
    "y =tf.reshape(x, shape=[-1,2]).eval(session=sess)\n",
    "print(y)\n",
    "print(\"y.shape:\", y.shape)"
   ]
  },
  {
   "cell_type": "code",
   "execution_count": 37,
   "metadata": {},
   "outputs": [],
   "source": [
    "t = np.array(\n",
    "    [[\n",
    "        [0,1,2],\n",
    "        [3,4,5]\n",
    "    ],\n",
    "        \n",
    "        [\n",
    "            [6,7,8],\n",
    "            [9,10,11]\n",
    "        ]\n",
    "    ]\n",
    ")"
   ]
  },
  {
   "cell_type": "code",
   "execution_count": 38,
   "metadata": {},
   "outputs": [
    {
     "name": "stdout",
     "output_type": "stream",
     "text": [
      "(2, 2, 3)\n"
     ]
    }
   ],
   "source": [
    "print(t.shape)"
   ]
  },
  {
   "cell_type": "code",
   "execution_count": 44,
   "metadata": {},
   "outputs": [
    {
     "name": "stdout",
     "output_type": "stream",
     "text": [
      "[0 1 2 3 4 5 6 7 8 9]\nz.shape: (10,)\n"
     ]
    }
   ],
   "source": [
    "#1차원 행렬을 만든다.\n",
    "z =tf.reshape(x, shape=[-1]).eval(session=sess)\n",
    "print(z)\n",
    "print(\"z.shape:\", z.shape)"
   ]
  },
  {
   "cell_type": "code",
   "execution_count": 49,
   "metadata": {},
   "outputs": [
    {
     "name": "stdout",
     "output_type": "stream",
     "text": [
      "[[ 0  1  2]\n [ 3  4  5]\n [ 6  7  8]\n [ 9 10 11]]\nz1.shape: (4, 3)\n"
     ]
    }
   ],
   "source": [
    "#특히 shape에 -1를 입력하면 고정된 차원은 우선 채우고 남은 부분을 알아서 채워준다.\n",
    "#마지막 차원에 3개의 값으로 고정된 2차원 행렬을 만든다. \n",
    "z1 = tf.reshape(t, shape = [-1,3]).eval(session=sess)\n",
    "print(z1)\n",
    "print(\"z1.shape:\", z1.shape)"
   ]
  },
  {
   "cell_type": "code",
   "execution_count": 45,
   "metadata": {
    "scrolled": true
   },
   "outputs": [
    {
     "name": "stdout",
     "output_type": "stream",
     "text": [
      "[[[ 0  1  2]]\n\n [[ 3  4  5]]\n\n [[ 6  7  8]]\n\n [[ 9 10 11]]]\nz2.shape: (4, 1, 3)\n"
     ]
    }
   ],
   "source": [
    "#마지막 차원에 3개, 이전차원 1개 값으로 고정된 3차원 행렬을 만든다. \n",
    "z2 = tf.reshape(t, shape = [-1,1,3]).eval(session=sess)\n",
    "print(z2)\n",
    "print(\"z2.shape:\", z2.shape)"
   ]
  },
  {
   "cell_type": "markdown",
   "metadata": {},
   "source": [
    "# squeeze 함수 :\n",
    "# tensor에서 크기가 1인 차원을 삭제합니다."
   ]
  },
  {
   "cell_type": "code",
   "execution_count": 50,
   "metadata": {},
   "outputs": [
    {
     "name": "stdout",
     "output_type": "stream",
     "text": [
      "x.shape: (3, 1)\n"
     ]
    }
   ],
   "source": [
    "x = np.array(\n",
    "[\n",
    "    [0],[1],[2]\n",
    "]\n",
    ")\n",
    "print(\"x.shape:\", x.shape)"
   ]
  },
  {
   "cell_type": "code",
   "execution_count": 51,
   "metadata": {},
   "outputs": [
    {
     "name": "stdout",
     "output_type": "stream",
     "text": [
      "[0 1 2]\ny.shape: (3,)\n"
     ]
    }
   ],
   "source": [
    "#차원 중 사이즈 1인 것을 찾아 짜서 제거한다.\n",
    "y = tf.squeeze(x).eval(session=sess)\n",
    "print(y)\n",
    "print(\"y.shape:\", y.shape)"
   ]
  },
  {
   "cell_type": "markdown",
   "metadata": {},
   "source": [
    "# One hot Encoding : \n",
    "# 데이터를 0과 1의 나열로 바꿔주는 것"
   ]
  },
  {
   "cell_type": "code",
   "execution_count": 52,
   "metadata": {},
   "outputs": [
    {
     "data": {
      "text/plain": [
       "array([[[1., 0., 0., 0.]],\n\n       [[0., 1., 0., 0.]],\n\n       [[0., 0., 1., 0.]]], dtype=float32)"
      ]
     },
     "execution_count": 52,
     "metadata": {},
     "output_type": "execute_result"
    }
   ],
   "source": [
    "tf.one_hot([[0],[1],[2]], depth=4).eval(session=sess)"
   ]
  },
  {
   "cell_type": "markdown",
   "metadata": {},
   "source": [
    "# Casting : \n",
    "# dtype으로 바꿔준다. 주로 True, False를 0과 1로 바꿔준다."
   ]
  },
  {
   "cell_type": "code",
   "execution_count": 58,
   "metadata": {},
   "outputs": [
    {
     "name": "stdout",
     "output_type": "stream",
     "text": [
      "[1 2 3 4]\n"
     ]
    }
   ],
   "source": [
    "print(tf.cast([1.8, 2.2, 3.3, 4.9], tf.int32).eval(session=tf.Session()))"
   ]
  },
  {
   "cell_type": "code",
   "execution_count": 59,
   "metadata": {},
   "outputs": [
    {
     "name": "stdout",
     "output_type": "stream",
     "text": [
      "[1 0 1 0]\n"
     ]
    }
   ],
   "source": [
    "print(tf.cast([True, False, 1 == 1, 0 == 1], tf.int32).eval(session=tf.Session()))"
   ]
  },
  {
   "cell_type": "markdown",
   "metadata": {},
   "source": [
    "# stack 함수 : \n",
    "# stack 구조로 쌓아주는 의미 "
   ]
  },
  {
   "cell_type": "code",
   "execution_count": 60,
   "metadata": {},
   "outputs": [],
   "source": [
    "x1 = [1,2]\n",
    "x2 = [3,4]\n",
    "x3 = [5,6]"
   ]
  },
  {
   "cell_type": "code",
   "execution_count": 66,
   "metadata": {},
   "outputs": [
    {
     "name": "stdout",
     "output_type": "stream",
     "text": [
      "[[1 2]\n [3 4]\n [5 6]]\ny.shape: (3, 2)\n"
     ]
    }
   ],
   "source": [
    "y = tf.stack([x1,x2,x3],axis=0).eval(session=sess)\n",
    "print(y)\n",
    "print(\"y.shape:\", y.shape) #shape 함수: 배열의 크기 반환 "
   ]
  },
  {
   "cell_type": "markdown",
   "metadata": {},
   "source": [
    "# Ones and Zeros like : \n",
    "# 주어진 shape에 0 또는 1로 채운 행렬을 만들어줌 "
   ]
  },
  {
   "cell_type": "code",
   "execution_count": 67,
   "metadata": {},
   "outputs": [],
   "source": [
    "x = [[0, 1, 2],\n",
    "     [2, 1, 0]]"
   ]
  },
  {
   "cell_type": "code",
   "execution_count": 70,
   "metadata": {},
   "outputs": [
    {
     "name": "stdout",
     "output_type": "stream",
     "text": [
      "[[1 1 1]\n [1 1 1]]\n"
     ]
    }
   ],
   "source": [
    "print(tf.ones_like(x).eval(session=tf.Session())) # 1로 채운"
   ]
  },
  {
   "cell_type": "code",
   "execution_count": 71,
   "metadata": {},
   "outputs": [
    {
     "name": "stdout",
     "output_type": "stream",
     "text": [
      "[[0 0 0]\n [0 0 0]]\n"
     ]
    }
   ],
   "source": [
    "print(tf.zeros_like(x).eval(session=tf.Session())) # 0으로 채운"
   ]
  },
  {
   "cell_type": "markdown",
   "metadata": {},
   "source": [
    "# argmax, argmin 함수\n",
    "# - softmax를 통해 나온 결과중 최대값의 인덱스를 얻고자 할 때 사용한다. "
   ]
  },
  {
   "cell_type": "code",
   "execution_count": 72,
   "metadata": {},
   "outputs": [
    {
     "data": {
      "text/plain": [
       "4"
      ]
     },
     "execution_count": 72,
     "metadata": {},
     "output_type": "execute_result"
    }
   ],
   "source": [
    "x = [0,0,0,0,1]\n",
    "tf.argmax(x).eval(session=sess)"
   ]
  },
  {
   "cell_type": "code",
   "execution_count": 74,
   "metadata": {},
   "outputs": [
    {
     "data": {
      "text/plain": [
       "0"
      ]
     },
     "execution_count": 74,
     "metadata": {},
     "output_type": "execute_result"
    }
   ],
   "source": [
    "#참고로 최대 값이 2개 이상인 경우 더 앞선 인덱스 값이 나옴 \n",
    "x = [5, 5, 4]\n",
    "tf.argmax(x).eval(session=sess)"
   ]
  },
  {
   "cell_type": "code",
   "execution_count": 75,
   "metadata": {},
   "outputs": [
    {
     "data": {
      "text/plain": [
       "0"
      ]
     },
     "execution_count": 75,
     "metadata": {},
     "output_type": "execute_result"
    }
   ],
   "source": [
    "x = [0, 4, 1, 2]\n",
    "tf.argmin(x).eval(session=sess)"
   ]
  },
  {
   "cell_type": "code",
   "execution_count": 76,
   "metadata": {},
   "outputs": [],
   "source": [
    "x = [[2,4,6],\n",
    "      [9,3,1]]"
   ]
  },
  {
   "cell_type": "code",
   "execution_count": 81,
   "metadata": {},
   "outputs": [
    {
     "data": {
      "text/plain": [
       "array([1, 0, 0], dtype=int64)"
      ]
     },
     "execution_count": 81,
     "metadata": {},
     "output_type": "execute_result"
    }
   ],
   "source": [
    "#max인덱스(2,9), max인덱스(4,3), max인덱스(6,1) -> [1,0,0] axis=0 -> 행 인데 파이썬에서 배열이 [1][1]의 경우 한 컬럼에 대한 것이므로 행이 아니라 열이다. 때문에 결과가 1.0.0이 나온다.\n",
    "tf.argmax(x,axis=0).eval(session=sess)"
   ]
  },
  {
   "cell_type": "code",
   "execution_count": 82,
   "metadata": {},
   "outputs": [
    {
     "data": {
      "text/plain": [
       "array([2, 0], dtype=int64)"
      ]
     },
     "execution_count": 82,
     "metadata": {},
     "output_type": "execute_result"
    }
   ],
   "source": [
    "#max인덱스(2,3,4), max인덱스(9,3,1) -> [2,0]\n",
    "tf.argmax(x,axis=1 ).eval(session=sess)"
   ]
  }
 ],
 "metadata": {
  "kernelspec": {
   "display_name": "Python 3",
   "language": "python",
   "name": "python3"
  },
  "language_info": {
   "codemirror_mode": {
    "name": "ipython",
    "version": 3
   },
   "file_extension": ".py",
   "mimetype": "text/x-python",
   "name": "python",
   "nbconvert_exporter": "python",
   "pygments_lexer": "ipython3",
   "version": "3.6.5"
  }
 },
 "nbformat": 4,
 "nbformat_minor": 2
}
