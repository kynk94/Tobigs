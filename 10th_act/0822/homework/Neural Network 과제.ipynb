{
 "cells": [
  {
   "cell_type": "markdown",
   "metadata": {},
   "source": [
    "# MNIST DNN 만들기 (test accuarcy를 높여주세요!)"
   ]
  },
  {
   "cell_type": "code",
   "execution_count": 1,
   "metadata": {
    "collapsed": true
   },
   "outputs": [
    {
     "name": "stdout",
     "output_type": "stream",
     "text": [
      "WARNING:tensorflow:From <ipython-input-1-3195e3b6e8df>:5: read_data_sets (from tensorflow.contrib.learn.python.learn.datasets.mnist) is deprecated and will be removed in a future version.\nInstructions for updating:\nPlease use alternatives such as official/mnist/dataset.py from tensorflow/models.\n"
     ]
    },
    {
     "name": "stdout",
     "output_type": "stream",
     "text": [
      "WARNING:tensorflow:From C:\\Program Files (x86)\\Microsoft Visual Studio\\Shared\\Python36_64\\lib\\site-packages\\tensorflow\\contrib\\learn\\python\\learn\\datasets\\mnist.py:260: maybe_download (from tensorflow.contrib.learn.python.learn.datasets.base) is deprecated and will be removed in a future version.\nInstructions for updating:\nPlease write your own downloading logic.\n"
     ]
    },
    {
     "name": "stdout",
     "output_type": "stream",
     "text": [
      "WARNING:tensorflow:From C:\\Program Files (x86)\\Microsoft Visual Studio\\Shared\\Python36_64\\lib\\site-packages\\tensorflow\\contrib\\learn\\python\\learn\\datasets\\mnist.py:262: extract_images (from tensorflow.contrib.learn.python.learn.datasets.mnist) is deprecated and will be removed in a future version.\nInstructions for updating:\nPlease use tf.data to implement this functionality.\n"
     ]
    },
    {
     "name": "stdout",
     "output_type": "stream",
     "text": [
      "Extracting ./mnist/data/train-images-idx3-ubyte.gz\n"
     ]
    },
    {
     "name": "stdout",
     "output_type": "stream",
     "text": [
      "WARNING:tensorflow:From C:\\Program Files (x86)\\Microsoft Visual Studio\\Shared\\Python36_64\\lib\\site-packages\\tensorflow\\contrib\\learn\\python\\learn\\datasets\\mnist.py:267: extract_labels (from tensorflow.contrib.learn.python.learn.datasets.mnist) is deprecated and will be removed in a future version.\nInstructions for updating:\nPlease use tf.data to implement this functionality.\n"
     ]
    },
    {
     "name": "stdout",
     "output_type": "stream",
     "text": [
      "Extracting ./mnist/data/train-labels-idx1-ubyte.gz\nWARNING:tensorflow:From C:\\Program Files (x86)\\Microsoft Visual Studio\\Shared\\Python36_64\\lib\\site-packages\\tensorflow\\contrib\\learn\\python\\learn\\datasets\\mnist.py:110: dense_to_one_hot (from tensorflow.contrib.learn.python.learn.datasets.mnist) is deprecated and will be removed in a future version.\nInstructions for updating:\nPlease use tf.one_hot on tensors.\n"
     ]
    },
    {
     "name": "stdout",
     "output_type": "stream",
     "text": [
      "Extracting ./mnist/data/t10k-images-idx3-ubyte.gz\nExtracting ./mnist/data/t10k-labels-idx1-ubyte.gz\nWARNING:tensorflow:From C:\\Program Files (x86)\\Microsoft Visual Studio\\Shared\\Python36_64\\lib\\site-packages\\tensorflow\\contrib\\learn\\python\\learn\\datasets\\mnist.py:290: DataSet.__init__ (from tensorflow.contrib.learn.python.learn.datasets.mnist) is deprecated and will be removed in a future version.\nInstructions for updating:\nPlease use alternatives such as official/mnist/dataset.py from tensorflow/models.\n"
     ]
    }
   ],
   "source": [
    "# library import, data load\n",
    "import tensorflow as tf\n",
    "from tensorflow.examples.tutorials.mnist import input_data\n",
    "import time\n",
    "mnist=input_data.read_data_sets(\"./mnist/data/\",one_hot=True)\n",
    "#mnist=tf.keras.datasets.mnist"
   ]
  },
  {
   "cell_type": "markdown",
   "metadata": {},
   "source": [
    "아래 부터 빈칸을 채워가면서 진행하세요:) 수정하고 싶은 부분은 자유롭게 수정하셔도 됩니다."
   ]
  },
  {
   "cell_type": "code",
   "execution_count": 2,
   "metadata": {},
   "outputs": [],
   "source": [
    "X=tf.placeholder(tf.float32,[None,784])\n",
    "Y=tf.placeholder(tf.float32,[None,10])"
   ]
  },
  {
   "cell_type": "code",
   "execution_count": 3,
   "metadata": {},
   "outputs": [],
   "source": [
    "weights={'w1':tf.Variable(tf.random_normal([784,512])),\n",
    "         'w2':tf.Variable(tf.random_normal([512,512])),\n",
    "         'w3':tf.Variable(tf.random_normal([512,256])),\n",
    "         'w4':tf.Variable(tf.random_normal([256,10]))}\n",
    "biases={'b1':tf.Variable(tf.random_normal([512])),\n",
    "        'b2':tf.Variable(tf.random_normal([512])),\n",
    "        'b3':tf.Variable(tf.random_normal([256])),\n",
    "        'b4':tf.Variable(tf.random_normal([10]))}"
   ]
  },
  {
   "cell_type": "code",
   "execution_count": 4,
   "metadata": {},
   "outputs": [],
   "source": [
    "def mlp(x,weights,biases):\n",
    "    hl1=tf.add(tf.matmul(x,weights['w1']),biases['b1'])\n",
    "    hl1=tf.nn.relu(hl1)\n",
    "    hl2=tf.add(tf.matmul(hl1,weights['w2']),biases['b1'])\n",
    "    hl2=tf.nn.relu(hl2)\n",
    "    hl3=tf.add(tf.matmul(hl2,weights['w3']),biases['b3'])\n",
    "    hl3=tf.nn.relu(hl3)\n",
    "    output=tf.matmul(hl3,weights['w4'])+biases['b4']\n",
    "    return output    "
   ]
  },
  {
   "cell_type": "code",
   "execution_count": 12,
   "metadata": {
    "collapsed": false
   },
   "outputs": [
    {
     "name": "stdout",
     "output_type": "stream",
     "text": [
      "Epoch: 0001 cost= 53.992013494\nEpoch: 0001 cost= 103.656612216\nEpoch: 0001 cost= 155.868327415\nEpoch: 0001 cost= 197.210692472\nEpoch: 0001 cost= 238.670170455\nEpoch: 0001 cost= 276.840394176\nEpoch: 0001 cost= 311.219726562\nEpoch: 0001 cost= 339.142022372\nEpoch: 0001 cost= 371.441681463\nEpoch: 0001 cost= 404.034728338\nEpoch: 0001 cost= 433.366200284\nEpoch: 0001 cost= 458.015529119\nEpoch: 0001 cost= 483.694781605\nEpoch: 0001 cost= 506.686168324\nEpoch: 0001 cost= 533.005456321\n"
     ]
    },
    {
     "name": "stdout",
     "output_type": "stream",
     "text": [
      "Epoch: 0001 cost= 556.814248935\nEpoch: 0001 cost= 579.347379261\nEpoch: 0001 cost= 605.669490412\nEpoch: 0001 cost= 622.126035156\nEpoch: 0001 cost= 637.285399503\nEpoch: 0001 cost= 654.744298651\nEpoch: 0001 cost= 673.367936790\nEpoch: 0001 cost= 686.795575284\nEpoch: 0001 cost= 701.916012074\nEpoch: 0001 cost= 717.350351562\nEpoch: 0001 cost= 728.442596768\nEpoch: 0001 cost= 737.616299716\nEpoch: 0001 cost= 752.044158381\nEpoch: 0001 cost= 768.848018466\n"
     ]
    },
    {
     "name": "stdout",
     "output_type": "stream",
     "text": [
      "Epoch: 0001 cost= 780.847816051\nEpoch: 0001 cost= 791.124678622\nEpoch: 0001 cost= 804.498409091\nEpoch: 0001 cost= 816.412723722\nEpoch: 0001 cost= 826.216162109\nEpoch: 0001 cost= 838.160870916\nEpoch: 0001 cost= 850.907669567\nEpoch: 0001 cost= 862.191249112\nEpoch: 0001 cost= 871.972834695\nEpoch: 0001 cost= 881.823880504\nEpoch: 0001 cost= 890.948328303\nEpoch: 0001 cost= 899.420721768\nEpoch: 0001 cost= 909.236443537\n"
     ]
    },
    {
     "name": "stdout",
     "output_type": "stream",
     "text": [
      "Epoch: 0001 cost= 918.245608132\nEpoch: 0001 cost= 926.895591264\nEpoch: 0001 cost= 933.238069513\nEpoch: 0001 cost= 941.777316673\nEpoch: 0001 cost= 950.112781871\nEpoch: 0001 cost= 958.187956765\nEpoch: 0001 cost= 965.508979936\nEpoch: 0001 cost= 972.735882013\nEpoch: 0001 cost= 978.441717418\nEpoch: 0001 cost= 988.702317560\nEpoch: 0001 cost= 994.309979581\nEpoch: 0001 cost= 1001.200285423\nEpoch: 0001 cost= 1009.965064364\n"
     ]
    },
    {
     "name": "stdout",
     "output_type": "stream",
     "text": [
      "Epoch: 0001 cost= 1017.508460138\nEpoch: 0001 cost= 1025.231624201\nEpoch: 0001 cost= 1031.447436523\nEpoch: 0001 cost= 1036.189590288\nEpoch: 0001 cost= 1043.305556197\nEpoch: 0001 cost= 1051.118729137\nEpoch: 0001 cost= 1057.532717951\nEpoch: 0001 cost= 1061.129732111\nEpoch: 0001 cost= 1066.703759544\nEpoch: 0001 cost= 1072.488960627\nEpoch: 0001 cost= 1076.687347967\nEpoch: 0001 cost= 1084.344027654\nEpoch: 0001 cost= 1091.289323287\n"
     ]
    },
    {
     "name": "stdout",
     "output_type": "stream",
     "text": [
      "Epoch: 0001 cost= 1098.925041504\nEpoch: 0001 cost= 1103.485273216\nEpoch: 0001 cost= 1107.254951838\nEpoch: 0001 cost= 1112.610352228\nEpoch: 0001 cost= 1117.707217019\nEpoch: 0001 cost= 1123.187161976\nEpoch: 0001 cost= 1127.213593084\nEpoch: 0001 cost= 1131.053700950\nEpoch: 0001 cost= 1135.641436213\nEpoch: 0001 cost= 1138.588518066\nEpoch: 0001 cost= 1143.774337935\nEpoch: 0001 cost= 1147.921787331\nEpoch: 0001 cost= 1153.498621049\nEpoch: 0001 cost= 1157.125636763\n"
     ]
    },
    {
     "name": "stdout",
     "output_type": "stream",
     "text": [
      "Epoch: 0001 cost= 1162.512498890\nEpoch: 0001 cost= 1167.868627708\nEpoch: 0001 cost= 1170.407475364\nEpoch: 0001 cost= 1174.597687988\nEpoch: 0001 cost= 1179.823115900\nEpoch: 0001 cost= 1183.234703702\nEpoch: 0001 cost= 1187.349757413\nEpoch: 0001 cost= 1193.657525080\nEpoch: 0001 cost= 1196.934202992\nEpoch: 0001 cost= 1200.299697931\nEpoch: 0001 cost= 1203.571479270\nEpoch: 0001 cost= 1207.136435991\n"
     ]
    },
    {
     "name": "stdout",
     "output_type": "stream",
     "text": [
      "Epoch: 0001 cost= 1211.274952504\nEpoch: 0001 cost= 1216.269329279\nEpoch: 0001 cost= 1220.296386275\nEpoch: 0001 cost= 1226.264442028\nEpoch: 0001 cost= 1232.488706055\nEpoch: 0001 cost= 1237.780804332\nEpoch: 0001 cost= 1243.167604315\nEpoch: 0001 cost= 1247.072846236\nEpoch: 0001 cost= 1249.646727184\nEpoch: 0001 cost= 1252.934224521\nEpoch: 0001 cost= 1258.596294833\nEpoch: 0001 cost= 1261.932496005\n"
     ]
    },
    {
     "name": "stdout",
     "output_type": "stream",
     "text": [
      "Epoch: 0001 cost= 1266.684017223\nEpoch: 0001 cost= 1271.346906960\nEpoch: 0001 cost= 1275.341060014\nEpoch: 0001 cost= 1279.276950462\nEpoch: 0001 cost= 1282.814383656\nEpoch: 0001 cost= 1287.913072399\nEpoch: 0001 cost= 1290.891165217\nEpoch: 0001 cost= 1294.349540794\nEpoch: 0001 cost= 1298.674427601\nEpoch: 0001 cost= 1303.193878951\nEpoch: 0001 cost= 1306.639651101\nEpoch: 0001 cost= 1309.610098544\nEpoch: 0001 cost= 1314.448430842\nEpoch: 0001 cost= 1318.450711115\n"
     ]
    },
    {
     "name": "stdout",
     "output_type": "stream",
     "text": [
      "Epoch: 0001 cost= 1322.133376465\nEpoch: 0001 cost= 1326.580919522\nEpoch: 0001 cost= 1330.820115634\nEpoch: 0001 cost= 1335.258263272\nEpoch: 0001 cost= 1338.992700861\nEpoch: 0001 cost= 1343.102297807\nEpoch: 0001 cost= 1346.546896307\nEpoch: 0001 cost= 1350.176433549\nEpoch: 0001 cost= 1355.370935059\nEpoch: 0001 cost= 1357.587837802\nEpoch: 0001 cost= 1362.145489169\nEpoch: 0001 cost= 1366.449044744\nEpoch: 0001 cost= 1368.888862749\n"
     ]
    },
    {
     "name": "stdout",
     "output_type": "stream",
     "text": [
      "Epoch: 0001 cost= 1373.520410600\nEpoch: 0001 cost= 1376.800160689\nEpoch: 0001 cost= 1380.172392134\nEpoch: 0001 cost= 1384.933404208\nEpoch: 0001 cost= 1389.310040838\nEpoch: 0001 cost= 1392.905496049\nEpoch: 0001 cost= 1396.800607466\nEpoch: 0001 cost= 1400.544049405\nEpoch: 0001 cost= 1405.644597168\nEpoch: 0001 cost= 1407.733020020\nEpoch: 0001 cost= 1411.309048739\nEpoch: 0001 cost= 1414.911075994\nEpoch: 0001 cost= 1420.330510476\nEpoch: 0001 cost= 1422.527245650\n"
     ]
    },
    {
     "name": "stdout",
     "output_type": "stream",
     "text": [
      "Epoch: 0001 cost= 1425.108852761\nEpoch: 0001 cost= 1428.102590554\nEpoch: 0001 cost= 1429.839271795\nEpoch: 0001 cost= 1433.748274814\nEpoch: 0001 cost= 1436.172872647\nEpoch: 0001 cost= 1440.873199352\nEpoch: 0001 cost= 1444.781592907\nEpoch: 0001 cost= 1448.708000488\nEpoch: 0001 cost= 1452.243553800\nEpoch: 0001 cost= 1455.603783958\nEpoch: 0001 cost= 1458.518709606\nEpoch: 0001 cost= 1461.098186701\nEpoch: 0001 cost= 1464.713515181\n"
     ]
    },
    {
     "name": "stdout",
     "output_type": "stream",
     "text": [
      "Epoch: 0001 cost= 1466.713948198\nEpoch: 0001 cost= 1469.010529341\nEpoch: 0001 cost= 1471.836704102\nEpoch: 0001 cost= 1475.536763139\nEpoch: 0001 cost= 1477.685338912\nEpoch: 0001 cost= 1480.406053134\nEpoch: 0001 cost= 1481.498837225\nEpoch: 0001 cost= 1484.354466664\nEpoch: 0001 cost= 1486.626757369\nEpoch: 0001 cost= 1489.750002885\nEpoch: 0001 cost= 1492.442223899\nEpoch: 0001 cost= 1495.119749423\n"
     ]
    },
    {
     "name": "stdout",
     "output_type": "stream",
     "text": [
      "Epoch: 0001 cost= 1497.279224964\nEpoch: 0001 cost= 1499.478402876\nEpoch: 0001 cost= 1501.617140004\nEpoch: 0001 cost= 1504.873300337\nEpoch: 0001 cost= 1506.469117987\nEpoch: 0001 cost= 1507.919457342\nEpoch: 0001 cost= 1510.224712136\nEpoch: 0001 cost= 1513.092292924\nEpoch: 0001 cost= 1518.370406383\nEpoch: 0001 cost= 1522.267103382\nEpoch: 0001 cost= 1525.287753462\nEpoch: 0001 cost= 1528.280398837\nEpoch: 0001 cost= 1530.249746094\nEpoch: 0001 cost= 1532.723087269\n"
     ]
    },
    {
     "name": "stdout",
     "output_type": "stream",
     "text": [
      "Epoch: 0001 cost= 1537.125025746\nEpoch: 0001 cost= 1539.533195135\nEpoch: 0001 cost= 1542.597739702\nEpoch: 0001 cost= 1546.166784002\nEpoch: 0001 cost= 1549.059479759\nEpoch: 0001 cost= 1552.287332653\nEpoch: 0001 cost= 1554.171214933\nEpoch: 0001 cost= 1556.021848145\nEpoch: 0001 cost= 1558.587669345\nEpoch: 0001 cost= 1560.209475320\nEpoch: 0001 cost= 1562.743073509\nEpoch: 0001 cost= 1565.692547275\nEpoch: 0001 cost= 1568.127772328\n"
     ]
    },
    {
     "name": "stdout",
     "output_type": "stream",
     "text": [
      "Epoch: 0001 cost= 1571.276003640\nEpoch: 0001 cost= 1573.499629794\nEpoch: 0001 cost= 1575.669273793\nEpoch: 0001 cost= 1577.476669478\nEpoch: 0001 cost= 1580.009765403\nEpoch: 0001 cost= 1581.305933616\nEpoch: 0001 cost= 1585.121270086\nEpoch: 0001 cost= 1587.125263561\nEpoch: 0001 cost= 1588.671333008\nEpoch: 0001 cost= 1590.146736950\nEpoch: 0001 cost= 1592.912134455\nEpoch: 0001 cost= 1595.578461248\nEpoch: 0001 cost= 1597.308764094\n"
     ]
    },
    {
     "name": "stdout",
     "output_type": "stream",
     "text": [
      "Epoch: 0001 cost= 1599.789863614\nEpoch: 0001 cost= 1601.769283225\nEpoch: 0001 cost= 1603.527618741\nEpoch: 0001 cost= 1605.509845969\nEpoch: 0001 cost= 1609.335925959\nEpoch: 0001 cost= 1612.178540705\nEpoch: 0001 cost= 1613.380605025\nEpoch: 0001 cost= 1615.874962491\nEpoch: 0001 cost= 1617.903703391\nEpoch: 0001 cost= 1620.757207697\nEpoch: 0001 cost= 1623.259621804\nEpoch: 0001 cost= 1624.888858975\nEpoch: 0001 cost= 1627.272513539\n"
     ]
    },
    {
     "name": "stdout",
     "output_type": "stream",
     "text": [
      "Epoch: 0001 cost= 1630.718638361\nEpoch: 0001 cost= 1633.011729181\nEpoch: 0001 cost= 1634.973052646\nEpoch: 0001 cost= 1637.084645330\nEpoch: 0001 cost= 1639.560708452\nEpoch: 0001 cost= 1641.861760032\nEpoch: 0001 cost= 1645.020879572\nEpoch: 0001 cost= 1647.674985795\nEpoch: 0001 cost= 1649.777237438\nEpoch: 0001 cost= 1651.045618120\nEpoch: 0001 cost= 1652.562861994\nEpoch: 0001 cost= 1654.741680797\nEpoch: 0001 cost= 1658.564092019\nEpoch: 0001 cost= 1661.913396662\n"
     ]
    },
    {
     "name": "stdout",
     "output_type": "stream",
     "text": [
      "Epoch: 0001 cost= 1665.232133567\nEpoch: 0001 cost= 1667.491085760\nEpoch: 0001 cost= 1669.209002131\nEpoch: 0001 cost= 1672.318401101\nEpoch: 0001 cost= 1674.398073730\nEpoch: 0001 cost= 1678.159673074\nEpoch: 0001 cost= 1680.602069203\nEpoch: 0001 cost= 1682.471305265\nEpoch: 0001 cost= 1683.849112549\nEpoch: 0001 cost= 1686.416514227\nEpoch: 0001 cost= 1688.665721436\nEpoch: 0001 cost= 1691.687589111\nEpoch: 0001 cost= 1693.972589111\nEpoch: 0001 cost= 1695.656741056\n"
     ]
    },
    {
     "name": "stdout",
     "output_type": "stream",
     "text": [
      "Epoch: 0001 cost= 1697.962334983\nEpoch: 0001 cost= 1701.694672075\nEpoch: 0001 cost= 1703.242690874\nEpoch: 0001 cost= 1705.618332298\nEpoch: 0001 cost= 1708.353311213\nEpoch: 0001 cost= 1710.718088823\nEpoch: 0001 cost= 1713.730054821\nEpoch: 0001 cost= 1715.416315030\nEpoch: 0001 cost= 1717.256326682\nEpoch: 0001 cost= 1719.164875155\nEpoch: 0001 cost= 1721.858440718\nEpoch: 0001 cost= 1723.979419500\nEpoch: 0001 cost= 1725.641418679\nEpoch: 0001 cost= 1726.960418257\n"
     ]
    },
    {
     "name": "stdout",
     "output_type": "stream",
     "text": [
      "Epoch: 0001 cost= 1729.293030118\nEpoch: 0001 cost= 1732.748851096\nEpoch: 0001 cost= 1735.304506725\nEpoch: 0001 cost= 1736.125829190\nEpoch: 0001 cost= 1739.356496804\nEpoch: 0001 cost= 1740.631329235\nEpoch: 0001 cost= 1743.011946467\nEpoch: 0001 cost= 1745.419712358\nEpoch: 0001 cost= 1747.554465110\nEpoch: 0001 cost= 1749.782635165\nEpoch: 0001 cost= 1751.443187256\nEpoch: 0001 cost= 1753.541993852\nEpoch: 0001 cost= 1754.786341331\nEpoch: 0001 cost= 1756.986768799\n"
     ]
    },
    {
     "name": "stdout",
     "output_type": "stream",
     "text": [
      "Epoch: 0001 cost= 1760.106942583\nEpoch: 0001 cost= 1763.039383545\nEpoch: 0001 cost= 1764.417857999\nEpoch: 0001 cost= 1766.415562189\nEpoch: 0001 cost= 1768.215932062\nEpoch: 0001 cost= 1770.286383279\nEpoch: 0001 cost= 1771.103231978\nEpoch: 0001 cost= 1772.617757568\nEpoch: 0001 cost= 1774.703597634\nEpoch: 0001 cost= 1775.866912953\nEpoch: 0001 cost= 1777.754069824\nEpoch: 0001 cost= 1778.706162775\nEpoch: 0001 cost= 1779.539224521\nEpoch: 0001 cost= 1782.839200994\n"
     ]
    },
    {
     "name": "stdout",
     "output_type": "stream",
     "text": [
      "Epoch: 0001 cost= 1786.246116610\nEpoch: 0001 cost= 1787.547806618\nEpoch: 0001 cost= 1789.731272306\nEpoch: 0001 cost= 1791.128922008\nEpoch: 0001 cost= 1793.354889471\nEpoch: 0001 cost= 1794.299279341\nEpoch: 0001 cost= 1796.194256259\nEpoch: 0001 cost= 1797.416576261\nEpoch: 0001 cost= 1798.882172519\nEpoch: 0001 cost= 1800.494485418\nEpoch: 0001 cost= 1802.445428911\nEpoch: 0001 cost= 1804.519654097\nEpoch: 0001 cost= 1806.430327481\nEpoch: 0001 cost= 1807.768205455\n"
     ]
    },
    {
     "name": "stdout",
     "output_type": "stream",
     "text": [
      "Epoch: 0001 cost= 1808.304005515\nEpoch: 0001 cost= 1810.226109786\nEpoch: 0001 cost= 1811.916487316\nEpoch: 0001 cost= 1813.882165139\nEpoch: 0001 cost= 1816.214086970\nEpoch: 0001 cost= 1819.174890414\nEpoch: 0001 cost= 1822.569427657\nEpoch: 0001 cost= 1825.445795066\nEpoch: 0001 cost= 1827.386121105\nEpoch: 0001 cost= 1828.986016013\nEpoch: 0001 cost= 1830.801831110\nEpoch: 0001 cost= 1832.449360407\nEpoch: 0001 cost= 1834.475812156\nEpoch: 0001 cost= 1835.919871993\nEpoch: 0001 cost= 1838.342058827\n"
     ]
    },
    {
     "name": "stdout",
     "output_type": "stream",
     "text": [
      "Epoch: 0001 cost= 1839.910257846\nEpoch: 0001 cost= 1841.210838679\nEpoch: 0001 cost= 1842.946725353\nEpoch: 0001 cost= 1845.475592984\nEpoch: 0001 cost= 1847.457989557\nEpoch: 0001 cost= 1850.675894609\nEpoch: 0001 cost= 1852.185171176\nEpoch: 0001 cost= 1854.875191151\nEpoch: 0001 cost= 1855.927046953\nEpoch: 0001 cost= 1856.959463945\nEpoch: 0001 cost= 1858.400181829\nEpoch: 0001 cost= 1859.929573253\nEpoch: 0001 cost= 1862.197032415\nEpoch: 0001 cost= 1863.591572210\nEpoch: 0001 cost= 1867.909085083\n"
     ]
    },
    {
     "name": "stdout",
     "output_type": "stream",
     "text": [
      "Epoch: 0001 cost= 1870.056938421\nEpoch: 0001 cost= 1872.922110651\nEpoch: 0001 cost= 1874.024548173\nEpoch: 0001 cost= 1876.052857611\nEpoch: 0001 cost= 1877.144677124\nEpoch: 0001 cost= 1878.676764637\nEpoch: 0001 cost= 1879.506674028\nEpoch: 0001 cost= 1882.130725653\nEpoch: 0001 cost= 1883.905973677\nEpoch: 0001 cost= 1885.579489302\nEpoch: 0001 cost= 1887.694338379\nEpoch: 0001 cost= 1890.005671387\nEpoch: 0001 cost= 1891.109133412\nEpoch: 0001 cost= 1892.544994895\n"
     ]
    },
    {
     "name": "stdout",
     "output_type": "stream",
     "text": [
      "Epoch: 0001 cost= 1895.275260787\nEpoch: 0001 cost= 1896.193412476\nEpoch: 0001 cost= 1898.482370217\nEpoch: 0001 cost= 1900.656907903\nEpoch: 0001 cost= 1903.002352683\nEpoch: 0001 cost= 1904.828574163\nEpoch: 0001 cost= 1908.808878229\nEpoch: 0001 cost= 1910.971483876\nEpoch: 0001 cost= 1913.371732677\nEpoch: 0001 cost= 1915.605808272\nEpoch: 0001 cost= 1917.422944391\nEpoch: 0001 cost= 1919.954088967\n"
     ]
    },
    {
     "name": "stdout",
     "output_type": "stream",
     "text": [
      "Epoch: 0001 cost= 1922.584822499\nEpoch: 0001 cost= 1923.825030462\nEpoch: 0001 cost= 1925.547624345\nEpoch: 0001 cost= 1927.226392212\nEpoch: 0001 cost= 1928.245953869\nEpoch: 0001 cost= 1929.903825850\nEpoch: 0001 cost= 1932.085587658\nEpoch: 0001 cost= 1933.164516102\nEpoch: 0001 cost= 1934.501340388\nEpoch: 0001 cost= 1935.699154219\nEpoch: 0001 cost= 1937.388671376\nEpoch: 0001 cost= 1938.227479026\nEpoch: 0001 cost= 1941.193208341\nEpoch: 0001 cost= 1943.354042636\n"
     ]
    },
    {
     "name": "stdout",
     "output_type": "stream",
     "text": [
      "Epoch: 0001 cost= 1944.890680154\nEpoch: 0001 cost= 1946.664996227\nEpoch: 0001 cost= 1948.577255637\nEpoch: 0001 cost= 1950.722523526\nEpoch: 0001 cost= 1952.207929798\nEpoch: 0001 cost= 1954.135239813\nEpoch: 0001 cost= 1955.592072532\nEpoch: 0001 cost= 1956.319559160\nEpoch: 0001 cost= 1958.005238980\nEpoch: 0001 cost= 1959.751929210\nEpoch: 0001 cost= 1961.137862826\nEpoch: 0001 cost= 1963.216744218\nEpoch: 0001 cost= 1964.228085882\nEpoch: 0001 cost= 1965.533025069\n"
     ]
    },
    {
     "name": "stdout",
     "output_type": "stream",
     "text": [
      "Epoch: 0001 cost= 1967.444089078\nEpoch: 0001 cost= 1968.823959240\nEpoch: 0001 cost= 1970.620586548\nEpoch: 0001 cost= 1971.502467818\nEpoch: 0001 cost= 1974.229185236\nEpoch: 0001 cost= 1976.407331987\nEpoch: 0001 cost= 1977.898856867\nEpoch: 0001 cost= 1978.179145369\nEpoch: 0001 cost= 1980.062862521\nEpoch: 0001 cost= 1982.032643016\nEpoch: 0001 cost= 1982.768626404\nEpoch: 0001 cost= 1984.222796437\nEpoch: 0001 cost= 1985.572048146\nEpoch: 0001 cost= 1986.522579706\n"
     ]
    },
    {
     "name": "stdout",
     "output_type": "stream",
     "text": [
      "Epoch: 0001 cost= 1988.681446894\nEpoch: 0001 cost= 1991.010954840\nEpoch: 0001 cost= 1992.360315080\nEpoch: 0001 cost= 1994.619381353\nEpoch: 0001 cost= 1996.290413846\nEpoch: 0001 cost= 1997.292561063\nEpoch: 0001 cost= 1998.520115995\nEpoch: 0001 cost= 1999.875567988\nEpoch: 0001 cost= 2003.198387368\nEpoch: 0001 cost= 2005.277858027\nEpoch: 0001 cost= 2007.229495101\nEpoch: 0001 cost= 2008.554776084\nEpoch: 0001 cost= 2009.007964339\nEpoch: 0001 cost= 2009.894354387\n"
     ]
    },
    {
     "name": "stdout",
     "output_type": "stream",
     "text": [
      "Epoch: 0001 cost= 2013.347786782\nEpoch: 0001 cost= 2015.272097640\nEpoch: 0001 cost= 2016.679026572\nEpoch: 0001 cost= 2018.786819763\nEpoch: 0001 cost= 2020.583191612\nEpoch: 0001 cost= 2021.706365329\nEpoch: 0001 cost= 2024.265950734\nEpoch: 0001 cost= 2026.300583635\nEpoch: 0001 cost= 2027.394295460\nEpoch: 0001 cost= 2030.210481540\nEpoch: 0001 cost= 2031.998429538\nEpoch: 0001 cost= 2034.219990262\nEpoch: 0001 cost= 2035.735241838\nEpoch: 0001 cost= 2036.919142095\nEpoch: 0001 cost= 2037.980813571\n"
     ]
    },
    {
     "name": "stdout",
     "output_type": "stream",
     "text": [
      "Epoch: 0001 cost= 2038.961185109\nEpoch: 0001 cost= 2040.894656788\nEpoch: 0001 cost= 2042.181621565\nEpoch: 0001 cost= 2044.861065813\nEpoch: 0001 cost= 2045.206465149\nEpoch: 0001 cost= 2046.082225536\nEpoch: 0001 cost= 2047.304708779\nEpoch: 0001 cost= 2048.869985324\nEpoch: 0001 cost= 2051.355440091\nEpoch: 0001 cost= 2053.576390686\nEpoch: 0001 cost= 2054.756411105\nEpoch: 0001 cost= 2055.661638045\nEpoch: 0001 cost= 2056.995090637\n"
     ]
    },
    {
     "name": "stdout",
     "output_type": "stream",
     "text": [
      "Epoch: 0001 cost= 2058.433009560\nEpoch: 0001 cost= 2059.767285572\nEpoch: 0001 cost= 2061.162746110\nEpoch: 0001 cost= 2061.801659907\nEpoch: 0001 cost= 2062.589306280\nEpoch: 0001 cost= 2063.196282543\nEpoch: 0001 cost= 2064.766495611\nEpoch: 0001 cost= 2066.718784318\nEpoch: 0001 cost= 2067.977539423\nEpoch: 0001 cost= 2068.637394825\nEpoch: 0001 cost= 2069.963930581\nEpoch: 0001 cost= 2071.064132108\nEpoch: 0001 cost= 2072.349540821\n"
     ]
    },
    {
     "name": "stdout",
     "output_type": "stream",
     "text": [
      "Epoch: 0001 cost= 2074.509485335\nEpoch: 0001 cost= 2076.247789001\nEpoch: 0001 cost= 2077.783827487\nEpoch: 0001 cost= 2079.342837386\nEpoch: 0001 cost= 2080.612866350\nEpoch: 0001 cost= 2081.699271934\nEpoch: 0001 cost= 2083.333161760\nEpoch: 0001 cost= 2085.516010437\nEpoch: 0001 cost= 2087.265913669\nEpoch: 0001 cost= 2089.273984070\nEpoch: 0001 cost= 2090.913355852\nEpoch: 0001 cost= 2092.500659540\nEpoch: 0001 cost= 2093.666403281\nEpoch: 0001 cost= 2094.938426319\n"
     ]
    },
    {
     "name": "stdout",
     "output_type": "stream",
     "text": [
      "Epoch: 0001 cost= 2096.342943698\nEpoch: 0001 cost= 2097.545516163\nEpoch: 0001 cost= 2099.326653637\nEpoch: 0001 cost= 2100.664987821\nEpoch: 0001 cost= 2101.444629933\nEpoch: 0001 cost= 2102.612023843\nEpoch: 0001 cost= 2103.216499883\nEpoch: 0001 cost= 2104.109330084\nEpoch: 0001 cost= 2104.773389199\nEpoch: 0001 cost= 2106.295041032\nEpoch: 0001 cost= 2107.441002059\nEpoch: 0001 cost= 2108.204401495\nEpoch: 0001 cost= 2110.368547890\nEpoch: 0001 cost= 2111.197747609\n"
     ]
    },
    {
     "name": "stdout",
     "output_type": "stream",
     "text": [
      "Epoch: 0001 cost= 2112.706723217\nEpoch: 0001 cost= 2113.536730152\nEpoch: 0001 cost= 2114.494678594\nEpoch: 0001 cost= 2116.060470831\nEpoch: 0001 cost= 2117.634745511\nEpoch: 0001 cost= 2119.672364918\nEpoch: 0001 cost= 2121.716942777\nEpoch: 0001 cost= 2122.940831271\nEpoch: 0001 cost= 2123.928150718\nEpoch: 0001 cost= 2125.566255965\nEpoch: 0001 cost= 2128.281936673\nEpoch: 0001 cost= 2130.293694708\nEpoch: 0001 cost= 2132.488197771\nEpoch: 0001 cost= 2133.146265287\n"
     ]
    },
    {
     "name": "stdout",
     "output_type": "stream",
     "text": [
      "Epoch: 0001 cost= 2133.821131453\nEpoch: 0001 cost= 2134.954230707\nEpoch: 0001 cost= 2136.827746554\nEpoch: 0001 cost= 2138.704872131\nEpoch: 0001 cost= 2139.951184054\nEpoch: 0001 cost= 2141.099109081\nEpoch: 0001 cost= 2142.603701588\nEpoch: 0001 cost= 2144.577118447\nEpoch: 0001 cost= 2145.666540833\nEpoch: 0001 cost= 2147.395999506\nEpoch: 0001 cost= 2149.400206937\nEpoch: 0001 cost= 2151.658855508\nEpoch: 0001 cost= 2152.384415034\nEpoch: 0001 cost= 2154.325774453\n"
     ]
    },
    {
     "name": "stdout",
     "output_type": "stream",
     "text": [
      "Epoch: 0001 cost= 2154.891830417\nEpoch: 0001 cost= 2157.037957015\nEpoch: 0001 cost= 2157.695008795\nEpoch: 0001 cost= 2159.092344111\nEpoch: 0001 cost= 2161.114196028\nEpoch: 0001 cost= 2162.388387035\nEpoch: 0001 cost= 2163.477105741\nEpoch: 0001 cost= 2164.742230030\nEpoch: 0001 cost= 2166.029663003\nEpoch: 0001 cost= 2167.232450201\nEpoch: 0001 cost= 2168.622828619\nEpoch: 0001 cost= 2170.294103921\nEpoch: 0001 cost= 2171.459945984\n"
     ]
    },
    {
     "name": "stdout",
     "output_type": "stream",
     "text": [
      "Epoch: 0001 cost= 2173.207643183\nEpoch: 0001 cost= 2174.955071827\nEpoch: 0001 cost= 2176.009370145\nEpoch: 0001 cost= 2176.960157609\nEpoch: 0001 cost= 2178.989253401\nEpoch: 0001 cost= 2180.396004555\nEpoch: 0001 cost= 2182.103148110\nEpoch: 0001 cost= 2182.639035561\nEpoch: 0001 cost= 2183.780481762\nEpoch: 0001 cost= 2184.814878401\nEpoch: 0001 cost= 2185.822956793\nEpoch: 0001 cost= 2186.299441889\nEpoch: 0001 cost= 2187.487751104\nEpoch: 0001 cost= 2189.643123752\n"
     ]
    },
    {
     "name": "stdout",
     "output_type": "stream",
     "text": [
      "Epoch: 0001 cost= 2191.303815224\nEpoch: 0001 cost= 2193.282832447\nEpoch: 0001 cost= 2193.946244257\nEpoch: 0001 cost= 2195.056428472\nEpoch: 0001 cost= 2195.658401351\nEpoch: 0002 cost="
     ]
    },
    {
     "name": "stdout",
     "output_type": "stream",
     "text": [
      " 0.972556818\nEpoch: 0002 cost= 2.142614302\nEpoch: 0002 cost= 3.404787709\nEpoch: 0002 cost= 5.150827082\nEpoch: 0002 cost= 5.249992690\nEpoch: 0002 cost= 6.635416607\nEpoch: 0002 cost= 7.950608035\nEpoch: 0002 cost= 9.329790719\nEpoch: 0002 cost= 9.559324840\nEpoch: 0002 cost= 11.190790128\nEpoch: 0002 cost= 12.737813388\nEpoch: 0002 cost= 14.303337069\nEpoch: 0002 cost= 15.446970326\nEpoch: 0002 cost= 16.258086992\nEpoch: 0002 cost= 17.710746460\n"
     ]
    },
    {
     "name": "stdout",
     "output_type": "stream",
     "text": [
      "Epoch: 0002 cost= 18.809053234\nEpoch: 0002 cost= 20.552666293\nEpoch: 0002 cost= 22.398849376\nEpoch: 0002 cost= 24.890437622\nEpoch: 0002 cost= 27.494527865\nEpoch: 0002 cost= 28.943841053\nEpoch: 0002 cost= 29.719140958\nEpoch: 0002 cost= 30.587150102\nEpoch: 0002 cost= 31.353128995\nEpoch: 0002 cost= 32.771293945\nEpoch: 0002 cost= 34.489002131\nEpoch: 0002 cost= 35.661269864\nEpoch: 0002 cost= 36.799996116\nEpoch: 0002 cost= 36.986753679\n"
     ]
    },
    {
     "name": "stdout",
     "output_type": "stream",
     "text": [
      "Epoch: 0002 cost= 37.976154535\nEpoch: 0002 cost= 38.796795072\nEpoch: 0002 cost= 39.559345786\nEpoch: 0002 cost= 40.664614119\nEpoch: 0002 cost= 42.577346275\nEpoch: 0002 cost= 43.880817288\nEpoch: 0002 cost= 44.248159263\nEpoch: 0002 cost= 44.474374889\nEpoch: 0002 cost= 45.903503529\nEpoch: 0002 cost= 46.793770807\nEpoch: 0002 cost= 47.289139349\nEpoch: 0002 cost= 49.207549106\nEpoch: 0002 cost= 49.617589805\n"
     ]
    },
    {
     "name": "stdout",
     "output_type": "stream",
     "text": [
      "Epoch: 0002 cost= 50.928965204\nEpoch: 0002 cost= 51.941011658\nEpoch: 0002 cost= 52.861187661\nEpoch: 0002 cost= 53.819650352\nEpoch: 0002 cost= 55.507037270\nEpoch: 0002 cost= 55.657801860\nEpoch: 0002 cost= 56.423393069\nEpoch: 0002 cost= 57.356359822\nEpoch: 0002 cost= 58.026558741\nEpoch: 0002 cost= 59.165108878\nEpoch: 0002 cost= 59.600807176\nEpoch: 0002 cost= 60.824691010\nEpoch: 0002 cost= 62.652765406\nEpoch: 0002 cost= 63.365028257\n"
     ]
    },
    {
     "name": "stdout",
     "output_type": "stream",
     "text": [
      "Epoch: 0002 cost= 63.891613395\nEpoch: 0002 cost= 64.857323844\nEpoch: 0002 cost= 65.454681632\nEpoch: 0002 cost= 66.218520966\nEpoch: 0002 cost= 67.005005119\nEpoch: 0002 cost= 67.646792894\nEpoch: 0002 cost= 68.525901503\nEpoch: 0002 cost= 69.719819849\nEpoch: 0002 cost= 71.283752622\nEpoch: 0002 cost= 72.614163111\nEpoch: 0002 cost= 73.588056488\nEpoch: 0002 cost= 74.791544814\nEpoch: 0002 cost= 76.073732758\n"
     ]
    },
    {
     "name": "stdout",
     "output_type": "stream",
     "text": [
      "Epoch: 0002 cost= 77.007491302\nEpoch: 0002 cost= 77.444266233\nEpoch: 0002 cost= 77.863819899\nEpoch: 0002 cost= 78.999583504\nEpoch: 0002 cost= 79.692508642\nEpoch: 0002 cost= 81.269331374\nEpoch: 0002 cost= 82.564256245\nEpoch: 0002 cost= 83.561444300\nEpoch: 0002 cost= 85.352342183\nEpoch: 0002 cost= 86.109734095\nEpoch: 0002 cost= 86.862583105\nEpoch: 0002 cost= 88.075048592\nEpoch: 0002 cost= 89.299717338\nEpoch: 0002 cost= 90.162825581\nEpoch: 0002 cost= 90.360520838\n"
     ]
    },
    {
     "name": "stdout",
     "output_type": "stream",
     "text": [
      "Epoch: 0002 cost= 91.530768863\nEpoch: 0002 cost= 92.747064916\nEpoch: 0002 cost= 93.335728912\nEpoch: 0002 cost= 93.953145405\nEpoch: 0002 cost= 94.393195343\nEpoch: 0002 cost= 95.747885950\nEpoch: 0002 cost= 96.203960446\nEpoch: 0002 cost= 97.135556793\nEpoch: 0002 cost= 97.865064628\nEpoch: 0002 cost= 98.508800978\nEpoch: 0002 cost= 99.754975849\nEpoch: 0002 cost= 100.696611814\nEpoch: 0002 cost= 101.452738634\n"
     ]
    },
    {
     "name": "stdout",
     "output_type": "stream",
     "text": [
      "Epoch: 0002 cost= 101.922928508\nEpoch: 0002 cost= 102.866025654\nEpoch: 0002 cost= 103.708551233\nEpoch: 0002 cost= 104.422419420\nEpoch: 0002 cost= 105.477493106\nEpoch: 0002 cost= 106.016369504\nEpoch: 0002 cost= 107.323948628\nEpoch: 0002 cost= 108.530280748\nEpoch: 0002 cost= 109.951404572\nEpoch: 0002 cost= 110.681867495\nEpoch: 0002 cost= 111.999910708\nEpoch: 0002 cost= 113.217358773\nEpoch: 0002 cost= 113.655048592\nEpoch: 0002 cost= 114.787649800\n"
     ]
    },
    {
     "name": "stdout",
     "output_type": "stream",
     "text": [
      "Epoch: 0002 cost= 115.651697929\nEpoch: 0002 cost= 116.249597931\nEpoch: 0002 cost= 117.098399478\nEpoch: 0002 cost= 117.377440893\nEpoch: 0002 cost= 118.068827834\nEpoch: 0002 cost= 118.801844524\nEpoch: 0002 cost= 119.620920951\nEpoch: 0002 cost= 120.027782745\nEpoch: 0002 cost= 121.216752028\nEpoch: 0002 cost= 121.485902585\nEpoch: 0002 cost= 122.071685888\nEpoch: 0002 cost= 123.272721932\nEpoch: 0002 cost= 123.408715682\nEpoch: 0002 cost= 124.250269082\nEpoch: 0002 cost= 124.799892495\n"
     ]
    },
    {
     "name": "stdout",
     "output_type": "stream",
     "text": [
      "Epoch: 0002 cost= 126.214647466\nEpoch: 0002 cost= 126.879572227\nEpoch: 0002 cost= 128.669209012\nEpoch: 0002 cost= 130.857340227\nEpoch: 0002 cost= 131.376444286\nEpoch: 0002 cost= 131.876566578\nEpoch: 0002 cost= 132.558423268\nEpoch: 0002 cost= 133.727127769\nEpoch: 0002 cost= 134.424972174\nEpoch: 0002 cost= 135.393305026\nEpoch: 0002 cost= 135.888638999\nEpoch: 0002 cost= 137.065995289\nEpoch: 0002 cost= 138.567204340\nEpoch: 0002 cost= 139.540305925\n"
     ]
    },
    {
     "name": "stdout",
     "output_type": "stream",
     "text": [
      "Epoch: 0002 cost= 140.516547935\nEpoch: 0002 cost= 142.134426353\nEpoch: 0002 cost= 142.467408503\nEpoch: 0002 cost= 143.024346591\nEpoch: 0002 cost= 143.755473411\nEpoch: 0002 cost= 144.816075439\nEpoch: 0002 cost= 146.475962358\nEpoch: 0002 cost= 148.369450684\nEpoch: 0002 cost= 150.584762518\nEpoch: 0002 cost= 151.362120472\nEpoch: 0002 cost= 152.171621593\nEpoch: 0002 cost= 152.811558394\nEpoch: 0002 cost= 153.965391402\nEpoch: 0002 cost= 154.964362127\n"
     ]
    },
    {
     "name": "stdout",
     "output_type": "stream",
     "text": [
      "Epoch: 0002 cost= 155.527578014\nEpoch: 0002 cost= 157.298519065\nEpoch: 0002 cost= 158.265622448\nEpoch: 0002 cost= 158.746651056\nEpoch: 0002 cost= 159.819736994\nEpoch: 0002 cost= 160.913262496\nEpoch: 0002 cost= 161.965919633\nEpoch: 0002 cost= 162.733479947\nEpoch: 0002 cost= 163.594805187\nEpoch: 0002 cost= 164.841351596\nEpoch: 0002 cost= 165.425673107\nEpoch: 0002 cost= 166.545751898\nEpoch: 0002 cost= 167.837847179\nEpoch: 0002 cost= 168.585001609\n"
     ]
    },
    {
     "name": "stdout",
     "output_type": "stream",
     "text": [
      "Epoch: 0002 cost= 169.047881303\nEpoch: 0002 cost= 170.108025568\nEpoch: 0002 cost= 172.176257768\nEpoch: 0002 cost= 172.980866699\nEpoch: 0002 cost= 174.088206232\nEpoch: 0002 cost= 175.223320756\nEpoch: 0002 cost= 176.563281250\nEpoch: 0002 cost= 177.394319181\nEpoch: 0002 cost= 178.026643177\nEpoch: 0002 cost= 179.043352162\nEpoch: 0002 cost= 179.946861184\nEpoch: 0002 cost= 180.261717085\nEpoch: 0002 cost= 180.675585272\nEpoch: 0002 cost= 181.907428644\n"
     ]
    },
    {
     "name": "stdout",
     "output_type": "stream",
     "text": [
      "Epoch: 0002 cost= 183.176183194\nEpoch: 0002 cost= 184.127832808\nEpoch: 0002 cost= 185.281912731\nEpoch: 0002 cost= 186.813328635\nEpoch: 0002 cost= 188.656427890\nEpoch: 0002 cost= 189.429056396\nEpoch: 0002 cost= 192.901517112\nEpoch: 0002 cost= 194.395819425\nEpoch: 0002 cost= 194.740703930\nEpoch: 0002 cost= 195.655748763\nEpoch: 0002 cost= 196.563626015\nEpoch: 0002 cost= 198.113347029\nEpoch: 0002 cost= 199.044801885\nEpoch: 0002 cost= 199.857932545\n"
     ]
    },
    {
     "name": "stdout",
     "output_type": "stream",
     "text": [
      "Epoch: 0002 cost= 200.334541876\nEpoch: 0002 cost= 200.566019828\nEpoch: 0002 cost= 200.769251126\nEpoch: 0002 cost= 201.844305059\nEpoch: 0002 cost= 203.102234858\nEpoch: 0002 cost= 203.578881364\nEpoch: 0002 cost= 204.387856085\nEpoch: 0002 cost= 205.678348139\nEpoch: 0002 cost= 206.552189192\nEpoch: 0002 cost= 208.264678872\nEpoch: 0002 cost= 208.766468700\nEpoch: 0002 cost= 210.391860324\nEpoch: 0002 cost= 210.919284751\nEpoch: 0002 cost= 211.377414051\n"
     ]
    },
    {
     "name": "stdout",
     "output_type": "stream",
     "text": [
      "Epoch: 0002 cost= 212.135669001\nEpoch: 0002 cost= 213.204612316\nEpoch: 0002 cost= 214.574044578\nEpoch: 0002 cost= 216.643761819\nEpoch: 0002 cost= 217.564318237\nEpoch: 0002 cost= 217.908959933\nEpoch: 0002 cost= 218.169054898\nEpoch: 0002 cost= 218.999109885\nEpoch: 0002 cost= 219.993203014\nEpoch: 0002 cost= 220.661120994\nEpoch: 0002 cost= 221.348157293\nEpoch: 0002 cost= 222.767627730\nEpoch: 0002 cost= 223.907783425\nEpoch: 0002 cost= 224.581399758\n"
     ]
    },
    {
     "name": "stdout",
     "output_type": "stream",
     "text": [
      "Epoch: 0002 cost= 225.021648560\nEpoch: 0002 cost= 226.263477839\nEpoch: 0002 cost= 226.824342097\nEpoch: 0002 cost= 226.971215154\nEpoch: 0002 cost= 228.649412287\nEpoch: 0002 cost= 230.008264937\nEpoch: 0002 cost= 230.576364469\nEpoch: 0002 cost= 231.480131115\nEpoch: 0002 cost= 232.171497026\nEpoch: 0002 cost= 232.556459240\nEpoch: 0002 cost= 233.462285822\nEpoch: 0002 cost= 234.378536932\nEpoch: 0002 cost= 235.345868364\n"
     ]
    },
    {
     "name": "stdout",
     "output_type": "stream",
     "text": [
      "Epoch: 0002 cost= 236.194733221\nEpoch: 0002 cost= 236.638676258\nEpoch: 0002 cost= 237.795217008\nEpoch: 0002 cost= 238.427640381\nEpoch: 0002 cost= 239.007103161\nEpoch: 0002 cost= 239.636662265\nEpoch: 0002 cost= 240.513559071\nEpoch: 0002 cost= 242.069452848\nEpoch: 0002 cost= 242.743450373\nEpoch: 0002 cost= 244.421848810\nEpoch: 0002 cost= 244.815517634\nEpoch: 0002 cost= 246.085955866\nEpoch: 0002 cost= 246.869529419\n"
     ]
    },
    {
     "name": "stdout",
     "output_type": "stream",
     "text": [
      "Epoch: 0002 cost= 247.589532804\nEpoch: 0002 cost= 248.319830045\nEpoch: 0002 cost= 249.554503673\nEpoch: 0002 cost= 252.145005715\nEpoch: 0002 cost= 253.090105480\nEpoch: 0002 cost= 253.782577071\nEpoch: 0002 cost= 254.574976862\nEpoch: 0002 cost= 255.203501864\nEpoch: 0002 cost= 256.095346180\nEpoch: 0002 cost= 256.904692105\nEpoch: 0002 cost= 257.623699896\nEpoch: 0002 cost= 259.277896784\nEpoch: 0002 cost= 259.841500910\nEpoch: 0002 cost= 260.896979204\n"
     ]
    },
    {
     "name": "stdout",
     "output_type": "stream",
     "text": [
      "Epoch: 0002 cost= 261.772563865\nEpoch: 0002 cost= 262.242795799\nEpoch: 0002 cost= 262.482426314\nEpoch: 0002 cost= 263.137296198\nEpoch: 0002 cost= 263.842674838\nEpoch: 0002 cost= 265.052161477\nEpoch: 0002 cost= 265.737045288\nEpoch: 0002 cost= 266.657706354\nEpoch: 0002 cost= 267.455561468\nEpoch: 0002 cost= 267.832198320\nEpoch: 0002 cost= 268.014918726\nEpoch: 0002 cost= 268.795365614\nEpoch: 0002 cost= 268.909170213\nEpoch: 0002 cost= 269.987539687\n"
     ]
    },
    {
     "name": "stdout",
     "output_type": "stream",
     "text": [
      "Epoch: 0002 cost= 270.599989804\nEpoch: 0002 cost= 271.053553592\nEpoch: 0002 cost= 272.549699277\nEpoch: 0002 cost= 273.620798798\nEpoch: 0002 cost= 274.778182720\nEpoch: 0002 cost= 275.424560061\nEpoch: 0002 cost= 276.131631706\nEpoch: 0002 cost= 276.538553508\nEpoch: 0002 cost= 277.371305639\nEpoch: 0002 cost= 278.267455098\nEpoch: 0002 cost= 279.196335491\nEpoch: 0002 cost= 280.050976105\nEpoch: 0002 cost= 281.622105921\nEpoch: 0002 cost= 282.521273179\nEpoch: 0002 cost= 283.240275088\n"
     ]
    },
    {
     "name": "stdout",
     "output_type": "stream",
     "text": [
      "Epoch: 0002 cost= 283.756907945\nEpoch: 0002 cost= 285.538252827\nEpoch: 0002 cost= 287.282276930\nEpoch: 0002 cost= 287.755942480\nEpoch: 0002 cost= 289.236102614\nEpoch: 0002 cost= 290.320867129\nEpoch: 0002 cost= 290.760596522\nEpoch: 0002 cost= 291.462628548\nEpoch: 0002 cost= 291.936831818\nEpoch: 0002 cost= 292.962786629\nEpoch: 0002 cost= 293.459331318\nEpoch: 0002 cost= 294.172113634\nEpoch: 0002 cost= 294.698879048\n"
     ]
    },
    {
     "name": "stdout",
     "output_type": "stream",
     "text": [
      "Epoch: 0002 cost= 294.989389496\nEpoch: 0002 cost= 296.018557531\nEpoch: 0002 cost= 296.538217843\nEpoch: 0002 cost= 297.242604994\nEpoch: 0002 cost= 297.444861533\nEpoch: 0002 cost= 298.184700234\nEpoch: 0002 cost= 300.001953652\nEpoch: 0002 cost= 300.360948514\nEpoch: 0002 cost= 301.685667863\nEpoch: 0002 cost= 302.012855225\nEpoch: 0002 cost= 302.567464766\nEpoch: 0002 cost= 302.907111983\nEpoch: 0002 cost= 303.264495572\nEpoch: 0002 cost= 303.719221885\n"
     ]
    },
    {
     "name": "stdout",
     "output_type": "stream",
     "text": [
      "Epoch: 0002 cost= 304.709497986\nEpoch: 0002 cost= 305.311972906\nEpoch: 0002 cost= 306.556481406\nEpoch: 0002 cost= 307.615023776\nEpoch: 0002 cost= 308.173036027\nEpoch: 0002 cost= 308.811020314\nEpoch: 0002 cost= 309.596120744\nEpoch: 0002 cost= 309.781009660\nEpoch: 0002 cost= 310.065907926\nEpoch: 0002 cost= 310.628385232\nEpoch: 0002 cost= 311.716124268\nEpoch: 0002 cost= 312.303750444\nEpoch: 0002 cost= 313.435310835\nEpoch: 0002 cost= 314.626693670\n"
     ]
    },
    {
     "name": "stdout",
     "output_type": "stream",
     "text": [
      "Epoch: 0002 cost= 314.948556630\nEpoch: 0002 cost= 316.516136863\nEpoch: 0002 cost= 317.260606689\nEpoch: 0002 cost= 317.973227095\nEpoch: 0002 cost= 318.797897616\nEpoch: 0002 cost= 319.249733471\nEpoch: 0002 cost= 320.063165644\nEpoch: 0002 cost= 321.576222174\nEpoch: 0002 cost= 322.218983016\nEpoch: 0002 cost= 322.555533364\nEpoch: 0002 cost= 323.010617704\nEpoch: 0002 cost= 323.359782326\nEpoch: 0002 cost= 323.892691317\n"
     ]
    },
    {
     "name": "stdout",
     "output_type": "stream",
     "text": [
      "Epoch: 0002 cost= 324.671291892\nEpoch: 0002 cost= 325.023400851\nEpoch: 0002 cost= 326.087166720\nEpoch: 0002 cost= 326.502218933\nEpoch: 0002 cost= 327.117222207\nEpoch: 0002 cost= 328.065386491\nEpoch: 0002 cost= 328.737105408\nEpoch: 0002 cost= 329.509221552\nEpoch: 0002 cost= 331.028687772\nEpoch: 0002 cost= 331.447788974\nEpoch: 0002 cost= 332.430412931\nEpoch: 0002 cost= 333.045139826\nEpoch: 0002 cost= 333.573600075\n"
     ]
    },
    {
     "name": "stdout",
     "output_type": "stream",
     "text": [
      "Epoch: 0002 cost= 334.151393488\nEpoch: 0002 cost= 335.505306840\nEpoch: 0002 cost= 336.576645841\nEpoch: 0002 cost= 337.457154652\nEpoch: 0002 cost= 338.163824407\nEpoch: 0002 cost= 339.091644953\nEpoch: 0002 cost= 340.186944802\nEpoch: 0002 cost= 340.936298939\nEpoch: 0002 cost= 341.462145275\nEpoch: 0002 cost= 341.832171992\nEpoch: 0002 cost= 342.743462608\nEpoch: 0002 cost= 343.317793940\nEpoch: 0002 cost= 343.801645147\nEpoch: 0002 cost= 344.702901528\n"
     ]
    },
    {
     "name": "stdout",
     "output_type": "stream",
     "text": [
      "Epoch: 0002 cost= 345.450965105\nEpoch: 0002 cost= 346.310053295\nEpoch: 0002 cost= 346.713316068\nEpoch: 0002 cost= 347.528347473\nEpoch: 0002 cost= 348.175471830\nEpoch: 0002 cost= 348.886471474\nEpoch: 0002 cost= 349.787762257\nEpoch: 0002 cost= 350.124547119\nEpoch: 0002 cost= 350.706225309\nEpoch: 0002 cost= 351.705488115\nEpoch: 0002 cost= 352.503668657\nEpoch: 0002 cost= 353.025148482\nEpoch: 0002 cost= 354.217117254\nEpoch: 0002 cost= 354.821235074\n"
     ]
    },
    {
     "name": "stdout",
     "output_type": "stream",
     "text": [
      "Epoch: 0002 cost= 355.633650180\nEpoch: 0002 cost= 356.645174949\nEpoch: 0002 cost= 357.647404508\nEpoch: 0002 cost= 358.719989291\nEpoch: 0002 cost= 359.500856101\nEpoch: 0002 cost= 360.214401412\nEpoch: 0002 cost= 361.243428955\nEpoch: 0002 cost= 362.201636963\nEpoch: 0002 cost= 364.263870628\nEpoch: 0002 cost= 365.737474587\nEpoch: 0002 cost= 366.560298850\nEpoch: 0002 cost= 367.843463024\nEpoch: 0002 cost= 368.664512218\nEpoch: 0002 cost= 368.919387041\n"
     ]
    },
    {
     "name": "stdout",
     "output_type": "stream",
     "text": [
      "Epoch: 0002 cost= 369.730865645\nEpoch: 0002 cost= 369.895910880\nEpoch: 0002 cost= 370.946593364\nEpoch: 0002 cost= 371.348937336\nEpoch: 0002 cost= 371.465220365\nEpoch: 0002 cost= 372.031951488\nEpoch: 0002 cost= 372.681444785\nEpoch: 0002 cost= 373.897666376\nEpoch: 0002 cost= 374.492265153\nEpoch: 0002 cost= 374.891721191\nEpoch: 0002 cost= 376.016014848\nEpoch: 0002 cost= 376.690776090\nEpoch: 0002 cost= 377.886981590\n"
     ]
    },
    {
     "name": "stdout",
     "output_type": "stream",
     "text": [
      "Epoch: 0002 cost= 378.177573880\nEpoch: 0002 cost= 378.901360335\nEpoch: 0002 cost= 379.683242437\nEpoch: 0002 cost= 381.452043041\nEpoch: 0002 cost= 381.762403259\nEpoch: 0002 cost= 382.809641252\nEpoch: 0002 cost= 383.809958635\nEpoch: 0002 cost= 384.249717574\nEpoch: 0002 cost= 385.143052757\nEpoch: 0002 cost= 386.193440163\nEpoch: 0002 cost= 386.793584928\nEpoch: 0002 cost= 387.134361073\nEpoch: 0002 cost= 387.918335238\nEpoch: 0002 cost= 388.763586426\n"
     ]
    },
    {
     "name": "stdout",
     "output_type": "stream",
     "text": [
      "Epoch: 0002 cost= 389.565647916\nEpoch: 0002 cost= 389.686578827\nEpoch: 0002 cost= 391.118173287\nEpoch: 0002 cost= 392.311743511\nEpoch: 0002 cost= 393.568716833\nEpoch: 0002 cost= 393.990121945\nEpoch: 0002 cost= 395.448768963\nEpoch: 0002 cost= 396.325204176\nEpoch: 0002 cost= 397.296615642\nEpoch: 0002 cost= 398.165608174\nEpoch: 0002 cost= 398.230158629\nEpoch: 0002 cost= 399.573164333\n"
     ]
    },
    {
     "name": "stdout",
     "output_type": "stream",
     "text": [
      "Epoch: 0002 cost= 400.125187038\nEpoch: 0002 cost= 400.973818297\nEpoch: 0002 cost= 402.439455837\nEpoch: 0002 cost= 403.096843699\nEpoch: 0002 cost= 404.013808753\nEpoch: 0002 cost= 405.578935928\nEpoch: 0002 cost= 405.702632731\nEpoch: 0002 cost= 406.614064671\nEpoch: 0002 cost= 407.466420517\nEpoch: 0002 cost= 408.094661484\nEpoch: 0002 cost= 408.802212476\nEpoch: 0002 cost= 409.633749397\nEpoch: 0002 cost= 410.419059067\nEpoch: 0002 cost= 411.761186308\n"
     ]
    },
    {
     "name": "stdout",
     "output_type": "stream",
     "text": [
      "Epoch: 0002 cost= 412.556446818\nEpoch: 0002 cost= 413.672653538\nEpoch: 0002 cost= 413.868461422\nEpoch: 0002 cost= 414.037392488\nEpoch: 0002 cost= 415.061074462\nEpoch: 0002 cost= 415.542765357\nEpoch: 0002 cost= 416.009867963\nEpoch: 0002 cost= 417.044249732\nEpoch: 0002 cost= 417.997287397\nEpoch: 0002 cost= 419.236326481\nEpoch: 0002 cost= 420.777006857\nEpoch: 0002 cost= 420.977254992\nEpoch: 0002 cost= 421.841141878\nEpoch: 0002 cost= 422.977669976\n"
     ]
    },
    {
     "name": "stdout",
     "output_type": "stream",
     "text": [
      "Epoch: 0002 cost= 423.185322106\nEpoch: 0002 cost= 423.377317637\nEpoch: 0002 cost= 423.998426257\nEpoch: 0002 cost= 425.201757556\nEpoch: 0002 cost= 425.818230279\nEpoch: 0002 cost= 426.030940420\nEpoch: 0002 cost= 426.734963025\nEpoch: 0002 cost= 427.500274526\nEpoch: 0002 cost= 427.912345255\nEpoch: 0002 cost= 428.866291344\nEpoch: 0002 cost= 428.869781277\nEpoch: 0002 cost= 429.203043606\nEpoch: 0002 cost= 430.363123951\n"
     ]
    },
    {
     "name": "stdout",
     "output_type": "stream",
     "text": [
      "Epoch: 0002 cost= 430.629613763\nEpoch: 0002 cost= 431.927726778\nEpoch: 0002 cost= 432.265931013\nEpoch: 0002 cost= 433.120438071\nEpoch: 0002 cost= 433.592897566\nEpoch: 0002 cost= 434.317662192\nEpoch: 0002 cost= 436.257314624\nEpoch: 0002 cost= 436.957000127\nEpoch: 0002 cost= 438.061836886\nEpoch: 0002 cost= 439.077025651\nEpoch: 0002 cost= 439.774510170\nEpoch: 0002 cost= 441.154591735\nEpoch: 0002 cost= 441.656299499\nEpoch: 0002 cost= 442.230594765\n"
     ]
    },
    {
     "name": "stdout",
     "output_type": "stream",
     "text": [
      "Epoch: 0002 cost= 443.312961486\nEpoch: 0002 cost= 443.674233459\nEpoch: 0002 cost= 444.016453557\nEpoch: 0002 cost= 444.238415060\nEpoch: 0002 cost= 445.145298162\nEpoch: 0002 cost= 445.990735728\nEpoch: 0002 cost= 446.534467029\nEpoch: 0002 cost= 447.597598022\nEpoch: 0002 cost= 447.668283890\nEpoch: 0002 cost= 448.102898980\nEpoch: 0002 cost= 449.108234341\nEpoch: 0002 cost= 449.542619772\nEpoch: 0002 cost= 450.889683094\nEpoch: 0002 cost= "
     ]
    },
    {
     "name": "stdout",
     "output_type": "stream",
     "text": [
      "451.085798331\nEpoch: 0002 cost= 451.688194848\nEpoch: 0002 cost= 451.997542077\nEpoch: 0002 cost= 452.670801688\nEpoch: 0002 cost= 453.230629347\nEpoch: 0002 cost= 453.950763346\nEpoch: 0002 cost= 454.261824138\nEpoch: 0002 cost= 456.319521891\nEpoch: 0002 cost= 456.752119159\nEpoch: 0002 cost= 457.252667865\nEpoch: 0002 cost= 458.029767308\nEpoch: 0002 cost= 458.281325619\nEpoch: 0002 cost= 459.698782451\nEpoch: 0002 cost= 460.446865947\nEpoch: 0002 cost= 460.900602547\n"
     ]
    },
    {
     "name": "stdout",
     "output_type": "stream",
     "text": [
      "Epoch: 0002 cost= 461.077340648\nEpoch: 0002 cost= 461.919533752\nEpoch: 0002 cost= 462.062759182\nEpoch: 0002 cost= 463.280304903\nEpoch: 0002 cost= 463.890076798\nEpoch: 0002 cost= 464.525747242\nEpoch: 0002 cost= 464.799184214\nEpoch: 0002 cost= 465.549043168\nEpoch: 0002 cost= 466.448211980\nEpoch: 0002 cost= 466.950155284\nEpoch: 0002 cost= 467.373626298\nEpoch: 0002 cost= 468.180049194\nEpoch: 0002 cost= 468.907056862\n"
     ]
    },
    {
     "name": "stdout",
     "output_type": "stream",
     "text": [
      "Epoch: 0002 cost= 469.429757612\nEpoch: 0002 cost= 470.295415404\nEpoch: 0002 cost= 470.742260608\nEpoch: 0002 cost= 470.918927659\nEpoch: 0002 cost= 471.764990669\nEpoch: 0002 cost= 472.127312502\nEpoch: 0002 cost= 472.876278455\nEpoch: 0002 cost= 473.574577683\nEpoch: 0002 cost= 474.534576906\nEpoch: 0002 cost= 475.328798264\nEpoch: 0002 cost= 475.981657650\nEpoch: 0002 cost= 476.602213070\nEpoch: 0002 cost= 476.987544186\n"
     ]
    },
    {
     "name": "stdout",
     "output_type": "stream",
     "text": [
      "Epoch: 0003 cost= 0.432467263\nEpoch: 0003 cost= 0.930433516\nEpoch: 0003 cost= 1.364025491\nEpoch: 0003 cost= 1.519312356\nEpoch: 0003 cost= 2.446703047\nEpoch: 0003 cost= 3.030447721\nEpoch: 0003 cost= 4.170537942\nEpoch: 0003 cost= 4.401783239\nEpoch: 0003 cost= 4.581688205\nEpoch: 0003 cost= 4.891094055\nEpoch: 0003 cost= 5.159706671\nEpoch: 0003 cost= 5.630338662\nEpoch: 0003 cost= 6.114563571\nEpoch: 0003 cost= 6.493851402\n"
     ]
    },
    {
     "name": "stdout",
     "output_type": "stream",
     "text": [
      "Epoch: 0003 cost= 7.596198814\nEpoch: 0003 cost= 7.939228987\nEpoch: 0003 cost= 8.495910617\nEpoch: 0003 cost= 8.871424006\nEpoch: 0003 cost= 9.345035678\nEpoch: 0003 cost= 9.861303933\nEpoch: 0003 cost= 10.160100458\nEpoch: 0003 cost= 11.472343889\nEpoch: 0003 cost= 12.017780512\nEpoch: 0003 cost= 12.515643116\nEpoch: 0003 cost= 13.452820185\nEpoch: 0003 cost= 14.097237521\nEpoch: 0003 cost= 15.673133517\nEpoch: 0003 cost= 16.107945973\n"
     ]
    },
    {
     "name": "stdout",
     "output_type": "stream",
     "text": [
      "Epoch: 0003 cost= 16.607814026\nEpoch: 0003 cost= 17.125374784\nEpoch: 0003 cost= 17.812199513\nEpoch: 0003 cost= 18.238332325\nEpoch: 0003 cost= 18.571311451\nEpoch: 0003 cost= 18.948195690\nEpoch: 0003 cost= 19.724249545\nEpoch: 0003 cost= 20.480707786\nEpoch: 0003 cost= 20.638902269\nEpoch: 0003 cost= 20.675005160\nEpoch: 0003 cost= 21.462651312\nEpoch: 0003 cost= 21.723014693\nEpoch: 0003 cost= 22.729754750\n"
     ]
    },
    {
     "name": "stdout",
     "output_type": "stream",
     "text": [
      "Epoch: 0003 cost= 23.422320779\nEpoch: 0003 cost= 24.162800681\nEpoch: 0003 cost= 24.480569319\nEpoch: 0003 cost= 24.772356179\nEpoch: 0003 cost= 24.948757158\nEpoch: 0003 cost= 25.018805757\nEpoch: 0003 cost= 25.157787718\nEpoch: 0003 cost= 25.716678155\nEpoch: 0003 cost= 26.116365155\nEpoch: 0003 cost= 26.359942620\nEpoch: 0003 cost= 26.509943771\nEpoch: 0003 cost= 26.725812066\nEpoch: 0003 cost= 27.347754981\nEpoch: 0003 cost= 28.238508155\n"
     ]
    },
    {
     "name": "stdout",
     "output_type": "stream",
     "text": [
      "Epoch: 0003 cost= 28.721129282\nEpoch: 0003 cost= 29.221758111\nEpoch: 0003 cost= 29.299219596\nEpoch: 0003 cost= 29.808222060\nEpoch: 0003 cost= 29.904347014\nEpoch: 0003 cost= 30.529957754\nEpoch: 0003 cost= 31.060925661\nEpoch: 0003 cost= 31.743823110\nEpoch: 0003 cost= 31.853065407\nEpoch: 0003 cost= 32.392653087\nEpoch: 0003 cost= 33.006847645\nEpoch: 0003 cost= 33.267310181\nEpoch: 0003 cost= 33.794000965\n"
     ]
    },
    {
     "name": "stdout",
     "output_type": "stream",
     "text": [
      "Epoch: 0003 cost= 34.140934476\nEpoch: 0003 cost= 34.827606007\nEpoch: 0003 cost= 35.356023809\nEpoch: 0003 cost= 35.968306191\nEpoch: 0003 cost= 36.528234114\nEpoch: 0003 cost= 37.392832281\nEpoch: 0003 cost= 37.727322277\nEpoch: 0003 cost= 38.255076349\nEpoch: 0003 cost= 38.778900590\nEpoch: 0003 cost= 39.800888894\nEpoch: 0003 cost= 40.100686479\nEpoch: 0003 cost= 40.570996427\nEpoch: 0003 cost= 40.991134200\n"
     ]
    },
    {
     "name": "stdout",
     "output_type": "stream",
     "text": [
      "Epoch: 0003 cost= 41.182090870\nEpoch: 0003 cost= 41.582505077\nEpoch: 0003 cost= 42.115996898\nEpoch: 0003 cost= 42.806179005\nEpoch: 0003 cost= 43.274555969\nEpoch: 0003 cost= 43.839404769\nEpoch: 0003 cost= 44.090917525\nEpoch: 0003 cost= 44.597826039\nEpoch: 0003 cost= 45.038701727\nEpoch: 0003 cost= 45.347373851\nEpoch: 0003 cost= 45.376161014\nEpoch: 0003 cost= 45.814403035\nEpoch: 0003 cost= 46.384951186\nEpoch: 0003 cost= 46.922425107\n"
     ]
    },
    {
     "name": "stdout",
     "output_type": "stream",
     "text": [
      "Epoch: 0003 cost= 47.597737330\nEpoch: 0003 cost= 47.817469593\nEpoch: 0003 cost= 48.465498435\nEpoch: 0003 cost= 50.024260420\nEpoch: 0003 cost= 50.548121227\nEpoch: 0003 cost= 50.568911733\nEpoch: 0003 cost= 51.219648594\nEpoch: 0003 cost= 52.016251654\nEpoch: 0003 cost= 52.797451938\nEpoch: 0003 cost= 53.795583375\nEpoch: 0003 cost= 54.520093040\nEpoch: 0003 cost= 54.840722230\n"
     ]
    },
    {
     "name": "stdout",
     "output_type": "stream",
     "text": [
      "Epoch: 0003 cost= 55.201993453\nEpoch: 0003 cost= 55.561334357\nEpoch: 0003 cost= 55.775314986\nEpoch: 0003 cost= 56.855622382\nEpoch: 0003 cost= 57.422692361\nEpoch: 0003 cost= 58.877140825\nEpoch: 0003 cost= 60.098072555\nEpoch: 0003 cost= 60.193321987\nEpoch: 0003 cost= 60.791899092\nEpoch: 0003 cost= 61.707610373\nEpoch: 0003 cost= 61.899319996\nEpoch: 0003 cost= 62.076661387\nEpoch: 0003 cost= 62.931920842\n"
     ]
    },
    {
     "name": "stdout",
     "output_type": "stream",
     "text": [
      "Epoch: 0003 cost= 63.213444751\nEpoch: 0003 cost= 63.776299144\nEpoch: 0003 cost= 64.425223982\nEpoch: 0003 cost= 64.813086947\nEpoch: 0003 cost= 65.242158103\nEpoch: 0003 cost= 65.433093217\nEpoch: 0003 cost= 65.758661260\nEpoch: 0003 cost= 66.187460976\nEpoch: 0003 cost= 66.726430036\nEpoch: 0003 cost= 67.376311850\nEpoch: 0003 cost= 68.060814968\nEpoch: 0003 cost= 68.552523065\nEpoch: 0003 cost= 68.848776644\n"
     ]
    },
    {
     "name": "stdout",
     "output_type": "stream",
     "text": [
      "Epoch: 0003 cost= 69.117775112\nEpoch: 0003 cost= 69.823353115\nEpoch: 0003 cost= 69.929530671\nEpoch: 0003 cost= 70.255990271\nEpoch: 0003 cost= 70.478605891\nEpoch: 0003 cost= 70.765010698\nEpoch: 0003 cost= 71.216208070\nEpoch: 0003 cost= 71.671471187\nEpoch: 0003 cost= 72.534585089\nEpoch: 0003 cost= 72.665342064\nEpoch: 0003 cost= 73.268049972\nEpoch: 0003 cost= 73.311215189\nEpoch: 0003 cost= 74.090851697\n"
     ]
    },
    {
     "name": "stdout",
     "output_type": "stream",
     "text": [
      "Epoch: 0003 cost= 74.199811297\nEpoch: 0003 cost= 74.583290939\nEpoch: 0003 cost= 74.947294873\nEpoch: 0003 cost= 75.343528644\nEpoch: 0003 cost= 75.860657716\nEpoch: 0003 cost= 76.329911645\nEpoch: 0003 cost= 76.427345179\nEpoch: 0003 cost= 76.869868622\nEpoch: 0003 cost= 77.071820901\nEpoch: 0003 cost= 77.579124035\nEpoch: 0003 cost= 77.839173140\nEpoch: 0003 cost= 78.114596280\nEpoch: 0003 cost= 78.475949041\n"
     ]
    },
    {
     "name": "stdout",
     "output_type": "stream",
     "text": [
      "Epoch: 0003 cost= 79.132793524\nEpoch: 0003 cost= 79.539192449\nEpoch: 0003 cost= 79.896868147\nEpoch: 0003 cost= 80.512292564\nEpoch: 0003 cost= 80.668980186\nEpoch: 0003 cost= 81.013862443\nEpoch: 0003 cost= 81.689139987\nEpoch: 0003 cost= 82.291609469\nEpoch: 0003 cost= 82.760084312\nEpoch: 0003 cost= 83.610701377\nEpoch: 0003 cost= 83.911500300\nEpoch: 0003 cost= 84.499597057\nEpoch: 0003 cost= 85.141645841\n"
     ]
    },
    {
     "name": "stdout",
     "output_type": "stream",
     "text": [
      "Epoch: 0003 cost= 86.046661876\nEpoch: 0003 cost= 86.521432495\nEpoch: 0003 cost= 86.717037145\nEpoch: 0003 cost= 86.848385357\nEpoch: 0003 cost= 87.479675862\nEpoch: 0003 cost= 87.946297732\nEpoch: 0003 cost= 88.326046989\nEpoch: 0003 cost= 88.527723555\nEpoch: 0003 cost= 89.244690163\nEpoch: 0003 cost= 89.521888788\nEpoch: 0003 cost= 89.579794454\nEpoch: 0003 cost= 89.934145733\nEpoch: 0003 cost= 90.175238734\n"
     ]
    },
    {
     "name": "stdout",
     "output_type": "stream",
     "text": [
      "Epoch: 0003 cost= 90.262092622\nEpoch: 0003 cost= 90.777124637\nEpoch: 0003 cost= 91.263163400\nEpoch: 0003 cost= 92.011907630\nEpoch: 0003 cost= 93.041004087\nEpoch: 0003 cost= 93.181527367\nEpoch: 0003 cost= 93.905149526\nEpoch: 0003 cost= 95.213230580\nEpoch: 0003 cost= 95.370795000\nEpoch: 0003 cost= 95.459037063\nEpoch: 0003 cost= 96.126881246\nEpoch: 0003 cost= 97.242358763\nEpoch: 0003 cost= 97.557872040\n"
     ]
    },
    {
     "name": "stdout",
     "output_type": "stream",
     "text": [
      "Epoch: 0003 cost= 98.048602520\nEpoch: 0003 cost= 98.284127506\nEpoch: 0003 cost= 99.041123799\nEpoch: 0003 cost= 99.381929131\nEpoch: 0003 cost= 99.574477917\nEpoch: 0003 cost= 99.659809622\nEpoch: 0003 cost= 99.919562485\nEpoch: 0003 cost= 100.137601412\nEpoch: 0003 cost= 100.794933288\nEpoch: 0003 cost= 100.971564536\nEpoch: 0003 cost= 101.331404818\nEpoch: 0003 cost= 102.101086048\nEpoch: 0003 cost= 102.297656260\n"
     ]
    },
    {
     "name": "stdout",
     "output_type": "stream",
     "text": [
      "Epoch: 0003 cost= 103.249675303\nEpoch: 0003 cost= 103.726418135\nEpoch: 0003 cost= 104.511831065\nEpoch: 0003 cost= 104.930371049\nEpoch: 0003 cost= 105.411765425\nEpoch: 0003 cost= 106.159410522\nEpoch: 0003 cost= 106.408160633\nEpoch: 0003 cost= 107.005512484\nEpoch: 0003 cost= 107.067206660\nEpoch: 0003 cost= 107.740846519\nEpoch: 0003 cost= 107.998600759\nEpoch: 0003 cost= 108.174305937\nEpoch: 0003 cost= 109.168072361\n"
     ]
    },
    {
     "name": "stdout",
     "output_type": "stream",
     "text": [
      "Epoch: 0003 cost= 110.542624917\nEpoch: 0003 cost= 110.999065403\nEpoch: 0003 cost= 111.417543352\nEpoch: 0003 cost= 111.808774459\nEpoch: 0003 cost= 111.992247151\nEpoch: 0003 cost= 112.385865510\nEpoch: 0003 cost= 112.670077490\nEpoch: 0003 cost= 112.878208968\nEpoch: 0003 cost= 113.344274864\nEpoch: 0003 cost= 113.680005843\nEpoch: 0003 cost= 114.728239153\nEpoch: 0003 cost= 114.946222940\nEpoch: 0003 cost= 115.807502181\nEpoch: 0003 cost= 115.961962478\n"
     ]
    },
    {
     "name": "stdout",
     "output_type": "stream",
     "text": [
      "Epoch: 0003 cost= 116.619465086\nEpoch: 0003 cost= 117.135092971\nEpoch: 0003 cost= 118.042824239\nEpoch: 0003 cost= 118.888165592\nEpoch: 0003 cost= 119.697558348\nEpoch: 0003 cost= 120.670863901\nEpoch: 0003 cost= 121.429279761\nEpoch: 0003 cost= 121.711138365\nEpoch: 0003 cost= 122.060555618\nEpoch: 0003 cost= 122.514561022\nEpoch: 0003 cost= 123.608311799\nEpoch: 0003 cost= 123.809454654\nEpoch: 0003 cost= 124.305834604\n"
     ]
    },
    {
     "name": "stdout",
     "output_type": "stream",
     "text": [
      "Epoch: 0003 cost= 125.131205420\nEpoch: 0003 cost= 125.436196126\nEpoch: 0003 cost= 125.586698293\nEpoch: 0003 cost= 125.719444681\nEpoch: 0003 cost= 126.572258734\nEpoch: 0003 cost= 127.171373503\nEpoch: 0003 cost= 127.550236029\nEpoch: 0003 cost= 128.314745639\nEpoch: 0003 cost= 129.002259289\nEpoch: 0003 cost= 129.312983582\nEpoch: 0003 cost= 130.087622809\nEpoch: 0003 cost= 130.434223095\nEpoch: 0003 cost= 130.816816091\nEpoch: 0003 cost= 130.866464878\n"
     ]
    },
    {
     "name": "stdout",
     "output_type": "stream",
     "text": [
      "Epoch: 0003 cost= 131.251357484\nEpoch: 0003 cost= 131.568853018\nEpoch: 0003 cost= 132.601209086\nEpoch: 0003 cost= 132.886941924\nEpoch: 0003 cost= 133.160718280\nEpoch: 0003 cost= 133.563787821\nEpoch: 0003 cost= 133.684400045\nEpoch: 0003 cost= 134.054133682\nEpoch: 0003 cost= 134.209970918\nEpoch: 0003 cost= 134.640204516\nEpoch: 0003 cost= 135.205977221\nEpoch: 0003 cost= 135.653955265\n"
     ]
    },
    {
     "name": "stdout",
     "output_type": "stream",
     "text": [
      "Epoch: 0003 cost= 135.748752053\nEpoch: 0003 cost= 136.969136907\nEpoch: 0003 cost= 137.385286255\nEpoch: 0003 cost= 137.629131081\nEpoch: 0003 cost= 137.736987346\nEpoch: 0003 cost= 137.933409979\nEpoch: 0003 cost= 138.390766934\nEpoch: 0003 cost= 138.496138951\nEpoch: 0003 cost= 138.838654265\nEpoch: 0003 cost= 139.392704170\nEpoch: 0003 cost= 139.994949320\nEpoch: 0003 cost= 140.380252803\nEpoch: 0003 cost= 140.806742422\n"
     ]
    },
    {
     "name": "stdout",
     "output_type": "stream",
     "text": [
      "Epoch: 0003 cost= 141.313310859\nEpoch: 0003 cost= 141.855761365\nEpoch: 0003 cost= 142.151557569\nEpoch: 0003 cost= 142.295227058\nEpoch: 0003 cost= 142.910326767\nEpoch: 0003 cost= 143.178982301\nEpoch: 0003 cost= 143.400085206\nEpoch: 0003 cost= 143.640258962\nEpoch: 0003 cost= 144.149078376\nEpoch: 0003 cost= 144.544732146\nEpoch: 0003 cost= 144.736169413\nEpoch: 0003 cost= 145.663408404\nEpoch: 0003 cost= 146.087196940\n"
     ]
    },
    {
     "name": "stdout",
     "output_type": "stream",
     "text": [
      "Epoch: 0003 cost= 146.716459746\nEpoch: 0003 cost= 146.865993618\nEpoch: 0003 cost= 147.372877218\nEpoch: 0003 cost= 147.849053698\nEpoch: 0003 cost= 148.177420592\nEpoch: 0003 cost= 148.307128497\nEpoch: 0003 cost= 148.425930321\nEpoch: 0003 cost= 148.890436741\nEpoch: 0003 cost= 149.281625456\nEpoch: 0003 cost= 149.827489492\nEpoch: 0003 cost= 150.040373126\nEpoch: 0003 cost= 150.473836344\nEpoch: 0003 cost= 151.111715206\n"
     ]
    },
    {
     "name": "stdout",
     "output_type": "stream",
     "text": [
      "Epoch: 0003 cost= 151.583929894\nEpoch: 0003 cost= 151.583929894\nEpoch: 0003 cost= 151.942789369\nEpoch: 0003 cost= 152.207750723\nEpoch: 0003 cost= 153.163003186\nEpoch: 0003 cost= 154.488552614\nEpoch: 0003 cost= 154.724106119\nEpoch: 0003 cost= 155.510343135\nEpoch: 0003 cost= 155.915522829\nEpoch: 0003 cost= 156.159950513\nEpoch: 0003 cost= 156.965790024\nEpoch: 0003 cost= 157.646061852\nEpoch: 0003 cost= 158.289280957\nEpoch: 0003 cost= 158.844328343\n"
     ]
    },
    {
     "name": "stdout",
     "output_type": "stream",
     "text": [
      "Epoch: 0003 cost= 159.850041344\nEpoch: 0003 cost= 160.097046932\nEpoch: 0003 cost= 160.821189332\nEpoch: 0003 cost= 161.354805776\nEpoch: 0003 cost= 162.016683995\nEpoch: 0003 cost= 162.481992083\nEpoch: 0003 cost= 163.403493548\nEpoch: 0003 cost= 164.102116706\nEpoch: 0003 cost= 164.738788293\nEpoch: 0003 cost= 165.082237112\nEpoch: 0003 cost= 165.327404681\nEpoch: 0003 cost= 166.120198149\n"
     ]
    },
    {
     "name": "stdout",
     "output_type": "stream",
     "text": [
      "Epoch: 0003 cost= 166.364943106\nEpoch: 0003 cost= 166.877855981\nEpoch: 0003 cost= 167.246626788\nEpoch: 0003 cost= 167.910661933\nEpoch: 0003 cost= 168.801814832\nEpoch: 0003 cost= 169.519175061\nEpoch: 0003 cost= 170.109159747\nEpoch: 0003 cost= 170.499940220\nEpoch: 0003 cost= 171.387524671\nEpoch: 0003 cost= 172.260196235\nEpoch: 0003 cost= 172.494986635\nEpoch: 0003 cost= 173.032198493\nEpoch: 0003 cost= 173.815100992\n"
     ]
    },
    {
     "name": "stdout",
     "output_type": "stream",
     "text": [
      "Epoch: 0003 cost= 173.890383120\nEpoch: 0003 cost= 174.135240243\nEpoch: 0003 cost= 175.341268186\nEpoch: 0003 cost= 176.790521337\nEpoch: 0003 cost= 177.480493761\nEpoch: 0003 cost= 177.768866480\nEpoch: 0003 cost= 178.329984034\nEpoch: 0003 cost= 178.704817047\nEpoch: 0003 cost= 179.352670219\nEpoch: 0003 cost= 179.411401111\nEpoch: 0003 cost= 179.490853473\nEpoch: 0003 cost= 180.001672731\nEpoch: 0003 cost= 180.020920974\n"
     ]
    },
    {
     "name": "stdout",
     "output_type": "stream",
     "text": [
      "Epoch: 0003 cost= 180.587233840\nEpoch: 0003 cost= 181.095352514\nEpoch: 0003 cost= 181.679266422\nEpoch: 0003 cost= 182.342584182\nEpoch: 0003 cost= 182.470576638\nEpoch: 0003 cost= 182.920978777\nEpoch: 0003 cost= 183.734713629\nEpoch: 0003 cost= 184.266376116\nEpoch: 0003 cost= 184.846142684\nEpoch: 0003 cost= 185.156527483\nEpoch: 0003 cost= 185.913713651\nEpoch: 0003 cost= 186.000354248\nEpoch: 0003 cost= 186.370397084\nEpoch: 0003 cost= 186.566783054\n"
     ]
    },
    {
     "name": "stdout",
     "output_type": "stream",
     "text": [
      "Epoch: 0003 cost= 187.416781056\nEpoch: 0003 cost= 188.088904414\nEpoch: 0003 cost= 188.429782515\nEpoch: 0003 cost= 188.856367959\nEpoch: 0003 cost= 189.455237477\nEpoch: 0003 cost= 189.715634039\nEpoch: 0003 cost= 189.870640073\nEpoch: 0003 cost= 190.547787512\nEpoch: 0003 cost= 190.904053770\nEpoch: 0003 cost= 191.515362086\nEpoch: 0003 cost= 191.811651343\nEpoch: 0003 cost= 192.222044270\n"
     ]
    },
    {
     "name": "stdout",
     "output_type": "stream",
     "text": [
      "Epoch: 0003 cost= 192.908585020\nEpoch: 0003 cost= 193.201971361\nEpoch: 0003 cost= 193.981986564\nEpoch: 0003 cost= 194.451464492\nEpoch: 0003 cost= 194.504860932\nEpoch: 0003 cost= 194.692044645\nEpoch: 0003 cost= 195.288418935\nEpoch: 0003 cost= 195.786943659\nEpoch: 0003 cost= 196.481199474\nEpoch: 0003 cost= 196.991431907\nEpoch: 0003 cost= 197.230685531\nEpoch: 0003 cost= 197.888812140\nEpoch: 0003 cost= 198.159804072\nEpoch: 0003 cost= 199.112417042\n"
     ]
    },
    {
     "name": "stdout",
     "output_type": "stream",
     "text": [
      "Epoch: 0003 cost= 200.013732517\nEpoch: 0003 cost= 200.963936374\nEpoch: 0003 cost= 201.902788802\nEpoch: 0003 cost= 202.015808183\nEpoch: 0003 cost= 202.380402827\nEpoch: 0003 cost= 202.908725636\nEpoch: 0003 cost= 203.049975928\nEpoch: 0003 cost= 203.234959684\nEpoch: 0003 cost= 203.746568238\nEpoch: 0003 cost= 204.065470326\nEpoch: 0003 cost= 204.867868176\nEpoch: 0003 cost= 204.941870584\nEpoch: 0003 cost= 205.228170022\n"
     ]
    },
    {
     "name": "stdout",
     "output_type": "stream",
     "text": [
      "Epoch: 0003 cost= 205.509053645\nEpoch: 0003 cost= 205.906843146\nEpoch: 0003 cost= 206.369302835\nEpoch: 0003 cost= 206.460006043\nEpoch: 0003 cost= 206.771229132\nEpoch: 0003 cost= 207.162315641\nEpoch: 0003 cost= 207.523561313\nEpoch: 0003 cost= 207.798137341\nEpoch: 0003 cost= 207.875091728\nEpoch: 0003 cost= 208.800582340\nEpoch: 0003 cost= 209.322084803\nEpoch: 0003 cost= 210.050304963\nEpoch: 0003 cost= 210.481809257\nEpoch: 0003 cost= 210.849457129\n"
     ]
    },
    {
     "name": "stdout",
     "output_type": "stream",
     "text": [
      "Epoch: 0003 cost= 210.880963591\nEpoch: 0003 cost= 211.438045278\nEpoch: 0003 cost= 211.787275902\nEpoch: 0003 cost= 212.291312934\nEpoch: 0003 cost= 212.356021748\nEpoch: 0003 cost= 212.558645996\nEpoch: 0003 cost= 213.262156793\nEpoch: 0003 cost= 214.288084750\nEpoch: 0003 cost= 214.398277441\nEpoch: 0003 cost= 215.142912672\nEpoch: 0003 cost= 215.705518152\nEpoch: 0003 cost= 215.808946684\nEpoch: 0003 cost= 216.085755627\n"
     ]
    },
    {
     "name": "stdout",
     "output_type": "stream",
     "text": [
      "Epoch: 0003 cost= 216.943840122\nEpoch: 0003 cost= 217.195582288\nEpoch: 0003 cost= 217.490880472\nEpoch: 0003 cost= 217.743738721\nEpoch: 0003 cost= 218.207511969\nEpoch: 0003 cost= 218.676126749\nEpoch: 0003 cost= 219.806309521\nEpoch: 0003 cost= 219.975463727\nEpoch: 0003 cost= 220.189089187\nEpoch: 0003 cost= 220.580743379\nEpoch: 0003 cost= 220.768529869\nEpoch: 0003 cost= 220.955547844\n"
     ]
    },
    {
     "name": "stdout",
     "output_type": "stream",
     "text": [
      "Epoch: 0003 cost= 221.661985000\nEpoch: 0003 cost= 222.025083145\nEpoch: 0003 cost= 222.512906076\nEpoch: 0003 cost= 222.924178992\nEpoch: 0003 cost= 223.169875403\nEpoch: 0003 cost= 224.264700288\nEpoch: 0003 cost= 224.819968454\nEpoch: 0003 cost= 225.087360172\nEpoch: 0003 cost= 225.397938647\nEpoch: 0003 cost= 225.674839060\nEpoch: 0003 cost= 226.314856760\nEpoch: 0003 cost= 226.860475212\nEpoch: 0003 cost= 227.136732315\n"
     ]
    },
    {
     "name": "stdout",
     "output_type": "stream",
     "text": [
      "Epoch: 0003 cost= 227.420791707\nEpoch: 0003 cost= 228.184106416\nEpoch: 0003 cost= 228.613236165\nEpoch: 0003 cost= 229.298185784\nEpoch: 0003 cost= 229.505172756\nEpoch: 0003 cost= 230.263413500\nEpoch: 0003 cost= 230.570177555\nEpoch: 0003 cost= 231.098997191\nEpoch: 0003 cost= 232.505393342\nEpoch: 0003 cost= 233.342350851\nEpoch: 0003 cost= 233.893159844\nEpoch: 0003 cost= 234.183279556\nEpoch: 0003 cost= 234.665259093\n"
     ]
    },
    {
     "name": "stdout",
     "output_type": "stream",
     "text": [
      "Epoch: 0003 cost= 235.125075876\nEpoch: 0003 cost= 235.339511245\nEpoch: 0003 cost= 235.820786159\nEpoch: 0003 cost= 236.746405166\nEpoch: 0003 cost= 237.221793072\nEpoch: 0003 cost= 237.768725667\nEpoch: 0003 cost= 237.858256564\nEpoch: 0003 cost= 238.219911504\nEpoch: 0003 cost= 238.669111944\nEpoch: 0003 cost= 238.968937855\nEpoch: 0003 cost= 239.346979042\nEpoch: 0003 cost= 239.757940180\nEpoch: 0003 cost= 240.297937183\n"
     ]
    },
    {
     "name": "stdout",
     "output_type": "stream",
     "text": [
      "Epoch: 0003 cost= 240.722846075\nEpoch: 0003 cost= 241.239303317\nEpoch: 0003 cost= 241.492074174\nEpoch: 0003 cost= 241.642108617\nEpoch: 0003 cost= 241.817637556\nEpoch: 0003 cost= 242.467522366\nEpoch: 0003 cost= 242.590357019\nEpoch: 0003 cost= 242.648776562\nEpoch: 0003 cost= 243.245856696\nEpoch: 0003 cost= 243.657211538\nEpoch: 0003 cost= 244.159526879\nEpoch: 0003 cost= 244.348721770\n"
     ]
    },
    {
     "name": "stdout",
     "output_type": "stream",
     "text": [
      "Epoch: 0003 cost= 244.719337004\nEpoch: 0003 cost= 244.874938172\nEpoch: 0003 cost= 245.473153172\nEpoch: 0003 cost= 246.140813139\nEpoch: 0003 cost= 246.831428152\nEpoch: 0003 cost= 246.985244416\nEpoch: 0003 cost= 247.264536825\nEpoch: 0003 cost= 247.623139092\nEpoch: 0003 cost= 247.983173050\nEpoch: 0003 cost= 248.765450438\nEpoch: 0003 cost= 249.272666402\nEpoch: 0003 cost= 249.368156764\nEpoch: 0003 cost= 249.761909261\n"
     ]
    },
    {
     "name": "stdout",
     "output_type": "stream",
     "text": [
      "Epoch: 0003 cost= 249.786170786\nEpoch: 0003 cost= 250.033137478\nEpoch: 0003 cost= 250.383195350\nEpoch: 0003 cost= 250.822799315\nEpoch: 0003 cost= 250.936243508\nEpoch: 0003 cost= 251.295670000\nEpoch: 0003 cost= 251.537478055\nEpoch: 0003 cost= 251.913784374\nEpoch: 0003 cost= 252.082488792\nEpoch: 0003 cost= 253.174594172\nEpoch: 0003 cost= 253.693847989\nEpoch: 0003 cost= 254.359756359\nEpoch: 0003 cost= 254.400978775\n"
     ]
    },
    {
     "name": "stdout",
     "output_type": "stream",
     "text": [
      "Epoch: 0003 cost= 254.574526541\nEpoch: 0003 cost= 255.294696940\nEpoch: 0003 cost= 255.501166361\nEpoch: 0003 cost= 255.576402546\nEpoch: 0003 cost= 256.334377622\nEpoch: 0003 cost= 256.653958227\nEpoch: 0003 cost= 257.115663632\nEpoch: 0003 cost= 258.539700609\nEpoch: 0003 cost= 259.177487529\nEpoch: 0003 cost= 259.773536113\nEpoch: 0003 cost= 260.180761511\nEpoch: 0003 cost= 260.382993441\nEpoch: 0003 cost= 260.465437601\n"
     ]
    },
    {
     "name": "stdout",
     "output_type": "stream",
     "text": [
      "Epoch: 0004 cost= 0.367006808\nEpoch: 0004 cost= 0.627811473\nEpoch: 0004 cost= 0.736685756\nEpoch: 0004 cost= 1.218563642\nEpoch: 0004 cost= 1.326717633\nEpoch: 0004 cost= 1.530898528\nEpoch: 0004 cost= 1.643060483\nEpoch: 0004 cost= 2.130630230\nEpoch: 0004 cost= 2.466268047\nEpoch: 0004 cost= 2.853618733\nEpoch: 0004 cost= 3.028529108\nEpoch: 0004 cost= 3.502352350\nEpoch: 0004 cost= 3.841324296\nEpoch: 0004 cost= 3.843323946\n"
     ]
    },
    {
     "name": "stdout",
     "output_type": "stream",
     "text": [
      "Epoch: 0004 cost= 4.050496867\nEpoch: 0004 cost= 4.196587232\nEpoch: 0004 cost= 4.347327256\nEpoch: 0004 cost= 4.563903752\nEpoch: 0004 cost= 4.711520177\nEpoch: 0004 cost= 4.943329758\nEpoch: 0004 cost= 5.454811747\nEpoch: 0004 cost= 6.153070359\nEpoch: 0004 cost= 6.203347472\nEpoch: 0004 cost= 6.336119606\nEpoch: 0004 cost= 6.429459470\nEpoch: 0004 cost= 6.555186524\nEpoch: 0004 cost= 6.678811929\n"
     ]
    },
    {
     "name": "stdout",
     "output_type": "stream",
     "text": [
      "Epoch: 0004 cost= 7.233071239\nEpoch: 0004 cost= 7.571422264\nEpoch: 0004 cost= 7.773834512\nEpoch: 0004 cost= 7.920981673\nEpoch: 0004 cost= 8.122327124\nEpoch: 0004 cost= 8.200700128\nEpoch: 0004 cost= 8.323512350\nEpoch: 0004 cost= 8.612996714\nEpoch: 0004 cost= 8.952516839\nEpoch: 0004 cost= 8.970530351\nEpoch: 0004 cost= 9.187972284\nEpoch: 0004 cost= 9.390213232\nEpoch: 0004 cost= 9.676838875\n"
     ]
    },
    {
     "name": "stdout",
     "output_type": "stream",
     "text": [
      "Epoch: 0004 cost= 10.379683336\nEpoch: 0004 cost= 10.603414304\nEpoch: 0004 cost= 10.698363825\nEpoch: 0004 cost= 10.831487368\nEpoch: 0004 cost= 11.209803131\nEpoch: 0004 cost= 11.414006706\nEpoch: 0004 cost= 11.914258947\nEpoch: 0004 cost= 12.261666257\nEpoch: 0004 cost= 12.363071910\nEpoch: 0004 cost= 12.765420127\nEpoch: 0004 cost= 12.882254428\nEpoch: 0004 cost= 13.348434404\nEpoch: 0004 cost= 13.751935408\n"
     ]
    },
    {
     "name": "stdout",
     "output_type": "stream",
     "text": [
      "Epoch: 0004 cost= 14.042549228\nEpoch: 0004 cost= 14.596997858\nEpoch: 0004 cost= 14.691011121\nEpoch: 0004 cost= 14.900537724\nEpoch: 0004 cost= 14.942110128\nEpoch: 0004 cost= 15.098829253\nEpoch: 0004 cost= 15.909794330\nEpoch: 0004 cost= 16.382088752\nEpoch: 0004 cost= 16.574395603\nEpoch: 0004 cost= 16.578254765\nEpoch: 0004 cost= 16.780122094\nEpoch: 0004 cost= 17.252115780\nEpoch: 0004 cost= 17.364367644\n"
     ]
    },
    {
     "name": "stdout",
     "output_type": "stream",
     "text": [
      "Epoch: 0004 cost= 17.857567940\nEpoch: 0004 cost= 17.857567940\nEpoch: 0004 cost= 18.069275287\nEpoch: 0004 cost= 18.344294014\nEpoch: 0004 cost= 18.439427882\nEpoch: 0004 cost= 18.682696592\nEpoch: 0004 cost= 18.802188655\nEpoch: 0004 cost= 19.110005205\nEpoch: 0004 cost= 19.257649012\nEpoch: 0004 cost= 19.461997809\nEpoch: 0004 cost= 19.670210380\nEpoch: 0004 cost= 19.859865684\nEpoch: 0004 cost= 20.112619230\n"
     ]
    },
    {
     "name": "stdout",
     "output_type": "stream",
     "text": [
      "Epoch: 0004 cost= 20.115750462\nEpoch: 0004 cost= 20.212854892\nEpoch: 0004 cost= 20.292337799\nEpoch: 0004 cost= 20.738405804\nEpoch: 0004 cost= 21.052665946\nEpoch: 0004 cost= 21.320721339\nEpoch: 0004 cost= 21.369423912\nEpoch: 0004 cost= 21.563362510\nEpoch: 0004 cost= 21.874031178\nEpoch: 0004 cost= 22.161785750\nEpoch: 0004 cost= 22.455935863\nEpoch: 0004 cost= 22.814048046\nEpoch: 0004 cost= 23.309528892\n"
     ]
    },
    {
     "name": "stdout",
     "output_type": "stream",
     "text": [
      "Epoch: 0004 cost= 23.699780607\nEpoch: 0004 cost= 24.215817871\nEpoch: 0004 cost= 24.470990629\nEpoch: 0004 cost= 24.825588240\nEpoch: 0004 cost= 25.221595709\nEpoch: 0004 cost= 25.502983510\nEpoch: 0004 cost= 25.698450609\nEpoch: 0004 cost= 25.925649040\nEpoch: 0004 cost= 26.375804568\nEpoch: 0004 cost= 26.521680631\nEpoch: 0004 cost= 26.686185067\nEpoch: 0004 cost= 26.894503174\nEpoch: 0004 cost= 27.518413308\n"
     ]
    },
    {
     "name": "stdout",
     "output_type": "stream",
     "text": [
      "Epoch: 0004 cost= 27.666491256\nEpoch: 0004 cost= 27.746362666\nEpoch: 0004 cost= 27.846566676\nEpoch: 0004 cost= 28.198240898\nEpoch: 0004 cost= 28.308890048\nEpoch: 0004 cost= 28.310333434\nEpoch: 0004 cost= 28.390052471\nEpoch: 0004 cost= 29.290623705\nEpoch: 0004 cost= 29.297884616\nEpoch: 0004 cost= 29.519358323\nEpoch: 0004 cost= 29.554542011\nEpoch: 0004 cost= 29.981530676\nEpoch: 0004 cost= 30.248280193\n"
     ]
    },
    {
     "name": "stdout",
     "output_type": "stream",
     "text": [
      "Epoch: 0004 cost= 30.766033877\nEpoch: 0004 cost= 31.211913200\nEpoch: 0004 cost= 31.337166232\nEpoch: 0004 cost= 31.399280295\nEpoch: 0004 cost= 31.471793161\nEpoch: 0004 cost= 31.471793161\nEpoch: 0004 cost= 31.785852526\nEpoch: 0004 cost= 31.992047248\nEpoch: 0004 cost= 32.661678207\nEpoch: 0004 cost= 32.933083902\nEpoch: 0004 cost= 33.094926013\nEpoch: 0004 cost= 33.517692598\nEpoch: 0004 cost= 34.105942942\n"
     ]
    },
    {
     "name": "stdout",
     "output_type": "stream",
     "text": [
      "Epoch: 0004 cost= 34.163468420\nEpoch: 0004 cost= 34.198352405\nEpoch: 0004 cost= 34.550043772\nEpoch: 0004 cost= 34.817039289\nEpoch: 0004 cost= 34.990730085\nEpoch: 0004 cost= 35.038718398\nEpoch: 0004 cost= 35.729588925\nEpoch: 0004 cost= 36.293611253\nEpoch: 0004 cost= 36.698641077\nEpoch: 0004 cost= 36.919687788\nEpoch: 0004 cost= 37.015160617\nEpoch: 0004 cost= 37.574744190\nEpoch: 0004 cost= 37.670849128\n"
     ]
    },
    {
     "name": "stdout",
     "output_type": "stream",
     "text": [
      "Epoch: 0004 cost= 38.362270692\nEpoch: 0004 cost= 38.457120123\nEpoch: 0004 cost= 39.060024175\nEpoch: 0004 cost= 39.191944813\nEpoch: 0004 cost= 39.399597401\nEpoch: 0004 cost= 39.462563737\nEpoch: 0004 cost= 39.501933615\nEpoch: 0004 cost= 39.762256796\nEpoch: 0004 cost= 40.137405084\nEpoch: 0004 cost= 40.188930457\nEpoch: 0004 cost= 40.332909810\nEpoch: 0004 cost= 40.626249571\nEpoch: 0004 cost= 41.041881312\n"
     ]
    },
    {
     "name": "stdout",
     "output_type": "stream",
     "text": [
      "Epoch: 0004 cost= 41.671159433\nEpoch: 0004 cost= 41.960858141\nEpoch: 0004 cost= 42.069516137\nEpoch: 0004 cost= 42.615810249\nEpoch: 0004 cost= 42.692744217\nEpoch: 0004 cost= 43.018713955\nEpoch: 0004 cost= 43.516161964\nEpoch: 0004 cost= 44.269033557\nEpoch: 0004 cost= 44.961861094\nEpoch: 0004 cost= 45.594285411\nEpoch: 0004 cost= 45.614609523\nEpoch: 0004 cost= 45.689018633\n"
     ]
    },
    {
     "name": "stdout",
     "output_type": "stream",
     "text": [
      "Epoch: 0004 cost= 45.747954111\nEpoch: 0004 cost= 45.848099208\nEpoch: 0004 cost= 46.156061383\nEpoch: 0004 cost= 46.675668760\nEpoch: 0004 cost= 47.093532891\nEpoch: 0004 cost= 47.515313175\nEpoch: 0004 cost= 47.773982470\nEpoch: 0004 cost= 48.071899368\nEpoch: 0004 cost= 48.181189168\nEpoch: 0004 cost= 48.228551492\nEpoch: 0004 cost= 48.825468829\nEpoch: 0004 cost= 48.878254764\n"
     ]
    },
    {
     "name": "stdout",
     "output_type": "stream",
     "text": [
      "Epoch: 0004 cost= 49.372026071\nEpoch: 0004 cost= 49.812354024\nEpoch: 0004 cost= 50.027567522\nEpoch: 0004 cost= 50.329678146\nEpoch: 0004 cost= 50.808842353\nEpoch: 0004 cost= 51.005325340\nEpoch: 0004 cost= 51.917849366\nEpoch: 0004 cost= 52.244075618\nEpoch: 0004 cost= 52.509405513\nEpoch: 0004 cost= 53.005006765\nEpoch: 0004 cost= 53.707423313\nEpoch: 0004 cost= 54.308925444\nEpoch: 0004 cost= 54.607593684\n"
     ]
    },
    {
     "name": "stdout",
     "output_type": "stream",
     "text": [
      "Epoch: 0004 cost= 55.161989214\nEpoch: 0004 cost= 55.471045389\nEpoch: 0004 cost= 55.635389400\nEpoch: 0004 cost= 55.762098883\nEpoch: 0004 cost= 55.925664099\nEpoch: 0004 cost= 55.968833981\nEpoch: 0004 cost= 56.267900698\nEpoch: 0004 cost= 56.633914825\nEpoch: 0004 cost= 56.775236111\nEpoch: 0004 cost= 56.996484918\nEpoch: 0004 cost= 57.033470271\nEpoch: 0004 cost= 57.100045428\nEpoch: 0004 cost= 57.599414325\nEpoch: 0004 cost= 57.675945080\n"
     ]
    },
    {
     "name": "stdout",
     "output_type": "stream",
     "text": [
      "Epoch: 0004 cost= 57.720900122\nEpoch: 0004 cost= 57.907128177\nEpoch: 0004 cost= 58.286676905\nEpoch: 0004 cost= 58.911655876\nEpoch: 0004 cost= 59.343784005\nEpoch: 0004 cost= 59.352304726\nEpoch: 0004 cost= 59.533571663\nEpoch: 0004 cost= 59.620003950\nEpoch: 0004 cost= 59.623475248\nEpoch: 0004 cost= 59.786219916\nEpoch: 0004 cost= 60.177763218\nEpoch: 0004 cost= 60.522127953\n"
     ]
    },
    {
     "name": "stdout",
     "output_type": "stream",
     "text": [
      "Epoch: 0004 cost= 60.664067012\nEpoch: 0004 cost= 61.118974904\nEpoch: 0004 cost= 61.404425427\nEpoch: 0004 cost= 61.701521263\nEpoch: 0004 cost= 62.031767013\nEpoch: 0004 cost= 62.378456688\nEpoch: 0004 cost= 62.543384639\nEpoch: 0004 cost= 63.188537893\nEpoch: 0004 cost= 63.663426476\nEpoch: 0004 cost= 63.976137130\nEpoch: 0004 cost= 64.271149587\nEpoch: 0004 cost= 64.316926159\nEpoch: 0004 cost= 64.706400091\n"
     ]
    },
    {
     "name": "stdout",
     "output_type": "stream",
     "text": [
      "Epoch: 0004 cost= 65.419540017\nEpoch: 0004 cost= 65.941820013\nEpoch: 0004 cost= 65.943585248\nEpoch: 0004 cost= 66.294332290\nEpoch: 0004 cost= 66.347294781\nEpoch: 0004 cost= 66.650613401\nEpoch: 0004 cost= 66.704205507\nEpoch: 0004 cost= 66.907849139\nEpoch: 0004 cost= 66.979051636\nEpoch: 0004 cost= 67.100001121\nEpoch: 0004 cost= 67.176012113\nEpoch: 0004 cost= 67.280908221\n"
     ]
    },
    {
     "name": "stdout",
     "output_type": "stream",
     "text": [
      "Epoch: 0004 cost= 67.546456262\nEpoch: 0004 cost= 67.629361986\nEpoch: 0004 cost= 67.846332228\nEpoch: 0004 cost= 68.564196164\nEpoch: 0004 cost= 69.012020927\nEpoch: 0004 cost= 69.107958704\nEpoch: 0004 cost= 69.112266348\nEpoch: 0004 cost= 69.571627920\nEpoch: 0004 cost= 70.003309911\nEpoch: 0004 cost= 70.259433595\nEpoch: 0004 cost= 70.508389783\nEpoch: 0004 cost= 71.154483256\nEpoch: 0004 cost= 71.432977297\n"
     ]
    },
    {
     "name": "stdout",
     "output_type": "stream",
     "text": [
      "Epoch: 0004 cost= 71.736667649\nEpoch: 0004 cost= 71.987851675\nEpoch: 0004 cost= 72.342611169\nEpoch: 0004 cost= 72.639282395\nEpoch: 0004 cost= 72.937346748\nEpoch: 0004 cost= 72.997535985\nEpoch: 0004 cost= 73.582490097\nEpoch: 0004 cost= 74.146824925\nEpoch: 0004 cost= 74.179910707\nEpoch: 0004 cost= 74.259953889\nEpoch: 0004 cost= 74.457603647\nEpoch: 0004 cost= 74.690324345\n"
     ]
    },
    {
     "name": "stdout",
     "output_type": "stream",
     "text": [
      "Epoch: 0004 cost= 75.060596478\nEpoch: 0004 cost= 75.690634431\nEpoch: 0004 cost= 75.867050391\nEpoch: 0004 cost= 76.210030294\nEpoch: 0004 cost= 76.371715239\nEpoch: 0004 cost= 76.595096378\nEpoch: 0004 cost= 77.121548072\nEpoch: 0004 cost= 77.256381127\nEpoch: 0004 cost= 77.648866506\nEpoch: 0004 cost= 77.724589252\nEpoch: 0004 cost= 78.205220633\nEpoch: 0004 cost= 78.291013355\nEpoch: 0004 cost= 78.362635489\n"
     ]
    },
    {
     "name": "stdout",
     "output_type": "stream",
     "text": [
      "Epoch: 0004 cost= 78.382071627\nEpoch: 0004 cost= 78.413685511\nEpoch: 0004 cost= 78.496425747\nEpoch: 0004 cost= 78.961345874\nEpoch: 0004 cost= 79.198058076\nEpoch: 0004 cost= 79.484412363\nEpoch: 0004 cost= 79.507657410\nEpoch: 0004 cost= 79.636999604\nEpoch: 0004 cost= 80.068013952\nEpoch: 0004 cost= 80.200558272\nEpoch: 0004 cost= 80.283527404\nEpoch: 0004 cost= 80.659656804\n"
     ]
    },
    {
     "name": "stdout",
     "output_type": "stream",
     "text": [
      "Epoch: 0004 cost= 80.796456259\nEpoch: 0004 cost= 81.471899430\nEpoch: 0004 cost= 82.043665121\nEpoch: 0004 cost= 82.045263985\nEpoch: 0004 cost= 82.527719984\nEpoch: 0004 cost= 82.837984322\nEpoch: 0004 cost= 83.074159526\nEpoch: 0004 cost= 83.082608714\nEpoch: 0004 cost= 83.276774335\nEpoch: 0004 cost= 83.446837091\nEpoch: 0004 cost= 84.084282825\nEpoch: 0004 cost= 84.244025645\nEpoch: 0004 cost= 84.808215986\n"
     ]
    },
    {
     "name": "stdout",
     "output_type": "stream",
     "text": [
      "Epoch: 0004 cost= 85.112842062\nEpoch: 0004 cost= 85.294308501\nEpoch: 0004 cost= 85.714531723\nEpoch: 0004 cost= 86.166228639\nEpoch: 0004 cost= 86.571101659\nEpoch: 0004 cost= 86.886049945\nEpoch: 0004 cost= 87.434965073\nEpoch: 0004 cost= 87.728840833\nEpoch: 0004 cost= 88.531780064\nEpoch: 0004 cost= 88.842708298\nEpoch: 0004 cost= 88.890587854\nEpoch: 0004 cost= 89.067510475\nEpoch: 0004 cost= 89.177562271\n"
     ]
    },
    {
     "name": "stdout",
     "output_type": "stream",
     "text": [
      "Epoch: 0004 cost= 89.649996686\nEpoch: 0004 cost= 89.829868027\nEpoch: 0004 cost= 90.019094573\nEpoch: 0004 cost= 90.133622619\nEpoch: 0004 cost= 90.179642450\nEpoch: 0004 cost= 90.411938718\nEpoch: 0004 cost= 90.662576369\nEpoch: 0004 cost= 90.872134183\nEpoch: 0004 cost= 90.904339085\nEpoch: 0004 cost= 91.075318685\nEpoch: 0004 cost= 91.075318685\nEpoch: 0004 cost= 91.273060800\n"
     ]
    },
    {
     "name": "stdout",
     "output_type": "stream",
     "text": [
      "Epoch: 0004 cost= 91.544835314\nEpoch: 0004 cost= 92.163844103\nEpoch: 0004 cost= 92.439603658\nEpoch: 0004 cost= 92.722509098\nEpoch: 0004 cost= 92.887322233\nEpoch: 0004 cost= 93.386194082\nEpoch: 0004 cost= 93.667592758\nEpoch: 0004 cost= 93.815758748\nEpoch: 0004 cost= 93.926137194\nEpoch: 0004 cost= 94.200277847\nEpoch: 0004 cost= 94.345314551\nEpoch: 0004 cost= 94.474163151\nEpoch: 0004 cost= 94.718806317\n"
     ]
    },
    {
     "name": "stdout",
     "output_type": "stream",
     "text": [
      "Epoch: 0004 cost= 94.899585681\nEpoch: 0004 cost= 95.481482709\nEpoch: 0004 cost= 95.541787815\nEpoch: 0004 cost= 95.899693810\nEpoch: 0004 cost= 96.085052433\nEpoch: 0004 cost= 96.117282609\nEpoch: 0004 cost= 96.179084741\nEpoch: 0004 cost= 96.492497245\nEpoch: 0004 cost= 96.844746113\nEpoch: 0004 cost= 97.303083265\nEpoch: 0004 cost= 97.632920413\nEpoch: 0004 cost= 98.718391826\nEpoch: 0004 cost= 98.855306901\n"
     ]
    },
    {
     "name": "stdout",
     "output_type": "stream",
     "text": [
      "Epoch: 0004 cost= 99.412650485\nEpoch: 0004 cost= 99.563775612\nEpoch: 0004 cost= 100.240620650\nEpoch: 0004 cost= 100.243150301\nEpoch: 0004 cost= 100.412449798\nEpoch: 0004 cost= 100.521754004\nEpoch: 0004 cost= 100.633004934\nEpoch: 0004 cost= 100.877799828\nEpoch: 0004 cost= 101.033734845\nEpoch: 0004 cost= 101.149278730\nEpoch: 0004 cost= 101.795792569\nEpoch: 0004 cost= 102.187583257\n"
     ]
    },
    {
     "name": "stdout",
     "output_type": "stream",
     "text": [
      "Epoch: 0004 cost= 102.301215126\nEpoch: 0004 cost= 102.759757496\nEpoch: 0004 cost= 103.078126664\nEpoch: 0004 cost= 103.428190585\nEpoch: 0004 cost= 103.615711142\nEpoch: 0004 cost= 103.830610171\nEpoch: 0004 cost= 104.083349262\nEpoch: 0004 cost= 104.691680395\nEpoch: 0004 cost= 105.304073528\nEpoch: 0004 cost= 105.509590898\nEpoch: 0004 cost= 105.597978813\nEpoch: 0004 cost= 105.741310528\nEpoch: 0004 cost= 105.817137187\n"
     ]
    },
    {
     "name": "stdout",
     "output_type": "stream",
     "text": [
      "Epoch: 0004 cost= 106.089757315\nEpoch: 0004 cost= 106.514380895\nEpoch: 0004 cost= 106.690512931\nEpoch: 0004 cost= 106.850794996\nEpoch: 0004 cost= 107.110523168\nEpoch: 0004 cost= 107.309616851\nEpoch: 0004 cost= 107.526188312\nEpoch: 0004 cost= 108.067752366\nEpoch: 0004 cost= 108.410828288\nEpoch: 0004 cost= 108.647097847\nEpoch: 0004 cost= 108.744294038\nEpoch: 0004 cost= 108.825828503\n"
     ]
    },
    {
     "name": "stdout",
     "output_type": "stream",
     "text": [
      "Epoch: 0004 cost= 108.947388909\nEpoch: 0004 cost= 109.264725140\nEpoch: 0004 cost= 109.378033093\nEpoch: 0004 cost= 109.841953215\nEpoch: 0004 cost= 109.939599609\nEpoch: 0004 cost= 110.028647641\nEpoch: 0004 cost= 110.093780670\nEpoch: 0004 cost= 110.329227558\nEpoch: 0004 cost= 110.637587849\nEpoch: 0004 cost= 110.958734644\nEpoch: 0004 cost= 111.255228535\nEpoch: 0004 cost= 111.379682894\nEpoch: 0004 cost= 111.381379547\n"
     ]
    },
    {
     "name": "stdout",
     "output_type": "stream",
     "text": [
      "Epoch: 0004 cost= 111.405100934\nEpoch: 0004 cost= 111.970458156\nEpoch: 0004 cost= 112.851008027\nEpoch: 0004 cost= 112.926615410\nEpoch: 0004 cost= 113.939340019\nEpoch: 0004 cost= 114.355809441\nEpoch: 0004 cost= 114.649608158\nEpoch: 0004 cost= 115.567042406\nEpoch: 0004 cost= 115.763382697\nEpoch: 0004 cost= 116.050840693\nEpoch: 0004 cost= 116.068350646\nEpoch: 0004 cost= 116.142006916\nEpoch: 0004 cost= 116.704516737\n"
     ]
    },
    {
     "name": "stdout",
     "output_type": "stream",
     "text": [
      "Epoch: 0004 cost= 117.087448117\nEpoch: 0004 cost= 117.395661285\nEpoch: 0004 cost= 117.603362118\nEpoch: 0004 cost= 118.325918493\nEpoch: 0004 cost= 118.686464757\nEpoch: 0004 cost= 118.954596249\nEpoch: 0004 cost= 119.374157795\nEpoch: 0004 cost= 119.411890235\nEpoch: 0004 cost= 119.640890964\nEpoch: 0004 cost= 119.856680163\nEpoch: 0004 cost= 120.144544876\nEpoch: 0004 cost= 120.484397920\n"
     ]
    },
    {
     "name": "stdout",
     "output_type": "stream",
     "text": [
      "Epoch: 0004 cost= 120.511885881\nEpoch: 0004 cost= 120.665126598\nEpoch: 0004 cost= 120.962515264\nEpoch: 0004 cost= 121.012521125\nEpoch: 0004 cost= 121.693495357\nEpoch: 0004 cost= 122.059670617\nEpoch: 0004 cost= 122.486312407\nEpoch: 0004 cost= 122.549809333\nEpoch: 0004 cost= 122.549809333\nEpoch: 0004 cost= 123.192034286\nEpoch: 0004 cost= 123.368399379\nEpoch: 0004 cost= 123.586042063\nEpoch: 0004 cost= 124.013209421\n"
     ]
    },
    {
     "name": "stdout",
     "output_type": "stream",
     "text": [
      "Epoch: 0004 cost= 124.159271405\nEpoch: 0004 cost= 124.334321052\nEpoch: 0004 cost= 124.351304396\nEpoch: 0004 cost= 124.507823755\nEpoch: 0004 cost= 124.828683158\nEpoch: 0004 cost= 125.345767620\nEpoch: 0004 cost= 125.668190743\nEpoch: 0004 cost= 125.943344191\nEpoch: 0004 cost= 126.408529127\nEpoch: 0004 cost= 126.463326432\nEpoch: 0004 cost= 126.530804306\nEpoch: 0004 cost= 127.055135250\nEpoch: 0004 cost= 127.055135250\n"
     ]
    },
    {
     "name": "stdout",
     "output_type": "stream",
     "text": [
      "Epoch: 0004 cost= 127.604583548\nEpoch: 0004 cost= 127.845555949\nEpoch: 0004 cost= 127.855185654\nEpoch: 0004 cost= 128.040600111\nEpoch: 0004 cost= 128.469420246\nEpoch: 0004 cost= 128.633641299\nEpoch: 0004 cost= 128.667546803\nEpoch: 0004 cost= 128.783143276\nEpoch: 0004 cost= 129.121669527\nEpoch: 0004 cost= 129.235765853\nEpoch: 0004 cost= 129.361743969\nEpoch: 0004 cost= 129.662202620\n"
     ]
    },
    {
     "name": "stdout",
     "output_type": "stream",
     "text": [
      "Epoch: 0004 cost= 129.763538014\nEpoch: 0004 cost= 129.842860531\nEpoch: 0004 cost= 129.935821041\nEpoch: 0004 cost= 130.261888490\nEpoch: 0004 cost= 130.463070006\nEpoch: 0004 cost= 130.501559771\nEpoch: 0004 cost= 130.745086022\nEpoch: 0004 cost= 131.462790989\nEpoch: 0004 cost= 131.605712325\nEpoch: 0004 cost= 131.850248403\nEpoch: 0004 cost= 132.011050405\nEpoch: 0004 cost= 132.442658570\n"
     ]
    },
    {
     "name": "stdout",
     "output_type": "stream",
     "text": [
      "Epoch: 0004 cost= 132.606333483\nEpoch: 0004 cost= 132.678853562\nEpoch: 0004 cost= 133.043928746\nEpoch: 0004 cost= 133.652757704\nEpoch: 0004 cost= 134.685971260\nEpoch: 0004 cost= 135.134013585\nEpoch: 0004 cost= 135.368425955\nEpoch: 0004 cost= 135.545196821\nEpoch: 0004 cost= 135.592086702\nEpoch: 0004 cost= 135.794612517\nEpoch: 0004 cost= 135.909686931\nEpoch: 0004 cost= 136.194097276\n"
     ]
    },
    {
     "name": "stdout",
     "output_type": "stream",
     "text": [
      "Epoch: 0004 cost= 136.230493490\nEpoch: 0004 cost= 136.501337246\nEpoch: 0004 cost= 136.717168961\nEpoch: 0004 cost= 137.441704483\nEpoch: 0004 cost= 137.463181612\nEpoch: 0004 cost= 137.597076792\nEpoch: 0004 cost= 137.744353154\nEpoch: 0004 cost= 138.114971523\nEpoch: 0004 cost= 138.360766728\nEpoch: 0004 cost= 138.453779666\nEpoch: 0004 cost= 138.488069505\nEpoch: 0004 cost= 138.614544725\nEpoch: 0004 cost= 138.828912997\n"
     ]
    },
    {
     "name": "stdout",
     "output_type": "stream",
     "text": [
      "Epoch: 0004 cost= 139.481743530\nEpoch: 0004 cost= 139.584303129\nEpoch: 0004 cost= 140.054800788\nEpoch: 0004 cost= 140.576262192\nEpoch: 0004 cost= 140.952393478\nEpoch: 0004 cost= 141.076831566\nEpoch: 0004 cost= 141.298486396\nEpoch: 0004 cost= 141.458007298\nEpoch: 0004 cost= 141.647146979\nEpoch: 0004 cost= 142.177521680\nEpoch: 0004 cost= 142.262136631\nEpoch: 0004 cost= 142.447946207\n"
     ]
    },
    {
     "name": "stdout",
     "output_type": "stream",
     "text": [
      "Epoch: 0004 cost= 142.878378974\nEpoch: 0004 cost= 142.930942641\nEpoch: 0004 cost= 142.940200081\nEpoch: 0004 cost= 143.366849168\nEpoch: 0004 cost= 143.534091391\nEpoch: 0004 cost= 143.994415516\nEpoch: 0004 cost= 144.327457536\nEpoch: 0004 cost= 144.818167818\nEpoch: 0004 cost= 145.007329709\nEpoch: 0004 cost= 145.172166911\nEpoch: 0004 cost= 145.785213009\nEpoch:"
     ]
    },
    {
     "name": "stdout",
     "output_type": "stream",
     "text": [
      " 0004 cost= 146.009366493\nEpoch: 0004 cost= 146.491315734\nEpoch: 0004 cost= 146.944936978\nEpoch: 0004 cost= 147.817348921\nEpoch: 0004 cost= 148.202163124\nEpoch: 0004 cost= 148.518317882\nEpoch: 0004 cost= 149.088122458\nEpoch: 0004 cost= 149.332340098\nEpoch: 0004 cost= 149.705446594\nEpoch: 0004 cost= 149.815721800\nEpoch: 0004 cost= 149.979460314\nEpoch: 0004 cost= 150.352336818\n"
     ]
    },
    {
     "name": "stdout",
     "output_type": "stream",
     "text": [
      "Epoch: 0004 cost= 150.661450393\nEpoch: 0004 cost= 150.771935602\nEpoch: 0004 cost= 151.155291648\nEpoch: 0004 cost= 151.519664955\nEpoch: 0004 cost= 151.683144112\nEpoch: 0004 cost= 151.931514307\n"
     ]
    },
    {
     "name": "stdout",
     "output_type": "stream",
     "text": [
      "Epoch: 0005 cost= 0.024190487\nEpoch: 0005 cost= 0.075668886\nEpoch: 0005 cost= 0.425542682\nEpoch: 0005 cost= 0.464495985\nEpoch: 0005 cost= 0.524876837\nEpoch: 0005 cost= 0.784147023\nEpoch: 0005 cost= 0.999450077\nEpoch: 0005 cost= 1.178055229\nEpoch: 0005 cost= 1.178055229\nEpoch: 0005 cost= 1.296146036\nEpoch: 0005 cost= 1.296146036\nEpoch: 0005 cost= 1.299232257\n"
     ]
    },
    {
     "name": "stdout",
     "output_type": "stream",
     "text": [
      "Epoch: 0005 cost= 1.472890136\nEpoch: 0005 cost= 1.565776662\nEpoch: 0005 cost= 1.683808347\nEpoch: 0005 cost= 1.844355472\nEpoch: 0005 cost= 1.959636830\nEpoch: 0005 cost= 1.982908075\nEpoch: 0005 cost= 1.994743089\nEpoch: 0005 cost= 2.483162612\nEpoch: 0005 cost= 2.577867264\nEpoch: 0005 cost= 2.584676160\nEpoch: 0005 cost= 2.726724333\nEpoch: 0005 cost= 2.753569592\n"
     ]
    },
    {
     "name": "stdout",
     "output_type": "stream",
     "text": [
      "Epoch: 0005 cost= 2.824715798\nEpoch: 0005 cost= 2.865821328\nEpoch: 0005 cost= 2.865821328\nEpoch: 0005 cost= 2.990697399\nEpoch: 0005 cost= 3.247010848\nEpoch: 0005 cost= 3.247010848\nEpoch: 0005 cost= 3.385225889\nEpoch: 0005 cost= 3.555117690\nEpoch: 0005 cost= 3.601529284\nEpoch: 0005 cost= 3.745039347\nEpoch: 0005 cost= 3.847115777\n"
     ]
    },
    {
     "name": "stdout",
     "output_type": "stream",
     "text": [
      "Epoch: 0005 cost= 3.956397552\nEpoch: 0005 cost= 4.015404795\nEpoch: 0005 cost= 4.160194556\nEpoch: 0005 cost= 4.288821390\nEpoch: 0005 cost= 4.299399746\nEpoch: 0005 cost= 4.508904876\nEpoch: 0005 cost= 5.017988516\nEpoch: 0005 cost= 5.017988516\nEpoch: 0005 cost= 5.271808540\nEpoch: 0005 cost= 5.375211742\nEpoch: 0005 cost= 5.437232381\nEpoch: 0005 cost= 5.456269339\n"
     ]
    },
    {
     "name": "stdout",
     "output_type": "stream",
     "text": [
      "Epoch: 0005 cost= 5.482132774\nEpoch: 0005 cost= 5.578569735\nEpoch: 0005 cost= 5.716510950\nEpoch: 0005 cost= 5.803874252\nEpoch: 0005 cost= 6.011182560\nEpoch: 0005 cost= 6.049946196\nEpoch: 0005 cost= 6.103504719\nEpoch: 0005 cost= 6.203445924\nEpoch: 0005 cost= 6.303588601\nEpoch: 0005 cost= 6.344369736\nEpoch: 0005 cost= 6.600296860\nEpoch: 0005 cost= 6.745506045\nEpoch: 0005 cost= 6.749820933\n"
     ]
    },
    {
     "name": "stdout",
     "output_type": "stream",
     "text": [
      "Epoch: 0005 cost= 6.806225255\nEpoch: 0005 cost= 6.956587776\nEpoch: 0005 cost= 7.377011110\nEpoch: 0005 cost= 7.632725943\nEpoch: 0005 cost= 8.663253397\nEpoch: 0005 cost= 8.707724278\nEpoch: 0005 cost= 8.840111072\nEpoch: 0005 cost= 9.026451001\nEpoch: 0005 cost= 10.269540046\nEpoch: 0005 cost= 10.392382550\nEpoch: 0005 cost= 10.476287559\nEpoch: 0005 cost= 10.478712683\n"
     ]
    },
    {
     "name": "stdout",
     "output_type": "stream",
     "text": [
      "Epoch: 0005 cost= 10.584065133\nEpoch: 0005 cost= 10.650294943\nEpoch: 0005 cost= 10.972983875\nEpoch: 0005 cost= 11.178439960\nEpoch: 0005 cost= 11.299668029\nEpoch: 0005 cost= 11.376664399\nEpoch: 0005 cost= 11.572283434\nEpoch: 0005 cost= 11.716437653\nEpoch: 0005 cost= 12.086352093\nEpoch: 0005 cost= 12.218175976\nEpoch: 0005 cost= 12.550554183\nEpoch: 0005 cost= 12.724008620\n"
     ]
    },
    {
     "name": "stdout",
     "output_type": "stream",
     "text": [
      "Epoch: 0005 cost= 12.820263039\nEpoch: 0005 cost= 12.820263039\nEpoch: 0005 cost= 13.393503118\nEpoch: 0005 cost= 13.724068220\nEpoch: 0005 cost= 14.097267794\nEpoch: 0005 cost= 14.186407552\nEpoch: 0005 cost= 14.566733119\nEpoch: 0005 cost= 14.786493029\nEpoch: 0005 cost= 14.834592963\nEpoch: 0005 cost= 14.937083537\nEpoch: 0005 cost= 15.058494573\nEpoch: 0005 cost= 15.118955388\n"
     ]
    },
    {
     "name": "stdout",
     "output_type": "stream",
     "text": [
      "Epoch: 0005 cost= 15.680317748\nEpoch: 0005 cost= 15.924734113\nEpoch: 0005 cost= 16.000135427\nEpoch: 0005 cost= 16.045855631\nEpoch: 0005 cost= 16.636499940\nEpoch: 0005 cost= 16.732628473\nEpoch: 0005 cost= 16.763564815\nEpoch: 0005 cost= 16.954252917\nEpoch: 0005 cost= 17.062834717\nEpoch: 0005 cost= 17.107962689\nEpoch: 0005 cost= 17.107962689\nEpoch: 0005 cost= 17.107962689\n"
     ]
    },
    {
     "name": "stdout",
     "output_type": "stream",
     "text": [
      "Epoch: 0005 cost= 17.391224075\nEpoch: 0005 cost= 17.412427794\nEpoch: 0005 cost= 17.627191269\nEpoch: 0005 cost= 17.699560425\nEpoch: 0005 cost= 18.200244685\nEpoch: 0005 cost= 18.229499060\nEpoch: 0005 cost= 18.229499060\nEpoch: 0005 cost= 18.236921220\nEpoch: 0005 cost= 18.546241899\nEpoch: 0005 cost= 18.632351469\nEpoch: 0005 cost= 18.688825083\nEpoch: 0005 cost= 18.739713516\nEpoch: 0005 cost= 18.897696276\n"
     ]
    },
    {
     "name": "stdout",
     "output_type": "stream",
     "text": [
      "Epoch: 0005 cost= 19.058959801\nEpoch: 0005 cost= 19.264346833\nEpoch: 0005 cost= 19.377128649\nEpoch: 0005 cost= 19.541033623\nEpoch: 0005 cost= 19.652495845\nEpoch: 0005 cost= 19.653452672\nEpoch: 0005 cost= 19.938820326\nEpoch: 0005 cost= 20.009139872\nEpoch: 0005 cost= 20.079607790\nEpoch: 0005 cost= 20.349767564\nEpoch: 0005 cost= 20.731420895\nEpoch: 0005 cost= 21.202647091\n"
     ]
    },
    {
     "name": "stdout",
     "output_type": "stream",
     "text": [
      "Epoch: 0005 cost= 21.425120832\nEpoch: 0005 cost= 21.660575822\nEpoch: 0005 cost= 21.665713448\nEpoch: 0005 cost= 21.826114491\nEpoch: 0005 cost= 22.297570900\nEpoch: 0005 cost= 22.510869740\nEpoch: 0005 cost= 22.620302612\nEpoch: 0005 cost= 22.705237908\nEpoch: 0005 cost= 22.824196939\nEpoch: 0005 cost= 22.834845927\nEpoch: 0005 cost= 23.112833154\n"
     ]
    },
    {
     "name": "stdout",
     "output_type": "stream",
     "text": [
      "Epoch: 0005 cost= 23.452514356\nEpoch: 0005 cost= 23.871146031\nEpoch: 0005 cost= 24.220302276\nEpoch: 0005 cost= 24.328470562\nEpoch: 0005 cost= 24.481070271\nEpoch: 0005 cost= 25.016035093\nEpoch: 0005 cost= 25.062435174\nEpoch: 0005 cost= 25.062435174\nEpoch: 0005 cost= 25.239214862\nEpoch: 0005 cost= 25.420291244\nEpoch: 0005 cost= 25.628493523\nEpoch: 0005 cost= 26.128460842\nEpoch: 0005 cost= 26.460528491\n"
     ]
    },
    {
     "name": "stdout",
     "output_type": "stream",
     "text": [
      "Epoch: 0005 cost= 26.513904415\nEpoch: 0005 cost= 26.514702976\nEpoch: 0005 cost= 26.717470310\nEpoch: 0005 cost= 26.772843055\nEpoch: 0005 cost= 26.895965128\nEpoch: 0005 cost= 27.129942012\nEpoch: 0005 cost= 27.241593950\nEpoch: 0005 cost= 27.292363284\nEpoch: 0005 cost= 27.423592365\nEpoch: 0005 cost= 27.423592365\nEpoch: 0005 cost= 27.539677903\nEpoch: 0005 cost= 27.575368936\n"
     ]
    },
    {
     "name": "stdout",
     "output_type": "stream",
     "text": [
      "Epoch: 0005 cost= 27.779360552\nEpoch: 0005 cost= 27.825792780\nEpoch: 0005 cost= 27.848950281\nEpoch: 0005 cost= 28.192302304\nEpoch: 0005 cost= 28.661794325\nEpoch: 0005 cost= 28.686282088\nEpoch: 0005 cost= 28.846772422\nEpoch: 0005 cost= 29.320811729\nEpoch: 0005 cost= 29.320811846\nEpoch: 0005 cost= 29.862354815\nEpoch: 0005 cost= 29.999260388\n"
     ]
    },
    {
     "name": "stdout",
     "output_type": "stream",
     "text": [
      "Epoch: 0005 cost= 30.322469228\nEpoch: 0005 cost= 30.400837696\nEpoch: 0005 cost= 30.570727735\nEpoch: 0005 cost= 30.757834336\nEpoch: 0005 cost= 30.939763366\nEpoch: 0005 cost= 31.002746355\nEpoch: 0005 cost= 31.002746355\nEpoch: 0005 cost= 31.166227745\nEpoch: 0005 cost= 31.333727356\nEpoch: 0005 cost= 31.386676530\nEpoch: 0005 cost= 31.848211620\nEpoch: 0005 cost= 31.855184809\n"
     ]
    },
    {
     "name": "stdout",
     "output_type": "stream",
     "text": [
      "Epoch: 0005 cost= 31.925626176\nEpoch: 0005 cost= 31.981099004\nEpoch: 0005 cost= 32.152210788\nEpoch: 0005 cost= 32.343915583\nEpoch: 0005 cost= 32.625447121\nEpoch: 0005 cost= 32.994747658\nEpoch: 0005 cost= 33.162398720\nEpoch: 0005 cost= 33.172379260\nEpoch: 0005 cost= 33.766892588\nEpoch: 0005 cost= 33.824910960\nEpoch: 0005 cost= 34.262117631\nEpoch: 0005 cost= 34.429695631\n"
     ]
    },
    {
     "name": "stdout",
     "output_type": "stream",
     "text": [
      "Epoch: 0005 cost= 34.816030498\nEpoch: 0005 cost= 35.078337932\nEpoch: 0005 cost= 35.234094823\nEpoch: 0005 cost= 35.464115964\nEpoch: 0005 cost= 35.669611472\nEpoch: 0005 cost= 35.899000538\nEpoch: 0005 cost= 36.095046999\nEpoch: 0005 cost= 36.161307216\nEpoch: 0005 cost= 36.280617713\nEpoch: 0005 cost= 36.560918810\nEpoch: 0005 cost= 36.947969508\nEpoch: 0005 cost= 36.969493407\n"
     ]
    },
    {
     "name": "stdout",
     "output_type": "stream",
     "text": [
      "Epoch: 0005 cost= 37.172024604\nEpoch: 0005 cost= 37.211968341\nEpoch: 0005 cost= 37.289704672\nEpoch: 0005 cost= 37.656599286\nEpoch: 0005 cost= 37.915271411\nEpoch: 0005 cost= 38.143073521\nEpoch: 0005 cost= 38.206005886\nEpoch: 0005 cost= 38.609928615\nEpoch: 0005 cost= 38.648703095\nEpoch: 0005 cost= 38.731593277\nEpoch: 0005 cost= 38.848090122\nEpoch: 0005 cost= 38.918583023\n"
     ]
    },
    {
     "name": "stdout",
     "output_type": "stream",
     "text": [
      "Epoch: 0005 cost= 39.087815020\nEpoch: 0005 cost= 39.271272162\nEpoch: 0005 cost= 39.513905857\nEpoch: 0005 cost= 39.921117660\nEpoch: 0005 cost= 40.068150769\nEpoch: 0005 cost= 40.139892476\nEpoch: 0005 cost= 40.278579485\nEpoch: 0005 cost= 40.759246045\nEpoch: 0005 cost= 40.958629964\nEpoch: 0005 cost= 41.474168017\nEpoch: 0005 cost= 41.512655836\nEpoch: 0005 cost= 41.533643905\nEpoch: 0005 cost= 41.542552747\n"
     ]
    },
    {
     "name": "stdout",
     "output_type": "stream",
     "text": [
      "Epoch: 0005 cost= 41.798172670\nEpoch: 0005 cost= 41.834343835\nEpoch: 0005 cost= 42.090466715\nEpoch: 0005 cost= 42.290181625\nEpoch: 0005 cost= 42.423615338\nEpoch: 0005 cost= 42.534723286\nEpoch: 0005 cost= 42.798829232\nEpoch: 0005 cost= 42.798829232\nEpoch: 0005 cost= 42.799908813\nEpoch: 0005 cost= 42.799908813\nEpoch: 0005 cost= 42.881813242\nEpoch: 0005 cost= 42.923991357\nEpoch: 0005 cost= 43.012351072\n"
     ]
    },
    {
     "name": "stdout",
     "output_type": "stream",
     "text": [
      "Epoch: 0005 cost= 43.146096883\nEpoch: 0005 cost= 43.251189878\nEpoch: 0005 cost= 43.300524831\nEpoch: 0005 cost= 43.345705162\nEpoch: 0005 cost= 43.670042653\nEpoch: 0005 cost= 43.745633813\nEpoch: 0005 cost= 43.856697413\nEpoch: 0005 cost= 43.909044128\nEpoch: 0005 cost= 43.935355190\nEpoch: 0005 cost= 44.378289233\nEpoch: 0005 cost= 44.611897853\n"
     ]
    },
    {
     "name": "stdout",
     "output_type": "stream",
     "text": [
      "Epoch: 0005 cost= 44.875895268\nEpoch: 0005 cost= 44.975680958\nEpoch: 0005 cost= 45.041458178\nEpoch: 0005 cost= 45.227427638\nEpoch: 0005 cost= 45.376455473\nEpoch: 0005 cost= 45.762348945\nEpoch: 0005 cost= 46.440590466\nEpoch: 0005 cost= 46.652378852\nEpoch: 0005 cost= 46.747093214\nEpoch: 0005 cost= 46.872417311\nEpoch: 0005 cost= 47.207751451\nEpoch: 0005 cost= 47.225334868\n"
     ]
    },
    {
     "name": "stdout",
     "output_type": "stream",
     "text": [
      "Epoch: 0005 cost= 47.461555571\nEpoch: 0005 cost= 47.602814754\nEpoch: 0005 cost= 47.710791993\nEpoch: 0005 cost= 47.760945864\nEpoch: 0005 cost= 47.884982036\nEpoch: 0005 cost= 47.892426079\nEpoch: 0005 cost= 48.096290409\nEpoch: 0005 cost= 48.125310340\nEpoch: 0005 cost= 48.280096773\nEpoch: 0005 cost= 48.319308039\nEpoch: 0005 cost= 48.773730008\nEpoch: 0005 cost= 48.773730008\n"
     ]
    },
    {
     "name": "stdout",
     "output_type": "stream",
     "text": [
      "Epoch: 0005 cost= 49.015169855\nEpoch: 0005 cost= 49.230825206\nEpoch: 0005 cost= 49.301942926\nEpoch: 0005 cost= 49.748387379\nEpoch: 0005 cost= 50.130548856\nEpoch: 0005 cost= 50.273128895\nEpoch: 0005 cost= 50.497962200\nEpoch: 0005 cost= 50.514782476\nEpoch: 0005 cost= 51.149329040\nEpoch: 0005 cost= 51.311439803\nEpoch: 0005 cost= 51.402187032\nEpoch: 0005 cost= 51.492614154\n"
     ]
    },
    {
     "name": "stdout",
     "output_type": "stream",
     "text": [
      "Epoch: 0005 cost= 51.549327407\nEpoch: 0005 cost= 51.765984942\nEpoch: 0005 cost= 51.847036529\nEpoch: 0005 cost= 51.847036529\nEpoch: 0005 cost= 51.917568402\nEpoch: 0005 cost= 52.121248974\nEpoch: 0005 cost= 52.138505232\nEpoch: 0005 cost= 52.380462019\nEpoch: 0005 cost= 52.469366355\nEpoch: 0005 cost= 52.511161579\nEpoch: 0005 cost= 52.511161579\nEpoch: 0005 cost= 52.563914092\n"
     ]
    },
    {
     "name": "stdout",
     "output_type": "stream",
     "text": [
      "Epoch: 0005 cost= 52.578048573\nEpoch: 0005 cost= 52.583667962\nEpoch: 0005 cost= 52.596095732\nEpoch: 0005 cost= 52.596095732\nEpoch: 0005 cost= 52.971686913\nEpoch: 0005 cost= 52.971725522\nEpoch: 0005 cost= 52.985592954\nEpoch: 0005 cost= 53.052401779\nEpoch: 0005 cost= 53.140668963\nEpoch: 0005 cost= 53.447976314\nEpoch: 0005 cost= 53.659328201\nEpoch: 0005 cost= 53.781514370\nEpoch: 0005 cost= 53.864093403\n"
     ]
    },
    {
     "name": "stdout",
     "output_type": "stream",
     "text": [
      "Epoch: 0005 cost= 54.107856443\nEpoch: 0005 cost= 54.791597898\nEpoch: 0005 cost= 55.231793765\nEpoch: 0005 cost= 55.310214550\nEpoch: 0005 cost= 55.683550204\nEpoch: 0005 cost= 55.866326943\nEpoch: 0005 cost= 55.909256277\nEpoch: 0005 cost= 56.251095405\nEpoch: 0005 cost= 56.543477413\nEpoch: 0005 cost= 56.543477413\nEpoch: 0005 cost= 56.722332810\nEpoch: 0005 cost= 57.130214779\n"
     ]
    },
    {
     "name": "stdout",
     "output_type": "stream",
     "text": [
      "Epoch: 0005 cost= 57.173340410\nEpoch: 0005 cost= 57.321773610\nEpoch: 0005 cost= 57.634394071\nEpoch: 0005 cost= 57.689351429\nEpoch: 0005 cost= 57.713991749\nEpoch: 0005 cost= 57.897075009\nEpoch: 0005 cost= 58.077224087\nEpoch: 0005 cost= 58.171855095\nEpoch: 0005 cost= 58.496039249\nEpoch: 0005 cost= 58.496039249\nEpoch: 0005 cost= 58.496039249\nEpoch: 0005 cost= 58.687779736\n"
     ]
    },
    {
     "name": "stdout",
     "output_type": "stream",
     "text": [
      "Epoch: 0005 cost= 58.723221409\nEpoch: 0005 cost= 58.748214537\nEpoch: 0005 cost= 58.966065350\nEpoch: 0005 cost= 59.044008174\nEpoch: 0005 cost= 59.468754546\nEpoch: 0005 cost= 59.468754546\nEpoch: 0005 cost= 59.477046271\nEpoch: 0005 cost= 59.644503477\nEpoch: 0005 cost= 59.811666105\nEpoch: 0005 cost= 59.839807316\nEpoch: 0005 cost= 59.985576068\nEpoch: 0005 cost= 60.069357272\n"
     ]
    },
    {
     "name": "stdout",
     "output_type": "stream",
     "text": [
      "Epoch: 0005 cost= 60.107742223\nEpoch: 0005 cost= 60.113484091\nEpoch: 0005 cost= 60.197524043\nEpoch: 0005 cost= 60.493375261\nEpoch: 0005 cost= 60.554096932\nEpoch: 0005 cost= 60.808958660\nEpoch: 0005 cost= 60.970734839\nEpoch: 0005 cost= 61.011559066\nEpoch: 0005 cost= 61.101497546\nEpoch: 0005 cost= 61.129830313\nEpoch: 0005 cost= 61.546083309\n"
     ]
    },
    {
     "name": "stdout",
     "output_type": "stream",
     "text": [
      "Epoch: 0005 cost= 61.794942618\nEpoch: 0005 cost= 61.822797279\nEpoch: 0005 cost= 61.822797279\nEpoch: 0005 cost= 61.962026835\nEpoch: 0005 cost= 62.023040469\nEpoch: 0005 cost= 62.226714231\nEpoch: 0005 cost= 62.315915225\nEpoch: 0005 cost= 62.782417911\nEpoch: 0005 cost= 63.127204371\nEpoch: 0005 cost= 63.143095333\nEpoch: 0005 cost= 63.228541327\nEpoch: 0005 cost= 63.308946850\n"
     ]
    },
    {
     "name": "stdout",
     "output_type": "stream",
     "text": [
      "Epoch: 0005 cost= 63.512273904\nEpoch: 0005 cost= 63.512273904\nEpoch: 0005 cost= 63.568604602\nEpoch: 0005 cost= 63.642541231\nEpoch: 0005 cost= 63.962673678\nEpoch: 0005 cost= 64.245800342\nEpoch: 0005 cost= 64.409457943\nEpoch: 0005 cost= 64.596579317\nEpoch: 0005 cost= 64.783878068\nEpoch: 0005 cost= 65.130390325\nEpoch: 0005 cost= 65.297903461\nEpoch: 0005 cost= 65.485658019\n"
     ]
    },
    {
     "name": "stdout",
     "output_type": "stream",
     "text": [
      "Epoch: 0005 cost= 65.503203097\nEpoch: 0005 cost= 65.586558484\nEpoch: 0005 cost= 65.617611840\nEpoch: 0005 cost= 65.815770450\nEpoch: 0005 cost= 66.413254970\nEpoch: 0005 cost= 66.885813231\nEpoch: 0005 cost= 67.188688735\nEpoch: 0005 cost= 67.312068516\nEpoch: 0005 cost= 67.651874452\nEpoch: 0005 cost= 67.718521693\nEpoch: 0005 cost= 67.951635485\n"
     ]
    },
    {
     "name": "stdout",
     "output_type": "stream",
     "text": [
      "Epoch: 0005 cost= 68.410468299\nEpoch: 0005 cost= 68.711774201\nEpoch: 0005 cost= 68.733796906\nEpoch: 0005 cost= 68.862294346\nEpoch: 0005 cost= 68.877496573\nEpoch: 0005 cost= 69.059261627\nEpoch: 0005 cost= 69.583548514\nEpoch: 0005 cost= 69.929504880\nEpoch: 0005 cost= 70.052782884\nEpoch: 0005 cost= 70.202846305\nEpoch: 0005 cost= 70.202846305\nEpoch: 0005 cost= 70.381096038\n"
     ]
    },
    {
     "name": "stdout",
     "output_type": "stream",
     "text": [
      "Epoch: 0005 cost= 70.396740181\nEpoch: 0005 cost= 70.519656288\nEpoch: 0005 cost= 70.639602883\nEpoch: 0005 cost= 70.813528650\nEpoch: 0005 cost= 70.813528650\nEpoch: 0005 cost= 70.838301022\nEpoch: 0005 cost= 71.095815393\nEpoch: 0005 cost= 71.244974731\nEpoch: 0005 cost= 71.244974731\nEpoch: 0005 cost= 71.251673594\nEpoch: 0005 cost= 71.298678270\nEpoch: 0005 cost= 71.413832259\n"
     ]
    },
    {
     "name": "stdout",
     "output_type": "stream",
     "text": [
      "Epoch: 0005 cost= 71.419347933\nEpoch: 0005 cost= 71.419347933\nEpoch: 0005 cost= 71.419347933\nEpoch: 0005 cost= 71.688922212\nEpoch: 0005 cost= 71.724490928\nEpoch: 0005 cost= 72.134896257\nEpoch: 0005 cost= 72.268496138\nEpoch: 0005 cost= 72.408474568\nEpoch: 0005 cost= 72.615820704\nEpoch: 0005 cost= 72.649459554\nEpoch: 0005 cost= 72.722830408\nEpoch: 0005 cost= 72.951327778\n"
     ]
    },
    {
     "name": "stdout",
     "output_type": "stream",
     "text": [
      "Epoch: 0005 cost= 73.085303275\nEpoch: 0005 cost= 73.196973918\nEpoch: 0005 cost= 73.205905217\nEpoch: 0005 cost= 73.219825068\nEpoch: 0005 cost= 73.423929654\nEpoch: 0005 cost= 73.992007047\nEpoch: 0005 cost= 74.253815075\nEpoch: 0005 cost= 74.485899592\nEpoch: 0005 cost= 74.492645242\nEpoch: 0005 cost= 74.492645242\nEpoch: 0005 cost= 74.735044117\n"
     ]
    },
    {
     "name": "stdout",
     "output_type": "stream",
     "text": [
      "Epoch: 0005 cost= 75.051031361\nEpoch: 0005 cost= 75.115876658\nEpoch: 0005 cost= 75.243244586\nEpoch: 0005 cost= 75.272869098\nEpoch: 0005 cost= 75.272869098\nEpoch: 0005 cost= 75.272869098\nEpoch: 0005 cost= 75.388414739\nEpoch: 0005 cost= 75.588248363\nEpoch: 0005 cost= 75.725372650\nEpoch: 0005 cost= 75.733665396\nEpoch: 0005 cost= 76.095848125\nEpoch: 0005 cost= 76.523812463\n"
     ]
    },
    {
     "name": "stdout",
     "output_type": "stream",
     "text": [
      "Epoch: 0005 cost= 76.659136338\nEpoch: 0005 cost= 76.784453291\nEpoch: 0005 cost= 76.867638196\nEpoch: 0005 cost= 76.923875604\nEpoch: 0005 cost= 76.925095552\nEpoch: 0005 cost= 77.255558726\nEpoch: 0005 cost= 77.516639492\nEpoch: 0005 cost= 77.516639492\nEpoch: 0005 cost= 77.931402565\nEpoch: 0005 cost= 77.931402565\nEpoch: 0005 cost= 77.969641093\nEpoch: 0005 cost= 77.998988392\n"
     ]
    },
    {
     "name": "stdout",
     "output_type": "stream",
     "text": [
      "Epoch: 0005 cost= 78.191431560\nEpoch: 0005 cost= 78.233830956\nEpoch: 0005 cost= 78.335821395\nEpoch: 0005 cost= 78.426283841\nEpoch: 0005 cost= 78.680884976\nEpoch: 0005 cost= 78.951363325\nEpoch: 0005 cost= 79.061207429\nEpoch: 0005 cost= 79.158360749\nEpoch: 0005 cost= 79.380552647\nEpoch: 0005 cost= 79.656796071\nEpoch: 0005 cost= 80.007694786\nEpoch: 0005 cost= 80.306569437\n"
     ]
    },
    {
     "name": "stdout",
     "output_type": "stream",
     "text": [
      "Epoch: 0005 cost= 80.849186069\nEpoch: 0005 cost= 81.009082656\nEpoch: 0005 cost= 81.169243553\nEpoch: 0005 cost= 81.446823232\nEpoch: 0005 cost= 81.637926137\nEpoch: 0005 cost= 81.773384914\nEpoch: 0005 cost= 81.838853136\nEpoch: 0005 cost= 82.018069265\nEpoch: 0005 cost= 82.134808309\nEpoch: 0005 cost= 82.143877352\nEpoch: 0005 cost= 82.143877352\n"
     ]
    },
    {
     "name": "stdout",
     "output_type": "stream",
     "text": [
      "Epoch: 0005 cost= 82.179160749\nEpoch: 0005 cost= 82.345150434\nEpoch: 0005 cost= 82.345150434\nEpoch: 0005 cost= 82.458405529\nEpoch: 0005 cost= 82.553064440\nEpoch: 0005 cost= 82.890382056\nEpoch: 0005 cost= 83.053252567\nEpoch: 0005 cost= 83.234313289\nEpoch: 0005 cost= 83.503670505\nEpoch: 0005 cost= 83.590418483\nEpoch: 0005 cost= 83.675273434\nEpoch: 0005 cost= 83.880886185\n"
     ]
    },
    {
     "name": "stdout",
     "output_type": "stream",
     "text": [
      "Epoch: 0005 cost= 83.880886185\nEpoch: 0005 cost= 83.963108982\nEpoch: 0005 cost= 83.979500745\nEpoch: 0005 cost= 84.318864814\nEpoch: 0005 cost= 84.327172178\nEpoch: 0005 cost= 84.327172178\nEpoch: 0005 cost= 84.350637123\nEpoch: 0005 cost= 84.531494584\nEpoch: 0005 cost= 84.718951707\nEpoch: 0005 cost= 84.817966273\nEpoch: 0005 cost= 84.967998982\nEpoch: 0005 cost= 85.048673539\n"
     ]
    },
    {
     "name": "stdout",
     "output_type": "stream",
     "text": [
      "Epoch: 0005 cost= 85.243174868\nEpoch: 0005 cost= 85.383190917\nEpoch: 0005 cost= 85.637515397\nEpoch: 0005 cost= 85.703816403\nEpoch: 0005 cost= 85.716560055\nEpoch: 0005 cost= 85.769135992\nEpoch: 0005 cost= 85.841006352\nEpoch: 0005 cost= 85.995118887\nEpoch: 0005 cost= 86.213915620\nEpoch: 0005 cost= 86.246562743\nEpoch: 0005 cost= 86.592769852\n"
     ]
    },
    {
     "name": "stdout",
     "output_type": "stream",
     "text": [
      "Epoch: 0005 cost= 86.930519208\nEpoch: 0005 cost= 87.313504937\nEpoch: 0005 cost= 87.455905783\nEpoch: 0005 cost= 87.622740902\nEpoch: 0005 cost= 87.688172947\nEpoch: 0005 cost= 88.284945963\nEpoch: 0005 cost= 88.284945963\nEpoch: 0005 cost= 88.379621263\nEpoch: 0005 cost= 88.665972581\nEpoch: 0005 cost= 88.879395100\nEpoch: 0005 cost= 88.888115453\nEpoch: 0005 cost= 89.460539936\n"
     ]
    },
    {
     "name": "stdout",
     "output_type": "stream",
     "text": [
      "Epoch: 0005 cost= 90.008953521\nEpoch: 0006 cost= 0.000000000\nEpoch: 0006 cost= 0.017837686\nEpoch: 0006 cost= 0.017837686\n"
     ]
    },
    {
     "name": "stdout",
     "output_type": "stream",
     "text": [
      "Epoch: 0006 cost= 0.102879495\nEpoch: 0006 cost= 0.118758507\nEpoch: 0006 cost= 0.209925319\nEpoch: 0006 cost= 0.209925319\nEpoch: 0006 cost= 0.209925319\nEpoch: 0006 cost= 0.209925319\nEpoch: 0006 cost= 0.462382039\nEpoch: 0006 cost= 0.548194521\nEpoch: 0006 cost= 0.636545677\nEpoch: 0006 cost= 0.700657678\nEpoch: 0006 cost= 0.700657678\nEpoch: 0006 cost= 0.890248923\nEpoch: 0006 cost= 1.061116010\n"
     ]
    },
    {
     "name": "stdout",
     "output_type": "stream",
     "text": [
      "Epoch: 0006 cost= 1.061116010\nEpoch: 0006 cost= 1.085956778\nEpoch: 0006 cost= 1.220084766\nEpoch: 0006 cost= 1.227550635\nEpoch: 0006 cost= 1.236261022\nEpoch: 0006 cost= 1.302564483\nEpoch: 0006 cost= 1.316346590\nEpoch: 0006 cost= 1.722757695\nEpoch: 0006 cost= 1.781291575\nEpoch: 0006 cost= 1.972895052\nEpoch: 0006 cost= 1.972895052\nEpoch: 0006 cost= 1.972895052\n"
     ]
    },
    {
     "name": "stdout",
     "output_type": "stream",
     "text": [
      "Epoch: 0006 cost= 2.029703388\nEpoch: 0006 cost= 2.029703388\nEpoch: 0006 cost= 2.039192513\nEpoch: 0006 cost= 2.046506216\nEpoch: 0006 cost= 2.089896840\nEpoch: 0006 cost= 2.240053229\nEpoch: 0006 cost= 2.345592842\nEpoch: 0006 cost= 2.564503143\nEpoch: 0006 cost= 2.807070975\nEpoch: 0006 cost= 2.874971754\nEpoch: 0006 cost= 3.135904649\n"
     ]
    },
    {
     "name": "stdout",
     "output_type": "stream",
     "text": [
      "Epoch: 0006 cost= 3.145178406\nEpoch: 0006 cost= 3.156779416\nEpoch: 0006 cost= 3.447822590\nEpoch: 0006 cost= 3.497483599\nEpoch: 0006 cost= 3.646867199\nEpoch: 0006 cost= 3.694153191\nEpoch: 0006 cost= 3.694153191\nEpoch: 0006 cost= 3.754077161\nEpoch: 0006 cost= 3.858847883\nEpoch: 0006 cost= 3.858847883\nEpoch: 0006 cost= 3.889198648\nEpoch: 0006 cost= 3.984865069\n"
     ]
    },
    {
     "name": "stdout",
     "output_type": "stream",
     "text": [
      "Epoch: 0006 cost= 4.162451891\nEpoch: 0006 cost= 4.639363235\nEpoch: 0006 cost= 4.640499665\nEpoch: 0006 cost= 4.680288470\nEpoch: 0006 cost= 4.694410025\nEpoch: 0006 cost= 4.799374000\nEpoch: 0006 cost= 4.945688351\nEpoch: 0006 cost= 4.996079687\nEpoch: 0006 cost= 5.046159001\nEpoch: 0006 cost= 5.087347352\nEpoch: 0006 cost= 5.181648541\nEpoch: 0006 cost= 5.226678618\n"
     ]
    },
    {
     "name": "stdout",
     "output_type": "stream",
     "text": [
      "Epoch: 0006 cost= 5.280073630\nEpoch: 0006 cost= 5.287779924\nEpoch: 0006 cost= 5.287779924\nEpoch: 0006 cost= 5.391073818\nEpoch: 0006 cost= 5.391073818\nEpoch: 0006 cost= 5.401516946\nEpoch: 0006 cost= 5.504111738\nEpoch: 0006 cost= 5.657328679\nEpoch: 0006 cost= 5.676202249\nEpoch: 0006 cost= 5.676202249\nEpoch: 0006 cost= 5.676202249\nEpoch: 0006 cost= 5.732125562\n"
     ]
    },
    {
     "name": "stdout",
     "output_type": "stream",
     "text": [
      "Epoch: 0006 cost= 5.782518105\nEpoch: 0006 cost= 5.798934422\nEpoch: 0006 cost= 5.798934422\nEpoch: 0006 cost= 5.843770661\nEpoch: 0006 cost= 5.938517996\nEpoch: 0006 cost= 6.187189233\nEpoch: 0006 cost= 6.263262384\nEpoch: 0006 cost= 6.263262384\nEpoch: 0006 cost= 6.289826357\nEpoch: 0006 cost= 6.524810738\nEpoch: 0006 cost= 6.604357691\nEpoch: 0006 cost= 6.604357691\nEpoch: 0006 cost= 6.645213979\n"
     ]
    },
    {
     "name": "stdout",
     "output_type": "stream",
     "text": [
      "Epoch: 0006 cost= 6.787071543\nEpoch: 0006 cost= 6.961274146\nEpoch: 0006 cost= 7.000897583\nEpoch: 0006 cost= 7.067070034\nEpoch: 0006 cost= 7.132131582\nEpoch: 0006 cost= 7.177918534\nEpoch: 0006 cost= 7.262633770\nEpoch: 0006 cost= 7.268026688\nEpoch: 0006 cost= 7.268026688\nEpoch: 0006 cost= 7.314373509\nEpoch: 0006 cost= 7.461993457\n"
     ]
    },
    {
     "name": "stdout",
     "output_type": "stream",
     "text": [
      "Epoch: 0006 cost= 7.526799295\nEpoch: 0006 cost= 7.561522501\nEpoch: 0006 cost= 7.677406172\nEpoch: 0006 cost= 7.728466200\nEpoch: 0006 cost= 7.728466200\nEpoch: 0006 cost= 7.774027956\nEpoch: 0006 cost= 7.934423297\nEpoch: 0006 cost= 7.959437360\nEpoch: 0006 cost= 8.089077044\nEpoch: 0006 cost= 8.204572178\nEpoch: 0006 cost= 8.204572178\nEpoch: 0006 cost= 8.273991332\n"
     ]
    },
    {
     "name": "stdout",
     "output_type": "stream",
     "text": [
      "Epoch: 0006 cost= 8.273991332\nEpoch: 0006 cost= 8.273991332\nEpoch: 0006 cost= 8.449211294\nEpoch: 0006 cost= 8.735101686\nEpoch: 0006 cost= 8.814977785\nEpoch: 0006 cost= 8.815903282\nEpoch: 0006 cost= 8.864784077\nEpoch: 0006 cost= 8.875853067\nEpoch: 0006 cost= 8.875853067\nEpoch: 0006 cost= 9.149539868\nEpoch: 0006 cost= 9.238557923\nEpoch: 0006 cost= 9.361902359\nEpoch: 0006 cost= 9.361902359\n"
     ]
    },
    {
     "name": "stdout",
     "output_type": "stream",
     "text": [
      "Epoch: 0006 cost= 9.452173126\nEpoch: 0006 cost= 9.492719505\nEpoch: 0006 cost= 9.577701583\nEpoch: 0006 cost= 9.869832348\nEpoch: 0006 cost= 9.887269348\nEpoch: 0006 cost= 9.990223193\nEpoch: 0006 cost= 10.053878603\nEpoch: 0006 cost= 10.211283485\nEpoch: 0006 cost= 10.291680921\nEpoch: 0006 cost= 10.366930922\nEpoch: 0006 cost= 10.615066243\nEpoch: 0006 cost= 10.628300893\n"
     ]
    },
    {
     "name": "stdout",
     "output_type": "stream",
     "text": [
      "Epoch: 0006 cost= 10.660611111\nEpoch: 0006 cost= 10.829026653\nEpoch: 0006 cost= 10.874377737\nEpoch: 0006 cost= 10.909775707\nEpoch: 0006 cost= 10.909775707\nEpoch: 0006 cost= 11.013506307\nEpoch: 0006 cost= 11.256599180\nEpoch: 0006 cost= 11.260798297\nEpoch: 0006 cost= 11.922689443\nEpoch: 0006 cost= 12.068493096\nEpoch: 0006 cost= 12.068830641\nEpoch: 0006 cost= 12.074087787\n"
     ]
    },
    {
     "name": "stdout",
     "output_type": "stream",
     "text": [
      "Epoch: 0006 cost= 12.090380765\nEpoch: 0006 cost= 12.110354166\nEpoch: 0006 cost= 12.156828710\nEpoch: 0006 cost= 12.197343430\nEpoch: 0006 cost= 12.254990931\nEpoch: 0006 cost= 12.254990931\nEpoch: 0006 cost= 12.308727312\nEpoch: 0006 cost= 12.439838291\nEpoch: 0006 cost= 12.439838472\nEpoch: 0006 cost= 12.504513571\nEpoch: 0006 cost= 12.591319269\nEpoch: 0006 cost= 12.741395868\n"
     ]
    },
    {
     "name": "stdout",
     "output_type": "stream",
     "text": [
      "Epoch: 0006 cost= 12.867713742\nEpoch: 0006 cost= 12.867713742\nEpoch: 0006 cost= 13.143871634\nEpoch: 0006 cost= 13.217954352\nEpoch: 0006 cost= 13.284257418\nEpoch: 0006 cost= 13.355290299\nEpoch: 0006 cost= 13.509614418\nEpoch: 0006 cost= 13.734305608\nEpoch: 0006 cost= 13.770591071\nEpoch: 0006 cost= 13.772836010\nEpoch: 0006 cost= 13.928831174\nEpoch: 0006 cost= 14.020570586\n"
     ]
    },
    {
     "name": "stdout",
     "output_type": "stream",
     "text": [
      "Epoch: 0006 cost= 14.020570586\nEpoch: 0006 cost= 14.134162866\nEpoch: 0006 cost= 14.134162866\nEpoch: 0006 cost= 14.177660645\nEpoch: 0006 cost= 14.305491358\nEpoch: 0006 cost= 14.305491358\nEpoch: 0006 cost= 14.332121836\nEpoch: 0006 cost= 14.576207197\nEpoch: 0006 cost= 14.576207197\nEpoch: 0006 cost= 14.605883530\nEpoch: 0006 cost= 14.765299826\nEpoch: 0006 cost= 15.149051463\n"
     ]
    },
    {
     "name": "stdout",
     "output_type": "stream",
     "text": [
      "Epoch: 0006 cost= 15.160817408\nEpoch: 0006 cost= 15.449909898\nEpoch: 0006 cost= 15.710837577\nEpoch: 0006 cost= 16.098503454\nEpoch: 0006 cost= 16.203092229\nEpoch: 0006 cost= 16.263819658\nEpoch: 0006 cost= 16.263819658\nEpoch: 0006 cost= 16.278356199\nEpoch: 0006 cost= 16.299112823\nEpoch: 0006 cost= 16.299112823\nEpoch: 0006 cost= 16.476530648\nEpoch: 0006 cost= 16.537070705\n"
     ]
    },
    {
     "name": "stdout",
     "output_type": "stream",
     "text": [
      "Epoch: 0006 cost= 16.780903241\nEpoch: 0006 cost= 16.811182973\nEpoch: 0006 cost= 16.833186923\nEpoch: 0006 cost= 16.866189881\nEpoch: 0006 cost= 16.866189881\nEpoch: 0006 cost= 16.908784385\nEpoch: 0006 cost= 17.123271107\nEpoch: 0006 cost= 17.151961981\nEpoch: 0006 cost= 17.358833485\nEpoch: 0006 cost= 17.460153481\nEpoch: 0006 cost= 17.460983151\nEpoch: 0006 cost= 17.464442366\n"
     ]
    },
    {
     "name": "stdout",
     "output_type": "stream",
     "text": [
      "Epoch: 0006 cost= 17.526421667\nEpoch: 0006 cost= 17.544193258\nEpoch: 0006 cost= 17.552437736\nEpoch: 0006 cost= 17.617935443\nEpoch: 0006 cost= 17.863062646\nEpoch: 0006 cost= 17.889747677\nEpoch: 0006 cost= 18.012656197\nEpoch: 0006 cost= 18.146549047\nEpoch: 0006 cost= 18.159291127\nEpoch: 0006 cost= 18.203346064\nEpoch: 0006 cost= 18.464472939\n"
     ]
    },
    {
     "name": "stdout",
     "output_type": "stream",
     "text": [
      "Epoch: 0006 cost= 18.530662688\nEpoch: 0006 cost= 18.653737833\nEpoch: 0006 cost= 18.898035790\nEpoch: 0006 cost= 18.942079647\nEpoch: 0006 cost= 19.068260719\nEpoch: 0006 cost= 19.184018498\nEpoch: 0006 cost= 19.251018745\nEpoch: 0006 cost= 19.298916763\nEpoch: 0006 cost= 19.666730290\nEpoch: 0006 cost= 19.709571910\nEpoch: 0006 cost= 19.795832029\nEpoch: 0006 cost= 19.845683162\n"
     ]
    },
    {
     "name": "stdout",
     "output_type": "stream",
     "text": [
      "Epoch: 0006 cost= 19.869250697\nEpoch: 0006 cost= 19.875759202\nEpoch: 0006 cost= 20.012463692\nEpoch: 0006 cost= 20.062809109\nEpoch: 0006 cost= 20.142458851\nEpoch: 0006 cost= 20.206589002\nEpoch: 0006 cost= 20.216318672\nEpoch: 0006 cost= 20.216318672\nEpoch: 0006 cost= 20.623451934\nEpoch: 0006 cost= 20.623451934\nEpoch: 0006 cost= 20.642680876\nEpoch: 0006 cost= 20.728109052\n"
     ]
    },
    {
     "name": "stdout",
     "output_type": "stream",
     "text": [
      "Epoch: 0006 cost= 20.798906545\nEpoch: 0006 cost= 20.874567251\nEpoch: 0006 cost= 21.059646624\nEpoch: 0006 cost= 21.177517191\nEpoch: 0006 cost= 21.588672809\nEpoch: 0006 cost= 21.588672809\nEpoch: 0006 cost= 21.659987381\nEpoch: 0006 cost= 21.718881764\nEpoch: 0006 cost= 21.755064375\nEpoch: 0006 cost= 21.798018973\nEpoch: 0006 cost= 21.798018973\n"
     ]
    },
    {
     "name": "stdout",
     "output_type": "stream",
     "text": [
      "Epoch: 0006 cost= 21.805572560\nEpoch: 0006 cost= 21.925199732\nEpoch: 0006 cost= 21.925199732\nEpoch: 0006 cost= 21.935245382\nEpoch: 0006 cost= 22.053357898\nEpoch: 0006 cost= 22.060198802\nEpoch: 0006 cost= 22.195783311\nEpoch: 0006 cost= 22.290977597\nEpoch: 0006 cost= 22.330546463\nEpoch: 0006 cost= 22.372091652\nEpoch: 0006 cost= 22.484219608\nEpoch: 0006 cost= 22.938502167\n"
     ]
    },
    {
     "name": "stdout",
     "output_type": "stream",
     "text": [
      "Epoch: 0006 cost= 22.966010464\nEpoch: 0006 cost= 22.966010464\nEpoch: 0006 cost= 23.171783863\nEpoch: 0006 cost= 23.307611569\nEpoch: 0006 cost= 23.316407065\nEpoch: 0006 cost= 23.436651123\nEpoch: 0006 cost= 23.438929132\nEpoch: 0006 cost= 23.438929132\nEpoch: 0006 cost= 23.474602284\nEpoch: 0006 cost= 23.474602284\nEpoch: 0006 cost= 23.481722916\nEpoch: 0006 cost= 23.663593935\n"
     ]
    },
    {
     "name": "stdout",
     "output_type": "stream",
     "text": [
      "Epoch: 0006 cost= 23.694842746\nEpoch: 0006 cost= 23.723816361\nEpoch: 0006 cost= 23.733556747\nEpoch: 0006 cost= 23.742371449\nEpoch: 0006 cost= 24.207121704\nEpoch: 0006 cost= 24.326748696\nEpoch: 0006 cost= 24.368252893\nEpoch: 0006 cost= 24.405279493\nEpoch: 0006 cost= 24.477494826\nEpoch: 0006 cost= 24.694198318\nEpoch: 0006 cost= 24.881016361\nEpoch: 0006 cost= 24.951714714\n"
     ]
    },
    {
     "name": "stdout",
     "output_type": "stream",
     "text": [
      "Epoch: 0006 cost= 25.065721630\nEpoch: 0006 cost= 25.084029415\nEpoch: 0006 cost= 25.249632290\nEpoch: 0006 cost= 25.267424952\nEpoch: 0006 cost= 25.300375609\nEpoch: 0006 cost= 25.316470816\nEpoch: 0006 cost= 25.566967753\nEpoch: 0006 cost= 25.592318445\nEpoch: 0006 cost= 25.606465546\nEpoch: 0006 cost= 25.628082845\nEpoch: 0006 cost= 25.705338316\nEpoch: 0006 cost= 25.754108513\n"
     ]
    },
    {
     "name": "stdout",
     "output_type": "stream",
     "text": [
      "Epoch: 0006 cost= 25.755813267\nEpoch: 0006 cost= 25.963532466\nEpoch: 0006 cost= 26.008633042\nEpoch: 0006 cost= 26.008633042\nEpoch: 0006 cost= 26.148915663\nEpoch: 0006 cost= 26.239077469\nEpoch: 0006 cost= 26.398285565\nEpoch: 0006 cost= 26.438371157\nEpoch: 0006 cost= 26.451789161\nEpoch: 0006 cost= 26.455233568\nEpoch: 0006 cost= 26.574783128\nEpoch: 0006 cost= 26.626792440\n"
     ]
    },
    {
     "name": "stdout",
     "output_type": "stream",
     "text": [
      "Epoch: 0006 cost= 26.796014575\nEpoch: 0006 cost= 27.054276571\nEpoch: 0006 cost= 27.100807472\nEpoch: 0006 cost= 27.100807493\nEpoch: 0006 cost= 27.242620376\nEpoch: 0006 cost= 27.519070932\nEpoch: 0006 cost= 27.554455408\nEpoch: 0006 cost= 27.578906367\nEpoch: 0006 cost= 27.631688821\nEpoch: 0006 cost= 27.631688821\nEpoch: 0006 cost= 27.900856080\nEpoch: 0006 cost= 27.952299020\n"
     ]
    },
    {
     "name": "stdout",
     "output_type": "stream",
     "text": [
      "Epoch: 0006 cost= 28.007900484\nEpoch: 0006 cost= 28.014518861\nEpoch: 0006 cost= 28.014518861\nEpoch: 0006 cost= 28.014518861\nEpoch: 0006 cost= 28.220199750\nEpoch: 0006 cost= 28.270646634\nEpoch: 0006 cost= 28.463080661\nEpoch: 0006 cost= 28.468704787\nEpoch: 0006 cost= 28.482502896\nEpoch: 0006 cost= 28.489242722\nEpoch: 0006 cost= 28.624852200\nEpoch: 0006 cost= 28.871934498\n"
     ]
    },
    {
     "name": "stdout",
     "output_type": "stream",
     "text": [
      "Epoch: 0006 cost= 28.893788395\nEpoch: 0006 cost= 28.920478665\nEpoch: 0006 cost= 29.105305409\nEpoch: 0006 cost= 29.374709428\nEpoch: 0006 cost= 29.505842449\nEpoch: 0006 cost= 29.508190128\nEpoch: 0006 cost= 29.755217022\nEpoch: 0006 cost= 29.937749413\nEpoch: 0006 cost= 30.125727679\nEpoch: 0006 cost= 30.147028744\nEpoch: 0006 cost= 30.335484401\nEpoch: 0006 cost= 30.335484401\n"
     ]
    },
    {
     "name": "stdout",
     "output_type": "stream",
     "text": [
      "Epoch: 0006 cost= 30.394692422\nEpoch: 0006 cost= 30.435273948\nEpoch: 0006 cost= 30.497339336\nEpoch: 0006 cost= 30.497339336\nEpoch: 0006 cost= 30.510418886\nEpoch: 0006 cost= 30.611985076\nEpoch: 0006 cost= 30.697490856\nEpoch: 0006 cost= 30.812724662\nEpoch: 0006 cost= 30.819928267\nEpoch: 0006 cost= 30.819928267\nEpoch: 0006 cost= 30.859694051\nEpoch: 0006 cost= 30.892454838\n"
     ]
    },
    {
     "name": "stdout",
     "output_type": "stream",
     "text": [
      "Epoch: 0006 cost= 30.998319595\nEpoch: 0006 cost= 31.179784369\nEpoch: 0006 cost= 31.411002617\nEpoch: 0006 cost= 31.506773602\nEpoch: 0006 cost= 31.605743142\nEpoch: 0006 cost= 31.605743142\nEpoch: 0006 cost= 31.618285684\nEpoch: 0006 cost= 31.618285684\nEpoch: 0006 cost= 31.665583599\nEpoch: 0006 cost= 31.764400002\nEpoch: 0006 cost= 31.825892236\nEpoch: 0006 cost= 32.003828276\n"
     ]
    },
    {
     "name": "stdout",
     "output_type": "stream",
     "text": [
      "Epoch: 0006 cost= 32.004048092\nEpoch: 0006 cost= 32.061599070\nEpoch: 0006 cost= 32.061599072\nEpoch: 0006 cost= 32.332198271\nEpoch: 0006 cost= 32.682801049\nEpoch: 0006 cost= 33.038956860\nEpoch: 0006 cost= 33.038956860\nEpoch: 0006 cost= 33.152183026\nEpoch: 0006 cost= 33.246189339\nEpoch: 0006 cost= 33.339770889\nEpoch: 0006 cost= 33.378123380\n"
     ]
    },
    {
     "name": "stdout",
     "output_type": "stream",
     "text": [
      "Epoch: 0006 cost= 33.385231939\nEpoch: 0006 cost= 33.652496065\nEpoch: 0006 cost= 33.843348782\nEpoch: 0006 cost= 33.941801034\nEpoch: 0006 cost= 33.941801034\nEpoch: 0006 cost= 34.016971323\nEpoch: 0006 cost= 34.019549820\nEpoch: 0006 cost= 34.028916422\nEpoch: 0006 cost= 34.148633399\nEpoch: 0006 cost= 34.353423494\nEpoch: 0006 cost= 34.564895121\nEpoch: 0006 cost= 34.570932798\n"
     ]
    },
    {
     "name": "stdout",
     "output_type": "stream",
     "text": [
      "Epoch: 0006 cost= 34.612385196\nEpoch: 0006 cost= 34.795193520\nEpoch: 0006 cost= 34.809001749\nEpoch: 0006 cost= 35.048523788\nEpoch: 0006 cost= 35.277493390\nEpoch: 0006 cost= 35.446088596\nEpoch: 0006 cost= 35.543577943\nEpoch: 0006 cost= 35.621468734\nEpoch: 0006 cost= 35.653135338\nEpoch: 0006 cost= 35.699959803\nEpoch: 0006 cost= 35.784352490\nEpoch: 0006 cost= 35.847447430\n"
     ]
    },
    {
     "name": "stdout",
     "output_type": "stream",
     "text": [
      "Epoch: 0006 cost= 35.847447430\nEpoch: 0006 cost= 36.049389541\nEpoch: 0006 cost= 36.116660062\nEpoch: 0006 cost= 36.150360763\nEpoch: 0006 cost= 36.454729215\nEpoch: 0006 cost= 36.516121760\nEpoch: 0006 cost= 36.747158803\nEpoch: 0006 cost= 36.819919374\nEpoch: 0006 cost= 36.951274785\nEpoch: 0006 cost= 37.091216843\nEpoch: 0006 cost= 37.209756327\nEpoch: 0006 cost= 37.209756327\n"
     ]
    },
    {
     "name": "stdout",
     "output_type": "stream",
     "text": [
      "Epoch: 0006 cost= 37.209756327\nEpoch: 0006 cost= 37.318903951\nEpoch: 0006 cost= 37.421626216\nEpoch: 0006 cost= 37.466153363\nEpoch: 0006 cost= 37.503161520\nEpoch: 0006 cost= 37.668964119\nEpoch: 0006 cost= 37.668964119\nEpoch: 0006 cost= 37.669743096\nEpoch: 0006 cost= 37.767767180\nEpoch: 0006 cost= 37.902550672\nEpoch: 0006 cost= 38.037513204\nEpoch: 0006 cost= 38.061460932\n"
     ]
    },
    {
     "name": "stdout",
     "output_type": "stream",
     "text": [
      "Epoch: 0006 cost= 38.391503879\nEpoch: 0006 cost= 38.391503879\nEpoch: 0006 cost= 38.506350965\nEpoch: 0006 cost= 38.580879288\nEpoch: 0006 cost= 38.601653489\nEpoch: 0006 cost= 38.823719432\nEpoch: 0006 cost= 38.928971459\nEpoch: 0006 cost= 39.111050663\nEpoch: 0006 cost= 39.205833545\nEpoch: 0006 cost= 39.205833545\nEpoch: 0006 cost= 39.224850289\n"
     ]
    },
    {
     "name": "stdout",
     "output_type": "stream",
     "text": [
      "Epoch: 0006 cost= 39.226249454\nEpoch: 0006 cost= 39.307163692\nEpoch: 0006 cost= 39.567228611\nEpoch: 0006 cost= 39.574580218\nEpoch: 0006 cost= 39.718988648\nEpoch: 0006 cost= 39.790196298\nEpoch: 0006 cost= 39.845669529\nEpoch: 0006 cost= 40.057987075\nEpoch: 0006 cost= 40.123376937\nEpoch: 0006 cost= 40.161716670\nEpoch: 0006 cost= 40.219623594\nEpoch: 0006 cost= 40.219623594\n"
     ]
    },
    {
     "name": "stdout",
     "output_type": "stream",
     "text": [
      "Epoch: 0006 cost= 40.287076007\nEpoch: 0006 cost= 40.287076007\nEpoch: 0006 cost= 40.287076007\nEpoch: 0006 cost= 40.496973996\nEpoch: 0006 cost= 40.496973996\nEpoch: 0006 cost= 40.809155808\nEpoch: 0006 cost= 40.929843175\nEpoch: 0006 cost= 41.238948011\nEpoch: 0006 cost= 41.238948011\nEpoch: 0006 cost= 41.315419603\nEpoch: 0006 cost= 41.389551725\nEpoch: 0006 cost= 41.389551725\n"
     ]
    },
    {
     "name": "stdout",
     "output_type": "stream",
     "text": [
      "Epoch: 0006 cost= 41.389551725\nEpoch: 0006 cost= 41.389551725\nEpoch: 0006 cost= 41.389551725\nEpoch: 0006 cost= 41.554188053\nEpoch: 0006 cost= 41.558148475\nEpoch: 0006 cost= 41.590673614\nEpoch: 0006 cost= 41.665311502\nEpoch: 0006 cost= 41.668892637\nEpoch: 0006 cost= 41.730768386\nEpoch: 0006 cost= 41.761037107\nEpoch: 0006 cost= 41.761037107\n"
     ]
    },
    {
     "name": "stdout",
     "output_type": "stream",
     "text": [
      "Epoch: 0006 cost= 41.840862318\nEpoch: 0006 cost= 41.912000214\nEpoch: 0006 cost= 42.020077503\nEpoch: 0006 cost= 42.049299714\nEpoch: 0006 cost= 42.077114966\nEpoch: 0006 cost= 42.155292893\nEpoch: 0006 cost= 42.188822615\nEpoch: 0006 cost= 42.275664864\nEpoch: 0006 cost= 42.711816791\nEpoch: 0006 cost= 42.732352285\nEpoch: 0006 cost= 42.825570523\n"
     ]
    },
    {
     "name": "stdout",
     "output_type": "stream",
     "text": [
      "Epoch: 0006 cost= 42.887161515\nEpoch: 0006 cost= 42.894322311\nEpoch: 0006 cost= 43.027210453\nEpoch: 0006 cost= 43.096676985\nEpoch: 0006 cost= 43.144757672\nEpoch: 0006 cost= 43.289971822\nEpoch: 0006 cost= 43.350843085\nEpoch: 0006 cost= 43.593880111\nEpoch: 0006 cost= 43.842478799\nEpoch: 0006 cost= 43.866298846\nEpoch: 0006 cost= 43.934121181\n"
     ]
    },
    {
     "name": "stdout",
     "output_type": "stream",
     "text": [
      "Epoch: 0006 cost= 44.193918405\nEpoch: 0006 cost= 44.248067794\nEpoch: 0006 cost= 44.248067794\nEpoch: 0006 cost= 44.365906026\nEpoch: 0006 cost= 44.556893852\nEpoch: 0006 cost= 44.651729300\nEpoch: 0006 cost= 44.734972937\nEpoch: 0006 cost= 44.753836724\nEpoch: 0006 cost= 44.991513032\nEpoch: 0006 cost= 44.991513032\nEpoch: 0006 cost= 45.103024589\n"
     ]
    },
    {
     "name": "stdout",
     "output_type": "stream",
     "text": [
      "Epoch: 0006 cost= 45.134685796\nEpoch: 0006 cost= 45.261745219\nEpoch: 0006 cost= 45.423131508\nEpoch: 0006 cost= 45.502652410\nEpoch: 0006 cost= 45.546923646\nEpoch: 0006 cost= 45.667716243\nEpoch: 0006 cost= 45.807047409\nEpoch: 0006 cost= 45.838610228\nEpoch: 0006 cost= 46.066678160\nEpoch: 0006 cost= 46.142529712\nEpoch: 0006 cost= 46.433089681\nEpoch: 0006 cost= 46.517778201\n"
     ]
    },
    {
     "name": "stdout",
     "output_type": "stream",
     "text": [
      "Epoch: 0006 cost= 46.760690493\nEpoch: 0006 cost= 46.830384028\nEpoch: 0006 cost= 47.202986650\nEpoch: 0006 cost= 47.278691648\nEpoch: 0006 cost= 47.278691648\nEpoch: 0006 cost= 47.462104733\nEpoch: 0006 cost= 47.491182947\nEpoch: 0006 cost= 47.536970349\nEpoch: 0006 cost= 47.683251865\nEpoch: 0006 cost= 47.936592818\nEpoch: 0006 cost= 48.134717319\n"
     ]
    },
    {
     "name": "stdout",
     "output_type": "stream",
     "text": [
      "Epoch: 0006 cost= 48.163122592\nEpoch: 0006 cost= 48.308695379\nEpoch: 0006 cost= 48.334212798\nEpoch: 0006 cost= 48.542191993\nEpoch: 0006 cost= 48.753786467\nEpoch: 0006 cost= 48.755000281\nEpoch: 0006 cost= 48.789063110\nEpoch: 0006 cost= 49.026241594\nEpoch: 0006 cost= 49.430105091\nEpoch: 0006 cost= 49.472913739\nEpoch: 0006 cost= 49.676990832\nEpoch: 0006 cost= 50.007107658\n"
     ]
    },
    {
     "name": "stdout",
     "output_type": "stream",
     "text": [
      "Epoch: 0006 cost= 50.025052652\nEpoch: 0006 cost= 50.058647477\nEpoch: 0006 cost= 50.100822090\nEpoch: 0007 cost= 0.000000000\nEpoch: 0007 cost= 0.000000000\n"
     ]
    },
    {
     "name": "stdout",
     "output_type": "stream",
     "text": [
      "Epoch: 0007 cost= 0.067067469\nEpoch: 0007 cost= 0.100620710\nEpoch: 0007 cost= 0.105931834\nEpoch: 0007 cost= 0.203228088\nEpoch: 0007 cost= 0.279692703\nEpoch: 0007 cost= 0.279693807\nEpoch: 0007 cost= 0.335001390\nEpoch: 0007 cost= 0.448048223\nEpoch: 0007 cost= 0.512503033\nEpoch: 0007 cost= 0.537026160\nEpoch: 0007 cost= 0.683909483\nEpoch: 0007 cost= 0.683909483\n"
     ]
    },
    {
     "name": "stdout",
     "output_type": "stream",
     "text": [
      "Epoch: 0007 cost= 0.683909483\nEpoch: 0007 cost= 0.796542560\nEpoch: 0007 cost= 0.892209536\nEpoch: 0007 cost= 0.892209536\nEpoch: 0007 cost= 0.901882778\nEpoch: 0007 cost= 0.943887589\nEpoch: 0007 cost= 1.220561145\nEpoch: 0007 cost= 1.298947036\nEpoch: 0007 cost= 1.436734068\nEpoch: 0007 cost= 1.484065954\nEpoch: 0007 cost= 1.484065954\nEpoch: 0007 cost= 1.530194060\n"
     ]
    },
    {
     "name": "stdout",
     "output_type": "stream",
     "text": [
      "Epoch: 0007 cost= 1.601432713\nEpoch: 0007 cost= 1.699903346\nEpoch: 0007 cost= 1.738891574\nEpoch: 0007 cost= 1.834077911\nEpoch: 0007 cost= 1.896518991\nEpoch: 0007 cost= 1.896518991\nEpoch: 0007 cost= 1.946690590\nEpoch: 0007 cost= 1.947488726\nEpoch: 0007 cost= 1.954218449\nEpoch: 0007 cost= 1.955116318\nEpoch: 0007 cost= 2.065577522\nEpoch: 0007 cost= 2.065577522\n"
     ]
    },
    {
     "name": "stdout",
     "output_type": "stream",
     "text": [
      "Epoch: 0007 cost= 2.065578791\nEpoch: 0007 cost= 2.065578791\nEpoch: 0007 cost= 2.168924114\nEpoch: 0007 cost= 2.168924114\nEpoch: 0007 cost= 2.308896038\nEpoch: 0007 cost= 2.313917984\nEpoch: 0007 cost= 2.313917991\nEpoch: 0007 cost= 2.363766953\nEpoch: 0007 cost= 2.363766953\nEpoch: 0007 cost= 2.363766953\nEpoch: 0007 cost= 2.363766953\n"
     ]
    },
    {
     "name": "stdout",
     "output_type": "stream",
     "text": [
      "Epoch: 0007 cost= 2.417575537\nEpoch: 0007 cost= 2.417575537\nEpoch: 0007 cost= 2.453571166\nEpoch: 0007 cost= 2.514094313\nEpoch: 0007 cost= 2.569279153\nEpoch: 0007 cost= 2.569279153\nEpoch: 0007 cost= 2.740650030\nEpoch: 0007 cost= 2.786635599\nEpoch: 0007 cost= 2.786635599\nEpoch: 0007 cost= 2.842284559\nEpoch: 0007 cost= 2.874185838\nEpoch: 0007 cost= 2.874185838\n"
     ]
    },
    {
     "name": "stdout",
     "output_type": "stream",
     "text": [
      "Epoch: 0007 cost= 2.874185838\nEpoch: 0007 cost= 2.916022872\nEpoch: 0007 cost= 2.927676968\nEpoch: 0007 cost= 2.936277323\nEpoch: 0007 cost= 2.964516298\nEpoch: 0007 cost= 2.973640250\nEpoch: 0007 cost= 2.973640250\nEpoch: 0007 cost= 2.973640250\nEpoch: 0007 cost= 3.074624109\nEpoch: 0007 cost= 3.074624109\nEpoch: 0007 cost= 3.116502501\n"
     ]
    },
    {
     "name": "stdout",
     "output_type": "stream",
     "text": [
      "Epoch: 0007 cost= 3.251540356\nEpoch: 0007 cost= 3.403618589\nEpoch: 0007 cost= 3.405628515\nEpoch: 0007 cost= 3.503301348\nEpoch: 0007 cost= 3.503301348\nEpoch: 0007 cost= 3.504925367\nEpoch: 0007 cost= 3.523002160\nEpoch: 0007 cost= 3.594476346\nEpoch: 0007 cost= 3.594476346\nEpoch: 0007 cost= 3.611198869\nEpoch: 0007 cost= 3.678974873\nEpoch: 0007 cost= 3.735248621\n"
     ]
    },
    {
     "name": "stdout",
     "output_type": "stream",
     "text": [
      "Epoch: 0007 cost= 3.818947393\nEpoch: 0007 cost= 3.829965273\nEpoch: 0007 cost= 3.942812154\nEpoch: 0007 cost= 4.052362277\nEpoch: 0007 cost= 4.080240792\nEpoch: 0007 cost= 4.169543659\nEpoch: 0007 cost= 4.169543659\nEpoch: 0007 cost= 4.169543659\nEpoch: 0007 cost= 4.170409395\nEpoch: 0007 cost= 4.464276500\nEpoch: 0007 cost= 4.530142921\n"
     ]
    },
    {
     "name": "stdout",
     "output_type": "stream",
     "text": [
      "Epoch: 0007 cost= 4.556123576\nEpoch: 0007 cost= 4.621065932\nEpoch: 0007 cost= 4.628468378\nEpoch: 0007 cost= 4.651187963\nEpoch: 0007 cost= 4.732522087\nEpoch: 0007 cost= 4.732522087\nEpoch: 0007 cost= 4.850541177\nEpoch: 0007 cost= 4.934203675\nEpoch: 0007 cost= 5.078553457\nEpoch: 0007 cost= 5.282139494\nEpoch: 0007 cost= 5.321192194\nEpoch: 0007 cost= 5.422623205\nEpoch: 0007 cost= 5.422623205\n"
     ]
    },
    {
     "name": "stdout",
     "output_type": "stream",
     "text": [
      "Epoch: 0007 cost= 5.562768024\nEpoch: 0007 cost= 5.562768024\nEpoch: 0007 cost= 5.575727286\nEpoch: 0007 cost= 5.575965709\nEpoch: 0007 cost= 5.635725127\nEpoch: 0007 cost= 5.657792457\nEpoch: 0007 cost= 5.672591298\nEpoch: 0007 cost= 5.672591298\nEpoch: 0007 cost= 5.672591298\nEpoch: 0007 cost= 5.686020617\nEpoch: 0007 cost= 5.753733907\nEpoch: 0007 cost= 5.753733907\n"
     ]
    },
    {
     "name": "stdout",
     "output_type": "stream",
     "text": [
      "Epoch: 0007 cost= 5.753733907\nEpoch: 0007 cost= 5.912130125\nEpoch: 0007 cost= 6.075928814\nEpoch: 0007 cost= 6.134520747\nEpoch: 0007 cost= 6.134520747\nEpoch: 0007 cost= 6.256700049\nEpoch: 0007 cost= 6.256700049\nEpoch: 0007 cost= 6.272410987\nEpoch: 0007 cost= 6.281811050\nEpoch: 0007 cost= 6.301626880\nEpoch: 0007 cost= 6.302119134\nEpoch: 0007 cost= 6.302119134\n"
     ]
    },
    {
     "name": "stdout",
     "output_type": "stream",
     "text": [
      "Epoch: 0007 cost= 6.302593370\nEpoch: 0007 cost= 6.375993958\nEpoch: 0007 cost= 6.378186456\nEpoch: 0007 cost= 6.393756510\nEpoch: 0007 cost= 6.400085932\nEpoch: 0007 cost= 6.501269154\nEpoch: 0007 cost= 6.593273243\nEpoch: 0007 cost= 6.739361528\nEpoch: 0007 cost= 6.739361528\nEpoch: 0007 cost= 6.799680020\nEpoch: 0007 cost= 6.859611681\nEpoch: 0007 cost= 6.882914779\n"
     ]
    },
    {
     "name": "stdout",
     "output_type": "stream",
     "text": [
      "Epoch: 0007 cost= 6.962268472\nEpoch: 0007 cost= 6.986666910\nEpoch: 0007 cost= 7.034779655\nEpoch: 0007 cost= 7.070488422\nEpoch: 0007 cost= 7.110753887\nEpoch: 0007 cost= 7.119082740\nEpoch: 0007 cost= 7.269563170\nEpoch: 0007 cost= 7.397854255\nEpoch: 0007 cost= 7.411372970\nEpoch: 0007 cost= 7.515374622\nEpoch: 0007 cost= 7.615336822\nEpoch: 0007 cost= 7.620040524\n"
     ]
    },
    {
     "name": "stdout",
     "output_type": "stream",
     "text": [
      "Epoch: 0007 cost= 7.669767041\nEpoch: 0007 cost= 7.747712743\nEpoch: 0007 cost= 7.747712743\nEpoch: 0007 cost= 7.780122581\nEpoch: 0007 cost= 7.780122581\nEpoch: 0007 cost= 7.803609638\nEpoch: 0007 cost= 7.818147617\nEpoch: 0007 cost= 7.836701217\nEpoch: 0007 cost= 7.929039766\nEpoch: 0007 cost= 7.983051981\nEpoch: 0007 cost= 8.038847044\nEpoch: 0007 cost= 8.038847044\nEpoch: 0007 cost= 8.058461008\n"
     ]
    },
    {
     "name": "stdout",
     "output_type": "stream",
     "text": [
      "Epoch: 0007 cost= 8.058461008\nEpoch: 0007 cost= 8.232010952\nEpoch: 0007 cost= 8.253418679\nEpoch: 0007 cost= 8.339103244\nEpoch: 0007 cost= 8.342066316\nEpoch: 0007 cost= 8.380087543\nEpoch: 0007 cost= 8.380087543\nEpoch: 0007 cost= 8.380087543\nEpoch: 0007 cost= 8.451767272\nEpoch: 0007 cost= 8.451767272\nEpoch: 0007 cost= 8.498572196\nEpoch: 0007 cost= 8.509615067\n"
     ]
    },
    {
     "name": "stdout",
     "output_type": "stream",
     "text": [
      "Epoch: 0007 cost= 8.513713258\nEpoch: 0007 cost= 8.513713258\nEpoch: 0007 cost= 8.522966436\nEpoch: 0007 cost= 8.548125537\nEpoch: 0007 cost= 8.548125537\nEpoch: 0007 cost= 8.556805544\nEpoch: 0007 cost= 8.647132589\nEpoch: 0007 cost= 8.727636670\nEpoch: 0007 cost= 8.797745395\nEpoch: 0007 cost= 8.930223506\nEpoch: 0007 cost= 8.962476338\nEpoch: 0007 cost= 8.962476338\n"
     ]
    },
    {
     "name": "stdout",
     "output_type": "stream",
     "text": [
      "Epoch: 0007 cost= 9.116082378\nEpoch: 0007 cost= 9.116082378\nEpoch: 0007 cost= 9.116082378\nEpoch: 0007 cost= 9.116082378\nEpoch: 0007 cost= 9.167195392\nEpoch: 0007 cost= 9.193406526\nEpoch: 0007 cost= 9.301557875\nEpoch: 0007 cost= 9.301557875\nEpoch: 0007 cost= 9.469895305\nEpoch: 0007 cost= 9.632616724\nEpoch: 0007 cost= 9.640924646\nEpoch: 0007 cost= 9.661272284\n"
     ]
    },
    {
     "name": "stdout",
     "output_type": "stream",
     "text": [
      "Epoch: 0007 cost= 9.743833826\nEpoch: 0007 cost= 9.767566852\nEpoch: 0007 cost= 9.805339818\nEpoch: 0007 cost= 9.905295942\nEpoch: 0007 cost= 9.914033433\nEpoch: 0007 cost= 9.941324769\nEpoch: 0007 cost= 9.986547225\nEpoch: 0007 cost= 10.068630660\nEpoch: 0007 cost= 10.068630660\nEpoch: 0007 cost= 10.068630660\nEpoch: 0007 cost= 10.246576397\nEpoch: 0007 cost= 10.246576397\n"
     ]
    },
    {
     "name": "stdout",
     "output_type": "stream",
     "text": [
      "Epoch: 0007 cost= 10.323630154\nEpoch: 0007 cost= 10.405845834\nEpoch: 0007 cost= 10.602139793\nEpoch: 0007 cost= 10.634194160\nEpoch: 0007 cost= 10.700199867\nEpoch: 0007 cost= 10.777906915\nEpoch: 0007 cost= 10.788109436\nEpoch: 0007 cost= 10.793795565\nEpoch: 0007 cost= 10.898236545\nEpoch: 0007 cost= 10.987513709\nEpoch: 0007 cost= 11.197309768\nEpoch: 0007 cost= 11.266920419\n"
     ]
    },
    {
     "name": "stdout",
     "output_type": "stream",
     "text": [
      "Epoch: 0007 cost= 11.279010050\nEpoch: 0007 cost= 11.303690057\nEpoch: 0007 cost= 11.335271724\nEpoch: 0007 cost= 11.355200204\nEpoch: 0007 cost= 11.362060280\nEpoch: 0007 cost= 11.440975477\nEpoch: 0007 cost= 11.541606331\nEpoch: 0007 cost= 11.844105804\nEpoch: 0007 cost= 11.844105804\nEpoch: 0007 cost= 12.028518521\nEpoch: 0007 cost= 12.090928272\nEpoch: 0007 cost= 12.116113979\n"
     ]
    },
    {
     "name": "stdout",
     "output_type": "stream",
     "text": [
      "Epoch: 0007 cost= 12.227751177\nEpoch: 0007 cost= 12.309258538\nEpoch: 0007 cost= 12.309258538\nEpoch: 0007 cost= 12.319403104\nEpoch: 0007 cost= 12.333700174\nEpoch: 0007 cost= 12.363349749\nEpoch: 0007 cost= 12.375101303\nEpoch: 0007 cost= 12.690593552\nEpoch: 0007 cost= 12.796524199\nEpoch: 0007 cost= 12.970943408\nEpoch: 0007 cost= 13.011216856\nEpoch: 0007 cost= 13.018078601\n"
     ]
    },
    {
     "name": "stdout",
     "output_type": "stream",
     "text": [
      "Epoch: 0007 cost= 13.069206964\nEpoch: 0007 cost= 13.069206964\nEpoch: 0007 cost= 13.070656494\nEpoch: 0007 cost= 13.268880468\nEpoch: 0007 cost= 13.400675137\nEpoch: 0007 cost= 13.415198858\nEpoch: 0007 cost= 13.575945804\nEpoch: 0007 cost= 13.575945804\nEpoch: 0007 cost= 13.595621159\nEpoch: 0007 cost= 13.620306318\nEpoch: 0007 cost= 13.773640211\nEpoch: 0007 cost= 13.773640211\nEpoch: 0007 cost= 13.773640211\n"
     ]
    },
    {
     "name": "stdout",
     "output_type": "stream",
     "text": [
      "Epoch: 0007 cost= 13.773640211\nEpoch: 0007 cost= 13.822250954\nEpoch: 0007 cost= 13.822250954\nEpoch: 0007 cost= 14.115101462\nEpoch: 0007 cost= 14.155902056\nEpoch: 0007 cost= 14.155902056\nEpoch: 0007 cost= 14.237515548\nEpoch: 0007 cost= 14.290111599\nEpoch: 0007 cost= 14.290111599\nEpoch: 0007 cost= 14.367733988\nEpoch: 0007 cost= 14.556008621\nEpoch: 0007 cost= 14.915390751\n"
     ]
    },
    {
     "name": "stdout",
     "output_type": "stream",
     "text": [
      "Epoch: 0007 cost= 15.100553993\nEpoch: 0007 cost= 15.129500620\nEpoch: 0007 cost= 15.129500620\nEpoch: 0007 cost= 15.222551386\nEpoch: 0007 cost= 15.257771778\nEpoch: 0007 cost= 15.375216597\nEpoch: 0007 cost= 15.423280513\nEpoch: 0007 cost= 15.457149684\nEpoch: 0007 cost= 15.506029328\nEpoch: 0007 cost= 15.529409202\nEpoch: 0007 cost= 15.743305797\nEpoch: 0007 cost= 15.743305797\n"
     ]
    },
    {
     "name": "stdout",
     "output_type": "stream",
     "text": [
      "Epoch: 0007 cost= 15.794174050\nEpoch: 0007 cost= 15.801241833\nEpoch: 0007 cost= 15.901032156\nEpoch: 0007 cost= 15.952822799\nEpoch: 0007 cost= 16.203640476\nEpoch: 0007 cost= 16.203640476\nEpoch: 0007 cost= 16.293828652\nEpoch: 0007 cost= 16.293828652\nEpoch: 0007 cost= 16.381233693\nEpoch: 0007 cost= 16.406867216\nEpoch: 0007 cost= 16.475449688\nEpoch: 0007 cost= 16.475449688\n"
     ]
    },
    {
     "name": "stdout",
     "output_type": "stream",
     "text": [
      "Epoch: 0007 cost= 16.475449688\nEpoch: 0007 cost= 16.527962779\nEpoch: 0007 cost= 16.538267503\nEpoch: 0007 cost= 16.566962505\nEpoch: 0007 cost= 16.677421080\nEpoch: 0007 cost= 16.721773629\nEpoch: 0007 cost= 16.769625681\nEpoch: 0007 cost= 17.003667345\nEpoch: 0007 cost= 17.004775495\nEpoch: 0007 cost= 17.035387862\nEpoch: 0007 cost= 17.098487962\nEpoch: 0007 "
     ]
    },
    {
     "name": "stdout",
     "output_type": "stream",
     "text": [
      "cost= 17.160983877\nEpoch: 0007 cost= 17.219467597\nEpoch: 0007 cost= 17.349342642\nEpoch: 0007 cost= 17.402665316\nEpoch: 0007 cost= 17.402665316\nEpoch: 0007 cost= 17.402665316\nEpoch: 0007 cost= 17.402665316\nEpoch: 0007 cost= 17.413603513\nEpoch: 0007 cost= 17.554159654\nEpoch: 0007 cost= 17.635121922\nEpoch: 0007 cost= 17.749464212\nEpoch: 0007 cost= 17.797126268\nEpoch: 0007 cost= 17.865610827\n"
     ]
    },
    {
     "name": "stdout",
     "output_type": "stream",
     "text": [
      "Epoch: 0007 cost= 17.870552775\nEpoch: 0007 cost= 18.030478062\nEpoch: 0007 cost= 18.070989839\nEpoch: 0007 cost= 18.089362974\nEpoch: 0007 cost= 18.125720185\nEpoch: 0007 cost= 18.134800973\nEpoch: 0007 cost= 18.177825317\nEpoch: 0007 cost= 18.422514509\nEpoch: 0007 cost= 18.554460046\nEpoch: 0007 cost= 18.579864125\nEpoch: 0007 cost= 18.604272533\nEpoch: 0007 cost= 18.604272533\n"
     ]
    },
    {
     "name": "stdout",
     "output_type": "stream",
     "text": [
      "Epoch: 0007 cost= 18.627290697\nEpoch: 0007 cost= 18.627290697\nEpoch: 0007 cost= 18.653206748\nEpoch: 0007 cost= 18.695790678\nEpoch: 0007 cost= 18.723916414\nEpoch: 0007 cost= 18.852877359\nEpoch: 0007 cost= 18.884175674\nEpoch: 0007 cost= 18.935708416\nEpoch: 0007 cost= 19.075374429\nEpoch: 0007 cost= 19.100157961\nEpoch: 0007 cost= 19.322914086\nEpoch: 0007 cost= 19.426567415\n"
     ]
    },
    {
     "name": "stdout",
     "output_type": "stream",
     "text": [
      "Epoch: 0007 cost= 19.426567415\nEpoch: 0007 cost= 19.426567415\nEpoch: 0007 cost= 19.457455501\nEpoch: 0007 cost= 19.457455501\nEpoch: 0007 cost= 19.519251446\nEpoch: 0007 cost= 19.596143099\nEpoch: 0007 cost= 19.617503051\nEpoch: 0007 cost= 19.617503051\nEpoch: 0007 cost= 19.644259301\nEpoch: 0007 cost= 19.644259301\nEpoch: 0007 cost= 19.644259301\n"
     ]
    },
    {
     "name": "stdout",
     "output_type": "stream",
     "text": [
      "Epoch: 0007 cost= 19.644259301\nEpoch: 0007 cost= 19.656362302\nEpoch: 0007 cost= 19.656362302\nEpoch: 0007 cost= 19.660624021\nEpoch: 0007 cost= 19.694036503\nEpoch: 0007 cost= 19.694036503\nEpoch: 0007 cost= 19.719136624\nEpoch: 0007 cost= 19.721232966\nEpoch: 0007 cost= 19.773463031\nEpoch: 0007 cost= 19.937316513\nEpoch: 0007 cost= 20.132775553\nEpoch: 0007 cost= 20.335285208\n"
     ]
    },
    {
     "name": "stdout",
     "output_type": "stream",
     "text": [
      "Epoch: 0007 cost= 20.335285208\nEpoch: 0007 cost= 20.439104115\nEpoch: 0007 cost= 20.502067691\nEpoch: 0007 cost= 20.525487453\nEpoch: 0007 cost= 20.734214495\nEpoch: 0007 cost= 20.751555972\nEpoch: 0007 cost= 20.751555972\nEpoch: 0007 cost= 20.785412967\nEpoch: 0007 cost= 20.858072096\nEpoch: 0007 cost= 20.979599445\nEpoch: 0007 cost= 21.031171641\n"
     ]
    },
    {
     "name": "stdout",
     "output_type": "stream",
     "text": [
      "Epoch: 0007 cost= 21.091592839\nEpoch: 0007 cost= 21.223556978\nEpoch: 0007 cost= 21.316090992\nEpoch: 0007 cost= 21.316090992\nEpoch: 0007 cost= 21.523359086\nEpoch: 0007 cost= 21.527172216\nEpoch: 0007 cost= 21.797051394\nEpoch: 0007 cost= 21.815489213\nEpoch: 0007 cost= 21.832720169\nEpoch: 0007 cost= 21.832720169\nEpoch: 0007 cost= 21.846710981\nEpoch: 0007 cost= 21.915173055\n"
     ]
    },
    {
     "name": "stdout",
     "output_type": "stream",
     "text": [
      "Epoch: 0007 cost= 21.934833389\nEpoch: 0007 cost= 21.934833389\nEpoch: 0007 cost= 21.986327096\nEpoch: 0007 cost= 22.123063907\nEpoch: 0007 cost= 22.315857083\nEpoch: 0007 cost= 22.336597622\nEpoch: 0007 cost= 22.636729735\nEpoch: 0007 cost= 22.714265399\nEpoch: 0007 cost= 22.714265399\nEpoch: 0007 cost= 22.714901141\nEpoch:"
     ]
    },
    {
     "name": "stdout",
     "output_type": "stream",
     "text": [
      " 0007 cost= 22.732993143\nEpoch: 0007 cost= 22.732993143\nEpoch: 0007 cost= 22.750677569\nEpoch: 0007 cost= 22.750677569\nEpoch: 0007 cost= 22.774314987\nEpoch: 0007 cost= 22.980392549\nEpoch: 0007 cost= 23.127563681\nEpoch: 0007 cost= 23.216921688\nEpoch: 0007 cost= 23.630960051\nEpoch: 0007 cost= 23.814806043\nEpoch: 0007 cost= 23.814806043\nEpoch: 0007 cost= 23.867543827\n"
     ]
    },
    {
     "name": "stdout",
     "output_type": "stream",
     "text": [
      "Epoch: 0007 cost= 24.002915919\nEpoch: 0007 cost= 24.036239499\nEpoch: 0007 cost= 24.042951729\nEpoch: 0007 cost= 24.166128276\nEpoch: 0007 cost= 24.273250010\nEpoch: 0007 cost= 24.273250010\nEpoch: 0007 cost= 24.509323230\nEpoch: 0007 cost= 24.537257251\nEpoch: 0007 cost= 24.567640982\nEpoch: 0007 cost= 24.567640982\nEpoch: 0007 cost= 25.111275847\nEpoch: 0007 cost= 25.111275847\n"
     ]
    },
    {
     "name": "stdout",
     "output_type": "stream",
     "text": [
      "Epoch: 0007 cost= 25.136029239\nEpoch: 0007 cost= 25.157262389\nEpoch: 0007 cost= 25.157262389\nEpoch: 0007 cost= 25.244742434\nEpoch: 0007 cost= 25.244742434\nEpoch: 0007 cost= 25.283346581\nEpoch: 0007 cost= 25.406739026\nEpoch: 0007 cost= 25.406739026\nEpoch: 0007 cost= 25.406739026\nEpoch: 0007 cost= 25.595944945\nEpoch: 0007 cost= 25.660364105\n"
     ]
    },
    {
     "name": "stdout",
     "output_type": "stream",
     "text": [
      "Epoch: 0007 cost= 25.740810036\nEpoch: 0007 cost= 25.740810036\nEpoch: 0007 cost= 25.770942032\nEpoch: 0007 cost= 25.786868736\nEpoch: 0007 cost= 25.786868736\nEpoch: 0007 cost= 25.874468452\nEpoch: 0007 cost= 25.931551021\nEpoch: 0007 cost= 25.931551021\nEpoch: 0007 cost= 25.931551021\nEpoch: 0007 cost= 26.049047095\nEpoch: 0007 cost= 26.077901586\nEpoch: 0007 cost= 26.129416892\n"
     ]
    },
    {
     "name": "stdout",
     "output_type": "stream",
     "text": [
      "Epoch: 0007 cost= 26.231505889\nEpoch: 0007 cost= 26.257044063\nEpoch: 0007 cost= 26.454009825\nEpoch: 0007 cost= 26.469826054\nEpoch: 0007 cost= 26.479072468\nEpoch: 0007 cost= 26.547172027\nEpoch: 0007 cost= 26.547172027\nEpoch: 0007 cost= 26.606304496\nEpoch: 0007 cost= 26.668028864\nEpoch: 0007 cost= 26.748706264\nEpoch: 0007 cost= 26.826484612\nEpoch: 0007 cost= 27.114656886\n"
     ]
    },
    {
     "name": "stdout",
     "output_type": "stream",
     "text": [
      "Epoch: 0007 cost= 27.142322814\nEpoch: 0007 cost= 27.306759320\nEpoch: 0007 cost= 27.369239207\nEpoch: 0007 cost= 27.480037810\nEpoch: 0007 cost= 27.480037810\nEpoch: 0007 cost= 27.480037810\nEpoch: 0007 cost= 27.480037810\nEpoch: 0007 cost= 27.498769565\nEpoch: 0007 cost= 27.547501657\nEpoch: 0007 cost= 27.547501657\nEpoch: 0007 cost= 27.599362997\n"
     ]
    },
    {
     "name": "stdout",
     "output_type": "stream",
     "text": [
      "Epoch: 0007 cost= 27.741740469\nEpoch: 0007 cost= 27.931809328\nEpoch: 0007 cost= 28.088721670\nEpoch: 0007 cost= 28.135162818\nEpoch: 0007 cost= 28.138874377\nEpoch: 0007 cost= 28.138874377\nEpoch: 0007 cost= 28.138874377\nEpoch: 0007 cost= 28.138874377\nEpoch: 0007 cost= 28.180171415\nEpoch: 0007 cost= 28.183036676\nEpoch: 0007 cost= 28.264581511\nEpoch: 0007 cost= 28.395121991\n"
     ]
    },
    {
     "name": "stdout",
     "output_type": "stream",
     "text": [
      "Epoch: 0007 cost= 28.395121991\nEpoch: 0007 cost= 28.395121991\nEpoch: 0007 cost= 28.408913459\nEpoch: 0007 cost= 28.432440306\nEpoch: 0007 cost= 28.448628925\nEpoch: 0007 cost= 28.448628925\nEpoch: 0007 cost= 28.448628925\nEpoch: 0007 cost= 28.728188750\nEpoch: 0007 cost= 28.810484865\nEpoch: 0007 cost= 28.810484865\nEpoch: 0007 cost= 28.864466344\nEpoch: 0007 cost= 28.987985687\n"
     ]
    },
    {
     "name": "stdout",
     "output_type": "stream",
     "text": [
      "Epoch: 0007 cost= 29.127614954\nEpoch: 0007 cost= 29.215372800\nEpoch: 0007 cost= 29.267000461\nEpoch: 0007 cost= 29.269766521\nEpoch: 0007 cost= 29.269766521\nEpoch: 0007 cost= 29.322181884\nEpoch: 0007 cost= 29.337076943\nEpoch: 0007 cost= 29.341659223\nEpoch: 0007 cost= 29.533086780\nEpoch: 0007 cost= 29.646771063\nEpoch: 0007 cost= 29.755411734\nEpoch: 0007 cost= 29.865070166\n"
     ]
    },
    {
     "name": "stdout",
     "output_type": "stream",
     "text": [
      "Epoch: 0007 cost= 29.974340366\nEpoch: 0007 cost= 30.058362277\nEpoch: 0007 cost= 30.058362277\nEpoch: 0007 cost= 30.067196679\nEpoch: 0007 cost= 30.090764177\nEpoch: 0007 cost= 30.202349433\nEpoch: 0007 cost= 30.212168530\nEpoch: 0007 cost= 30.233474554\nEpoch: 0007 cost= 30.250486894\nEpoch: 0007 cost= 30.258185899\nEpoch: 0007 cost= 30.447845712\nEpoch: 0007 cost= 30.508175031\n"
     ]
    },
    {
     "name": "stdout",
     "output_type": "stream",
     "text": [
      "Epoch: 0007 cost= 30.692003766\nEpoch: 0007 cost= 30.692003766\nEpoch: 0007 cost= 30.717805267\nEpoch: 0007 cost= 30.717805267\nEpoch: 0007 cost= 30.717805267\nEpoch: 0007 cost= 30.737478096\nEpoch: 0007 cost= 30.753740241\nEpoch: 0007 cost= 30.834697009\nEpoch: 0007 cost= 30.834697009\nEpoch: 0007 cost= 30.837637509\nEpoch: 0007 cost= 30.968066892\nEpoch: 0007 cost= 30.968066892\n"
     ]
    },
    {
     "name": "stdout",
     "output_type": "stream",
     "text": [
      "Epoch: 0007 cost= 30.968066892\nEpoch: 0007 cost= 31.028372608\nEpoch: 0007 cost= 31.056191394\nEpoch: 0007 cost= 31.112507395\nEpoch: 0007 cost= 31.152372882\nEpoch: 0007 cost= 31.231627025\nEpoch: 0007 cost= 31.253558707\nEpoch: 0007 cost= 31.400008597\nEpoch: 0007 cost= 31.424608934\nEpoch: 0007 cost= 31.472246655\nEpoch: 0007 cost= 31.474480072\nEpoch: 0007 cost= 31.564311712\n"
     ]
    },
    {
     "name": "stdout",
     "output_type": "stream",
     "text": [
      "Epoch: 0007 cost= 31.725189924\nEpoch: 0007 cost= 31.725189924\nEpoch: 0008 cost= 0.089112438\nEpoch: 0008 cost= 0.151326107\nEpoch: 0008 cost= 0.245022805\n"
     ]
    },
    {
     "name": "stdout",
     "output_type": "stream",
     "text": [
      "Epoch: 0008 cost= 0.245022805\nEpoch: 0008 cost= 0.264626201\nEpoch: 0008 cost= 0.264626201\nEpoch: 0008 cost= 0.294918088\nEpoch: 0008 cost= 0.295282701\nEpoch: 0008 cost= 0.297657865\nEpoch: 0008 cost= 0.553021746\nEpoch: 0008 cost= 0.592796380\nEpoch: 0008 cost= 0.592796380\nEpoch: 0008 cost= 0.597429211\nEpoch: 0008 cost= 0.597429211\nEpoch: 0008 cost= 0.605021318\n"
     ]
    },
    {
     "name": "stdout",
     "output_type": "stream",
     "text": [
      "Epoch: 0008 cost= 0.605021318\nEpoch: 0008 cost= 0.642637122\nEpoch: 0008 cost= 0.642637122\nEpoch: 0008 cost= 0.642637122\nEpoch: 0008 cost= 0.676426077\nEpoch: 0008 cost= 0.801517588\nEpoch: 0008 cost= 0.811212495\nEpoch: 0008 cost= 0.811212495\nEpoch: 0008 cost= 0.811212495\nEpoch: 0008 cost= 0.831639359\nEpoch: 0008 cost= 0.831639359\nEpoch: 0008 cost= 0.831639359\n"
     ]
    },
    {
     "name": "stdout",
     "output_type": "stream",
     "text": [
      "Epoch: 0008 cost= 0.899102877\nEpoch: 0008 cost= 0.949455951\nEpoch: 0008 cost= 0.949455951\nEpoch: 0008 cost= 0.949455951\nEpoch: 0008 cost= 0.949455951\nEpoch: 0008 cost= 1.031253908\nEpoch: 0008 cost= 1.031253908\nEpoch: 0008 cost= 1.031253908\nEpoch: 0008 cost= 1.057012672\nEpoch: 0008 cost= 1.115752220\nEpoch: 0008 cost= 1.135784607\nEpoch: 0008 cost= 1.224194308\n"
     ]
    },
    {
     "name": "stdout",
     "output_type": "stream",
     "text": [
      "Epoch: 0008 cost= 1.224194308\nEpoch: 0008 cost= 1.224194308\nEpoch: 0008 cost= 1.224194308\nEpoch: 0008 cost= 1.224398739\nEpoch: 0008 cost= 1.224398739\nEpoch: 0008 cost= 1.233687793\nEpoch: 0008 cost= 1.233687793\nEpoch: 0008 cost= 1.260582119\nEpoch: 0008 cost= 1.301086890\nEpoch: 0008 cost= 1.323874071\nEpoch: 0008 cost= 1.323874071\nEpoch: 0008 cost= 1.323874071\n"
     ]
    },
    {
     "name": "stdout",
     "output_type": "stream",
     "text": [
      "Epoch: 0008 cost= 1.360913578\nEpoch: 0008 cost= 1.397386416\nEpoch: 0008 cost= 1.397386416\nEpoch: 0008 cost= 1.421093500\nEpoch: 0008 cost= 1.421093500\nEpoch: 0008 cost= 1.459779011\nEpoch: 0008 cost= 1.472139753\nEpoch: 0008 cost= 1.472139753\nEpoch: 0008 cost= 1.574060779\nEpoch: 0008 cost= 1.574060779\nEpoch: 0008 cost= 1.576792846\nEpoch: 0008 cost= 1.576792846\n"
     ]
    },
    {
     "name": "stdout",
     "output_type": "stream",
     "text": [
      "Epoch: 0008 cost= 1.645039507\nEpoch: 0008 cost= 1.645039507\nEpoch: 0008 cost= 1.645039507\nEpoch: 0008 cost= 1.653669050\nEpoch: 0008 cost= 1.666319236\nEpoch: 0008 cost= 1.715672163\nEpoch: 0008 cost= 1.744497019\nEpoch: 0008 cost= 1.801371007\nEpoch: 0008 cost= 1.833877665\nEpoch: 0008 cost= 1.833877665\nEpoch: 0008 cost= 1.855299301\nEpoch: 0008 cost= 1.858143246\n"
     ]
    },
    {
     "name": "stdout",
     "output_type": "stream",
     "text": [
      "Epoch: 0008 cost= 1.877691062\nEpoch: 0008 cost= 1.877691062\nEpoch: 0008 cost= 1.877691062\nEpoch: 0008 cost= 1.904309910\nEpoch: 0008 cost= 1.958037029\nEpoch: 0008 cost= 2.046206931\nEpoch: 0008 cost= 2.122846384\nEpoch: 0008 cost= 2.123892993\nEpoch: 0008 cost= 2.123892993\nEpoch: 0008 cost= 2.123892993\nEpoch: 0008 cost= 2.283421094\nEpoch: 0008 cost= 2.297431660\n"
     ]
    },
    {
     "name": "stdout",
     "output_type": "stream",
     "text": [
      "Epoch: 0008 cost= 2.297431675\nEpoch: 0008 cost= 2.297431675\nEpoch: 0008 cost= 2.373205476\nEpoch: 0008 cost= 2.378646589\nEpoch: 0008 cost= 2.378646589\nEpoch: 0008 cost= 2.378646589\nEpoch: 0008 cost= 2.388854147\nEpoch: 0008 cost= 2.388854147\nEpoch: 0008 cost= 2.388854147\nEpoch: 0008 cost= 2.388854147\nEpoch: 0008 cost= 2.388854147\n"
     ]
    },
    {
     "name": "stdout",
     "output_type": "stream",
     "text": [
      "Epoch: 0008 cost= 2.500953118\nEpoch: 0008 cost= 2.500953118\nEpoch: 0008 cost= 2.548865317\nEpoch: 0008 cost= 2.577493101\nEpoch: 0008 cost= 2.577493101\nEpoch: 0008 cost= 2.577493101\nEpoch: 0008 cost= 2.581505699\nEpoch: 0008 cost= 2.739780165\nEpoch: 0008 cost= 2.757750159\nEpoch: 0008 cost= 2.759864132\nEpoch: 0008 cost= 2.800339111\nEpoch: 0008 cost= 2.814277028\nEpoch: 0008 cost= 2.841652826\n"
     ]
    },
    {
     "name": "stdout",
     "output_type": "stream",
     "text": [
      "Epoch: 0008 cost= 2.918179128\nEpoch: 0008 cost= 2.918179128\nEpoch: 0008 cost= 3.075838472\nEpoch: 0008 cost= 3.076352179\nEpoch: 0008 cost= 3.076352179\nEpoch: 0008 cost= 3.249875919\nEpoch: 0008 cost= 3.256042778\nEpoch: 0008 cost= 3.256042778\nEpoch: 0008 cost= 3.385307513\nEpoch: 0008 cost= 3.434174371\nEpoch: 0008 cost= 3.456710241\nEpoch: 0008 cost= 3.469896640\nEpoch: 0008 cost= 3.552547210\n"
     ]
    },
    {
     "name": "stdout",
     "output_type": "stream",
     "text": [
      "Epoch: 0008 cost= 3.620026666\nEpoch: 0008 cost= 3.816527826\nEpoch: 0008 cost= 3.826000546\nEpoch: 0008 cost= 3.826000546\nEpoch: 0008 cost= 4.139818933\nEpoch: 0008 cost= 4.139818933\nEpoch: 0008 cost= 4.226724562\nEpoch: 0008 cost= 4.226724562\nEpoch: 0008 cost= 4.250860073\nEpoch: 0008 cost= 4.362630232\nEpoch: 0008 cost= 4.366272704\n"
     ]
    },
    {
     "name": "stdout",
     "output_type": "stream",
     "text": [
      "Epoch: 0008 cost= 4.378949480\nEpoch: 0008 cost= 4.378949480\nEpoch: 0008 cost= 4.435487104\nEpoch: 0008 cost= 4.435487104\nEpoch: 0008 cost= 4.631998723\nEpoch: 0008 cost= 4.631998723\nEpoch: 0008 cost= 4.678740698\nEpoch: 0008 cost= 4.690558783\nEpoch: 0008 cost= 4.700620693\nEpoch: 0008 cost= 4.776858354\nEpoch: 0008 cost= 4.781251900\nEpoch: 0008 cost= 4.781251900\n"
     ]
    },
    {
     "name": "stdout",
     "output_type": "stream",
     "text": [
      "Epoch: 0008 cost= 4.781251900\nEpoch: 0008 cost= 4.781251900\nEpoch: 0008 cost= 4.786989383\nEpoch: 0008 cost= 4.860987699\nEpoch: 0008 cost= 4.874552953\nEpoch: 0008 cost= 4.882676479\nEpoch: 0008 cost= 4.882676479\nEpoch: 0008 cost= 4.882676479\nEpoch: 0008 cost= 4.913217896\nEpoch: 0008 cost= 4.935365622\nEpoch: 0008 cost= 4.935365622\nEpoch: 0008 cost= 4.942034922\n"
     ]
    },
    {
     "name": "stdout",
     "output_type": "stream",
     "text": [
      "Epoch: 0008 cost= 4.942034922\nEpoch: 0008 cost= 4.960375853\nEpoch: 0008 cost= 4.960375853\nEpoch: 0008 cost= 4.976114401\nEpoch: 0008 cost= 4.992886828\nEpoch: 0008 cost= 4.992886828\nEpoch: 0008 cost= 5.038317288\nEpoch: 0008 cost= 5.038317288\nEpoch: 0008 cost= 5.038317288\nEpoch: 0008 cost= 5.044373006\nEpoch: 0008 cost= 5.044373006\nEpoch: 0008 cost= 5.096400330\nEpoch: 0008 cost= 5.112960304\n"
     ]
    },
    {
     "name": "stdout",
     "output_type": "stream",
     "text": [
      "Epoch: 0008 cost= 5.112960304\nEpoch: 0008 cost= 5.124268027\nEpoch: 0008 cost= 5.124268027\nEpoch: 0008 cost= 5.144502980\nEpoch: 0008 cost= 5.152035730\nEpoch: 0008 cost= 5.152035730\nEpoch: 0008 cost= 5.202967979\nEpoch: 0008 cost= 5.226717189\nEpoch: 0008 cost= 5.388955167\nEpoch: 0008 cost= 5.395611644\nEpoch: 0008 cost= 5.395611644\n"
     ]
    },
    {
     "name": "stdout",
     "output_type": "stream",
     "text": [
      "Epoch: 0008 cost= 5.407980940\nEpoch: 0008 cost= 5.407980940\nEpoch: 0008 cost= 5.606485717\nEpoch: 0008 cost= 5.649640011\nEpoch: 0008 cost= 5.674284044\nEpoch: 0008 cost= 5.674835731\nEpoch: 0008 cost= 5.699560837\nEpoch: 0008 cost= 5.699560837\nEpoch: 0008 cost= 5.734366346\nEpoch: 0008 cost= 5.734366346\nEpoch: 0008 cost= 5.734366346\nEpoch: 0008 cost= 5.741523937\n"
     ]
    },
    {
     "name": "stdout",
     "output_type": "stream",
     "text": [
      "Epoch: 0008 cost= 5.762889918\nEpoch: 0008 cost= 5.762889918\nEpoch: 0008 cost= 5.814916517\nEpoch: 0008 cost= 5.967288427\nEpoch: 0008 cost= 5.990541649\nEpoch: 0008 cost= 5.990541649\nEpoch: 0008 cost= 5.990541649\nEpoch: 0008 cost= 6.044086713\nEpoch: 0008 cost= 6.093038451\nEpoch: 0008 cost= 6.122308898\nEpoch: 0008 cost= 6.122308898\nEpoch: 0008 cost= 6.122308898\nEpoch: 0008 cost= 6.122308898\n"
     ]
    },
    {
     "name": "stdout",
     "output_type": "stream",
     "text": [
      "Epoch: 0008 cost= 6.122308898\nEpoch: 0008 cost= 6.122308898\nEpoch: 0008 cost= 6.122308898\nEpoch: 0008 cost= 6.122308898\nEpoch: 0008 cost= 6.172824669\nEpoch: 0008 cost= 6.257159837\nEpoch: 0008 cost= 6.257159837\nEpoch: 0008 cost= 6.266661994\nEpoch: 0008 cost= 6.266661994\nEpoch: 0008 cost= 6.266661994\nEpoch: 0008 cost= 6.315145909\nEpoch: 0008 cost= 6.406018295\n"
     ]
    },
    {
     "name": "stdout",
     "output_type": "stream",
     "text": [
      "Epoch: 0008 cost= 6.497357719\nEpoch: 0008 cost= 6.497357719\nEpoch: 0008 cost= 6.497357719\nEpoch: 0008 cost= 6.499919651\nEpoch: 0008 cost= 6.499919651\nEpoch: 0008 cost= 6.511750936\nEpoch: 0008 cost= 6.513128191\nEpoch: 0008 cost= 6.516917839\nEpoch: 0008 cost= 6.516917839\nEpoch: 0008 cost= 6.516917839\nEpoch: 0008 cost= 6.516917839\nEpoch: 0008 cost= 6.518293372\n"
     ]
    },
    {
     "name": "stdout",
     "output_type": "stream",
     "text": [
      "Epoch: 0008 cost= 6.556780376\nEpoch: 0008 cost= 6.680632583\nEpoch: 0008 cost= 6.686923705\nEpoch: 0008 cost= 6.768598031\nEpoch: 0008 cost= 6.871865159\nEpoch: 0008 cost= 6.931895365\nEpoch: 0008 cost= 7.077760621\nEpoch: 0008 cost= 7.089130064\nEpoch: 0008 cost= 7.246816887\nEpoch: 0008 cost= 7.246816887\nEpoch: 0008 cost= 7.256264196\nEpoch: 0008 cost= 7.256264196\n"
     ]
    },
    {
     "name": "stdout",
     "output_type": "stream",
     "text": [
      "Epoch: 0008 cost= 7.280402619\nEpoch: 0008 cost= 7.332726838\nEpoch: 0008 cost= 7.419831587\nEpoch: 0008 cost= 7.452933487\nEpoch: 0008 cost= 7.452933487\nEpoch: 0008 cost= 7.521704405\nEpoch: 0008 cost= 7.627196848\nEpoch: 0008 cost= 7.742915294\nEpoch: 0008 cost= 7.748909884\nEpoch: 0008 cost= 7.839952371\nEpoch: 0008 cost= 7.839952371\n"
     ]
    },
    {
     "name": "stdout",
     "output_type": "stream",
     "text": [
      "Epoch: 0008 cost= 7.946784861\nEpoch: 0008 cost= 8.013506136\nEpoch: 0008 cost= 8.013506136\nEpoch: 0008 cost= 8.013506136\nEpoch: 0008 cost= 8.060089658\nEpoch: 0008 cost= 8.060089658\nEpoch: 0008 cost= 8.068317189\nEpoch: 0008 cost= 8.068317189\nEpoch: 0008 cost= 8.136476729\nEpoch: 0008 cost= 8.150024811\nEpoch: 0008 cost= 8.150024811\nEpoch: 0008 cost= 8.437495237\n"
     ]
    },
    {
     "name": "stdout",
     "output_type": "stream",
     "text": [
      "Epoch: 0008 cost= 8.437495237\nEpoch: 0008 cost= 8.437495237\nEpoch: 0008 cost= 8.439815656\nEpoch: 0008 cost= 8.443032843\nEpoch: 0008 cost= 8.653006154\nEpoch: 0008 cost= 8.653006154\nEpoch: 0008 cost= 8.653006154\nEpoch: 0008 cost= 8.653006154\nEpoch: 0008 cost= 8.653913931\nEpoch: 0008 cost= 8.716371789\nEpoch: 0008 cost= 8.716371789\nEpoch: 0008 cost= 8.717160035\n"
     ]
    },
    {
     "name": "stdout",
     "output_type": "stream",
     "text": [
      "Epoch: 0008 cost= 8.799276249\nEpoch: 0008 cost= 8.806577741\nEpoch: 0008 cost= 8.806577741\nEpoch: 0008 cost= 8.854462859\nEpoch: 0008 cost= 8.854462859\nEpoch: 0008 cost= 8.914756882\nEpoch: 0008 cost= 8.914756882\nEpoch: 0008 cost= 8.914756882\nEpoch: 0008 cost= 8.936339499\nEpoch: 0008 cost= 8.954663522\nEpoch: 0008 cost= 8.954663522\nEpoch: 0008 cost= 8.954663522\n"
     ]
    },
    {
     "name": "stdout",
     "output_type": "stream",
     "text": [
      "Epoch: 0008 cost= 8.954663522\nEpoch: 0008 cost= 8.961284039\nEpoch: 0008 cost= 8.961284039\nEpoch: 0008 cost= 8.988929174\nEpoch: 0008 cost= 8.988929174\nEpoch: 0008 cost= 9.096273972\nEpoch: 0008 cost= 9.096273972\nEpoch: 0008 cost= 9.136760678\nEpoch: 0008 cost= 9.136760678\nEpoch: 0008 cost= 9.167576764\nEpoch: 0008 cost= 9.189153081\nEpoch: 0008 cost= 9.217232485\n"
     ]
    },
    {
     "name": "stdout",
     "output_type": "stream",
     "text": [
      "Epoch: 0008 cost= 9.269193476\nEpoch: 0008 cost= 9.269193476\nEpoch: 0008 cost= 9.269193476\nEpoch: 0008 cost= 9.377065873\nEpoch: 0008 cost= 9.377065873\nEpoch: 0008 cost= 9.377065873\nEpoch: 0008 cost= 9.377065873\nEpoch: 0008 cost= 9.435059547\nEpoch: 0008 cost= 9.468067710\nEpoch: 0008 cost= 9.486965087\nEpoch: 0008 cost= 9.486965087\nEpoch: 0008 cost= 9.486965087\n"
     ]
    },
    {
     "name": "stdout",
     "output_type": "stream",
     "text": [
      "Epoch: 0008 cost= 9.486965087\nEpoch: 0008 cost= 9.499862903\nEpoch: 0008 cost= 9.531006157\nEpoch: 0008 cost= 9.531006157\nEpoch: 0008 cost= 9.613360394\nEpoch: 0008 cost= 9.625223516\nEpoch: 0008 cost= 9.633327617\nEpoch: 0008 cost= 9.667843650\nEpoch: 0008 cost= 9.716154624\nEpoch: 0008 cost= 9.762328628\nEpoch: 0008 cost= 9.762328628\nEpoch: 0008 cost= 9.782831273\n"
     ]
    },
    {
     "name": "stdout",
     "output_type": "stream",
     "text": [
      "Epoch: 0008 cost= 9.848719085\nEpoch: 0008 cost= 9.848719085\nEpoch: 0008 cost= 10.063371199\nEpoch: 0008 cost= 10.140497261\nEpoch: 0008 cost= 10.140497261\nEpoch: 0008 cost= 10.140497261\nEpoch: 0008 cost= 10.192068889\nEpoch: 0008 cost= 10.192068889\nEpoch: 0008 cost= 10.192068889\nEpoch: 0008 cost= 10.193695558\nEpoch: 0008 cost= 10.215240990\nEpoch: 0008 cost= 10.243034554\n"
     ]
    },
    {
     "name": "stdout",
     "output_type": "stream",
     "text": [
      "Epoch: 0008 cost= 10.251106270\nEpoch: 0008 cost= 10.251106270\nEpoch: 0008 cost= 10.351795995\nEpoch: 0008 cost= 10.360962579\nEpoch: 0008 cost= 10.469026030\nEpoch: 0008 cost= 10.534417141\nEpoch: 0008 cost= 10.534417141\nEpoch: 0008 cost= 10.534417141\nEpoch: 0008 cost= 10.565890401\nEpoch: 0008 cost= 10.565890401\nEpoch: 0008 cost= 10.565890401\n"
     ]
    },
    {
     "name": "stdout",
     "output_type": "stream",
     "text": [
      "Epoch: 0008 cost= 10.565890401\nEpoch: 0008 cost= 10.575369738\nEpoch: 0008 cost= 10.575369738\nEpoch: 0008 cost= 10.595184431\nEpoch: 0008 cost= 10.624462690\nEpoch: 0008 cost= 10.629444934\nEpoch: 0008 cost= 10.629444934\nEpoch: 0008 cost= 10.678514082\nEpoch: 0008 cost= 10.678994427\nEpoch: 0008 cost= 10.678994427\nEpoch: 0008 cost= 10.678994427\nEpoch: 0008 cost= 10.703131492\n"
     ]
    },
    {
     "name": "stdout",
     "output_type": "stream",
     "text": [
      "Epoch: 0008 cost= 10.804517489\nEpoch: 0008 cost= 10.921706446\nEpoch: 0008 cost= 10.921706446\nEpoch: 0008 cost= 10.924133284\nEpoch: 0008 cost= 11.009455958\nEpoch: 0008 cost= 11.037840086\nEpoch: 0008 cost= 11.054704156\nEpoch: 0008 cost= 11.072902293\nEpoch: 0008 cost= 11.072902293\nEpoch: 0008 cost= 11.141704956\nEpoch: 0008 cost= 11.210876793\nEpoch: 0008"
     ]
    },
    {
     "name": "stdout",
     "output_type": "stream",
     "text": [
      " cost= 11.217562082\nEpoch: 0008 cost= 11.262990317\nEpoch: 0008 cost= 11.272841546\nEpoch: 0008 cost= 11.526919554\nEpoch: 0008 cost= 11.576867338\nEpoch: 0008 cost= 11.576867338\nEpoch: 0008 cost= 11.634794584\nEpoch: 0008 cost= 11.636177006\nEpoch: 0008 cost= 11.678884782\nEpoch: 0008 cost= 11.686661576\nEpoch: 0008 cost= 11.768077009\nEpoch: 0008 cost= 11.834644551\nEpoch: 0008 cost= 11.834644551\n"
     ]
    },
    {
     "name": "stdout",
     "output_type": "stream",
     "text": [
      "Epoch: 0008 cost= 11.891312115\nEpoch: 0008 cost= 11.891312115\nEpoch: 0008 cost= 11.951407795\nEpoch: 0008 cost= 11.992671999\nEpoch: 0008 cost= 11.992671999\nEpoch: 0008 cost= 11.992671999\nEpoch: 0008 cost= 12.214375671\nEpoch: 0008 cost= 12.214375671\nEpoch: 0008 cost= 12.237031198\nEpoch: 0008 cost= 12.237031198\nEpoch: 0008 cost= 12.350281840\nEpoch: 0008 cost= 12.350281840\n"
     ]
    },
    {
     "name": "stdout",
     "output_type": "stream",
     "text": [
      "Epoch: 0008 cost= 12.356548111\nEpoch: 0008 cost= 12.365658480\nEpoch: 0008 cost= 12.440637014\nEpoch: 0008 cost= 12.508095254\nEpoch: 0008 cost= 12.538825792\nEpoch: 0008 cost= 12.557884564\nEpoch: 0008 cost= 12.878405444\nEpoch: 0008 cost= 12.925453565\nEpoch: 0008 cost= 12.925453565\nEpoch: 0008 cost= 13.043682048\nEpoch: 0008 cost= 13.043682048\nEpoch: 0008 cost= 13.059381809\n"
     ]
    },
    {
     "name": "stdout",
     "output_type": "stream",
     "text": [
      "Epoch: 0008 cost= 13.061971651\nEpoch: 0008 cost= 13.061971651\nEpoch: 0008 cost= 13.075504048\nEpoch: 0008 cost= 13.079656099\nEpoch: 0008 cost= 13.084502477\nEpoch: 0008 cost= 13.086281108\nEpoch: 0008 cost= 13.158430059\nEpoch: 0008 cost= 13.181797850\nEpoch: 0008 cost= 13.187184995\nEpoch: 0008 cost= 13.210402874\nEpoch: 0008 cost= 13.235173471\nEpoch: 0008 cost= 13.235173471\n"
     ]
    },
    {
     "name": "stdout",
     "output_type": "stream",
     "text": [
      "Epoch: 0008 cost= 13.235173471\nEpoch: 0008 cost= 13.235173471\nEpoch: 0008 cost= 13.235173471\nEpoch: 0008 cost= 13.395744593\nEpoch: 0008 cost= 13.395744593\nEpoch: 0008 cost= 13.430350178\nEpoch: 0008 cost= 13.430350178\nEpoch: 0008 cost= 13.430350178\nEpoch: 0008 cost= 13.430350178\nEpoch: 0008 cost= 13.430350178\nEpoch: 0008 cost= 13.430350178\nEpoch: 0008 cost= 13.469461471\n"
     ]
    },
    {
     "name": "stdout",
     "output_type": "stream",
     "text": [
      "Epoch: 0008 cost= 13.469461471\nEpoch: 0008 cost= 13.474433288\nEpoch: 0008 cost= 13.648169958\nEpoch: 0008 cost= 13.694300943\nEpoch: 0008 cost= 13.694300943\nEpoch: 0008 cost= 13.756407460\nEpoch: 0008 cost= 13.756407460\nEpoch: 0008 cost= 13.793115924\nEpoch: 0008 cost= 13.864195810\nEpoch: 0008 cost= 13.864195810\nEpoch: 0008 cost= 13.875121369\nEpoch: 0008 cost= 13.875121369\n"
     ]
    },
    {
     "name": "stdout",
     "output_type": "stream",
     "text": [
      "Epoch: 0008 cost= 13.911671547\nEpoch: 0008 cost= 13.919225702\nEpoch: 0008 cost= 13.925584544\nEpoch: 0008 cost= 13.925584544\nEpoch: 0008 cost= 13.925584544\nEpoch: 0008 cost= 13.925584544\nEpoch: 0008 cost= 13.957873189\nEpoch: 0008 cost= 14.141619444\nEpoch: 0008 cost= 14.141619444\nEpoch: 0008 cost= 14.141619444\nEpoch: 0008 cost= 14.196017811\nEpoch: 0008 cost= 14.196017811\n"
     ]
    },
    {
     "name": "stdout",
     "output_type": "stream",
     "text": [
      "Epoch: 0008 cost= 14.204075304\nEpoch: 0008 cost= 14.214149567\nEpoch: 0008 cost= 14.214149567\nEpoch: 0008 cost= 14.214149567\nEpoch: 0008 cost= 14.250709647\nEpoch: 0008 cost= 14.250709647\nEpoch: 0008 cost= 14.332100783\nEpoch: 0008 cost= 14.475187734\nEpoch: 0008 cost= 14.482932194\nEpoch: 0008 cost= 14.482932194\nEpoch: 0008 cost= 14.482932194\nEpoch: 0008 cost= 14.482932194\n"
     ]
    },
    {
     "name": "stdout",
     "output_type": "stream",
     "text": [
      "Epoch: 0008 cost= 14.482932194\nEpoch: 0008 cost= 14.482932194\nEpoch: 0008 cost= 14.482932194\nEpoch: 0008 cost= 14.515195208\nEpoch: 0008 cost= 14.555115581\nEpoch: 0008 cost= 14.555115581\nEpoch: 0008 cost= 14.602207218\nEpoch: 0008 cost= 14.648156224\nEpoch: 0008 cost= 14.695670585\nEpoch: 0008 cost= 14.700411487\nEpoch: 0008 cost= 14.700697931\n"
     ]
    },
    {
     "name": "stdout",
     "output_type": "stream",
     "text": [
      "Epoch: 0008 cost= 14.700697931\nEpoch: 0008 cost= 14.700697931\nEpoch: 0008 cost= 14.729926873\nEpoch: 0008 cost= 14.803358478\nEpoch: 0008 cost= 14.803358478\nEpoch: 0008 cost= 14.830082164\nEpoch: 0008 cost= 14.830082164\nEpoch: 0008 cost= 14.845988671\nEpoch: 0008 cost= 14.894054408\nEpoch: 0008 cost= 14.894054408\nEpoch: 0008 cost= 14.894054408\nEpoch: 0008 cost= 14.955336785\n"
     ]
    },
    {
     "name": "stdout",
     "output_type": "stream",
     "text": [
      "Epoch: 0008 cost= 14.955336785\nEpoch: 0008 cost= 15.104530871\nEpoch: 0008 cost= 15.114608184\nEpoch: 0008 cost= 15.142503620\nEpoch: 0008 cost= 15.142503620\nEpoch: 0008 cost= 15.154556554\nEpoch: 0008 cost= 15.215015407\nEpoch: 0008 cost= 15.215015407\nEpoch: 0008 cost= 15.215015407\nEpoch: 0008 cost= 15.215015407\nEpoch: 0008 cost= 15.215015407\nEpoch: 0008 cost= 15.226267635\n"
     ]
    },
    {
     "name": "stdout",
     "output_type": "stream",
     "text": [
      "Epoch: 0008 cost= 15.226267635\nEpoch: 0008 cost= 15.247633739\nEpoch: 0008 cost= 15.247633739\nEpoch: 0008 cost= 15.247633739\nEpoch: 0008 cost= 15.247633739\nEpoch: 0008 cost= 15.322147642\nEpoch: 0008 cost= 15.399005011\nEpoch: 0008 cost= 15.687969828\nEpoch: 0008 cost= 15.732171533\nEpoch: 0008 cost= 15.732171533\nEpoch: 0008 cost= 15.771079309\nEpoch: 0008 cost= 15.953478809\n"
     ]
    },
    {
     "name": "stdout",
     "output_type": "stream",
     "text": [
      "Epoch: 0008 cost= 16.048507461\nEpoch: 0008 cost= 16.109286775\nEpoch: 0008 cost= 16.423346057\nEpoch: 0008 cost= 16.495115203\nEpoch: 0008 cost= 16.587747122\nEpoch: 0008 cost= 16.725862745\nEpoch: 0008 cost= 16.725862745\nEpoch: 0008 cost= 16.745772581\nEpoch: 0008 cost= 16.890981224\nEpoch: 0008 cost= 16.890981224\nEpoch: 0008 cost= 16.980007859\nEpoch: 0008 cost= 16.983405564\n"
     ]
    },
    {
     "name": "stdout",
     "output_type": "stream",
     "text": [
      "Epoch: 0008 cost= 16.983405564\nEpoch: 0008 cost= 17.017173226\nEpoch: 0008 cost= 17.066765640\nEpoch: 0008 cost= 17.116908219\nEpoch: 0008 cost= 17.200511964\nEpoch: 0008 cost= 17.200511964\nEpoch: 0008 cost= 17.361667220\nEpoch: 0008 cost= 17.563316404\nEpoch: 0008 cost= 17.654116214\nEpoch: 0008 cost= 17.757139015\nEpoch: 0008 cost= 17.761608546\nEpoch: 0008 cost= 17.761608546\n"
     ]
    },
    {
     "name": "stdout",
     "output_type": "stream",
     "text": [
      "Epoch: 0008 cost= 17.808067776\nEpoch: 0008 cost= 17.848817669\nEpoch: 0008 cost= 17.922562654\nEpoch: 0008 cost= 17.982218943\nEpoch: 0008 cost= 18.125457538\nEpoch: 0008 cost= 18.125457538\nEpoch: 0008 cost= 18.135956029\nEpoch: 0008 cost= 18.146104904\nEpoch: 0008 cost= 18.175106164\n"
     ]
    },
    {
     "name": "stdout",
     "output_type": "stream",
     "text": [
      "Epoch: 0009 cost= 0.000000000\nEpoch: 0009 cost= 0.000000000\nEpoch: 0009 cost= 0.015971768\nEpoch: 0009 cost= 0.024235600\nEpoch: 0009 cost= 0.026237224\nEpoch: 0009 cost= 0.046181720\nEpoch: 0009 cost= 0.046181720\nEpoch: 0009 cost= 0.057114990\nEpoch: 0009 cost= 0.060344862\nEpoch: 0009 cost= 0.110336050\nEpoch: 0009 cost= 0.139571577\n"
     ]
    },
    {
     "name": "stdout",
     "output_type": "stream",
     "text": [
      "Epoch: 0009 cost= 0.139571577\nEpoch: 0009 cost= 0.187873423\nEpoch: 0009 cost= 0.362099345\nEpoch: 0009 cost= 0.362099345\nEpoch: 0009 cost= 0.440699337\nEpoch: 0009 cost= 0.440699337\nEpoch: 0009 cost= 0.440699337\nEpoch: 0009 cost= 0.440699337\nEpoch: 0009 cost= 0.440699337\nEpoch: 0009 cost= 0.440699337\nEpoch: 0009 cost= 0.523462260\nEpoch: 0009 cost= 0.523462260\n"
     ]
    },
    {
     "name": "stdout",
     "output_type": "stream",
     "text": [
      "Epoch: 0009 cost= 0.523658913\nEpoch: 0009 cost= 0.523658913\nEpoch: 0009 cost= 0.523658913\nEpoch: 0009 cost= 0.523658913\nEpoch: 0009 cost= 0.580034296\nEpoch: 0009 cost= 0.618456398\nEpoch: 0009 cost= 0.670583296\nEpoch: 0009 cost= 0.720622862\nEpoch: 0009 cost= 0.796201974\nEpoch: 0009 cost= 0.797293012\nEpoch: 0009 cost= 0.797293012\nEpoch: 0009 cost= 0.797293012\n"
     ]
    },
    {
     "name": "stdout",
     "output_type": "stream",
     "text": [
      "Epoch: 0009 cost= 0.797293012\nEpoch: 0009 cost= 0.797293012\nEpoch: 0009 cost= 0.797293012\nEpoch: 0009 cost= 0.841713182\nEpoch: 0009 cost= 0.841713182\nEpoch: 0009 cost= 0.841713182\nEpoch: 0009 cost= 0.841873997\nEpoch: 0009 cost= 0.841873997\nEpoch: 0009 cost= 0.880537064\nEpoch: 0009 cost= 0.994169717\nEpoch: 0009 cost= 1.011382110\nEpoch: 0009 cost= 1.028109640\n"
     ]
    },
    {
     "name": "stdout",
     "output_type": "stream",
     "text": [
      "Epoch: 0009 cost= 1.067813353\nEpoch: 0009 cost= 1.067813353\nEpoch: 0009 cost= 1.067813353\nEpoch: 0009 cost= 1.067813353\nEpoch: 0009 cost= 1.067813353\nEpoch: 0009 cost= 1.067813353\nEpoch: 0009 cost= 1.092485441\nEpoch: 0009 cost= 1.160003898\nEpoch: 0009 cost= 1.204437075\nEpoch: 0009 cost= 1.250240502\nEpoch: 0009 cost= 1.258658036\nEpoch: 0009 cost= 1.316362580\n"
     ]
    },
    {
     "name": "stdout",
     "output_type": "stream",
     "text": [
      "Epoch: 0009 cost= 1.316362580\nEpoch: 0009 cost= 1.316362580\nEpoch: 0009 cost= 1.402769697\nEpoch: 0009 cost= 1.437680985\nEpoch: 0009 cost= 1.437680985\nEpoch: 0009 cost= 1.437680985\nEpoch: 0009 cost= 1.437680985\nEpoch: 0009 cost= 1.437680985\nEpoch: 0009 cost= 1.437680985\nEpoch: 0009 cost= 1.437680985\nEpoch: 0009 cost= 1.437680985\nEpoch: 0009 cost= 1.437680985\n"
     ]
    },
    {
     "name": "stdout",
     "output_type": "stream",
     "text": [
      "Epoch: 0009 cost= 1.437680985\nEpoch: 0009 cost= 1.437680985\nEpoch: 0009 cost= 1.437680985\nEpoch: 0009 cost= 1.437680985\nEpoch: 0009 cost= 1.437680985\nEpoch: 0009 cost= 1.490967374\nEpoch: 0009 cost= 1.490967374\nEpoch: 0009 cost= 1.490967374\nEpoch: 0009 cost= 1.490967374\nEpoch: 0009 cost= 1.493414764\nEpoch: 0009 cost= 1.493414764\nEpoch: 0009 cost= "
     ]
    },
    {
     "name": "stdout",
     "output_type": "stream",
     "text": [
      "1.493414764\nEpoch: 0009 cost= 1.493414764\nEpoch: 0009 cost= 1.493414764\nEpoch: 0009 cost= 1.493414764\nEpoch: 0009 cost= 1.493414764\nEpoch: 0009 cost= 1.493414764\nEpoch: 0009 cost= 1.493414764\nEpoch: 0009 cost= 1.493414764\nEpoch: 0009 cost= 1.515820605\nEpoch: 0009 cost= 1.561109991\nEpoch: 0009 cost= 1.595982310\nEpoch: 0009 cost= 1.599080996\nEpoch: 0009 cost= 1.599080996\n"
     ]
    },
    {
     "name": "stdout",
     "output_type": "stream",
     "text": [
      "Epoch: 0009 cost= 1.627749525\nEpoch: 0009 cost= 1.627749525\nEpoch: 0009 cost= 1.627749525\nEpoch: 0009 cost= 1.627749525\nEpoch: 0009 cost= 1.627749525\nEpoch: 0009 cost= 1.627749525\nEpoch: 0009 cost= 1.627749525\nEpoch: 0009 cost= 1.660006352\nEpoch: 0009 cost= 1.660006352\nEpoch: 0009 cost= 1.660006352\nEpoch: 0009 cost= 1.721709260\nEpoch: 0009 cost= 1.721709260\n"
     ]
    },
    {
     "name": "stdout",
     "output_type": "stream",
     "text": [
      "Epoch: 0009 cost= 1.724705967\nEpoch: 0009 cost= 1.725357405\nEpoch: 0009 cost= 1.725357405\nEpoch: 0009 cost= 1.725357405\nEpoch: 0009 cost= 1.725357405\nEpoch: 0009 cost= 1.725357405\nEpoch: 0009 cost= 1.727208559\nEpoch: 0009 cost= 1.727208559\nEpoch: 0009 cost= 1.727208559\nEpoch: 0009 cost= 1.754700016\nEpoch: 0009 cost= 1.754700016\nEpoch: 0009 cost= 1.760073364\nEpoch: 0009 cost= 1.760073390\n"
     ]
    },
    {
     "name": "stdout",
     "output_type": "stream",
     "text": [
      "Epoch: 0009 cost= 1.766264547\nEpoch: 0009 cost= 1.823073584\nEpoch: 0009 cost= 1.846961706\nEpoch: 0009 cost= 1.846961706\nEpoch: 0009 cost= 1.852584682\nEpoch: 0009 cost= 1.852584682\nEpoch: 0009 cost= 1.852584682\nEpoch: 0009 cost= 2.143955088\nEpoch: 0009 cost= 2.143955088\nEpoch: 0009 cost= 2.213918335\nEpoch: 0009 cost= 2.213918335\nEpoch: 0009 cost= 2.287248129\n"
     ]
    },
    {
     "name": "stdout",
     "output_type": "stream",
     "text": [
      "Epoch: 0009 cost= 2.287248129\nEpoch: 0009 cost= 2.292310078\nEpoch: 0009 cost= 2.292310078\nEpoch: 0009 cost= 2.295118139\nEpoch: 0009 cost= 2.371584592\nEpoch: 0009 cost= 2.419084581\nEpoch: 0009 cost= 2.442370510\nEpoch: 0009 cost= 2.442370510\nEpoch: 0009 cost= 2.612720754\nEpoch: 0009 cost= 2.612720754\nEpoch: 0009 cost= 2.635217505\nEpoch: 0009 cost= 2.740853477\n"
     ]
    },
    {
     "name": "stdout",
     "output_type": "stream",
     "text": [
      "Epoch: 0009 cost= 2.740853477\nEpoch: 0009 cost= 2.741140889\nEpoch: 0009 cost= 2.741140889\nEpoch: 0009 cost= 2.741140889\nEpoch: 0009 cost= 2.742477723\nEpoch: 0009 cost= 2.759152271\nEpoch: 0009 cost= 2.822124371\nEpoch: 0009 cost= 2.828741052\nEpoch: 0009 cost= 2.885596400\nEpoch: 0009 cost= 2.938973631\nEpoch: 0009 cost= 2.965788922\nEpoch: 0009 cost= 2.987469107\n"
     ]
    },
    {
     "name": "stdout",
     "output_type": "stream",
     "text": [
      "Epoch: 0009 cost= 3.076768327\nEpoch: 0009 cost= 3.076768327\nEpoch: 0009 cost= 3.159042386\nEpoch: 0009 cost= 3.159042386\nEpoch: 0009 cost= 3.202132967\nEpoch: 0009 cost= 3.202132967\nEpoch: 0009 cost= 3.202132967\nEpoch: 0009 cost= 3.202132967\nEpoch: 0009 cost= 3.214698761\nEpoch: 0009 cost= 3.214698761\nEpoch: 0009 cost= 3.238774537\n"
     ]
    },
    {
     "name": "stdout",
     "output_type": "stream",
     "text": [
      "Epoch: 0009 cost= 3.375984690\nEpoch: 0009 cost= 3.375984690\nEpoch: 0009 cost= 3.433782354\nEpoch: 0009 cost= 3.478362113\nEpoch: 0009 cost= 3.478362113\nEpoch: 0009 cost= 3.478362113\nEpoch: 0009 cost= 3.478362113\nEpoch: 0009 cost= 3.478362113\nEpoch: 0009 cost= 3.545686908\nEpoch: 0009 cost= 3.545686908\nEpoch: 0009 cost= 3.652995229\nEpoch: 0009 cost= 3.652995229\n"
     ]
    },
    {
     "name": "stdout",
     "output_type": "stream",
     "text": [
      "Epoch: 0009 cost= 3.709859309\nEpoch: 0009 cost= 3.709859309\nEpoch: 0009 cost= 3.829695776\nEpoch: 0009 cost= 3.829695776\nEpoch: 0009 cost= 3.837439438\nEpoch: 0009 cost= 3.880126129\nEpoch: 0009 cost= 3.984989417\nEpoch: 0009 cost= 4.073726315\nEpoch: 0009 cost= 4.193864158\nEpoch: 0009 cost= 4.198286619\nEpoch: 0009 cost= 4.321738642\nEpoch: 0009 cost= 4.344654111\n"
     ]
    },
    {
     "name": "stdout",
     "output_type": "stream",
     "text": [
      "Epoch: 0009 cost= 4.344654111\nEpoch: 0009 cost= 4.360261366\nEpoch: 0009 cost= 4.360261366\nEpoch: 0009 cost= 4.372144924\nEpoch: 0009 cost= 4.381287316\nEpoch: 0009 cost= 4.538315653\nEpoch: 0009 cost= 4.564555585\nEpoch: 0009 cost= 4.595936443\nEpoch: 0009 cost= 4.596374423\nEpoch: 0009 cost= 4.610496138\nEpoch: 0009 cost= 4.610496138\n"
     ]
    },
    {
     "name": "stdout",
     "output_type": "stream",
     "text": [
      "Epoch: 0009 cost= 4.663481711\nEpoch: 0009 cost= 4.722944040\nEpoch: 0009 cost= 4.722944040\nEpoch: 0009 cost= 4.722944040\nEpoch: 0009 cost= 4.722944040\nEpoch: 0009 cost= 4.733936059\nEpoch: 0009 cost= 4.733936059\nEpoch: 0009 cost= 4.762648897\nEpoch: 0009 cost= 4.807338439\nEpoch: 0009 cost= 4.807338439\nEpoch: 0009 cost= 4.813868260\nEpoch: 0009 cost= 4.831384098\n"
     ]
    },
    {
     "name": "stdout",
     "output_type": "stream",
     "text": [
      "Epoch: 0009 cost= 4.831384098\nEpoch: 0009 cost= 4.831384098\nEpoch: 0009 cost= 4.831384098\nEpoch: 0009 cost= 4.848784942\nEpoch: 0009 cost= 4.893352463\nEpoch: 0009 cost= 5.097232800\nEpoch: 0009 cost= 5.097232800\nEpoch: 0009 cost= 5.101801639\nEpoch: 0009 cost= 5.104966083\nEpoch: 0009 cost= 5.182900674\nEpoch: 0009 cost= 5.182900674\nEpoch: 0009 cost= 5.233405067\n"
     ]
    },
    {
     "name": "stdout",
     "output_type": "stream",
     "text": [
      "Epoch: 0009 cost= 5.233405067\nEpoch: 0009 cost= 5.242743402\nEpoch: 0009 cost= 5.242743402\nEpoch: 0009 cost= 5.428145735\nEpoch: 0009 cost= 5.475449000\nEpoch: 0009 cost= 5.475449000\nEpoch: 0009 cost= 5.545573963\nEpoch: 0009 cost= 5.574598644\nEpoch: 0009 cost= 5.576555497\nEpoch: 0009 cost= 5.639702193\nEpoch: 0009 cost= 5.646092458\nEpoch: 0009 cost= 5.646092458\n"
     ]
    },
    {
     "name": "stdout",
     "output_type": "stream",
     "text": [
      "Epoch: 0009 cost= 5.646092458\nEpoch: 0009 cost= 5.646092458\nEpoch: 0009 cost= 5.648481783\nEpoch: 0009 cost= 5.648481783\nEpoch: 0009 cost= 5.649645217\nEpoch: 0009 cost= 5.649645217\nEpoch: 0009 cost= 5.669567891\nEpoch: 0009 cost= 5.737129301\nEpoch: 0009 cost= 5.737129301\nEpoch: 0009 cost= 5.737129301\nEpoch: 0009 cost= 5.781156113\nEpoch: 0009 cost= 5.787529018\n"
     ]
    },
    {
     "name": "stdout",
     "output_type": "stream",
     "text": [
      "Epoch: 0009 cost= 5.787529018\nEpoch: 0009 cost= 5.787529018\nEpoch: 0009 cost= 5.791768053\nEpoch: 0009 cost= 5.791768053\nEpoch: 0009 cost= 5.817232046\nEpoch: 0009 cost= 5.817232046\nEpoch: 0009 cost= 5.817232046\nEpoch: 0009 cost= 5.826954755\nEpoch: 0009 cost= 5.874972923\nEpoch: 0009 cost= 5.884956692\nEpoch: 0009 cost= 5.884956692\n"
     ]
    },
    {
     "name": "stdout",
     "output_type": "stream",
     "text": [
      "Epoch: 0009 cost= 5.884956692\nEpoch: 0009 cost= 5.897480147\nEpoch: 0009 cost= 5.964719548\nEpoch: 0009 cost= 6.031998864\nEpoch: 0009 cost= 6.031998864\nEpoch: 0009 cost= 6.034658524\nEpoch: 0009 cost= 6.141568251\nEpoch: 0009 cost= 6.141568333\nEpoch: 0009 cost= 6.141568333\nEpoch: 0009 cost= 6.187042098\nEpoch: 0009 cost= 6.204345969\nEpoch: 0009 cost= 6.204345969\n"
     ]
    },
    {
     "name": "stdout",
     "output_type": "stream",
     "text": [
      "Epoch: 0009 cost= 6.240407935\nEpoch: 0009 cost= 6.240407935\nEpoch: 0009 cost= 6.289314151\nEpoch: 0009 cost= 6.294528830\nEpoch: 0009 cost= 6.370843153\nEpoch: 0009 cost= 6.370843153\nEpoch: 0009 cost= 6.377143561\nEpoch: 0009 cost= 6.441772724\nEpoch: 0009 cost= 6.538319501\nEpoch: 0009 cost= 6.602765045\nEpoch: 0009 cost= 6.619641331\nEpoch: 0009 cost= 6.660684075\n"
     ]
    },
    {
     "name": "stdout",
     "output_type": "stream",
     "text": [
      "Epoch: 0009 cost= 6.683105102\nEpoch: 0009 cost= 6.683105102\nEpoch: 0009 cost= 6.683616750\nEpoch: 0009 cost= 6.709657074\nEpoch: 0009 cost= 6.856829093\nEpoch: 0009 cost= 6.870276296\nEpoch: 0009 cost= 6.910782680\nEpoch: 0009 cost= 6.944664134\nEpoch: 0009 cost= 7.029424523\nEpoch: 0009 cost= 7.124614030\nEpoch: 0009 cost= 7.167149097\nEpoch: 0009 cost= 7.169825074\n"
     ]
    },
    {
     "name": "stdout",
     "output_type": "stream",
     "text": [
      "Epoch: 0009 cost= 7.169825074\nEpoch: 0009 cost= 7.200681442\nEpoch: 0009 cost= 7.309525138\nEpoch: 0009 cost= 7.309525138\nEpoch: 0009 cost= 7.374930106\nEpoch: 0009 cost= 7.374930106\nEpoch: 0009 cost= 7.483062597\nEpoch: 0009 cost= 7.483062597\nEpoch: 0009 cost= 7.499602880\nEpoch: 0009 cost= 7.499602880\nEpoch: 0009 cost= 7.567993799\nEpoch: 0009 cost= 7.567993799\n"
     ]
    },
    {
     "name": "stdout",
     "output_type": "stream",
     "text": [
      "Epoch: 0009 cost= 7.567993799\nEpoch: 0009 cost= 7.567993799\nEpoch: 0009 cost= 7.567993799\nEpoch: 0009 cost= 7.567993799\nEpoch: 0009 cost= 7.575768116\nEpoch: 0009 cost= 7.575768116\nEpoch: 0009 cost= 7.594639733\nEpoch: 0009 cost= 7.661015265\nEpoch: 0009 cost= 7.661015265\nEpoch: 0009 cost= 7.661015265\nEpoch: 0009 cost= 7.661015265\nEpoch: 0009 cost= 7.683523556\n"
     ]
    },
    {
     "name": "stdout",
     "output_type": "stream",
     "text": [
      "Epoch: 0009 cost= 7.741659033\nEpoch: 0009 cost= 7.741659033\nEpoch: 0009 cost= 7.741659033\nEpoch: 0009 cost= 7.741659033\nEpoch: 0009 cost= 7.756543238\nEpoch: 0009 cost= 7.889695718\nEpoch: 0009 cost= 7.889695718\nEpoch: 0009 cost= 7.889747994\nEpoch: 0009 cost= 7.889747994\nEpoch: 0009"
     ]
    },
    {
     "name": "stdout",
     "output_type": "stream",
     "text": [
      " cost= 7.922566594\nEpoch: 0009 cost= 7.968058017\nEpoch: 0009 cost= 7.968058017\nEpoch: 0009 cost= 7.974351607\nEpoch: 0009 cost= 7.974351607\nEpoch: 0009 cost= 7.974351607\nEpoch: 0009 cost= 8.004217802\nEpoch: 0009 cost= 8.199113085\nEpoch: 0009 cost= 8.261039223\nEpoch: 0009 cost= 8.286244975\nEpoch: 0009 cost= 8.319409794\nEpoch: 0009 cost= 8.319409794\nEpoch: 0009 cost= 8.319409794\n"
     ]
    },
    {
     "name": "stdout",
     "output_type": "stream",
     "text": [
      "Epoch: 0009 cost= 8.319409794\nEpoch: 0009 cost= 8.353724175\nEpoch: 0009 cost= 8.365406526\nEpoch: 0009 cost= 8.366057600\nEpoch: 0009 cost= 8.366057600\nEpoch: 0009 cost= 8.382252992\nEpoch: 0009 cost= 8.416318929\nEpoch: 0009 cost= 8.420339774\nEpoch: 0009 cost= 8.420339774\nEpoch: 0009 cost= 8.420339774\nEpoch: 0009 cost= 8.420339774\nEpoch: 0009 cost= 8.420339774\n"
     ]
    },
    {
     "name": "stdout",
     "output_type": "stream",
     "text": [
      "Epoch: 0009 cost= 8.420339774\nEpoch: 0009 cost= 8.464834431\nEpoch: 0009 cost= 8.464834431\nEpoch: 0009 cost= 8.479364278\nEpoch: 0009 cost= 8.482186836\nEpoch: 0009 cost= 8.504199362\nEpoch: 0009 cost= 8.513706056\nEpoch: 0009 cost= 8.527049380\nEpoch: 0009 cost= 8.544072444\nEpoch: 0009 cost= 8.544072444\nEpoch: 0009 cost= 8.544072444\nEpoch: 0009 cost= 8.550741656\n"
     ]
    },
    {
     "name": "stdout",
     "output_type": "stream",
     "text": [
      "Epoch: 0009 cost= 8.560084678\nEpoch: 0009 cost= 8.560084678\nEpoch: 0009 cost= 8.591608622\nEpoch: 0009 cost= 8.672616666\nEpoch: 0009 cost= 8.672616666\nEpoch: 0009 cost= 8.672616666\nEpoch: 0009 cost= 8.672616666\nEpoch: 0009 cost= 8.672768002\nEpoch: 0009 cost= 8.672768002\nEpoch: 0009 cost= 8.681404917\nEpoch: 0009 cost= 8.681404917\nEpoch: 0009 cost= 8.702816564\n"
     ]
    },
    {
     "name": "stdout",
     "output_type": "stream",
     "text": [
      "Epoch: 0009 cost= 8.721033051\nEpoch: 0009 cost= 8.723928470\nEpoch: 0009 cost= 8.731572576\nEpoch: 0009 cost= 8.731572576\nEpoch: 0009 cost= 8.795316049\nEpoch: 0009 cost= 8.818977538\nEpoch: 0009 cost= 8.830133845\nEpoch: 0009 cost= 8.956589381\nEpoch: 0009 cost= 8.956589381\nEpoch: 0009 cost= 9.019856170\nEpoch: 0009 cost= 9.089071064\nEpoch: 0009 cost= 9.098633599\n"
     ]
    },
    {
     "name": "stdout",
     "output_type": "stream",
     "text": [
      "Epoch: 0009 cost= 9.103829196\nEpoch: 0009 cost= 9.150893908\nEpoch: 0009 cost= 9.179032058\nEpoch: 0009 cost= 9.200798401\nEpoch: 0009 cost= 9.240978871\nEpoch: 0009 cost= 9.320354690\nEpoch: 0009 cost= 9.324529601\nEpoch: 0009 cost= 9.357403306\nEpoch: 0009 cost= 9.365368696\nEpoch: 0009 cost= 9.381806081\nEpoch: 0009 cost= 9.391391468\nEpoch: 0009 cost= 9.480540624\n"
     ]
    },
    {
     "name": "stdout",
     "output_type": "stream",
     "text": [
      "Epoch: 0009 cost= 9.493856986\nEpoch: 0009 cost= 9.502833673\nEpoch: 0009 cost= 9.502833673\nEpoch: 0009 cost= 9.502833673\nEpoch: 0009 cost= 9.507907545\nEpoch: 0009 cost= 9.507907545\nEpoch: 0009 cost= 9.517307971\nEpoch: 0009 cost= 9.517307971\nEpoch: 0009 cost= 9.517307971\nEpoch: 0009 cost= 9.520254011\nEpoch: 0009 cost= 9.533379727\nEpoch: 0009 cost= 9.533379727\n"
     ]
    },
    {
     "name": "stdout",
     "output_type": "stream",
     "text": [
      "Epoch: 0009 cost= 9.533379727\nEpoch: 0009 cost= 9.533379727\nEpoch: 0009 cost= 9.723826588\nEpoch: 0009 cost= 9.747501813\nEpoch: 0009 cost= 9.747586175\nEpoch: 0009 cost= 9.747586175\nEpoch: 0009 cost= 9.831298153\nEpoch: 0009 cost= 9.831298153\nEpoch: 0009 cost= 9.866958311\nEpoch: 0009 cost= 9.923736525\nEpoch: 0009 cost= 9.967149822\n"
     ]
    },
    {
     "name": "stdout",
     "output_type": "stream",
     "text": [
      "Epoch: 0009 cost= 10.002044086\nEpoch: 0009 cost= 10.002044086\nEpoch: 0009 cost= 10.091178503\nEpoch: 0009 cost= 10.091178503\nEpoch: 0009 cost= 10.091178503\nEpoch: 0009 cost= 10.214979024\nEpoch: 0009 cost= 10.220745057\nEpoch: 0009 cost= 10.303728650\nEpoch: 0009 cost= 10.303728650\nEpoch: 0009 cost= 10.310401039\nEpoch: 0009 cost= 10.310401039\nEpoch: 0009 cost= 10.313019603\n"
     ]
    },
    {
     "name": "stdout",
     "output_type": "stream",
     "text": [
      "Epoch: 0009 cost= 10.342316492\nEpoch: 0009 cost= 10.342316492\nEpoch: 0009 cost= 10.342316492\nEpoch: 0009 cost= 10.392811175\nEpoch: 0009 cost= 10.417845514\nEpoch: 0009 cost= 10.417845514\nEpoch: 0009 cost= 10.417845514\nEpoch: 0009 cost= 10.512884473\nEpoch: 0009 cost= 10.515232590\nEpoch: 0009 cost= 10.578371261\nEpoch: 0009 cost= 10.578371261\nEpoch: 0009 cost= 10.578371261\n"
     ]
    },
    {
     "name": "stdout",
     "output_type": "stream",
     "text": [
      "Epoch: 0009 cost= 10.580150682\nEpoch: 0009 cost= 10.580150682\nEpoch: 0009 cost= 10.583688999\nEpoch: 0009 cost= 10.583688999\nEpoch: 0009 cost= 10.592903616\nEpoch: 0009 cost= 10.674991310\nEpoch: 0009 cost= 10.674991310\nEpoch: 0009 cost= 10.716953933\nEpoch: 0009 cost= 10.716953933\nEpoch: 0009 cost= 10.716953933\nEpoch: 0009 cost= 10.716953933\nEpoch: 0009 cost= 10.716953933\n"
     ]
    },
    {
     "name": "stdout",
     "output_type": "stream",
     "text": [
      "Epoch: 0009 cost= 10.716953933\nEpoch: 0009 cost= 10.716953933\nEpoch: 0009 cost= 10.745929195\nEpoch: 0009 cost= 10.749499223\nEpoch: 0009 cost= 10.833113926\nEpoch: 0009 cost= 10.873897725\nEpoch: 0009 cost= 10.940979697\nEpoch: 0009 cost= 10.940979697\nEpoch: 0009 cost= 10.944434092\nEpoch: 0009 cost= 11.011144526\nEpoch: 0009 cost= 11.015827755\nEpoch: 0009 cost= 11.031387352\n"
     ]
    },
    {
     "name": "stdout",
     "output_type": "stream",
     "text": [
      "Epoch: 0009 cost= 11.031387352\nEpoch: 0009 cost= 11.031387352\nEpoch: 0009 cost= 11.108859727\nEpoch: 0009 cost= 11.110879986\nEpoch: 0009 cost= 11.137264753\nEpoch: 0009 cost= 11.362593482\nEpoch: 0009 cost= 11.390378728\nEpoch: 0009 cost= 11.390378728\nEpoch: 0009 cost= 11.447323860\nEpoch: 0009 cost= 11.467990559\nEpoch: 0009 cost= 11.571506157\nEpoch: 0009 cost= 11.572087637\n"
     ]
    },
    {
     "name": "stdout",
     "output_type": "stream",
     "text": [
      "Epoch: 0009 cost= 11.605510839\nEpoch: 0009 cost= 11.634816575\nEpoch: 0009 cost= 11.634816575\nEpoch: 0009 cost= 11.635708638\nEpoch: 0009 cost= 11.664620405\nEpoch: 0009 cost= 11.732243280\nEpoch: 0009 cost= 11.744406974\nEpoch: 0009 cost= 11.744406974\nEpoch: 0009 cost= 11.744406974\nEpoch: 0009 cost= 11.759588552\nEpoch: 0009 cost= 11.803148192\nEpoch: 0009 cost= 11.803148192\n"
     ]
    },
    {
     "name": "stdout",
     "output_type": "stream",
     "text": [
      "Epoch: 0009 cost= 11.809095848\nEpoch: 0009 cost= 11.826364476\nEpoch: 0009 cost= 11.826364476\nEpoch: 0009 cost= 11.827834176\nEpoch: 0009 cost= 11.892506278\nEpoch: 0009 cost= 11.892506278\nEpoch: 0009 cost= 11.940299389\nEpoch: 0009 cost= 11.940299389\nEpoch: 0009 cost= 11.940299389\nEpoch: 0009 cost= 12.006388444\nEpoch: 0009 cost= 12.045148459\n"
     ]
    },
    {
     "name": "stdout",
     "output_type": "stream",
     "text": [
      "Epoch: 0009 cost= 12.045148459\nEpoch: 0009 cost= 12.054485596\nEpoch: 0009 cost= 12.054485596\nEpoch: 0009 cost= 12.116860669\nEpoch: 0009 cost= 12.125709994\nEpoch: 0009 cost= 12.321196167\nEpoch: 0009 cost= 12.321196167\nEpoch: 0009 cost= 12.321196167\nEpoch: 0009 cost= 12.321196167\nEpoch: 0009 cost= 12.321196167\nEpoch: 0009 cost= 12.321196167\nEpoch: 0009 cost= 12.321196167\n"
     ]
    },
    {
     "name": "stdout",
     "output_type": "stream",
     "text": [
      "Epoch: 0009 cost= 12.321196167\nEpoch: 0009 cost= 12.336825961\nEpoch: 0009 cost= 12.336825961\nEpoch: 0009 cost= 12.336825961\nEpoch: 0009 cost= 12.354799172\nEpoch: 0009 cost= 12.361119218\nEpoch: 0009 cost= 12.361119218\nEpoch: 0009 cost= 12.361119218\nEpoch: 0009 cost= 12.367731488\nEpoch: 0009 cost= 12.380708014\nEpoch: 0009 cost= 12.422615134\nEpoch: 0009 cost= 12.435885385\n"
     ]
    },
    {
     "name": "stdout",
     "output_type": "stream",
     "text": [
      "Epoch: 0009 cost= 12.435885385\nEpoch: 0009 cost= 12.435885385\nEpoch: 0009 cost= 12.435885385\nEpoch: 0009 cost= 12.435885385\nEpoch: 0009 cost= 12.484129809\nEpoch: 0009 cost= 12.514269646\nEpoch: 0009 cost= 12.514269646\nEpoch: 0009 cost= 12.527265198\nEpoch: 0009 cost= 12.530411256\nEpoch: 0009 cost= 12.558805524\nEpoch: 0009 cost= 12.612726394\nEpoch: 0009 cost= 12.621208124\n"
     ]
    },
    {
     "name": "stdout",
     "output_type": "stream",
     "text": [
      "Epoch: 0009 cost= 12.660544568\nEpoch: 0009 cost= 12.678316244\nEpoch: 0009 cost= 12.678316244\nEpoch: 0009 cost= 12.678316244\nEpoch: 0009 cost= 12.735368527\n"
     ]
    },
    {
     "name": "stdout",
     "output_type": "stream",
     "text": [
      "Epoch: 0010 cost= 0.001576474\nEpoch: 0010 cost= 0.023361065\nEpoch: 0010 cost= 0.028888760\nEpoch: 0010 cost= 0.028888760\nEpoch: 0010 cost= 0.041880679\nEpoch: 0010 cost= 0.053025075\nEpoch: 0010 cost= 0.122674497\nEpoch: 0010 cost= 0.122674497\nEpoch: 0010 cost= 0.122674497\nEpoch: 0010 cost= 0.133660897\nEpoch: 0010 cost= 0.193398022\nEpoch: 0010 cost= 0.193398022\n"
     ]
    },
    {
     "name": "stdout",
     "output_type": "stream",
     "text": [
      "Epoch: 0010 cost= 0.193398022\nEpoch: 0010 cost= 0.193398022\nEpoch: 0010 cost= 0.194273988\nEpoch: 0010 cost= 0.194273988\nEpoch: 0010 cost= 0.194273988\nEpoch: 0010 cost= 0.194273988\nEpoch: 0010 cost= 0.214014954\nEpoch: 0010 cost= 0.214014954\nEpoch: 0010 cost= 0.219602863\nEpoch: 0010 cost= 0.219602863\nEpoch: 0010 cost= 0.219602863\nEpoch: 0010 cost= 0.287165389\n"
     ]
    },
    {
     "name": "stdout",
     "output_type": "stream",
     "text": [
      "Epoch: 0010 cost= 0.292613578\nEpoch: 0010 cost= 0.306061184\nEpoch: 0010 cost= 0.306061184\nEpoch: 0010 cost= 0.306061184\nEpoch: 0010 cost= 0.306061184\nEpoch: 0010 cost= 0.334227680\nEpoch: 0010 cost= 0.371211312\nEpoch: 0010 cost= 0.371211312\nEpoch: 0010 cost= 0.375364173\nEpoch: 0010 cost= 0.375364173\nEpoch: 0010 cost= 0.404392599\nEpoch: 0010 cost= 0.427184201\n"
     ]
    },
    {
     "name": "stdout",
     "output_type": "stream",
     "text": [
      "Epoch: 0010 cost= 0.436122749\nEpoch: 0010 cost= 0.436122749\nEpoch: 0010 cost= 0.436122749\nEpoch: 0010 cost= 0.477516303\nEpoch: 0010 cost= 0.478544552\nEpoch: 0010 cost= 0.478544552\nEpoch: 0010 cost= 0.478544552\nEpoch: 0010 cost= 0.478544552\nEpoch: 0010 cost= 0.478544552\nEpoch: 0010 cost= 0.478544552\nEpoch: 0010 cost= 0.478544552\n"
     ]
    },
    {
     "name": "stdout",
     "output_type": "stream",
     "text": [
      "Epoch: 0010 cost= 0.478544552\nEpoch: 0010 cost= 0.506265295\nEpoch: 0010 cost= 0.506265295\nEpoch: 0010 cost= 0.526104615\nEpoch: 0010 cost= 0.537205462\nEpoch: 0010 cost= 0.569553270\nEpoch: 0010 cost= 0.570561402\nEpoch: 0010 cost= 0.591596421\nEpoch: 0010 cost= 0.591596421\nEpoch: 0010 cost= 0.596327636\nEpoch: 0010 cost= 0.596327636\nEpoch: 0010 cost= 0.596327636\n"
     ]
    },
    {
     "name": "stdout",
     "output_type": "stream",
     "text": [
      "Epoch: 0010 cost= 0.596327636\nEpoch: 0010 cost= 0.596327636\nEpoch: 0010 cost= 0.647601048\nEpoch: 0010 cost= 0.647601048\nEpoch: 0010 cost= 0.655195796\nEpoch: 0010 cost= 0.665825874\nEpoch: 0010 cost= 0.738919642\nEpoch: 0010 cost= 0.753959584\nEpoch: 0010 cost= 0.793763685\nEpoch: 0010 cost= 0.854158465\nEpoch: 0010 cost= 0.871197712\nEpoch: 0010 cost= 0.915775432\n"
     ]
    },
    {
     "name": "stdout",
     "output_type": "stream",
     "text": [
      "Epoch: 0010 cost= 0.929198851\nEpoch: 0010 cost= 0.929198851\nEpoch: 0010 cost= 0.929198851\nEpoch: 0010 cost= 0.929198851\nEpoch: 0010 cost= 0.929198851\nEpoch: 0010 cost= 0.981032500\nEpoch: 0010 cost= 1.009055342\nEpoch: 0010 cost= 1.009055342\nEpoch: 0010 cost= 1.009055342\nEpoch: 0010 cost= 1.009055342\nEpoch: 0010 cost= 1.009055342\n"
     ]
    },
    {
     "name": "stdout",
     "output_type": "stream",
     "text": [
      "Epoch: 0010 cost= 1.167146468\nEpoch: 0010 cost= 1.167146468\nEpoch: 0010 cost= 1.168605985\nEpoch: 0010 cost= 1.185516371\nEpoch: 0010 cost= 1.185516371\nEpoch: 0010 cost= 1.185516371\nEpoch: 0010 cost= 1.185516371\nEpoch: 0010 cost= 1.241463443\nEpoch: 0010 cost= 1.242353464\nEpoch: 0010 cost= 1.276155025\nEpoch: 0010 cost= 1.279937766\nEpoch: 0010 cost= 1.279937766\n"
     ]
    },
    {
     "name": "stdout",
     "output_type": "stream",
     "text": [
      "Epoch: 0010 cost= 1.308653621\nEpoch: 0010 cost= 1.308653621\nEpoch: 0010 cost= 1.324535352\nEpoch: 0010 cost= 1.324535352\nEpoch: 0010 cost= 1.326917978\nEpoch: 0010 cost= 1.326917978\nEpoch: 0010 cost= 1.326917978\nEpoch: 0010 cost= 1.326917978\nEpoch: 0010 cost= 1.326917978\nEpoch: 0010 cost= 1.326917978\nEpoch: 0010 cost= 1.326917978\nEpoch: 0010 cost= 1.326917978\n"
     ]
    },
    {
     "name": "stdout",
     "output_type": "stream",
     "text": [
      "Epoch: 0010 cost= 1.326917978\nEpoch: 0010 cost= 1.326917978\nEpoch: 0010 cost= 1.326917978\nEpoch: 0010 cost= 1.374368068\nEpoch: 0010 cost= 1.374368068\nEpoch: 0010 cost= 1.374815955\nEpoch: 0010 cost= 1.374815955\nEpoch: 0010 cost= 1.407996372\nEpoch: 0010 cost= 1.407996372\nEpoch: 0010 cost= 1.407996372\nEpoch: 0010 cost= 1.444631830\nEpoch: 0010 cost= 1.444631830\n"
     ]
    },
    {
     "name": "stdout",
     "output_type": "stream",
     "text": [
      "Epoch: 0010 cost= 1.445805359\nEpoch: 0010 cost= 1.445805359\nEpoch: 0010 cost= 1.451593512\nEpoch: 0010 cost= 1.478157105\nEpoch: 0010 cost= 1.478157105\nEpoch: 0010 cost= 1.478157105\nEpoch: 0010 cost= 1.478157105\nEpoch: 0010 cost= 1.478157105\nEpoch: 0010 cost= 1.478157105\nEpoch: 0010 cost= 1.574737610\nEpoch: 0010 cost= 1.574737610\nEpoch: 0010 cost= 1.603607159\n"
     ]
    },
    {
     "name": "stdout",
     "output_type": "stream",
     "text": [
      "Epoch: 0010 cost= 1.603607159\nEpoch: 0010 cost= 1.603607159\nEpoch: 0010 cost= 1.603607159\nEpoch: 0010 cost= 1.603607159\nEpoch: 0010 cost= 1.618316856\nEpoch: 0010 cost= 1.657339759\nEpoch: 0010 cost= 1.664034432\nEpoch: 0010 cost= 1.664034432\nEpoch: 0010 cost= 1.664034432\nEpoch: 0010 cost= 1.667370476\nEpoch: 0010 cost= 1.667370476\nEpoch: 0010 cost= 1.690356911\n"
     ]
    },
    {
     "name": "stdout",
     "output_type": "stream",
     "text": [
      "Epoch: 0010 cost= 1.690356911\nEpoch: 0010 cost= 1.733999298\nEpoch: 0010 cost= 1.768510060\nEpoch: 0010 cost= 1.774612020\nEpoch: 0010 cost= 1.774612020\nEpoch: 0010 cost= 1.774612020\nEpoch: 0010 cost= 1.774612020\nEpoch: 0010 cost= 1.787899893\nEpoch: 0010 cost= 1.787899893\nEpoch: 0010 cost= 1.787899893\nEpoch: 0010 cost= 1.809956711\nEpoch: 0010 cost= 1.812852486\n"
     ]
    },
    {
     "name": "stdout",
     "output_type": "stream",
     "text": [
      "Epoch: 0010 cost= 1.812852486\nEpoch: 0010 cost= 1.813600284\nEpoch: 0010 cost= 1.821149290\nEpoch: 0010 cost= 1.962334024\nEpoch: 0010 cost= 1.962334024\nEpoch: 0010 cost= 1.962334024\nEpoch: 0010 cost= 1.977296399\nEpoch: 0010 cost= 2.041860143\nEpoch: 0010 cost= 2.059980727\nEpoch: 0010 cost= 2.082884953\nEpoch: 0010 cost= 2.089098074\nEpoch: 0010 cost= 2.092569807\n"
     ]
    },
    {
     "name": "stdout",
     "output_type": "stream",
     "text": [
      "Epoch: 0010 cost= 2.117674996\nEpoch: 0010 cost= 2.137165415\nEpoch: 0010 cost= 2.154533894\nEpoch: 0010 cost= 2.154533894\nEpoch: 0010 cost= 2.154533894\nEpoch: 0010 cost= 2.154533894\nEpoch: 0010 cost= 2.154533894\nEpoch: 0010 cost= 2.162119583\nEpoch: 0010 cost= 2.167172743\nEpoch: 0010 cost= 2.168760261\nEpoch: 0010 cost= 2.179458290\nEpoch: 0010 cost= 2.179458290\n"
     ]
    },
    {
     "name": "stdout",
     "output_type": "stream",
     "text": [
      "Epoch: 0010 cost= 2.179458290\nEpoch: 0010 cost= 2.226529036\nEpoch: 0010 cost= 2.254246295\nEpoch: 0010 cost= 2.254246295\nEpoch: 0010 cost= 2.254246295\nEpoch: 0010 cost= 2.254246295\nEpoch: 0010 cost= 2.254246295\nEpoch: 0010 cost= 2.254246295\nEpoch: 0010 cost= 2.254246295\nEpoch: 0010 cost= 2.254246295\nEpoch: 0010 cost= 2.254246303\nEpoch: 0010 cost= 2.254246303\n"
     ]
    },
    {
     "name": "stdout",
     "output_type": "stream",
     "text": [
      "Epoch: 0010 cost= 2.254246303\nEpoch: 0010 cost= 2.261971443\nEpoch: 0010 cost= 2.265246052\nEpoch: 0010 cost= 2.265246052\nEpoch: 0010 cost= 2.275031954\nEpoch: 0010 cost= 2.306457389\nEpoch: 0010 cost= 2.306457389\nEpoch: 0010 cost= 2.306457389\nEpoch: 0010 cost= 2.306457389\nEpoch: 0010 cost= 2.397001032\nEpoch: 0010 cost= 2.397001032\nEpoch: 0010 cost= 2.494755784\n"
     ]
    },
    {
     "name": "stdout",
     "output_type": "stream",
     "text": [
      "Epoch: 0010 cost= 2.494831512\nEpoch: 0010 cost= 2.494831512\nEpoch: 0010 cost= 2.494831512\nEpoch: 0010 cost= 2.494831512\nEpoch: 0010 cost= 2.494831512\nEpoch: 0010 cost= 2.494831512\nEpoch: 0010 cost= 2.494831512\nEpoch: 0010 cost= 2.494831512\nEpoch: 0010 cost= 2.494831512\nEpoch: 0010 cost= 2.532524682\nEpoch: 0010 cost= 2.532524682\n"
     ]
    },
    {
     "name": "stdout",
     "output_type": "stream",
     "text": [
      "Epoch: 0010 cost= 2.537895562\nEpoch: 0010 cost= 2.537895562\nEpoch: 0010 cost= 2.537895562\nEpoch: 0010 cost= 2.537895562\nEpoch: 0010 cost= 2.582196696\nEpoch: 0010 cost= 2.590944476\nEpoch: 0010 cost= 2.638875905\nEpoch: 0010 cost= 2.638875905\nEpoch: 0010 cost= 2.638875905\nEpoch: 0010 cost= 2.687893377\nEpoch: 0010 cost= 2.745128970\nEpoch: 0010 cost= 2.750716595\n"
     ]
    },
    {
     "name": "stdout",
     "output_type": "stream",
     "text": [
      "Epoch: 0010 cost= 2.758330053\nEpoch: 0010 cost= 2.909361977\nEpoch: 0010 cost= 2.909361977\nEpoch: 0010 cost= 2.909361977\nEpoch: 0010 cost= 2.909361977\nEpoch: 0010 cost= 2.909361977\nEpoch: 0010 cost= 2.909367755\nEpoch: 0010 cost= 2.909367755\nEpoch: 0010 cost= 2.909367755\nEpoch: 0010 cost= 2.909367755\nEpoch: 0010 cost= 3.003085614\n"
     ]
    },
    {
     "name": "stdout",
     "output_type": "stream",
     "text": [
      "Epoch: 0010 cost= 3.003085614\nEpoch: 0010 cost= 3.003085614\nEpoch: 0010 cost= 3.003085614\nEpoch: 0010 cost= 3.067610067\nEpoch: 0010 cost= 3.091255586\nEpoch: 0010 cost= 3.091255586\nEpoch: 0010 cost= 3.091255586\nEpoch: 0010 cost= 3.091255586\nEpoch: 0010 cost= 3.091255586\nEpoch: 0010 cost= 3.183187050\nEpoch: 0010 cost= 3.183187050\nEpoch: 0010 cost= 3.183187050\n"
     ]
    },
    {
     "name": "stdout",
     "output_type": "stream",
     "text": [
      "Epoch: 0010 cost= 3.183830836\nEpoch: 0010 cost= 3.183830836\nEpoch: 0010 cost= 3.205353471\nEpoch: 0010 cost= 3.213395419\nEpoch: 0010 cost= 3.213395419\nEpoch: 0010 cost= 3.213395419\nEpoch: 0010 cost= 3.215700301\nEpoch: 0010 cost= 3.230569228\nEpoch: 0010 cost= 3.230569228\nEpoch: 0010 cost= 3.230569228\nEpoch: 0010 cost= 3.236893039\nEpoch: 0010 cost= 3.236893039\nEpoch: 0010 cost= 3.236893039\n"
     ]
    },
    {
     "name": "stdout",
     "output_type": "stream",
     "text": [
      "Epoch: 0010 cost= 3.236893039\nEpoch: 0010 cost= 3.236893039\nEpoch: 0010 cost= 3.236893039\nEpoch: 0010 cost= 3.236893039\nEpoch: 0010 cost= 3.236893039\nEpoch: 0010 cost= 3.242548241\nEpoch: 0010 cost= 3.242548241\nEpoch: 0010 cost= 3.259299395\nEpoch: 0010 cost= 3.369348314\nEpoch: 0010 cost= 3.414291690\nEpoch: 0010 cost= 3.414291690\nEpoch: 0010 cost= 3.414291690\n"
     ]
    },
    {
     "name": "stdout",
     "output_type": "stream",
     "text": [
      "Epoch: 0010 cost= 3.414291690\nEpoch: 0010 cost= 3.414764737\nEpoch: 0010 cost= 3.414764737\nEpoch: 0010 cost= 3.414764737\nEpoch: 0010 cost= 3.414764737\nEpoch: 0010 cost= 3.414764737\nEpoch: 0010 cost= 3.433627201\nEpoch: 0010 cost= 3.433627201\nEpoch: 0010 cost= 3.433627201\nEpoch: 0010 cost= 3.559305648\nEpoch: 0010 cost= 3.559305648\nEpoch: 0010 cost= 3.559305648\n"
     ]
    },
    {
     "name": "stdout",
     "output_type": "stream",
     "text": [
      "Epoch: 0010 cost= 3.567143716\nEpoch: 0010 cost= 3.667250084\nEpoch: 0010 cost= 3.667250084\nEpoch: 0010 cost= 3.730180687\nEpoch: 0010 cost= 3.730180687\nEpoch: 0010 cost= 3.730180687\nEpoch: 0010 cost= 3.730180687\nEpoch: 0010 cost= 3.730180687\nEpoch: 0010 cost= 3.730180687\nEpoch: 0010 cost= 3.730180687\nEpoch: 0010 cost= 3.730180687\nEpoch: 0010 cost= 3.730180687\n"
     ]
    },
    {
     "name": "stdout",
     "output_type": "stream",
     "text": [
      "Epoch: 0010 cost= 3.734894891\nEpoch: 0010 cost= 3.734894891\nEpoch: 0010 cost= 3.734894891\nEpoch: 0010 cost= 3.764636172\nEpoch: 0010 cost= 3.764636172\nEpoch: 0010 cost= 3.791485853\nEpoch: 0010 cost= 3.791485853\nEpoch: 0010 cost= 3.791485853\nEpoch: 0010 cost= 3.791485853\nEpoch: 0010 cost= 3.808216047\nEpoch: 0010 cost= 3.818014764\nEpoch: 0010 cost= 3.818014764\n"
     ]
    },
    {
     "name": "stdout",
     "output_type": "stream",
     "text": [
      "Epoch: 0010 cost= 3.877330310\nEpoch: 0010 cost= 3.877330310\nEpoch: 0010 cost= 3.894237768\nEpoch: 0010 cost= 3.918306110\nEpoch: 0010 cost= 3.918306110\nEpoch: 0010 cost= 3.918306110\nEpoch: 0010 cost= 3.918306110\nEpoch: 0010 cost= 3.918306110\nEpoch: 0010 cost= 3.918306110\nEpoch: 0010 cost= 3.929377310\nEpoch: 0010 cost= 3.929377310\nEpoch: 0010 cost= 4.093153139\n"
     ]
    },
    {
     "name": "stdout",
     "output_type": "stream",
     "text": [
      "Epoch: 0010 cost= 4.093153139\nEpoch: 0010 cost= 4.168647260\nEpoch: 0010 cost= 4.168647260\nEpoch: 0010 cost= 4.181141854\nEpoch: 0010 cost= 4.181141854\nEpoch: 0010 cost= 4.205810408\nEpoch: 0010 cost= 4.236980383\nEpoch: 0010 cost= 4.245873183\nEpoch: 0010 cost= 4.329875091\nEpoch: 0010 cost= 4.335191317\nEpoch: 0010 cost= 4.335191317\nEpoch: 0010 cost= 4.335191317\n"
     ]
    },
    {
     "name": "stdout",
     "output_type": "stream",
     "text": [
      "Epoch: 0010 cost= 4.360139293\nEpoch: 0010 cost= 4.360139293\nEpoch: 0010 cost= 4.360139293\nEpoch: 0010 cost= 4.360139293\nEpoch: 0010 cost= 4.363129652\nEpoch: 0010 cost= 4.363129652\nEpoch: 0010 cost= 4.376566069\nEpoch: 0010 cost= 4.376566069\nEpoch: 0010 cost= 4.515775886\nEpoch: 0010 cost= 4.567351262\nEpoch: 0010 cost= 4.646651938\nEpoch: 0010 cost= 4.663702924\n"
     ]
    },
    {
     "name": "stdout",
     "output_type": "stream",
     "text": [
      "Epoch: 0010 cost= 4.663702924\nEpoch: 0010 cost= 4.663702924\nEpoch: 0010 cost= 4.665925420\nEpoch: 0010 cost= 4.713538134\nEpoch: 0010 cost= 4.754389457\nEpoch: 0010 cost= 4.754389457\nEpoch: 0010 cost= 4.771436553\nEpoch: 0010 cost= 4.780996141\nEpoch: 0010 cost= 4.795692937\nEpoch: 0010 cost= 4.795692937\nEpoch: 0010 cost= 4.795692937\nEpoch: 0010 cost= 4.819018004\n"
     ]
    },
    {
     "name": "stdout",
     "output_type": "stream",
     "text": [
      "Epoch: 0010 cost= 4.826727841\nEpoch: 0010 cost= 4.906703933\nEpoch: 0010 cost= 4.912363309\nEpoch: 0010 cost= 4.930721921\nEpoch: 0010 cost= 4.973622561\nEpoch: 0010 cost= 4.973622561\nEpoch: 0010 cost= 4.993329512\nEpoch: 0010 cost= 5.035412323\nEpoch: 0010 cost= 5.072560920\nEpoch: 0010 cost= 5.072560920\nEpoch: 0010 cost= 5.137914342\n"
     ]
    },
    {
     "name": "stdout",
     "output_type": "stream",
     "text": [
      "Epoch: 0010 cost= 5.137914346\nEpoch: 0010 cost= 5.238147708\nEpoch: 0010 cost= 5.355809340\nEpoch: 0010 cost= 5.355809340\nEpoch: 0010 cost= 5.369765377\nEpoch: 0010 cost= 5.369765377\nEpoch: 0010 cost= 5.379861507\nEpoch: 0010 cost= 5.379861507\nEpoch: 0010 cost= 5.379861507\nEpoch: 0010 cost= 5.379861507\nEpoch: 0010 cost= 5.451773641\nEpoch: 0010 cost= 5.451773641\n"
     ]
    },
    {
     "name": "stdout",
     "output_type": "stream",
     "text": [
      "Epoch: 0010 cost= 5.459989293\nEpoch: 0010 cost= 5.459990267\nEpoch: 0010 cost= 5.459990267\nEpoch: 0010 cost= 5.459990267\nEpoch: 0010 cost= 5.472294582\nEpoch: 0010 cost= 5.472921921\nEpoch: 0010 cost= 5.505432766\nEpoch: 0010 cost= 5.516469840\nEpoch: 0010 cost= 5.516469840\nEpoch: 0010 cost= 5.521131212\nEpoch: 0010 cost= 5.521348346\nEpoch: 0010 cost= 5.521348346\nEpoch: 0010 cost= 5.521348346\n"
     ]
    },
    {
     "name": "stdout",
     "output_type": "stream",
     "text": [
      "Epoch: 0010 cost= 5.543796420\nEpoch: 0010 cost= 5.555755111\nEpoch: 0010 cost= 5.567698506\nEpoch: 0010 cost= 5.567698506\nEpoch: 0010 cost= 5.567698506\nEpoch: 0010 cost= 5.567698506\nEpoch: 0010 cost= 5.642128708\nEpoch: 0010 cost= 5.642128708\nEpoch: 0010 cost= 5.648798923\nEpoch: 0010 cost= 5.648798923\nEpoch: 0010 cost= 5.679998496\n"
     ]
    },
    {
     "name": "stdout",
     "output_type": "stream",
     "text": [
      "Epoch: 0010 cost= 5.679998496\nEpoch: 0010 cost= 5.680852477\nEpoch: 0010 cost= 5.682239321\nEpoch: 0010 cost= 5.682239321\nEpoch: 0010 cost= 5.688749104\nEpoch: 0010 cost= 5.688749104\nEpoch: 0010 cost= 5.719988239\nEpoch: 0010 cost= 5.781394004\nEpoch: 0010 cost= 5.781394004\nEpoch: 0010 cost= 5.789939893\nEpoch: 0010 cost= 5.789939893\nEpoch: 0010 cost= 5.916593946\n"
     ]
    },
    {
     "name": "stdout",
     "output_type": "stream",
     "text": [
      "Epoch: 0010 cost= 5.916593946\nEpoch: 0010 cost= 5.916593946\nEpoch: 0010 cost= 5.941648371\nEpoch: 0010 cost= 5.948878680\nEpoch: 0010 cost= 5.948878680\nEpoch: 0010 cost= 5.948878680\nEpoch: 0010 cost= 5.948878680\nEpoch: 0010 cost= 5.948878680\nEpoch: 0010 cost= 5.968485765\nEpoch: 0010 cost= 5.968485765\nEpoch: 0010 cost= 5.974815421\nEpoch: 0010 cost= 5.974815421\nEpoch: 0010 cost= 5.976275977\n"
     ]
    },
    {
     "name": "stdout",
     "output_type": "stream",
     "text": [
      "Epoch: 0010 cost= 5.976275977\nEpoch: 0010 cost= 5.985004777\nEpoch: 0010 cost= 5.985004777\nEpoch: 0010 cost= 5.985004777\nEpoch: 0010 cost= 5.985004777\nEpoch: 0010 cost= 5.985004777\nEpoch: 0010 cost= 6.119165238\nEpoch: 0010 cost= 6.119165238\nEpoch: 0010 cost= 6.224630576\nEpoch: 0010 cost= 6.240983470\nEpoch: 0010 cost= 6.240983470\nEpoch: 0010 cost= 6.242434180\n"
     ]
    },
    {
     "name": "stdout",
     "output_type": "stream",
     "text": [
      "Epoch: 0010 cost= 6.242434180\nEpoch: 0010 cost= 6.242434180\nEpoch: 0010 cost= 6.276426819\nEpoch: 0010 cost= 6.276426819\nEpoch: 0010 cost= 6.316637384\nEpoch: 0010 cost= 6.316637384\nEpoch: 0010 cost= 6.322005499\nEpoch: 0010 cost= 6.322005499\nEpoch: 0010 cost= 6.322005499\nEpoch: 0010 cost= 6.324647018\nEpoch: 0010 cost= 6.380452027\nEpoch: 0010 cost= 6.380452027\n"
     ]
    },
    {
     "name": "stdout",
     "output_type": "stream",
     "text": [
      "Epoch: 0010 cost= 6.382309831\nEpoch: 0010 cost= 6.382309831\nEpoch: 0010 cost= 6.391240619\nEpoch: 0010 cost= 6.391240619\nEpoch: 0010 cost= 6.391240619\nEpoch: 0010 cost= 6.412810611\nEpoch: 0010 cost= 6.412810611\nEpoch: 0010 cost= 6.426628436\nEpoch: 0010 cost= 6.477012492\nEpoch: 0010 cost= 6.477012492\nEpoch: 0010 cost= 6.477981624\nEpoch: 0010 cost= 6.477981624\n"
     ]
    },
    {
     "name": "stdout",
     "output_type": "stream",
     "text": [
      "Epoch: 0010 cost= 6.477981624\nEpoch: 0010 cost= 6.477981624\nEpoch: 0010 cost= 6.504943610\nEpoch: 0010 cost= 6.517844817\nEpoch: 0010 cost= 6.517844817\nEpoch: 0010 cost= 6.517844817\nEpoch: 0010 cost= 6.537801503\nEpoch: 0010 cost= 6.537801503\nEpoch: 0010 cost= 6.537987175\nEpoch: 0010 cost= 6.537987175\nEpoch: 0010 cost= 6.554635710\nEpoch: 0010 cost= 6.554635710\n"
     ]
    },
    {
     "name": "stdout",
     "output_type": "stream",
     "text": [
      "Epoch: 0010 cost= 6.554635710\nEpoch: 0010 cost= 6.653118771\nEpoch: 0010 cost= 6.653118771\nEpoch: 0010 cost= 6.663261642\nEpoch: 0010 cost= 6.663261642\nEpoch: 0010 cost= 6.663261642\nEpoch: 0010 cost= 6.663454789\nEpoch: 0010 cost= 6.663454789\nEpoch: 0010 cost= 6.663454789\nEpoch: 0010 cost= 6.737092325\nEpoch: 0010 cost= 6.737092325\nEpoch: 0010 cost= 6.737092325\n"
     ]
    },
    {
     "name": "stdout",
     "output_type": "stream",
     "text": [
      "Epoch: 0010 cost= 6.752137428\nEpoch: 0010 cost= 6.752137428\nEpoch: 0010 cost= 6.821777959\nEpoch: 0010 cost= 6.821777959\nEpoch: 0010 cost= 6.891172046\nEpoch: 0010 cost= 6.909363332\nEpoch: 0010 cost= 6.920230412\nEpoch: 0010 cost= 6.920230412\nEpoch: 0010 cost= 6.920230412\nEpoch: 0010 cost= 6.966510254\nEpoch: 0010 cost= 6.969369451\n"
     ]
    },
    {
     "name": "stdout",
     "output_type": "stream",
     "text": [
      "Epoch: 0010 cost= 6.969369451\nEpoch: 0010 cost= 6.969369451\nEpoch: 0010 cost= 6.969369451\nEpoch: 0010 cost= 7.058971502\nEpoch: 0010 cost= 7.059245441\nEpoch: 0010 cost= 7.144862195\nEpoch: 0010 cost= 7.150277311\nEpoch: 0010 cost= 7.198373441\nEpoch: 0010 cost= 7.198373441\nEpoch: 0010 cost= 7.198373441\nEpoch: 0010 cost= 7.217476370\nEpoch: 0010 cost= 7.296330525\n"
     ]
    },
    {
     "name": "stdout",
     "output_type": "stream",
     "text": [
      "Epoch: 0010 cost= 7.362973688\nEpoch: 0010 cost= 7.362973688\nEpoch: 0010 cost= 7.386079896\nEpoch: 0010 cost= 7.515119938\nEpoch: 0010 cost= 7.520961171\nEpoch: 0010 cost= 7.520961171\nEpoch: 0010 cost= 7.520961171\nEpoch: 0010 cost= 7.523632682\nEpoch: 0010 cost= 7.585212896\nEpoch: 0010 cost= 7.667818417\nEpoch: 0010 cost= 7.667818417\nEpoch: 0010 cost= 7.681332848\n"
     ]
    },
    {
     "name": "stdout",
     "output_type": "stream",
     "text": [
      "Epoch: 0010 cost= 7.683268821\nEpoch: 0010 cost= 7.698813139\nEpoch: 0010 cost= 7.698813139\nEpoch: 0010 cost= 7.698813139\nEpoch: 0010 cost= 7.698813139\nEpoch: 0010 cost= 7.776894284\nEpoch: 0010 cost= 7.793354484\nEpoch: 0010 cost= 7.793354484\nEpoch: 0010 cost= 7.833255992\nEpoch: 0010 cost= 7.864742923\nEpoch: 0010 cost= 7.864742923\nEpoch: 0010 cost= 7.864742923\n"
     ]
    },
    {
     "name": "stdout",
     "output_type": "stream",
     "text": [
      "Epoch: 0010 cost= 7.864742923\nEpoch: 0010 cost= 7.908822714\nEpoch: 0010 cost= 7.908822714\nEpoch: 0010 cost= 7.944897945\nEpoch: 0010 cost= 7.988145629\nEpoch: 0010 cost= 7.988145629\nEpoch: 0010 cost= 8.036402555\nEpoch: 0010 cost= 8.051051863\nEpoch: 0010 cost= 8.113648084\nEpoch: 0010 cost= 8.120081198\nEpoch: 0010 cost= 8.120081198\nEpoch: 0010 cost= 8.120081198\n"
     ]
    },
    {
     "name": "stdout",
     "output_type": "stream",
     "text": [
      "Epoch: 0010 cost= 8.120081198\nEpoch: 0010 cost= 8.241834835\nEpoch: 0011 cost= 0.000000000\nEpoch: 0011 cost= 0.000000000\nEpoch: 0011 cost= 0.009884535\n"
     ]
    },
    {
     "name": "stdout",
     "output_type": "stream",
     "text": [
      "Epoch: 0011 cost= 0.058057902\nEpoch: 0011 cost= 0.058057902\nEpoch: 0011 cost= 0.066271029\nEpoch: 0011 cost= 0.066271029\nEpoch: 0011 cost= 0.066271029\nEpoch: 0011 cost= 0.066271029\nEpoch: 0011 cost= 0.066271029\nEpoch: 0011 cost= 0.066271029\nEpoch: 0011 cost= 0.066271029\nEpoch: 0011 cost= 0.066271029\nEpoch: 0011 cost= 0.066271029\nEpoch: 0011 cost= 0.066271029\n"
     ]
    },
    {
     "name": "stdout",
     "output_type": "stream",
     "text": [
      "Epoch: 0011 cost= 0.066271029\nEpoch: 0011 cost= 0.066271029\nEpoch: 0011 cost= 0.198064880\nEpoch: 0011 cost= 0.220852417\nEpoch: 0011 cost= 0.220852417\nEpoch: 0011 cost= 0.220852417\nEpoch: 0011 cost= 0.220852417\nEpoch: 0011 cost= 0.220852417\nEpoch: 0011 cost= 0.284180220\nEpoch: 0011 cost= 0.284180220\nEpoch: 0011 cost= 0.284180220\nEpoch: 0011 cost= 0.284180220\n"
     ]
    },
    {
     "name": "stdout",
     "output_type": "stream",
     "text": [
      "Epoch: 0011 cost= 0.284180220\nEpoch: 0011 cost= 0.284180220\nEpoch: 0011 cost= 0.284180220\nEpoch: 0011 cost= 0.284180220\nEpoch: 0011 cost= 0.284180220\nEpoch: 0011 cost= 0.284180220\nEpoch: 0011 cost= 0.284180220\nEpoch: 0011 cost= 0.284180220\nEpoch: 0011 cost= 0.286488807\nEpoch: 0011 cost= 0.286488807\nEpoch: 0011 cost= 0.286488807\n"
     ]
    },
    {
     "name": "stdout",
     "output_type": "stream",
     "text": [
      "Epoch: 0011 cost= 0.289326112\nEpoch: 0011 cost= 0.293930746\nEpoch: 0011 cost= 0.293930746\nEpoch: 0011 cost= 0.305361348\nEpoch: 0011 cost= 0.310476848\nEpoch: 0011 cost= 0.310476848\nEpoch: 0011 cost= 0.311060815\nEpoch: 0011 cost= 0.364613016\nEpoch: 0011 cost= 0.364613016\nEpoch: 0011 cost= 0.364613016\nEpoch: 0011 cost= 0.364613016\nEpoch: 0011 cost= 0.364613016\n"
     ]
    },
    {
     "name": "stdout",
     "output_type": "stream",
     "text": [
      "Epoch: 0011 cost= 0.373182264\nEpoch: 0011 cost= 0.426732193\nEpoch: 0011 cost= 0.426732193\nEpoch: 0011 cost= 0.426732193\nEpoch: 0011 cost= 0.426732193\nEpoch: 0011 cost= 0.435309448\nEpoch: 0011 cost= 0.435309448\nEpoch: 0011 cost= 0.435309448\nEpoch: 0011 cost= 0.495199377\nEpoch: 0011 cost= 0.495217276\nEpoch: 0011 cost= 0.495217276\nEpoch: 0011 cost= 0.495217276\n"
     ]
    },
    {
     "name": "stdout",
     "output_type": "stream",
     "text": [
      "Epoch: 0011 cost= 0.495217276\nEpoch: 0011 cost= 0.495217276\nEpoch: 0011 cost= 0.538776215\nEpoch: 0011 cost= 0.538776215\nEpoch: 0011 cost= 0.538776215\nEpoch: 0011 cost= 0.538776215\nEpoch: 0011 cost= 0.538776215\nEpoch: 0011 cost= 0.538776215\nEpoch: 0011 cost= 0.563327679\nEpoch: 0011 cost= 0.563327679\nEpoch: 0011 cost= 0.626873579\nEpoch: 0011 cost= 0.626873579\n"
     ]
    },
    {
     "name": "stdout",
     "output_type": "stream",
     "text": [
      "Epoch: 0011 cost= 0.626873579\nEpoch: 0011 cost= 0.663284195\nEpoch: 0011 cost= 0.663284195\nEpoch: 0011 cost= 0.663284195\nEpoch: 0011 cost= 0.663284195\nEpoch: 0011 cost= 0.663284195\nEpoch: 0011 cost= 0.676532830\nEpoch: 0011 cost= 0.677627282\nEpoch: 0011 cost= 0.677627282\nEpoch: 0011 cost= 0.677627282\nEpoch: 0011 cost= 0.677627282\nEpoch: 0011 cost= 0.711700810\nEpoch: 0011 cost= 0.711700810\n"
     ]
    },
    {
     "name": "stdout",
     "output_type": "stream",
     "text": [
      "Epoch: 0011 cost= 0.758468513\nEpoch: 0011 cost= 0.758468513\nEpoch: 0011 cost= 0.758468513\nEpoch: 0011 cost= 0.777448147\nEpoch: 0011 cost= 0.791391054\nEpoch: 0011 cost= 0.804059293\nEpoch: 0011 cost= 0.804059293\nEpoch: 0011 cost= 0.804059293\nEpoch: 0011 cost= 0.817057610\nEpoch: 0011 cost= 0.817057610\nEpoch: 0011 cost= 0.818446398\nEpoch: 0011 cost= 0.818446398\n"
     ]
    },
    {
     "name": "stdout",
     "output_type": "stream",
     "text": [
      "Epoch: 0011 cost= 0.820085922\nEpoch: 0011 cost= 0.820085922\nEpoch: 0011 cost= 0.976109620\nEpoch: 0011 cost= 0.976109620\nEpoch: 0011 cost= 0.976109620\nEpoch: 0011 cost= 0.976109620\nEpoch: 0011 cost= 0.976109620\nEpoch: 0011 cost= 0.976109620\nEpoch: 0011 cost= 0.978796357\nEpoch: 0011 cost= 0.978796357\nEpoch: 0011 cost= 0.978796357\nEpoch: 0011 cost= 0.978796357\n"
     ]
    },
    {
     "name": "stdout",
     "output_type": "stream",
     "text": [
      "Epoch: 0011 cost= 0.978796357\nEpoch: 0011 cost= 0.978796357\nEpoch: 0011 cost= 0.978796357\nEpoch: 0011 cost= 0.978796357\nEpoch: 0011 cost= 0.978796357\nEpoch: 0011 cost= 0.980135881\nEpoch: 0011 cost= 0.980135881\nEpoch: 0011 cost= 0.980135881\nEpoch: 0011 cost= 0.980135881\nEpoch: 0011 cost= 0.994181086\nEpoch: 0011 cost= 0.994181087\nEpoch: 0011 cost= 1.086366950\n"
     ]
    },
    {
     "name": "stdout",
     "output_type": "stream",
     "text": [
      "Epoch: 0011 cost= 1.086366950\nEpoch: 0011 cost= 1.086366950\nEpoch: 0011 cost= 1.086366950\nEpoch: 0011 cost= 1.228369417\nEpoch: 0011 cost= 1.228369417\nEpoch: 0011 cost= 1.261776729\nEpoch: 0011 cost= 1.292741830\nEpoch: 0011 cost= 1.292741830\nEpoch: 0011 cost= 1.464707952\nEpoch: 0011 cost= 1.464707952\nEpoch: 0011 cost= 1.464707952\nEpoch: 0011 cost= 1.464707952\n"
     ]
    },
    {
     "name": "stdout",
     "output_type": "stream",
     "text": [
      "Epoch: 0011 cost= 1.464707952\nEpoch: 0011 cost= 1.474919969\nEpoch: 0011 cost= 1.474919969\nEpoch: 0011 cost= 1.474919969\nEpoch: 0011 cost= 1.532083901\nEpoch: 0011 cost= 1.532083901\nEpoch: 0011 cost= 1.532083901\nEpoch: 0011 cost= 1.551288235\nEpoch: 0011 cost= 1.551288235\nEpoch: 0011 cost= 1.551288235\nEpoch: 0011 cost= 1.576649279\nEpoch: 0011 cost= 1.576649279\n"
     ]
    },
    {
     "name": "stdout",
     "output_type": "stream",
     "text": [
      "Epoch: 0011 cost= 1.576649279\nEpoch: 0011 cost= 1.576649279\nEpoch: 0011 cost= 1.576649279\nEpoch: 0011 cost= 1.632288677\nEpoch: 0011 cost= 1.632288677\nEpoch: 0011 cost= 1.632288677\nEpoch: 0011 cost= 1.709864888\nEpoch: 0011 cost= 1.709864888\nEpoch: 0011 cost= 1.709864888\nEpoch: 0011 cost= 1.709864888\nEpoch: 0011 cost= 1.709864888\n"
     ]
    },
    {
     "name": "stdout",
     "output_type": "stream",
     "text": [
      "Epoch: 0011 cost= 1.735605163\nEpoch: 0011 cost= 1.735605163\nEpoch: 0011 cost= 1.735605163\nEpoch: 0011 cost= 1.735605163\nEpoch: 0011 cost= 1.735605163\nEpoch: 0011 cost= 1.738276638\nEpoch: 0011 cost= 1.738276638\nEpoch: 0011 cost= 1.770741810\nEpoch: 0011 cost= 1.770741810\nEpoch: 0011 cost= 1.770741810\nEpoch: 0011 cost= 1.770741810\nEpoch: 0011 cost= 1.770741810\n"
     ]
    },
    {
     "name": "stdout",
     "output_type": "stream",
     "text": [
      "Epoch: 0011 cost= 1.777043799\nEpoch: 0011 cost= 1.777043799\nEpoch: 0011 cost= 1.777043799\nEpoch: 0011 cost= 1.777043799\nEpoch: 0011 cost= 1.777043799\nEpoch: 0011 cost= 1.779738943\nEpoch: 0011 cost= 1.794278511\nEpoch: 0011 cost= 1.835252178\nEpoch: 0011 cost= 1.835252178\nEpoch: 0011 cost= 1.835252178\nEpoch: 0011 cost= 1.910909034\nEpoch: 0011 cost= 1.910909034\n"
     ]
    },
    {
     "name": "stdout",
     "output_type": "stream",
     "text": [
      "Epoch: 0011 cost= 1.914422236\nEpoch: 0011 cost= 1.914422236\nEpoch: 0011 cost= 1.914422236\nEpoch: 0011 cost= 1.914422236\nEpoch: 0011 cost= 1.939778024\nEpoch: 0011 cost= 1.968559121\nEpoch: 0011 cost= 1.968559121\nEpoch: 0011 cost= 1.968559121\nEpoch: 0011 cost= 1.968559121\nEpoch: 0011 cost= 1.968559121\nEpoch: 0011 cost= 1.968559121\n"
     ]
    },
    {
     "name": "stdout",
     "output_type": "stream",
     "text": [
      "Epoch: 0011 cost= 1.968559121\nEpoch: 0011 cost= 1.968559121\nEpoch: 0011 cost= 1.968559121\nEpoch: 0011 cost= 1.998389179\nEpoch: 0011 cost= 2.023546907\nEpoch: 0011 cost= 2.023546907\nEpoch: 0011 cost= 2.046393782\nEpoch: 0011 cost= 2.046393782\nEpoch: 0011 cost= 2.184413122\nEpoch: 0011 cost= 2.184413122\nEpoch: 0011 cost= 2.184413122\nEpoch: 0011 cost= 2.194042952\nEpoch: 0011 cost= 2.202913755\n"
     ]
    },
    {
     "name": "stdout",
     "output_type": "stream",
     "text": [
      "Epoch: 0011 cost= 2.202913755\nEpoch: 0011 cost= 2.202913755\nEpoch: 0011 cost= 2.205476592\nEpoch: 0011 cost= 2.205476592\nEpoch: 0011 cost= 2.211137014\nEpoch: 0011 cost= 2.230146407\nEpoch: 0011 cost= 2.230146407\nEpoch: 0011 cost= 2.230146407\nEpoch: 0011 cost= 2.230162725\nEpoch: 0011 cost= 2.230162725\nEpoch: 0011 cost= 2.233045240\nEpoch: 0011 cost= 2.233568180\nEpoch: 0011 cost= 2.233568180\n"
     ]
    },
    {
     "name": "stdout",
     "output_type": "stream",
     "text": [
      "Epoch: 0011 cost= 2.233568180\nEpoch: 0011 cost= 2.233568180\nEpoch: 0011 cost= 2.263931613\nEpoch: 0011 cost= 2.264883442\nEpoch: 0011 cost= 2.264883442\nEpoch: 0011 cost= 2.264883442\nEpoch: 0011 cost= 2.264883442\nEpoch: 0011 cost= 2.264883442\nEpoch: 0011 cost= 2.264883442\nEpoch: 0011 cost= 2.264883442\nEpoch: 0011 cost= 2.281102494\nEpoch: 0011 cost= 2.281102494\n"
     ]
    },
    {
     "name": "stdout",
     "output_type": "stream",
     "text": [
      "Epoch: 0011 cost= 2.436771523\nEpoch: 0011 cost= 2.456178634\nEpoch: 0011 cost= 2.456178634\nEpoch: 0011 cost= 2.456178634\nEpoch: 0011 cost= 2.456178634\nEpoch: 0011 cost= 2.460289465\nEpoch: 0011 cost= 2.460289465\nEpoch: 0011 cost= 2.460289465\nEpoch: 0011 cost= 2.460289465\nEpoch: 0011 cost= 2.460289465\nEpoch: 0011 cost= 2.531398973\n"
     ]
    },
    {
     "name": "stdout",
     "output_type": "stream",
     "text": [
      "Epoch: 0011 cost= 2.531398973\nEpoch: 0011 cost= 2.580523726\nEpoch: 0011 cost= 2.580523726\nEpoch: 0011 cost= 2.617301957\nEpoch: 0011 cost= 2.617301957\nEpoch: 0011 cost= 2.617301957\nEpoch: 0011 cost= 2.617301957\nEpoch: 0011 cost= 2.617301957\nEpoch: 0011 cost= 2.617301957\nEpoch: 0011 cost= 2.621164058\nEpoch: 0011 cost= 2.621164058\n"
     ]
    },
    {
     "name": "stdout",
     "output_type": "stream",
     "text": [
      "Epoch: 0011 cost= 2.621164058\nEpoch: 0011 cost= 2.621670101\nEpoch: 0011 cost= 2.682345808\nEpoch: 0011 cost= 2.684064228\nEpoch: 0011 cost= 2.697995264\nEpoch: 0011 cost= 2.707330953\nEpoch: 0011 cost= 2.707330953\nEpoch: 0011 cost= 2.817257399\nEpoch: 0011 cost= 2.829180890\nEpoch: 0011 cost= 2.829180890\nEpoch: 0011 cost= 2.829180890\nEpoch: 0011 cost= 2.829181011\n"
     ]
    },
    {
     "name": "stdout",
     "output_type": "stream",
     "text": [
      "Epoch: 0011 cost= 2.831464782\nEpoch: 0011 cost= 2.831786100\nEpoch: 0011 cost= 2.831786100\nEpoch: 0011 cost= 2.831786100\nEpoch: 0011 cost= 2.868356691\nEpoch: 0011 cost= 2.868356691\nEpoch: 0011 cost= 2.868356691\nEpoch: 0011 cost= 2.888499728\nEpoch: 0011 cost= 2.888499728\nEpoch: 0011 cost= 2.998347661\nEpoch: 0011 cost= 3.027031680\nEpoch: 0011 cost= 3.027031680\n"
     ]
    },
    {
     "name": "stdout",
     "output_type": "stream",
     "text": [
      "Epoch: 0011 cost= 3.027031680\nEpoch: 0011 cost= 3.027031680\nEpoch: 0011 cost= 3.027031680\nEpoch: 0011 cost= 3.030753537\nEpoch: 0011 cost= 3.030753537\nEpoch: 0011 cost= 3.030753537\nEpoch: 0011 cost= 3.030753537\nEpoch: 0011 cost= 3.039792786\nEpoch: 0011 cost= 3.039792786\nEpoch: 0011 cost= 3.039792786\nEpoch: 0011 cost= 3.039792786\nEpoch: 0011 cost= 3.039792786\n"
     ]
    },
    {
     "name": "stdout",
     "output_type": "stream",
     "text": [
      "Epoch: 0011 cost= 3.039792786\nEpoch: 0011 cost= 3.039792786\nEpoch: 0011 cost= 3.039792786\nEpoch: 0011 cost= 3.054436039\nEpoch: 0011 cost= 3.054436039\nEpoch: 0011 cost= 3.076716416\nEpoch: 0011 cost= 3.076716416\nEpoch: 0011 cost= 3.076716416\nEpoch: 0011 cost= 3.076716416\nEpoch: 0011 cost= 3.076716416\nEpoch: 0011 cost= 3.076716416\nEpoch: 0011 cost= 3.076716416\n"
     ]
    },
    {
     "name": "stdout",
     "output_type": "stream",
     "text": [
      "Epoch: 0011 cost= 3.076716416\nEpoch: 0011 cost= 3.081049992\nEpoch: 0011 cost= 3.081049992\nEpoch: 0011 cost= 3.081049992\nEpoch: 0011 cost= 3.081049992\nEpoch: 0011 cost= 3.081049992\nEpoch: 0011 cost= 3.117276497\nEpoch: 0011 cost= 3.130303636\nEpoch: 0011 cost= 3.130303636\nEpoch: 0011 cost= 3.162011653\nEpoch: 0011 cost= 3.167673674\n"
     ]
    },
    {
     "name": "stdout",
     "output_type": "stream",
     "text": [
      "Epoch: 0011 cost= 3.167673674\nEpoch: 0011 cost= 3.184598097\nEpoch: 0011 cost= 3.186618578\nEpoch: 0011 cost= 3.282182342\nEpoch: 0011 cost= 3.282182342\nEpoch: 0011 cost= 3.293650506\nEpoch: 0011 cost= 3.297085005\nEpoch: 0011 cost= 3.297303365\nEpoch: 0011 cost= 3.297303365\nEpoch:"
     ]
    },
    {
     "name": "stdout",
     "output_type": "stream",
     "text": [
      " 0011 cost= 3.312996226\nEpoch: 0011 cost= 3.312996226\nEpoch: 0011 cost= 3.345384081\nEpoch: 0011 cost= 3.387896999\nEpoch: 0011 cost= 3.412365749\nEpoch: 0011 cost= 3.440990961\nEpoch: 0011 cost= 3.440990961\nEpoch: 0011 cost= 3.449014505\nEpoch: 0011 cost= 3.449014505\nEpoch: 0011 cost= 3.449014505\n"
     ]
    },
    {
     "name": "stdout",
     "output_type": "stream",
     "text": [
      "Epoch: 0011 cost= 3.458731551\nEpoch: 0011 cost= 3.458731551\nEpoch: 0011 cost= 3.548059429\nEpoch: 0011 cost= 3.548059429\nEpoch: 0011 cost= 3.548059429\nEpoch: 0011 cost= 3.574365183\nEpoch: 0011 cost= 3.574365183\nEpoch: 0011 cost= 3.575152532\nEpoch: 0011 cost= 3.575152532\nEpoch: "
     ]
    },
    {
     "name": "stdout",
     "output_type": "stream",
     "text": [
      "0011 cost= 3.607919900\nEpoch: 0011 cost= 3.607919900\nEpoch: 0011 cost= 3.607919900\nEpoch: 0011 cost= 3.695302713\nEpoch: 0011 cost= 3.695302713\nEpoch: 0011 cost= 3.695302713\nEpoch: 0011 cost= 3.695302713\nEpoch: 0011 cost= 3.695302713\nEpoch: 0011 cost= 3.695302713\nEpoch: 0011 cost= 3.695302713\nEpoch: 0011 cost= 3.695302713\nEpoch: 0011 cost= 3.724077110\n"
     ]
    },
    {
     "name": "stdout",
     "output_type": "stream",
     "text": [
      "Epoch: 0011 cost= 3.768721143\nEpoch: 0011 cost= 3.768721143\nEpoch: 0011 cost= 3.768721143\nEpoch: 0011 cost= 3.772197359\nEpoch: 0011 cost= 3.801745713\nEpoch: 0011 cost= 3.801745713\nEpoch: 0011 cost= 3.801745713\nEpoch: 0011 cost= 3.801745713\nEpoch: 0011 cost= 3.805107290\nEpoch: 0011 cost= 3.870882519\nEpoch: 0011 "
     ]
    },
    {
     "name": "stdout",
     "output_type": "stream",
     "text": [
      "cost= 3.870882519\nEpoch: 0011 cost= 3.870882519\nEpoch: 0011 cost= 3.966099173\nEpoch: 0011 cost= 3.974902342\nEpoch: 0011 cost= 4.044989241\nEpoch: 0011 cost= 4.115802521\nEpoch: 0011 cost= 4.115802521\nEpoch: 0011 cost= 4.286105574\nEpoch: 0011 cost= 4.286105574\nEpoch: 0011 cost= 4.299626324\nEpoch: 0011 cost= 4.299626324\nEpoch: 0011 cost= 4.299626324\n"
     ]
    },
    {
     "name": "stdout",
     "output_type": "stream",
     "text": [
      "Epoch: 0011 cost= 4.299626324\nEpoch: 0011 cost= 4.312943050\nEpoch: 0011 cost= 4.312943050\nEpoch: 0011 cost= 4.312943050\nEpoch: 0011 cost= 4.374737997\nEpoch: 0011 cost= 4.437296368\nEpoch: 0011 cost= 4.437296368\nEpoch: 0011 cost= 4.437296368\nEpoch: 0011 cost= 4.470993341\nEpoch: 0011 cost= 4.516453566\nEpoch: 0011 cost= 4.516453566\nEpoch: 0011 cost= 4.516453566\n"
     ]
    },
    {
     "name": "stdout",
     "output_type": "stream",
     "text": [
      "Epoch: 0011 cost= 4.516453566\nEpoch: 0011 cost= 4.516453566\nEpoch: 0011 cost= 4.516453566\nEpoch: 0011 cost= 4.538301845\nEpoch: 0011 cost= 4.602698859\nEpoch: 0011 cost= 4.642485517\nEpoch: 0011 cost= 4.671522999\nEpoch: 0011 cost= 4.672924349\nEpoch: 0011 cost= 4.672924349\nEpoch: 0011 cost= 4.725047911\nEpoch: 0011 cost= 4.729295543\nEpoch: 0011 cost= 4.729295543\n"
     ]
    },
    {
     "name": "stdout",
     "output_type": "stream",
     "text": [
      "Epoch: 0011 cost= 4.729295543\nEpoch: 0011 cost= 4.729295543\nEpoch: 0011 cost= 4.729295543\nEpoch: 0011 cost= 4.729295543\nEpoch: 0011 cost= 4.729295543\nEpoch: 0011 cost= 4.739113978\nEpoch: 0011 cost= 4.789109807\nEpoch: 0011 cost= 4.789109807\nEpoch: 0011 cost= 4.797206202\nEpoch: 0011 cost= 4.932515401\nEpoch: 0011 cost= 4.970441426\nEpoch: 0011 cost= 5.005411366\n"
     ]
    },
    {
     "name": "stdout",
     "output_type": "stream",
     "text": [
      "Epoch: 0011 cost= 5.044843389\nEpoch: 0011 cost= 5.044843389\nEpoch: 0011 cost= 5.062050332\nEpoch: 0011 cost= 5.119499284\nEpoch: 0011 cost= 5.119499284\nEpoch: 0011 cost= 5.146037504\nEpoch: 0011 cost= 5.151815775\nEpoch: 0011 cost= 5.177043705\nEpoch: 0011 cost= 5.207204606\nEpoch: 0011 cost= 5.207204606\nEpoch: 0011 cost= 5.220736495\nEpoch: 0011 cost= 5.220736495\n"
     ]
    },
    {
     "name": "stdout",
     "output_type": "stream",
     "text": [
      "Epoch: 0011 cost= 5.220736495\nEpoch: 0011 cost= 5.220736495\nEpoch: 0011 cost= 5.220736495\nEpoch: 0011 cost= 5.220824160\nEpoch: 0011 cost= 5.236131006\nEpoch: 0011 cost= 5.236131006\nEpoch: 0011 cost= 5.239180508\nEpoch: 0011 cost= 5.239180508\nEpoch: 0011 cost= 5.239180508\nEpoch: 0011 cost= 5.239180508\nEpoch: 0011 cost= 5.259809197\nEpoch: 0011 cost= 5.259809197\n"
     ]
    },
    {
     "name": "stdout",
     "output_type": "stream",
     "text": [
      "Epoch: 0011 cost= 5.259809197\nEpoch: 0011 cost= 5.259809197\nEpoch: 0011 cost= 5.259809197\nEpoch: 0011 cost= 5.297019779\nEpoch: 0011 cost= 5.299267054\nEpoch: 0011 cost= 5.307330814\nEpoch: 0011 cost= 5.307330814\nEpoch: 0011 cost= 5.310370782\nEpoch: 0011 cost= 5.310370782\nEpoch: 0011 cost= 5.312907288\nEpoch: 0011 cost= 5.338275789\n"
     ]
    },
    {
     "name": "stdout",
     "output_type": "stream",
     "text": [
      "Epoch: 0011 cost= 5.338275789\nEpoch: 0011 cost= 5.338275789\nEpoch: 0011 cost= 5.387602672\nEpoch: 0011 cost= 5.387602672\nEpoch: 0011 cost= 5.387602672\nEpoch: 0011 cost= 5.529578075\nEpoch: 0011 cost= 5.529578075\nEpoch: 0011 cost= 5.529578075\nEpoch: 0011 cost= 5.529578075\nEpoch: 0011 cost= 5.529578075\nEpoch: 0011 cost= 5.530089820\nEpoch: 0011 cost= 5.530089820\n"
     ]
    },
    {
     "name": "stdout",
     "output_type": "stream",
     "text": [
      "Epoch: 0011 cost= 5.644306226\nEpoch: 0011 cost= 5.644306226\nEpoch: 0011 cost= 5.644306226\nEpoch: 0011 cost= 5.644306226\nEpoch: 0011 cost= 5.645751822\nEpoch: 0011 cost= 5.656310718\nEpoch: 0011 cost= 5.656310718\nEpoch: 0011 cost= 5.676528652\nEpoch: 0011 cost= 5.676528652\nEpoch: 0011 cost= 5.676528652\nEpoch: 0011 cost= 5.701775527\n"
     ]
    },
    {
     "name": "stdout",
     "output_type": "stream",
     "text": [
      "Epoch: 0011 cost= 5.701775527\nEpoch: 0011 cost= 5.702121230\nEpoch: 0011 cost= 5.702121230\nEpoch: 0011 cost= 5.702121230\nEpoch: 0011 cost= 5.702121230\nEpoch: 0011 cost= 5.721106066\nEpoch: 0011 cost= 5.721106066\nEpoch: 0011 cost= 5.721106066\nEpoch: 0011 cost= 5.721106066\nEpoch: 0011 cost= 5.727510962\nEpoch: 0011 cost= 5.758922164\nEpoch: 0011 cost= 5.758922164\n"
     ]
    },
    {
     "name": "stdout",
     "output_type": "stream",
     "text": [
      "Epoch: 0011 cost= 5.777967672\nEpoch: 0011 cost= 5.805104204\nEpoch: 0011 cost= 5.846293862\nEpoch: 0011 cost= 5.868737398\nEpoch: 0011 cost= 5.872664386\nEpoch: 0011 cost= 5.872664386\nEpoch: 0011 cost= 5.872664386\nEpoch: 0011 cost= 5.872664386\nEpoch: 0011 cost= 5.872664386\nEpoch: 0011 cost= 5.872664386\nEpoch: 0011 cost= 5.872664386\nEpoch: 0011 cost= 5.909877171\n"
     ]
    },
    {
     "name": "stdout",
     "output_type": "stream",
     "text": [
      "Epoch: 0011 cost= 5.928868008\nEpoch: 0011 cost= 5.928868008\nEpoch: 0011 cost= 5.928868008\nEpoch: 0011 cost= 5.932712184\nEpoch: 0011 cost= 5.961035693\nEpoch: 0011 cost= 5.966565238\nEpoch: 0011 cost= 5.997373094\nEpoch: 0011 cost= 5.998594330\nEpoch: 0011 cost= 5.998594330\nEpoch: 0011 cost= 5.998594330\nEpoch: 0011 cost= 5.998594330\nEpoch: 0011 cost= 5.998594330\n"
     ]
    },
    {
     "name": "stdout",
     "output_type": "stream",
     "text": [
      "Epoch: 0011 cost= 6.036011960\nEpoch: 0011 cost= 6.036011960\nEpoch: 0011 cost= 6.036011960\nEpoch: 0011 cost= 6.036011960\nEpoch: 0011 cost= 6.036011960\nEpoch: 0011 cost= 6.036011960\nEpoch: 0011 cost= 6.036011960\nEpoch: 0011 cost= 6.086761579\nEpoch: 0011 cost= 6.086761579\nEpoch: 0011 cost= 6.160390813\nEpoch: 0011 cost= 6.160390813\nEpoch: 0011 cost= 6.160390813\n"
     ]
    },
    {
     "name": "stdout",
     "output_type": "stream",
     "text": [
      "Epoch: 0011 cost= 6.160951679\nEpoch: 0011 cost= 6.160951679\nEpoch: 0011 cost= 6.160951679\nEpoch: 0011 cost= 6.160951679\nEpoch: 0011 cost= 6.160951679\nEpoch: 0011 cost= 6.160951679\nEpoch: 0011 cost= 6.177521873\nEpoch: 0011 cost= 6.177521873\nEpoch: 0011 cost= 6.177521873\nEpoch: 0011 cost= 6.223980134\nEpoch: 0011 cost= 6.223980134\nEpoch: 0011 cost= 6.247760581\n"
     ]
    },
    {
     "name": "stdout",
     "output_type": "stream",
     "text": [
      "Epoch: 0011 cost= 6.251343092\nEpoch: 0011 cost= 6.258370910\nEpoch: 0011 cost= 6.382636948\nEpoch: 0011 cost= 6.382636948\nEpoch: 0011 cost= 6.382636948\nEpoch: 0011 cost= 6.382636948\nEpoch: 0011 cost= 6.382636948\nEpoch: 0011 cost= 6.453741997\nEpoch: 0011 cost= 6.471801425\nEpoch: 0011 cost= 6.473381646\nEpoch: 0011 cost= 6.512734961\n"
     ]
    },
    {
     "name": "stdout",
     "output_type": "stream",
     "text": [
      "Epoch: 0011 cost= 6.564670278\nEpoch: 0011 cost= 6.628281000\nEpoch: 0011 cost= 6.628281000\nEpoch: 0011 cost= 6.628281000\nEpoch: 0011 cost= 6.628281000\nEpoch: 0011 cost= 6.628281000\nEpoch: 0011 cost= 6.628281000\nEpoch: 0011 cost= 6.628281000\nEpoch: 0011 cost= 6.628281000\nEpoch: 0011 cost= 6.638535448\nEpoch: 0011 cost= 6.638535448\n"
     ]
    },
    {
     "name": "stdout",
     "output_type": "stream",
     "text": [
      "Epoch: 0012 cost= 0.073571639\nEpoch: 0012 cost= 0.073571639\nEpoch: 0012 cost= 0.073571639\nEpoch: 0012 cost= 0.073571639\nEpoch: 0012 cost= 0.073571639\nEpoch: 0012 cost= 0.074590389\nEpoch: 0012 cost= 0.074891628\nEpoch: 0012 cost= 0.114939443\nEpoch: 0012 cost= 0.114939443\nEpoch: 0012 cost= 0.114939443\nEpoch:"
     ]
    },
    {
     "name": "stdout",
     "output_type": "stream",
     "text": [
      " 0012 cost= 0.143567291\nEpoch: 0012 cost= 0.143567291\nEpoch: 0012 cost= 0.143567291\nEpoch: 0012 cost= 0.147088083\nEpoch: 0012 cost= 0.147088083\nEpoch: 0012 cost= 0.208423061\nEpoch: 0012 cost= 0.208423061\nEpoch: 0012 cost= 0.208423061\nEpoch: 0012 cost= 0.208423061\nEpoch: 0012 cost= 0.221128671\nEpoch: 0012 cost= 0.357174245\nEpoch: 0012 cost= 0.370137296\n"
     ]
    },
    {
     "name": "stdout",
     "output_type": "stream",
     "text": [
      "Epoch: 0012 cost= 0.377877406\nEpoch: 0012 cost= 0.395281875\nEpoch: 0012 cost= 0.395281875\nEpoch: 0012 cost= 0.395281875\nEpoch: 0012 cost= 0.395281875\nEpoch: 0012 cost= 0.395281875\nEpoch: 0012 cost= 0.395281875\nEpoch: 0012 cost= 0.395281875\nEpoch: 0012 cost= 0.395282048\nEpoch: 0012 cost= 0.395282048\nEpoch: 0012 cost= 0.448796764\nEpoch: 0012 cost= 0.511860535\n"
     ]
    },
    {
     "name": "stdout",
     "output_type": "stream",
     "text": [
      "Epoch: 0012 cost= 0.511860535\nEpoch: 0012 cost= 0.511860535\nEpoch: 0012 cost= 0.532025304\nEpoch: 0012 cost= 0.585734396\nEpoch: 0012 cost= 0.606408020\nEpoch: 0012 cost= 0.684289302\nEpoch: 0012 cost= 0.711361532\nEpoch: 0012 cost= 0.711361532\nEpoch: 0012 cost= 0.765961676\nEpoch: 0012 cost= 0.766134413\nEpoch: 0012 cost= 0.793122679\nEpoch: 0012 cost= 0.793122679\n"
     ]
    },
    {
     "name": "stdout",
     "output_type": "stream",
     "text": [
      "Epoch: 0012 cost= 0.793122679\nEpoch: 0012 cost= 0.796770042\nEpoch: 0012 cost= 0.796770042\nEpoch: 0012 cost= 0.796770042\nEpoch: 0012 cost= 0.796770042\nEpoch: 0012 cost= 0.796770042\nEpoch: 0012 cost= 0.796770042\nEpoch: 0012 cost= 0.800546720\nEpoch: 0012 cost= 0.800546720\nEpoch: 0012 cost= 0.800546720\nEpoch: 0012 cost= 0.807492281\nEpoch: 0012 cost= 0.807492281\n"
     ]
    },
    {
     "name": "stdout",
     "output_type": "stream",
     "text": [
      "Epoch: 0012 cost= 0.807492281\nEpoch: 0012 cost= 0.807492281\nEpoch: 0012 cost= 0.807492281\nEpoch: 0012 cost= 0.807492281\nEpoch: 0012 cost= 0.807492281\nEpoch: 0012 cost= 0.807492281\nEpoch: 0012 cost= 0.829946426\nEpoch: 0012 cost= 0.834442464\nEpoch: 0012 cost= 0.892388382\nEpoch: 0012 cost= 0.892388382\nEpoch: 0012 cost= 0.892388382\nEpoch: 0012 cost= 0.892388382\n"
     ]
    },
    {
     "name": "stdout",
     "output_type": "stream",
     "text": [
      "Epoch: 0012 cost= 0.892388382\nEpoch: 0012 cost= 0.892388382\nEpoch: 0012 cost= 0.931260913\nEpoch: 0012 cost= 0.931260913\nEpoch: 0012 cost= 0.931260913\nEpoch: 0012 cost= 0.931260913\nEpoch: 0012 cost= 0.931260913\nEpoch: 0012 cost= 0.931260913\nEpoch: 0012 cost= 0.931260913\nEpoch: 0012 cost= 0.931260913\nEpoch: 0012 cost= 0.931260913\nEpoch: 0012 cost= 0.931260913\nEpoch: 0012 cost= 0.931260913\n"
     ]
    },
    {
     "name": "stdout",
     "output_type": "stream",
     "text": [
      "Epoch: 0012 cost= 0.931260913\nEpoch: 0012 cost= 0.931260913\nEpoch: 0012 cost= 0.931260913\nEpoch: 0012 cost= 0.931260913\nEpoch: 0012 cost= 0.931260913\nEpoch: 0012 cost= 0.931260913\nEpoch: 0012 cost= 0.931260913\nEpoch: 0012 cost= 0.931260913\nEpoch: 0012 cost= 0.931260913\nEpoch: 0012 cost= 0.931260913\nEpoch: 0012 cost= 0.931260913\nEpoch: 0012 cost= 0.989765115\n"
     ]
    },
    {
     "name": "stdout",
     "output_type": "stream",
     "text": [
      "Epoch: 0012 cost= 0.998635143\nEpoch: 0012 cost= 0.998635143\nEpoch: 0012 cost= 1.031748248\nEpoch: 0012 cost= 1.031748248\nEpoch: 0012 cost= 1.068890145\nEpoch: 0012 cost= 1.083924077\nEpoch: 0012 cost= 1.139591316\nEpoch: 0012 cost= 1.139591316\nEpoch: 0012 cost= 1.160454775\nEpoch: 0012 cost= 1.160454775\nEpoch: 0012 cost= 1.160454775\nEpoch: 0012 cost= 1.160454775\n"
     ]
    },
    {
     "name": "stdout",
     "output_type": "stream",
     "text": [
      "Epoch: 0012 cost= 1.160454775\nEpoch: 0012 cost= 1.160454775\nEpoch: 0012 cost= 1.219677319\nEpoch: 0012 cost= 1.222405552\nEpoch: 0012 cost= 1.222405552\nEpoch: 0012 cost= 1.257006653\nEpoch: 0012 cost= 1.257006653\nEpoch: 0012 cost= 1.314414573\nEpoch: 0012 cost= 1.314414573\nEpoch: 0012 cost= 1.314414573\nEpoch: 0012 cost= 1.324289662\n"
     ]
    },
    {
     "name": "stdout",
     "output_type": "stream",
     "text": [
      "Epoch: 0012 cost= 1.324289662\nEpoch: 0012 cost= 1.324289662\nEpoch: 0012 cost= 1.324289662\nEpoch: 0012 cost= 1.363411130\nEpoch: 0012 cost= 1.363411130\nEpoch: 0012 cost= 1.363411130\nEpoch: 0012 cost= 1.371710908\nEpoch: 0012 cost= 1.371710908\nEpoch: 0012 cost= 1.371710908\nEpoch: 0012 cost= 1.384651054\nEpoch: 0012 cost= 1.396316484\nEpoch: 0012 cost= 1.396316484\nEpoch: 0012 cost= 1.396316484\n"
     ]
    },
    {
     "name": "stdout",
     "output_type": "stream",
     "text": [
      "Epoch: 0012 cost= 1.396316484\nEpoch: 0012 cost= 1.422874323\nEpoch: 0012 cost= 1.442322441\nEpoch: 0012 cost= 1.445561441\nEpoch: 0012 cost= 1.448610363\nEpoch: 0012 cost= 1.448610363\nEpoch: 0012 cost= 1.449981990\nEpoch: 0012 cost= 1.455401729\nEpoch: 0012 cost= 1.455401729\nEpoch: 0012 cost= 1.455401729\nEpoch: 0012 cost= 1.484725273\nEpoch: 0012 cost= 1.494161166\n"
     ]
    },
    {
     "name": "stdout",
     "output_type": "stream",
     "text": [
      "Epoch: 0012 cost= 1.494161166\nEpoch: 0012 cost= 1.514668116\nEpoch: 0012 cost= 1.514668116\nEpoch: 0012 cost= 1.514668116\nEpoch: 0012 cost= 1.536010429\nEpoch: 0012 cost= 1.536010429\nEpoch: 0012 cost= 1.536010429\nEpoch: 0012 cost= 1.536010429\nEpoch: 0012 cost= 1.536010429\nEpoch: 0012 cost= 1.536010429\n"
     ]
    },
    {
     "name": "stdout",
     "output_type": "stream",
     "text": [
      "Epoch: 0012 cost= 1.537474127\nEpoch: 0012 cost= 1.537474127\nEpoch: 0012 cost= 1.537474127\nEpoch: 0012 cost= 1.676836310\nEpoch: 0012 cost= 1.677109561\nEpoch: 0012 cost= 1.677109561\nEpoch: 0012 cost= 1.677109561\nEpoch: 0012 cost= 1.679462260\nEpoch: 0012 cost= 1.679462260\nEpoch: 0012 cost= 1.757174884\nEpoch: 0012 cost= 1.757174884\nEpoch: 0012 cost= 1.757174884\n"
     ]
    },
    {
     "name": "stdout",
     "output_type": "stream",
     "text": [
      "Epoch: 0012 cost= 1.757174884\nEpoch: 0012 cost= 1.799626465\nEpoch: 0012 cost= 1.853084436\nEpoch: 0012 cost= 1.853084436\nEpoch: 0012 cost= 1.856417497\nEpoch: 0012 cost= 1.858845889\nEpoch: 0012 cost= 1.879267267\nEpoch: 0012 cost= 1.879267267\nEpoch: 0012 cost= 1.879267267\nEpoch: 0012 cost= 1.879267267\nEpoch: 0012 cost= 1.967439181\nEpoch: 0012 cost= 1.967439181\n"
     ]
    },
    {
     "name": "stdout",
     "output_type": "stream",
     "text": [
      "Epoch: 0012 cost= 2.013631440\nEpoch: 0012 cost= 2.013631440\nEpoch: 0012 cost= 2.013631440\nEpoch: 0012 cost= 2.013631440\nEpoch: 0012 cost= 2.013631440\nEpoch: 0012 cost= 2.107562035\nEpoch: 0012 cost= 2.189977148\nEpoch: 0012 cost= 2.237909367\nEpoch: 0012 cost= 2.307714408\nEpoch: 0012 cost= 2.307714408\nEpoch: 0012 cost= 2.307714408\nEpoch: 0012 cost= 2.335069255\n"
     ]
    },
    {
     "name": "stdout",
     "output_type": "stream",
     "text": [
      "Epoch: 0012 cost= 2.343335591\nEpoch: 0012 cost= 2.343335591\nEpoch: 0012 cost= 2.478621721\nEpoch: 0012 cost= 2.567313162\nEpoch: 0012 cost= 2.601196239\nEpoch: 0012 cost= 2.622336429\nEpoch: 0012 cost= 2.622336429\nEpoch: 0012 cost= 2.648034148\nEpoch: 0012 cost= 2.648034148\nEpoch: 0012 cost= 2.666219243\nEpoch: 0012 cost= 2.666219243\nEpoch: 0012 cost= 2.666219243\n"
     ]
    },
    {
     "name": "stdout",
     "output_type": "stream",
     "text": [
      "Epoch: 0012 cost= 2.666219243\nEpoch: 0012 cost= 2.725543619\nEpoch: 0012 cost= 2.725543619\nEpoch: 0012 cost= 2.725543619\nEpoch: 0012 cost= 2.725543619\nEpoch: 0012 cost= 2.725543619\nEpoch: 0012 cost= 2.725543619\nEpoch: 0012 cost= 2.732640600\nEpoch: 0012 cost= 2.734431754\nEpoch: 0012 cost= 2.734431754\nEpoch: 0012 cost= 2.765522788\nEpoch: 0012 cost= 2.765522788\n"
     ]
    },
    {
     "name": "stdout",
     "output_type": "stream",
     "text": [
      "Epoch: 0012 cost= 2.765522788\nEpoch: 0012 cost= 2.768670533\nEpoch: 0012 cost= 2.773410892\nEpoch: 0012 cost= 2.773410892\nEpoch: 0012 cost= 2.773410892\nEpoch: 0012 cost= 2.773925771\nEpoch: 0012 cost= 2.773925771\nEpoch: 0012 cost= 2.773925771\nEpoch: 0012 cost= 2.787333595\nEpoch: 0012 cost= 2.860966144\nEpoch: 0012 cost= 2.860966144\nEpoch: 0012 cost= 2.860966144\n"
     ]
    },
    {
     "name": "stdout",
     "output_type": "stream",
     "text": [
      "Epoch: 0012 cost= 2.930966595\nEpoch: 0012 cost= 2.982448147\nEpoch: 0012 cost= 2.984080071\nEpoch: 0012 cost= 3.030968849\nEpoch: 0012 cost= 3.039049904\nEpoch: 0012 cost= 3.039049904\nEpoch: 0012 cost= 3.039049904\nEpoch: 0012 cost= 3.041238825\nEpoch: 0012 cost= 3.065847400\nEpoch: 0012 cost= 3.065847400\nEpoch: 0012 cost= 3.068806030\n"
     ]
    },
    {
     "name": "stdout",
     "output_type": "stream",
     "text": [
      "Epoch: 0012 cost= 3.176644802\nEpoch: 0012 cost= 3.219971139\nEpoch: 0012 cost= 3.324268277\nEpoch: 0012 cost= 3.324268277\nEpoch: 0012 cost= 3.342062560\nEpoch: 0012 cost= 3.342062560\nEpoch: 0012 cost= 3.342062560\nEpoch: 0012 cost= 3.342062560\nEpoch: 0012 cost= 3.342062560\nEpoch: 0012 cost= 3.342062560\nEpoch: 0012 cost= 3.342062560\nEpoch: 0012 cost= 3.342062560\n"
     ]
    },
    {
     "name": "stdout",
     "output_type": "stream",
     "text": [
      "Epoch: 0012 cost= 3.354072468\nEpoch: 0012 cost= 3.354072468\nEpoch: 0012 cost= 3.388492284\nEpoch: 0012 cost= 3.388492284\nEpoch: 0012 cost= 3.388492284\nEpoch: 0012 cost= 3.388492284\nEpoch: 0012 cost= 3.388492284\nEpoch: 0012 cost= 3.389007515\nEpoch: 0012 cost= 3.389007515\nEpoch: 0012 cost= 3.422721532\nEpoch: 0012 cost= 3.428681919\nEpoch: 0012 cost= 3.428681919\n"
     ]
    },
    {
     "name": "stdout",
     "output_type": "stream",
     "text": [
      "Epoch: 0012 cost= 3.428681919\nEpoch: 0012 cost= 3.428681919\nEpoch: 0012 cost= 3.469170592\nEpoch: 0012 cost= 3.470093603\nEpoch: 0012 cost= 3.470093603\nEpoch: 0012 cost= 3.479970867\nEpoch: 0012 cost= 3.482359397\nEpoch: 0012 cost= 3.482359397\nEpoch: 0012 cost= 3.482359397\nEpoch: 0012 cost= 3.518202525\nEpoch: 0012 cost= 3.518202525\nEpoch: 0012 cost= 3.518202525\n"
     ]
    },
    {
     "name": "stdout",
     "output_type": "stream",
     "text": [
      "Epoch: 0012 cost= 3.538424436\nEpoch: 0012 cost= 3.578748085\nEpoch: 0012 cost= 3.616497747\nEpoch: 0012 cost= 3.617161303\nEpoch: 0012 cost= 3.617161303\nEpoch: 0012 cost= 3.617161303\nEpoch: 0012 cost= 3.617161303\nEpoch: 0012 cost= 3.617161303\nEpoch: 0012 cost= 3.621842181\nEpoch: 0012 cost= 3.621842181\nEpoch: 0012 cost= 3.621842181\nEpoch: 0012 cost= 3.659027447\n"
     ]
    },
    {
     "name": "stdout",
     "output_type": "stream",
     "text": [
      "Epoch: 0012 cost= 3.660797653\nEpoch: 0012 cost= 3.660797653\nEpoch: 0012 cost= 3.660797653\nEpoch: 0012 cost= 3.691891705\nEpoch: 0012 cost= 3.691891705\nEpoch: 0012 cost= 3.691891705\nEpoch: 0012 cost= 3.691891705\nEpoch: 0012 cost= 3.758090789\nEpoch: 0012 cost= 3.878167277\nEpoch: 0012 cost= 3.920567294\nEpoch: 0012 cost= 3.920567294\nEpoch: 0012 cost= 3.920567294\n"
     ]
    },
    {
     "name": "stdout",
     "output_type": "stream",
     "text": [
      "Epoch: 0012 cost= 3.920567294\nEpoch: 0012 cost= 3.920567294\nEpoch: 0012 cost= 3.920567294\nEpoch: 0012 cost= 3.951177580\nEpoch: 0012 cost= 4.052763127\nEpoch: 0012 cost= 4.055186938\nEpoch: 0012 cost= 4.055186938\nEpoch: 0012 cost= 4.084544900\nEpoch: 0012 cost= 4.084544900\nEpoch: 0012 cost= 4.084544900\nEpoch: 0012 cost= 4.084544900\n"
     ]
    },
    {
     "name": "stdout",
     "output_type": "stream",
     "text": [
      "Epoch: 0012 cost= 4.084544900\nEpoch: 0012 cost= 4.084544900\nEpoch: 0012 cost= 4.084544900\nEpoch: 0012 cost= 4.129613100\nEpoch: 0012 cost= 4.129613100\nEpoch: 0012 cost= 4.129613100\nEpoch: 0012 cost= 4.129613100\nEpoch: 0012 cost= 4.138195681\nEpoch: 0012 cost= 4.138195681\nEpoch: 0012 cost= 4.138195681\nEpoch: 0012 cost= 4.138195681\nEpoch: 0012 cost= 4.176986571\nEpoch: 0012 cost= 4.176986571\n"
     ]
    },
    {
     "name": "stdout",
     "output_type": "stream",
     "text": [
      "Epoch: 0012 cost= 4.176986571\nEpoch: 0012 cost= 4.178617102\nEpoch: 0012 cost= 4.178617102\nEpoch: 0012 cost= 4.178617102\nEpoch: 0012 cost= 4.178617102\nEpoch: 0012 cost= 4.225637584\nEpoch: 0012 cost= 4.225637584\nEpoch: 0012 cost= 4.225637584\nEpoch: 0012 cost= 4.225637584\nEpoch: 0012 cost= 4.238156794\nEpoch: 0012 cost= 4.258500150\n"
     ]
    },
    {
     "name": "stdout",
     "output_type": "stream",
     "text": [
      "Epoch: 0012 cost= 4.280738919\nEpoch: 0012 cost= 4.280738919\nEpoch: 0012 cost= 4.316500166\nEpoch: 0012 cost= 4.316500166\nEpoch: 0012 cost= 4.316500166\nEpoch: 0012 cost= 4.316500166\nEpoch: 0012 cost= 4.316500166\nEpoch: 0012 cost= 4.316500166\nEpoch: 0012 cost= 4.316500166\nEpoch: 0012 cost= 4.334992083\nEpoch: 0012 cost= 4.339086259\nEpoch: 0012 cost= 4.355223386\n"
     ]
    },
    {
     "name": "stdout",
     "output_type": "stream",
     "text": [
      "Epoch: 0012 cost= 4.357609536\nEpoch: 0012 cost= 4.357609536\nEpoch: 0012 cost= 4.357609536\nEpoch: 0012 cost= 4.357609536\nEpoch: 0012 cost= 4.430382156\nEpoch: 0012 cost= 4.430382156\nEpoch: 0012 cost= 4.430382156\nEpoch: 0012 cost= 4.430382156\nEpoch: 0012 cost= 4.430382156\nEpoch: 0012 cost= 4.430382156\nEpoch: 0012 cost= 4.451620757\nEpoch: 0012 cost= 4.452172745\n"
     ]
    },
    {
     "name": "stdout",
     "output_type": "stream",
     "text": [
      "Epoch: 0012 cost= 4.452172745\nEpoch: 0012 cost= 4.486985624\nEpoch: 0012 cost= 4.490210402\nEpoch: 0012 cost= 4.572405282\nEpoch: 0012 cost= 4.572405282\nEpoch: 0012 cost= 4.579378754\nEpoch: 0012 cost= 4.579378754\nEpoch: 0012 cost= 4.614705334\nEpoch: 0012 cost= 4.614705334\nEpoch: 0012 cost= 4.638751783\nEpoch: 0012 cost= 4.644432341\nEpoch: 0012 cost= 4.644432341\n"
     ]
    },
    {
     "name": "stdout",
     "output_type": "stream",
     "text": [
      "Epoch: 0012 cost= 4.651195924\nEpoch: 0012 cost= 4.651195924\nEpoch: 0012 cost= 4.657310714\nEpoch: 0012 cost= 4.657310714\nEpoch: 0012 cost= 4.705236830\nEpoch: 0012 cost= 4.715306858\nEpoch: 0012 cost= 4.790751423\nEpoch: 0012 cost= 4.790751423\nEpoch: 0012 cost= 4.790751423\nEpoch: 0012 cost= 4.832462003\nEpoch: 0012 cost= 4.832462003\nEpoch: 0012 cost= 4.893912337\n"
     ]
    },
    {
     "name": "stdout",
     "output_type": "stream",
     "text": [
      "Epoch: 0012 cost= 4.893912337\nEpoch: 0012 cost= 4.902341456\nEpoch: 0012 cost= 5.061022028\nEpoch: 0012 cost= 5.061022028\nEpoch: 0012 cost= 5.061022028\nEpoch: 0012 cost= 5.061022028\nEpoch: 0012 cost= 5.061022028\nEpoch: 0012 cost= 5.094799452\nEpoch: 0012 cost= 5.094799452\nEpoch: 0012 cost= 5.094799452\nEpoch: 0012 cost= 5.261886425\nEpoch: 0012 cost= 5.261886425\n"
     ]
    },
    {
     "name": "stdout",
     "output_type": "stream",
     "text": [
      "Epoch: 0012 cost= 5.268766361\nEpoch: 0012 cost= 5.268766361\nEpoch: 0012 cost= 5.268766361\nEpoch: 0012 cost= 5.268766361\nEpoch: 0012 cost= 5.269536247\nEpoch: 0012 cost= 5.269536247\nEpoch: 0012 cost= 5.269536247\nEpoch: 0012 cost= 5.269536247\nEpoch: 0012 cost= 5.339782489\nEpoch: 0012 cost= 5.339782489\nEpoch: 0012 cost= 5.339782489\nEpoch: 0012 cost= 5.347061786\n"
     ]
    },
    {
     "name": "stdout",
     "output_type": "stream",
     "text": [
      "Epoch: 0012 cost= 5.347061786\nEpoch: 0012 cost= 5.347061786\nEpoch: 0012 cost= 5.414397886\nEpoch: 0012 cost= 5.414397886\nEpoch: 0012 cost= 5.414397886\nEpoch: 0012 cost= 5.456855068\nEpoch: 0012 cost= 5.456855068\nEpoch: 0012 cost= 5.473193385\nEpoch: 0012 cost= 5.571473269\nEpoch: 0012 cost= 5.571473269\nEpoch: 0012 cost= 5.571473269\nEpoch: 0012 cost= 5.571473269\nEpoch: 0012 cost= 5.628885999\n"
     ]
    },
    {
     "name": "stdout",
     "output_type": "stream",
     "text": [
      "Epoch: 0012 cost= 5.628885999\nEpoch: 0012 cost= 5.636895361\nEpoch: 0012 cost= 5.636895361\nEpoch: 0012 cost= 5.636895361\nEpoch: 0012 cost= 5.678066012\nEpoch: 0012 cost= 5.678066012\nEpoch: 0012 cost= 5.678066012\nEpoch: 0012 cost= 5.785408943\nEpoch: 0012 cost= 5.785408943\nEpoch: 0012 cost= 5.906460440\nEpoch: 0012 cost= 5.906460440\nEpoch: 0012 cost= 5.961965999\n"
     ]
    },
    {
     "name": "stdout",
     "output_type": "stream",
     "text": [
      "Epoch: 0012 cost= 5.961965999\nEpoch: 0012 cost= 6.084730156\nEpoch: 0012 cost= 6.084730156\nEpoch: 0012 cost= 6.084730156\nEpoch: 0012 cost= 6.111703566\nEpoch: 0012 cost= 6.111703566\nEpoch: 0012 cost= 6.205918349\nEpoch: 0012 cost= 6.205918349\nEpoch: 0012 cost= 6.205918349\nEpoch: 0012 cost= 6.205918349\nEpoch: 0012 cost= 6.205918349\nEpoch: 0012 cost= 6.214974244\n"
     ]
    },
    {
     "name": "stdout",
     "output_type": "stream",
     "text": [
      "Epoch: 0012 cost= 6.214974244\nEpoch: 0012 cost= 6.219070746\nEpoch: 0012 cost= 6.219070746\nEpoch: 0012 cost= 6.255353167\nEpoch: 0012 cost= 6.255353167\nEpoch: 0012 cost= 6.255353167\nEpoch: 0012 cost= 6.255353167\nEpoch: 0012 cost= 6.255353167\nEpoch: 0012 cost= 6.276138688\nEpoch: 0012 cost= 6.276138688\nEpoch: 0012 cost= 6.293378425\nEpoch: 0012 cost= 6.293378425\n"
     ]
    },
    {
     "name": "stdout",
     "output_type": "stream",
     "text": [
      "Epoch: 0012 cost= 6.293378425\nEpoch: 0012 cost= 6.356327859\nEpoch: 0012 cost= 6.371782919\nEpoch: 0012 cost= 6.371782919\nEpoch: 0012 cost= 6.371782919\nEpoch: 0012 cost= 6.416346972\nEpoch: 0012 cost= 6.416346972\nEpoch: 0012 cost= 6.422612606\nEpoch: 0012 cost= 6.459081153\nEpoch: 0012 cost= 6.586145335\nEpoch: 0012 cost= 6.586145335\nEpoch: 0012 cost= 6.586145335\n"
     ]
    },
    {
     "name": "stdout",
     "output_type": "stream",
     "text": [
      "Epoch: 0012 cost= 6.586145335\nEpoch: 0012 cost= 6.586145335\nEpoch: 0012 cost= 6.831552550\nEpoch: 0012 cost= 6.831552550\nEpoch: 0012 cost= 6.833077514\nEpoch: 0012 cost= 6.839934741\nEpoch: 0012 cost= 6.842850419\nEpoch: 0012 cost= 6.842850419\nEpoch: 0012 cost= 6.843462134\nEpoch: 0012 cost= 6.843462134\nEpoch: 0012 cost= 6.860061809\nEpoch: 0012 cost= 7.044694725\n"
     ]
    },
    {
     "name": "stdout",
     "output_type": "stream",
     "text": [
      "Epoch: 0012 cost= 7.044694725\nEpoch: 0012 cost= 7.044694725\nEpoch: 0012 cost= 7.044694725\nEpoch: 0012 cost= 7.064013962\nEpoch: 0012 cost= 7.064013962\nEpoch: 0012 cost= 7.064013962\nEpoch: 0012 cost= 7.064013962\nEpoch: 0012 cost= 7.120019042\nEpoch: 0012 cost= 7.120019042\nEpoch: 0012 cost= 7.143519912\nEpoch: 0012 cost= 7.162157093\nEpoch: 0012 cost= 7.259863808\n"
     ]
    },
    {
     "name": "stdout",
     "output_type": "stream",
     "text": [
      "Epoch: 0012 cost= 7.259863808\nEpoch: 0012 cost= 7.346327230\nEpoch: 0012 cost= 7.346327230\nEpoch: 0012 cost= 7.346327230\nEpoch: 0012 cost= 7.346327230\nEpoch: 0012 cost= 7.346327230\nEpoch: 0012 cost= 7.346327230\nEpoch: 0012 cost= 7.346327230\nEpoch: 0012 cost= 7.346327230\nEpoch: 0012 cost= 7.354144311\nEpoch: 0012 cost= 7.354144311\nEpoch: 0012 cost= 7.354144311\n"
     ]
    },
    {
     "name": "stdout",
     "output_type": "stream",
     "text": [
      "Epoch: 0012 cost= 7.354144311\nEpoch: 0012 cost= 7.385993138\nEpoch: 0012 cost= 7.402474682\nEpoch: 0012 cost= 7.402474682\nEpoch: 0012 cost= 7.402474682\nEpoch: 0012 cost= 7.402474682\nEpoch: 0012 cost= 7.407876990\nEpoch: 0012 cost= 7.451738202\nEpoch: 0012 cost= 7.451738202\nEpoch: 0012 cost= 7.451738202\nEpoch: 0012 cost= 7.520309397\nEpoch: 0012 cost= 7.520309397\n"
     ]
    },
    {
     "name": "stdout",
     "output_type": "stream",
     "text": [
      "Epoch: 0012 cost= 7.520309397\nEpoch: 0012 cost= 7.520309397\nEpoch: 0012 cost= 7.520309397\nEpoch: 0012 cost= 7.520309397\nEpoch: 0012 cost= 7.520309397\nEpoch: 0012 cost= 7.520309397\nEpoch: 0012 cost= 7.520309397\nEpoch: 0012 cost= 7.522763541\nEpoch: 0012 cost= 7.595148594\nEpoch: 0012 cost= 7.611593622\nEpoch: 0012 cost= 7.634745664\nEpoch: 0012 cost= 7.634745664\n"
     ]
    },
    {
     "name": "stdout",
     "output_type": "stream",
     "text": [
      "Epoch: 0012 cost= 7.634745664\nEpoch: 0012 cost= 7.853827307\nEpoch: 0012 cost= 7.855753923\nEpoch: 0012 cost= 7.855753923\nEpoch: 0012 cost= 7.855753923\nEpoch: 0012 cost= 7.855753923\nEpoch: 0012 cost= 7.855753923\nEpoch: 0012 cost= 7.855753923\nEpoch: 0012 cost= 7.875597864\nEpoch: 0012 cost= 7.904672881\nEpoch: 0012 cost= 7.934046310\nEpoch: 0012 cost= 7.944463557\n"
     ]
    },
    {
     "name": "stdout",
     "output_type": "stream",
     "text": [
      "Epoch: 0012 cost= 7.951682405\nEpoch: 0012 cost= 8.083063714\nEpoch: 0012 cost= 8.083063714\nEpoch: 0012 cost= 8.083063714\nEpoch: 0012 cost= 8.083063714\nEpoch: 0012 cost= 8.111123852\nEpoch: 0012 cost= 8.111123852\nEpoch: 0012 cost= 8.145027893\nEpoch: 0012 cost= 8.168863564\nEpoch: 0012 cost= 8.179655774\nEpoch: 0012 cost= 8.184249959\nEpoch: 0012 cost= 8.210141613\n"
     ]
    },
    {
     "name": "stdout",
     "output_type": "stream",
     "text": [
      "Epoch: 0012 cost= 8.210141613\nEpoch: 0012 cost= 8.210141613\nEpoch: 0013 cost= 0.000000000\nEpoch: 0013 cost= 0.000000000\n"
     ]
    },
    {
     "name": "stdout",
     "output_type": "stream",
     "text": [
      "Epoch: 0013 cost= 0.000000000\nEpoch: 0013 cost= 0.000000000\nEpoch: 0013 cost= 0.000000000\nEpoch: 0013 cost= 0.000000000\nEpoch: 0013 cost= 0.002037225\nEpoch: 0013 cost= 0.002037225\nEpoch: 0013 cost= 0.002037225\nEpoch: 0013 cost= 0.018172949\nEpoch: 0013 cost= 0.018172949\nEpoch: 0013 cost= 0.018172949\nEpoch: 0013 cost= 0.037457750\nEpoch: 0013 cost= 0.101267655\n"
     ]
    },
    {
     "name": "stdout",
     "output_type": "stream",
     "text": [
      "Epoch: 0013 cost= 0.116030599\nEpoch: 0013 cost= 0.116030599\nEpoch: 0013 cost= 0.118769626\nEpoch: 0013 cost= 0.118769626\nEpoch: 0013 cost= 0.118769626\nEpoch: 0013 cost= 0.118769626\nEpoch: 0013 cost= 0.118769626\nEpoch: 0013 cost= 0.118769626\nEpoch: 0013 cost= 0.129495203\nEpoch: 0013 cost= 0.129495203\nEpoch: 0013 cost= 0.194456897\n"
     ]
    },
    {
     "name": "stdout",
     "output_type": "stream",
     "text": [
      "Epoch: 0013 cost= 0.194456897\nEpoch: 0013 cost= 0.194456897\nEpoch: 0013 cost= 0.194456897\nEpoch: 0013 cost= 0.195595338\nEpoch: 0013 cost= 0.269382236\nEpoch: 0013 cost= 0.269382236\nEpoch: 0013 cost= 0.269382236\nEpoch: 0013 cost= 0.271664267\nEpoch: 0013 cost= 0.340079822\nEpoch: 0013 cost= 0.340079822\nEpoch: 0013 cost= 0.340079822\n"
     ]
    },
    {
     "name": "stdout",
     "output_type": "stream",
     "text": [
      "Epoch: 0013 cost= 0.340079822\nEpoch: 0013 cost= 0.340079822\nEpoch: 0013 cost= 0.352499017\nEpoch: 0013 cost= 0.352499017\nEpoch: 0013 cost= 0.352499017\nEpoch: 0013 cost= 0.352499017\nEpoch: 0013 cost= 0.354752674\nEpoch: 0013 cost= 0.354752674\nEpoch: 0013 cost= 0.463754874\nEpoch: 0013 cost= 0.463754874\nEpoch: 0013 cost= 0.509942001\nEpoch: 0013 cost= 0.509942001\n"
     ]
    },
    {
     "name": "stdout",
     "output_type": "stream",
     "text": [
      "Epoch: 0013 cost= 0.522640030\nEpoch: 0013 cost= 0.522640030\nEpoch: 0013 cost= 0.522640030\nEpoch: 0013 cost= 0.540174831\nEpoch: 0013 cost= 0.540174831\nEpoch: 0013 cost= 0.540174831\nEpoch: 0013 cost= 0.540174831\nEpoch: 0013 cost= 0.552231506\nEpoch: 0013 cost= 0.654820264\nEpoch: 0013 cost= 0.654820264\nEpoch: 0013 cost= 0.677436333\nEpoch: 0013 cost= 0.677436333\n"
     ]
    },
    {
     "name": "stdout",
     "output_type": "stream",
     "text": [
      "Epoch: 0013 cost= 0.677436333\nEpoch: 0013 cost= 0.677436333\nEpoch: 0013 cost= 0.677436333\nEpoch: 0013 cost= 0.677436333\nEpoch: 0013 cost= 0.677436333\nEpoch: 0013 cost= 0.724390238\nEpoch: 0013 cost= 0.724390238\nEpoch: 0013 cost= 0.724390238\nEpoch: 0013 cost= 0.724390238\nEpoch: 0013 cost= 0.724390238\nEpoch: 0013 cost= 0.724390238\nEpoch: 0013 cost= 0.724390238\n"
     ]
    },
    {
     "name": "stdout",
     "output_type": "stream",
     "text": [
      "Epoch: 0013 cost= 0.724390238\nEpoch: 0013 cost= 0.724390238\nEpoch: 0013 cost= 0.725998317\nEpoch: 0013 cost= 0.725998317\nEpoch: 0013 cost= 0.725998317\nEpoch: 0013 cost= 0.725998317\nEpoch: 0013 cost= 0.725998317\nEpoch: 0013 cost= 0.725998317\nEpoch: 0013 cost= 0.725998317\nEpoch: 0013 cost= 0.726247163\nEpoch: 0013 cost= 0.738589839\nEpoch: 0013 cost= 0.756054399\n"
     ]
    },
    {
     "name": "stdout",
     "output_type": "stream",
     "text": [
      "Epoch: 0013 cost= 0.756054399\nEpoch: 0013 cost= 0.756054399\nEpoch: 0013 cost= 0.756054399\nEpoch: 0013 cost= 0.756054399\nEpoch: 0013 cost= 0.756054399\nEpoch: 0013 cost= 0.756054399\nEpoch: 0013 cost= 0.766158944\nEpoch: 0013 cost= 0.766158944\nEpoch: 0013 cost= 0.766158944\nEpoch: 0013 cost= 0.766158944\nEpoch: 0013 cost= 0.766158944\nEpoch: 0013 cost= 0.766158944\n"
     ]
    },
    {
     "name": "stdout",
     "output_type": "stream",
     "text": [
      "Epoch: 0013 cost= 0.766158944\nEpoch: 0013 cost= 0.897678816\nEpoch: 0013 cost= 0.897678816\nEpoch: 0013 cost= 0.917655982\nEpoch: 0013 cost= 0.917655982\nEpoch: 0013 cost= 0.917655982\nEpoch: 0013 cost= 0.917655982\nEpoch: 0013 cost= 0.941127910\nEpoch: 0013 cost= 0.941127910\nEpoch: 0013 cost= 0.941127910\nEpoch: 0013 cost= 0.941127910\nEpoch: 0013 cost= 0.941127910\n"
     ]
    },
    {
     "name": "stdout",
     "output_type": "stream",
     "text": [
      "Epoch: 0013 cost= 0.941127910\nEpoch: 0013 cost= 0.941127910\nEpoch: 0013 cost= 0.941127910\nEpoch: 0013 cost= 0.941127910\nEpoch: 0013 cost= 0.947239548\nEpoch: 0013 cost= 0.973266910\nEpoch: 0013 cost= 0.973266911\nEpoch: 0013 cost= 0.974962418\nEpoch: 0013 cost= 1.024311784\nEpoch: 0013 cost= 1.024311784\nEpoch: 0013 cost= 1.024311784\nEpoch: 0013 cost= 1.062041276\n"
     ]
    },
    {
     "name": "stdout",
     "output_type": "stream",
     "text": [
      "Epoch: 0013 cost= 1.062041276\nEpoch: 0013 cost= 1.078260567\nEpoch: 0013 cost= 1.078260567\nEpoch: 0013 cost= 1.078260567\nEpoch: 0013 cost= 1.078260567\nEpoch: 0013 cost= 1.078260567\nEpoch: 0013 cost= 1.082100695\nEpoch: 0013 cost= 1.133834916\nEpoch: 0013 cost= 1.133834916\nEpoch: 0013 cost= 1.159094681\nEpoch: 0013 cost= 1.166216503\nEpoch: 0013 cost= 1.166216503\n"
     ]
    },
    {
     "name": "stdout",
     "output_type": "stream",
     "text": [
      "Epoch: 0013 cost= 1.166216503\nEpoch: 0013 cost= 1.166216503\nEpoch: 0013 cost= 1.166216503\nEpoch: 0013 cost= 1.166216503\nEpoch: 0013 cost= 1.192927325\nEpoch: 0013 cost= 1.192927325\nEpoch: 0013 cost= 1.192927325\nEpoch: 0013 cost= 1.237244893\nEpoch: 0013 cost= 1.276959564\nEpoch: 0013 cost= 1.276959564\nEpoch: 0013 cost= 1.276959564\nEpoch: 0013 cost= 1.277225446\n"
     ]
    },
    {
     "name": "stdout",
     "output_type": "stream",
     "text": [
      "Epoch: 0013 cost= 1.277225446\nEpoch: 0013 cost= 1.290460923\nEpoch: 0013 cost= 1.290460923\nEpoch: 0013 cost= 1.290460923\nEpoch: 0013 cost= 1.290460923\nEpoch: 0013 cost= 1.290460923\nEpoch: 0013 cost= 1.290460923\nEpoch: 0013 cost= 1.290460923\nEpoch: 0013 cost= 1.290460923\nEpoch: 0013 cost= 1.290460923\nEpoch: 0013 cost= 1.313996790\n"
     ]
    },
    {
     "name": "stdout",
     "output_type": "stream",
     "text": [
      "Epoch: 0013 cost= 1.313996790\nEpoch: 0013 cost= 1.313996790\nEpoch: 0013 cost= 1.313996790\nEpoch: 0013 cost= 1.352026797\nEpoch: 0013 cost= 1.415639815\nEpoch: 0013 cost= 1.415639815\nEpoch: 0013 cost= 1.417950872\nEpoch: 0013 cost= 1.417950872\nEpoch: 0013 cost= 1.417950872\nEpoch: 0013 cost= 1.417950872\nEpoch: 0013 cost= 1.417950872\nEpoch: 0013 cost= 1.417950872\n"
     ]
    },
    {
     "name": "stdout",
     "output_type": "stream",
     "text": [
      "Epoch: 0013 cost= 1.459447960\nEpoch: 0013 cost= 1.492799505\nEpoch: 0013 cost= 1.492799505\nEpoch: 0013 cost= 1.492799505\nEpoch: 0013 cost= 1.492799505\nEpoch: 0013 cost= 1.497670048\nEpoch: 0013 cost= 1.518154673\nEpoch: 0013 cost= 1.518154673\nEpoch: 0013 cost= 1.520554562\nEpoch: 0013 cost= 1.520554562\nEpoch: 0013 cost= 1.522742417\nEpoch: 0013 cost= 1.522742417\n"
     ]
    },
    {
     "name": "stdout",
     "output_type": "stream",
     "text": [
      "Epoch: 0013 cost= 1.522742417\nEpoch: 0013 cost= 1.532798898\nEpoch: 0013 cost= 1.532798898\nEpoch: 0013 cost= 1.532798898\nEpoch: 0013 cost= 1.549818660\nEpoch: 0013 cost= 1.549818660\nEpoch: 0013 cost= 1.549818660\nEpoch: 0013 cost= 1.566778267\nEpoch: 0013 cost= 1.568764790\nEpoch: 0013 cost= 1.568764790\nEpoch: 0013 cost= 1.624216496\nEpoch: 0013 cost= 1.624216502\n"
     ]
    },
    {
     "name": "stdout",
     "output_type": "stream",
     "text": [
      "Epoch: 0013 cost= 1.624216502\nEpoch: 0013 cost= 1.624216502\nEpoch: 0013 cost= 1.624216502\nEpoch: 0013 cost= 1.624216502\nEpoch: 0013 cost= 1.624216502\nEpoch: 0013 cost= 1.643192967\nEpoch: 0013 cost= 1.643192967\nEpoch: 0013 cost= 1.690400675\nEpoch: 0013 cost= 1.737588601\nEpoch: 0013 cost= 1.795683347\nEpoch: 0013 cost= 1.820897730\nEpoch: 0013 cost= 1.820897730\n"
     ]
    },
    {
     "name": "stdout",
     "output_type": "stream",
     "text": [
      "Epoch: 0013 cost= 1.820897730\nEpoch: 0013 cost= 1.847560407\nEpoch: 0013 cost= 1.847560407\nEpoch: 0013 cost= 1.847560407\nEpoch: 0013 cost= 1.847560407\nEpoch: 0013 cost= 1.847560407\nEpoch: 0013 cost= 1.847560407\nEpoch: 0013 cost= 1.847560407\nEpoch: 0013 cost= 1.847560407\nEpoch: 0013 cost= 1.847560407\nEpoch: 0013 cost= 1.847560407\nEpoch: 0013 cost= 1.847560407\n"
     ]
    },
    {
     "name": "stdout",
     "output_type": "stream",
     "text": [
      "Epoch: 0013 cost= 1.847560407\nEpoch: 0013 cost= 1.847560407\nEpoch: 0013 cost= 1.889464652\nEpoch: 0013 cost= 1.889464652\nEpoch: 0013 cost= 1.889464652\nEpoch: 0013 cost= 1.918829068\nEpoch: 0013 cost= 1.918829068\nEpoch: 0013 cost= 1.920018201\nEpoch: 0013 cost= 1.943637742\nEpoch: 0013 cost= 1.943637742\nEpoch: 0013 cost= 2.004995587\nEpoch: 0013 cost= 2.004995587"
     ]
    },
    {
     "name": "stdout",
     "output_type": "stream",
     "text": [
      "\nEpoch: 0013 cost= 2.004995587\nEpoch: 0013 cost= 2.027629287\nEpoch: 0013 cost= 2.027629287\nEpoch: 0013 cost= 2.035524635\nEpoch: 0013 cost= 2.050690070\nEpoch: 0013 cost= 2.050690070\nEpoch: 0013 cost= 2.120294125\nEpoch: 0013 cost= 2.140616143\nEpoch: 0013 cost= 2.149599936\nEpoch: 0013 cost= 2.241797063\nEpoch: 0013 cost= 2.241797063\nEpoch: 0013 cost= 2.241797063\n"
     ]
    },
    {
     "name": "stdout",
     "output_type": "stream",
     "text": [
      "Epoch: 0013 cost= 2.242003313\nEpoch: 0013 cost= 2.246216905\nEpoch: 0013 cost= 2.292730230\nEpoch: 0013 cost= 2.320276556\nEpoch: 0013 cost= 2.328133463\nEpoch: 0013 cost= 2.328133463\nEpoch: 0013 cost= 2.328133463\nEpoch: 0013 cost= 2.433892983\nEpoch: 0013 cost= 2.433892983\nEpoch: 0013 cost= 2.501245625\nEpoch: 0013 cost= 2.501245625\nEpoch: 0013 cost= 2.501245625\n"
     ]
    },
    {
     "name": "stdout",
     "output_type": "stream",
     "text": [
      "Epoch: 0013 cost= 2.582285595\nEpoch: 0013 cost= 2.612431940\nEpoch: 0013 cost= 2.632366492\nEpoch: 0013 cost= 2.635494724\nEpoch: 0013 cost= 2.687596056\nEpoch: 0013 cost= 2.691189371\nEpoch: 0013 cost= 2.720614691\nEpoch: 0013 cost= 2.720614691\nEpoch: 0013 cost= 2.745799546\nEpoch: 0013 cost= 2.745799546\nEpoch: 0013 cost= 2.776782534\nEpoch: 0013 cost= 2.776782534\n"
     ]
    },
    {
     "name": "stdout",
     "output_type": "stream",
     "text": [
      "Epoch: 0013 cost= 2.784675614\nEpoch: 0013 cost= 2.784675614\nEpoch: 0013 cost= 2.784675614\nEpoch: 0013 cost= 2.812357707\nEpoch: 0013 cost= 2.901696529\nEpoch: 0013 cost= 2.948167428\nEpoch: 0013 cost= 2.948167428\nEpoch: 0013 cost= 2.948167428\nEpoch: 0013 cost= 2.948167428\nEpoch: 0013 cost= 2.961875720\nEpoch: 0013 cost= 2.961875720\n"
     ]
    },
    {
     "name": "stdout",
     "output_type": "stream",
     "text": [
      "Epoch: 0013 cost= 2.961875720\nEpoch: 0013 cost= 2.965635237\nEpoch: 0013 cost= 2.965635237\nEpoch: 0013 cost= 2.965635237\nEpoch: 0013 cost= 3.000686215\nEpoch: 0013 cost= 3.000686215\nEpoch: 0013 cost= 3.000686215\nEpoch: 0013 cost= 3.000686215\nEpoch: 0013 cost= 3.000686215\nEpoch: 0013 cost= 3.044162091\nEpoch: 0013 cost= 3.044162091\n"
     ]
    },
    {
     "name": "stdout",
     "output_type": "stream",
     "text": [
      "Epoch: 0013 cost= 3.044234416\nEpoch: 0013 cost= 3.044234416\nEpoch: 0013 cost= 3.044234416\nEpoch: 0013 cost= 3.044234416\nEpoch: 0013 cost= 3.080010988\nEpoch: 0013 cost= 3.080010988\nEpoch: 0013 cost= 3.080010988\nEpoch: 0013 cost= 3.080010988\nEpoch: 0013 cost= 3.080010988\nEpoch: 0013 cost= 3.080010988\nEpoch: 0013 cost= 3.080010988\nEpoch: 0013 cost= 3.093174855\nEpoch: 0013 cost= 3.093174855\n"
     ]
    },
    {
     "name": "stdout",
     "output_type": "stream",
     "text": [
      "Epoch: 0013 cost= 3.142469369\nEpoch: 0013 cost= 3.142469369\nEpoch: 0013 cost= 3.142469369\nEpoch: 0013 cost= 3.145823524\nEpoch: 0013 cost= 3.159132224\nEpoch: 0013 cost= 3.211683892\nEpoch: 0013 cost= 3.215821073\nEpoch: 0013 cost= 3.215821073\nEpoch: 0013 cost= 3.215821073\nEpoch: 0013 cost= 3.215821073\nEpoch: 0013 cost= 3.215821073\nEpoch: 0013 cost= 3.215821073\n"
     ]
    },
    {
     "name": "stdout",
     "output_type": "stream",
     "text": [
      "Epoch: 0013 cost= 3.285961461\nEpoch: 0013 cost= 3.347801310\nEpoch: 0013 cost= 3.413254364\nEpoch: 0013 cost= 3.418637265\nEpoch: 0013 cost= 3.421682027\nEpoch: 0013 cost= 3.440533946\nEpoch: 0013 cost= 3.440533946\nEpoch: 0013 cost= 3.440533946\nEpoch: 0013 cost= 3.440533946\nEpoch: 0013 cost= 3.440533946\nEpoch: 0013 cost= 3.440533946\n"
     ]
    },
    {
     "name": "stdout",
     "output_type": "stream",
     "text": [
      "Epoch: 0013 cost= 3.443495309\nEpoch: 0013 cost= 3.443495309\nEpoch: 0013 cost= 3.444453459\nEpoch: 0013 cost= 3.444453459\nEpoch: 0013 cost= 3.444453459\nEpoch: 0013 cost= 3.444453459\nEpoch: 0013 cost= 3.461110614\nEpoch: 0013 cost= 3.461110614\nEpoch: 0013 cost= 3.461110614\nEpoch: 0013 cost= 3.461110614\nEpoch: 0013 cost= 3.481699482\n"
     ]
    },
    {
     "name": "stdout",
     "output_type": "stream",
     "text": [
      "Epoch: 0013 cost= 3.481699482\nEpoch: 0013 cost= 3.487628375\nEpoch: 0013 cost= 3.487628375\nEpoch: 0013 cost= 3.487628375\nEpoch: 0013 cost= 3.514724369\nEpoch: 0013 cost= 3.514724369\nEpoch: 0013 cost= 3.521915151\nEpoch: 0013 cost= 3.576998027\nEpoch: 0013 cost= 3.576998027\nEpoch: 0013 cost= 3.648763518\nEpoch: 0013 cost= 3.648763518\nEpoch: 0013 cost= 3.685733674\n"
     ]
    },
    {
     "name": "stdout",
     "output_type": "stream",
     "text": [
      "Epoch: 0013 cost= 3.685733674\nEpoch: 0013 cost= 3.685733674\nEpoch: 0013 cost= 3.689889391\nEpoch: 0013 cost= 3.689889391\nEpoch: 0013 cost= 3.689889391\nEpoch: 0013 cost= 3.837713321\nEpoch: 0013 cost= 3.857628156\nEpoch: 0013 cost= 3.857628156\nEpoch: 0013 cost= 3.907563320\nEpoch: 0013 cost= 3.908280345\nEpoch: 0013 cost= 3.921633079\nEpoch: 0013 cost= 3.956608398\n"
     ]
    },
    {
     "name": "stdout",
     "output_type": "stream",
     "text": [
      "Epoch: 0013 cost= 3.956608398\nEpoch: 0013 cost= 3.956608398\nEpoch: 0013 cost= 3.956608398\nEpoch: 0013 cost= 3.956608398\nEpoch: 0013 cost= 3.958395312\nEpoch: 0013 cost= 3.981979785\nEpoch: 0013 cost= 3.998548489\nEpoch: 0013 cost= 4.065656893\nEpoch: 0013 cost= 4.149187382\nEpoch: 0013 cost= 4.149187382\nEpoch: 0013 cost= 4.149187382\nEpoch: 0013 cost= 4.149187382\n"
     ]
    },
    {
     "name": "stdout",
     "output_type": "stream",
     "text": [
      "Epoch: 0013 cost= 4.149187382\nEpoch: 0013 cost= 4.149187382\nEpoch: 0013 cost= 4.149187382\nEpoch: 0013 cost= 4.155590435\nEpoch: 0013 cost= 4.214205596\nEpoch: 0013 cost= 4.214205596\nEpoch: 0013 cost= 4.214205596\nEpoch: 0013 cost= 4.214205596\nEpoch: 0013 cost= 4.222891383\nEpoch: 0013 cost= 4.222891383\nEpoch: 0013 cost= 4.223035299\n"
     ]
    },
    {
     "name": "stdout",
     "output_type": "stream",
     "text": [
      "Epoch: 0013 cost= 4.275950657\nEpoch: 0013 cost= 4.304269798\nEpoch: 0013 cost= 4.310505194\nEpoch: 0013 cost= 4.315619345\nEpoch: 0013 cost= 4.315619345\nEpoch: 0013 cost= 4.315619345\nEpoch: 0013 cost= 4.315619345\nEpoch: 0013 cost= 4.347668403\nEpoch: 0013 cost= 4.376863723\nEpoch: 0013 cost= 4.402858120\nEpoch: 0013 cost= 4.402858120\nEpoch: 0013 cost= 4.402858120\n"
     ]
    },
    {
     "name": "stdout",
     "output_type": "stream",
     "text": [
      "Epoch: 0013 cost= 4.403405891\nEpoch: 0013 cost= 4.405208182\nEpoch: 0013 cost= 4.473025030\nEpoch: 0013 cost= 4.490804043\nEpoch: 0013 cost= 4.525927854\nEpoch: 0013 cost= 4.525927854\nEpoch: 0013 cost= 4.525927854\nEpoch: 0013 cost= 4.525927854\nEpoch: 0013 cost= 4.574184131\nEpoch: 0013 cost= 4.607428448\nEpoch: 0013 cost= 4.657486404\nEpoch: 0013 cost= 4.657486404\n"
     ]
    },
    {
     "name": "stdout",
     "output_type": "stream",
     "text": [
      "Epoch: 0013 cost= 4.746965212\nEpoch: 0013 cost= 4.746968122\nEpoch: 0013 cost= 4.772080274\nEpoch: 0013 cost= 4.772080274\nEpoch: 0013 cost= 4.772080274\nEpoch: 0013 cost= 4.772080274\nEpoch: 0013 cost= 4.772080274\nEpoch: 0013 cost= 4.832004819\nEpoch: 0013 cost= 4.832004819\nEpoch: 0013 cost= 4.832004819\nEpoch: 0013 cost= 4.832004819\n"
     ]
    },
    {
     "name": "stdout",
     "output_type": "stream",
     "text": [
      "Epoch: 0013 cost= 4.834409400\nEpoch: 0013 cost= 4.834409400\nEpoch: 0013 cost= 4.834409400\nEpoch: 0013 cost= 4.841634769\nEpoch: 0013 cost= 4.841634769\nEpoch: 0013 cost= 4.894483546\nEpoch: 0013 cost= 4.907743427\nEpoch: 0013 cost= 4.907743427\nEpoch: 0013 cost= 4.907743427\nEpoch: 0013 cost= 4.907743427\nEpoch: 0013 cost= 4.907743427\nEpoch: 0013 cost= 4.943833376\n"
     ]
    },
    {
     "name": "stdout",
     "output_type": "stream",
     "text": [
      "Epoch: 0013 cost= 4.943833376\nEpoch: 0013 cost= 4.943833376\nEpoch: 0013 cost= 4.943833376\nEpoch: 0013 cost= 4.943833376\nEpoch: 0013 cost= 4.943833376\nEpoch: 0013 cost= 4.956712531\nEpoch: 0013 cost= 4.956712531\nEpoch: 0013 cost= 4.970317960\nEpoch: 0013 cost= 5.033575240\nEpoch: 0013 cost= 5.033575240\nEpoch: 0013 cost= 5.033575240\nEpoch: 0013 cost= 5.033575240\n"
     ]
    },
    {
     "name": "stdout",
     "output_type": "stream",
     "text": [
      "Epoch: 0013 cost= 5.033575240\nEpoch: 0013 cost= 5.033575240\nEpoch: 0013 cost= 5.038715750\nEpoch: 0013 cost= 5.038715750\nEpoch: 0013 cost= 5.038715750\nEpoch: 0013 cost= 5.038715750\nEpoch: 0013 cost= 5.038715750\nEpoch: 0013 cost= 5.107239594\nEpoch: 0013 cost= 5.107239594\nEpoch: 0013 cost= 5.107239594\nEpoch: 0013 cost= 5.107239594\nEpoch: 0013 cost= 5.207998864\n"
     ]
    },
    {
     "name": "stdout",
     "output_type": "stream",
     "text": [
      "Epoch: 0013 cost= 5.207998864\nEpoch: 0013 cost= 5.207998864\nEpoch: 0013 cost= 5.207998864\nEpoch: 0013 cost= 5.207998864\nEpoch: 0013 cost= 5.207998864\nEpoch: 0013 cost= 5.207998864\nEpoch: 0013 cost= 5.207998864\nEpoch: 0013 cost= 5.207998864\nEpoch: 0013 cost= 5.207998864\nEpoch: 0013 cost= 5.207998864\nEpoch: 0013 cost= 5.207998864\n"
     ]
    },
    {
     "name": "stdout",
     "output_type": "stream",
     "text": [
      "Epoch: 0013 cost= 5.232571783\nEpoch: 0013 cost= 5.233877802\nEpoch: 0013 cost= 5.233877802\nEpoch: 0013 cost= 5.233877802\nEpoch: 0013 cost= 5.233877802\nEpoch: 0013 cost= 5.233877802\nEpoch: 0013 cost= 5.233877802\nEpoch: 0013 cost= 5.254009371\nEpoch: 0013 cost= 5.254009371\nEpoch: 0013 cost= 5.254009371\nEpoch: 0013 cost= 5.254009371\nEpoch: 0013 cost= 5.316350069\n"
     ]
    },
    {
     "name": "stdout",
     "output_type": "stream",
     "text": [
      "Epoch: 0013 cost= 5.327672637\nEpoch: 0013 cost= 5.343138794\nEpoch: 0013 cost= 5.398733710\nEpoch: 0013 cost= 5.398733710\nEpoch: 0013 cost= 5.398733710\nEpoch: 0013 cost= 5.431344125\nEpoch: 0013 cost= 5.431344125\nEpoch: 0013 cost= 5.431344125\nEpoch: 0013 cost= 5.440273196\nEpoch: 0013 cost= 5.440273196\nEpoch: 0013 cost= 5.440273196\n"
     ]
    },
    {
     "name": "stdout",
     "output_type": "stream",
     "text": [
      "Epoch: 0013 cost= 5.441917372\nEpoch: 0013 cost= 5.455761751\nEpoch: 0013 cost= 5.455761751\nEpoch: 0013 cost= 5.457325174\nEpoch: 0013 cost= 5.460537390\nEpoch: 0013 cost= 5.465766865\nEpoch: 0013 cost= 5.465766865\nEpoch: 0013 cost= 5.465766865\nEpoch: 0013 cost= 5.494430661\nEpoch: 0013 cost= 5.539495407\nEpoch: 0013 cost= 5.539495407\nEpoch: 0013 cost= 5.646457992\n"
     ]
    },
    {
     "name": "stdout",
     "output_type": "stream",
     "text": [
      "Epoch: 0013 cost= 5.646457992\nEpoch: 0013 cost= 5.646457992\nEpoch: 0013 cost= 5.646457992\nEpoch: 0013 cost= 5.674552924\nEpoch: 0013 cost= 5.674552924\nEpoch: 0013 cost= 5.674552924\nEpoch: 0013 cost= 5.674552924\nEpoch: 0013 cost= 5.675434340\nEpoch: 0013 cost= 5.743094516\nEpoch: 0013 cost= 5.743094516\nEpoch: 0013 cost= 5.773279824\n"
     ]
    },
    {
     "name": "stdout",
     "output_type": "stream",
     "text": [
      "Epoch: 0013 cost= 5.773279824\nEpoch: 0013 cost= 5.773279824\nEpoch: 0013 cost= 5.773279824\nEpoch: 0013 cost= 5.773279824\nEpoch: 0013 cost= 5.773279824\nEpoch: 0013 cost= 5.773279824\nEpoch: 0013 cost= 5.773279824\nEpoch: 0013 cost= 5.773279824\nEpoch: 0013 cost= 5.773279824\nEpoch: 0013 cost= 5.773279824\nEpoch: 0013 cost= 5.825054521\nEpoch: 0013 cost= 5.825054521\n"
     ]
    },
    {
     "name": "stdout",
     "output_type": "stream",
     "text": [
      "Epoch: 0013 cost= 5.835994249\nEpoch: 0013 cost= 5.858924256\nEpoch: 0013 cost= 5.858924256\nEpoch: 0013 cost= 5.878608666\nEpoch: 0013 cost= 5.878608666\nEpoch: 0013 cost= 5.933159943\nEpoch: 0013 cost= 5.933159943\nEpoch: 0013 cost= 5.956296342\nEpoch: 0013 cost= 5.956296342\nEpoch: 0013 cost= 5.956296342\nEpoch: 0013 cost= 5.999739561\nEpoch: 0013 cost= 5.999739561\n"
     ]
    },
    {
     "name": "stdout",
     "output_type": "stream",
     "text": [
      "Epoch: 0013 cost= 5.999739561\nEpoch: 0013 cost= 5.999739561\nEpoch: 0013 cost= 6.029909297\nEpoch: 0013 cost= 6.029909297\nEpoch: 0013 cost= 6.029909297\nEpoch: 0013 cost= 6.029909297\nEpoch: 0013 cost= 6.029909297\nEpoch: 0013 cost= 6.029909297\nEpoch: 0013 cost= 6.056494845\nEpoch: 0013 cost= 6.056494845\nEpoch: 0013 cost= 6.056494845\nEpoch: 0013 cost= 6.056494845\n"
     ]
    },
    {
     "name": "stdout",
     "output_type": "stream",
     "text": [
      "Epoch: 0013 cost= 6.056494845\nEpoch: 0013 cost= 6.056494845\nEpoch: 0013 cost= 6.056494845\nEpoch: 0013 cost= 6.056494845\nEpoch: 0013 cost= 6.056494845\nEpoch: 0013 cost= 6.178069053\nEpoch: 0013 cost= 6.178069053\n"
     ]
    },
    {
     "name": "stdout",
     "output_type": "stream",
     "text": [
      "Epoch: 0014 cost= 0.000000000\nEpoch: 0014 cost= 0.000000000\nEpoch: 0014 cost= 0.003070020\nEpoch: 0014 cost= 0.003070020\nEpoch: 0014 cost= 0.003070020\nEpoch: 0014 cost= 0.003070020\nEpoch: 0014 cost= 0.003070020\nEpoch: 0014 cost= 0.003070020\nEpoch: 0014 cost= 0.003070020\nEpoch: 0014 cost= 0.003070020\nEpoch: 0014 cost= 0.003070020\n"
     ]
    },
    {
     "name": "stdout",
     "output_type": "stream",
     "text": [
      "Epoch: 0014 cost= 0.003070020\nEpoch: 0014 cost= 0.003070020\nEpoch: 0014 cost= 0.003070020\nEpoch: 0014 cost= 0.003070020\nEpoch: 0014 cost= 0.003070020\nEpoch: 0014 cost= 0.003070020\nEpoch: 0014 cost= 0.003070020\nEpoch: 0014 cost= 0.003070020\nEpoch: 0014 cost= 0.003070020\nEpoch: 0014 cost= 0.003070020\nEpoch: 0014 cost= 0.003070020\nEpoch: 0014 cost= 0.054997815\n"
     ]
    },
    {
     "name": "stdout",
     "output_type": "stream",
     "text": [
      "Epoch: 0014 cost= 0.070926064\nEpoch: 0014 cost= 0.070926064\nEpoch: 0014 cost= 0.070926064\nEpoch: 0014 cost= 0.070926064\nEpoch: 0014 cost= 0.173610155\nEpoch: 0014 cost= 0.173610155\nEpoch: 0014 cost= 0.197557681\nEpoch: 0014 cost= 0.197587607\nEpoch: 0014 cost= 0.221066050\nEpoch: 0014 cost= 0.221066050\nEpoch: 0014 cost= 0.240915398\nEpoch: 0014 cost= 0.264479584\n"
     ]
    },
    {
     "name": "stdout",
     "output_type": "stream",
     "text": [
      "Epoch: 0014 cost= 0.264479584\nEpoch: 0014 cost= 0.264479584\nEpoch: 0014 cost= 0.264479584\nEpoch: 0014 cost= 0.264479584\nEpoch: 0014 cost= 0.275162681\nEpoch: 0014 cost= 0.275162681\nEpoch: 0014 cost= 0.275162681\nEpoch: 0014 cost= 0.288358490\nEpoch: 0014 cost= 0.288358490\nEpoch: 0014 cost= 0.288781422\nEpoch: 0014 cost= 0.288781422\nEpoch: 0014 cost= 0.288781422\n"
     ]
    },
    {
     "name": "stdout",
     "output_type": "stream",
     "text": [
      "Epoch: 0014 cost= 0.403432717\nEpoch: 0014 cost= 0.403432717\nEpoch: 0014 cost= 0.403432717\nEpoch: 0014 cost= 0.403432717\nEpoch: 0014 cost= 0.403432717\nEpoch: 0014 cost= 0.403623981\nEpoch: 0014 cost= 0.403623981\nEpoch: 0014 cost= 0.403623981\nEpoch: 0014 cost= 0.403623981\nEpoch: 0014 cost= 0.403623981\nEpoch: 0014 cost= 0.403623981\n"
     ]
    },
    {
     "name": "stdout",
     "output_type": "stream",
     "text": [
      "Epoch: 0014 cost= 0.452032646\nEpoch: 0014 cost= 0.452032646\nEpoch: 0014 cost= 0.452032646\nEpoch: 0014 cost= 0.452032646\nEpoch: 0014 cost= 0.452032646\nEpoch: 0014 cost= 0.459283249\nEpoch: 0014 cost= 0.469440565\nEpoch: 0014 cost= 0.475497996\nEpoch: 0014 cost= 0.475497996\nEpoch: 0014 cost= 0.475497996\nEpoch: 0014 cost= 0.475497996\nEpoch: 0014 cost= 0.475497996\n"
     ]
    },
    {
     "name": "stdout",
     "output_type": "stream",
     "text": [
      "Epoch: 0014 cost= 0.497305063\nEpoch: 0014 cost= 0.540995456\nEpoch: 0014 cost= 0.540995456\nEpoch: 0014 cost= 0.540995456\nEpoch: 0014 cost= 0.540995456\nEpoch: 0014 cost= 0.557342638\nEpoch: 0014 cost= 0.557342638\nEpoch: 0014 cost= 0.557342638\nEpoch: 0014 cost= 0.592294146\nEpoch: 0014 cost= 0.592294146\nEpoch: 0014 cost= 0.686500342\n"
     ]
    },
    {
     "name": "stdout",
     "output_type": "stream",
     "text": [
      "Epoch: 0014 cost= 0.686500342\nEpoch: 0014 cost= 0.686500342\nEpoch: 0014 cost= 0.716928493\nEpoch: 0014 cost= 0.716928493\nEpoch: 0014 cost= 0.716928493\nEpoch: 0014 cost= 0.722156689\nEpoch: 0014 cost= 0.722156689\nEpoch: 0014 cost= 0.722156689\nEpoch: 0014 cost= 0.722156689\nEpoch: 0014 cost= 0.722156689\nEpoch: 0014 cost= 0.722156689\nEpoch: 0014 cost= 0.731374862\n"
     ]
    },
    {
     "name": "stdout",
     "output_type": "stream",
     "text": [
      "Epoch: 0014 cost= 0.731374862\nEpoch: 0014 cost= 0.731374862\nEpoch: 0014 cost= 0.731374862\nEpoch: 0014 cost= 0.731374862\nEpoch: 0014 cost= 0.752703999\nEpoch: 0014 cost= 0.752703999\nEpoch: 0014 cost= 0.752703999\nEpoch: 0014 cost= 0.752703999\nEpoch: 0014 cost= 0.752703999\nEpoch: 0014 cost= 0.762615439\nEpoch: 0014 cost= 0.814092091\nEpoch: 0014 cost= 0.814092091\n"
     ]
    },
    {
     "name": "stdout",
     "output_type": "stream",
     "text": [
      "Epoch: 0014 cost= 0.839587864\nEpoch: 0014 cost= 0.839587864\nEpoch: 0014 cost= 0.839587864\nEpoch: 0014 cost= 0.839587864\nEpoch: 0014 cost= 0.839587864\nEpoch: 0014 cost= 0.839587864\nEpoch: 0014 cost= 0.845712003\nEpoch: 0014 cost= 0.845712003\nEpoch: 0014 cost= 0.845712003\nEpoch: 0014 cost= 0.845712003\nEpoch: 0014 cost= 0.845712003\nEpoch: 0014 cost= 0.845712003\n"
     ]
    },
    {
     "name": "stdout",
     "output_type": "stream",
     "text": [
      "Epoch: 0014 cost= 0.845712003\nEpoch: 0014 cost= 0.845712003\nEpoch: 0014 cost= 0.845712003\nEpoch: 0014 cost= 0.845712003\nEpoch: 0014 cost= 0.845712003\nEpoch: 0014 cost= 0.845712003\nEpoch: 0014 cost= 0.845712003\nEpoch: 0014 cost= 0.845712003\nEpoch: 0014 cost= 0.850607937\nEpoch: 0014 cost= 0.861832013\nEpoch: 0014 cost= 0.861832013\nEpoch: 0014 cost= 0.861832013\n"
     ]
    },
    {
     "name": "stdout",
     "output_type": "stream",
     "text": [
      "Epoch: 0014 cost= 0.861832013\nEpoch: 0014 cost= 0.861832013\nEpoch: 0014 cost= 0.864327832\nEpoch: 0014 cost= 0.864327832\nEpoch: 0014 cost= 0.867855957\nEpoch: 0014 cost= 0.890912917\nEpoch: 0014 cost= 0.890912917\nEpoch: 0014 cost= 0.895531804\nEpoch: 0014 cost= 0.900133180\nEpoch: 0014 cost= 0.900133180\nEpoch: 0014 cost= 0.901739200\nEpoch: 0014 cost= 0.922427409\n"
     ]
    },
    {
     "name": "stdout",
     "output_type": "stream",
     "text": [
      "Epoch: 0014 cost= 0.922427409\nEpoch: 0014 cost= 0.922427409\nEpoch: 0014 cost= 0.922427409\nEpoch: 0014 cost= 0.922427409\nEpoch: 0014 cost= 0.943268895\nEpoch: 0014 cost= 0.943268895\nEpoch: 0014 cost= 0.966479771\nEpoch: 0014 cost= 0.966479771\nEpoch: 0014 cost= 0.966479771\nEpoch: 0014 cost= 0.966479771\nEpoch: 0014 cost= 0.966479771\nEpoch: 0014 cost= 0.989576610\n"
     ]
    },
    {
     "name": "stdout",
     "output_type": "stream",
     "text": [
      "Epoch: 0014 cost= 1.023698040\nEpoch: 0014 cost= 1.023698040\nEpoch: 0014 cost= 1.023698040\nEpoch: 0014 cost= 1.024261476\nEpoch: 0014 cost= 1.024643623\nEpoch: 0014 cost= 1.026551648\nEpoch: 0014 cost= 1.026551648\nEpoch: 0014 cost= 1.026551648\nEpoch: 0014 cost= 1.026551648\nEpoch: 0014 cost= 1.026551648\nEpoch: 0014 cost= 1.057958165\nEpoch: 0014 cost= 1.057958165\n"
     ]
    },
    {
     "name": "stdout",
     "output_type": "stream",
     "text": [
      "Epoch: 0014 cost= 1.057958165\nEpoch: 0014 cost= 1.057958165\nEpoch: 0014 cost= 1.057958165\nEpoch: 0014 cost= 1.065071890\nEpoch: 0014 cost= 1.065071890\nEpoch: 0014 cost= 1.065071890\nEpoch: 0014 cost= 1.065071890\nEpoch: 0014 cost= 1.065071890\nEpoch: 0014 cost= 1.065071890\nEpoch: 0014 cost= 1.116783930\nEpoch: 0014 cost= 1.116783930\nEpoch: 0014 cost= 1.116783930\n"
     ]
    },
    {
     "name": "stdout",
     "output_type": "stream",
     "text": [
      "Epoch: 0014 cost= 1.116783930\nEpoch: 0014 cost= 1.117965972\nEpoch: 0014 cost= 1.117965972\nEpoch: 0014 cost= 1.117965972\nEpoch: 0014 cost= 1.117965972\nEpoch: 0014 cost= 1.117965972\nEpoch: 0014 cost= 1.117965972\nEpoch: 0014 cost= 1.117965972\nEpoch: 0014 cost= 1.117965972\nEpoch: 0014 cost= 1.117965972\nEpoch: 0014 cost= 1.117965972\n"
     ]
    },
    {
     "name": "stdout",
     "output_type": "stream",
     "text": [
      "Epoch: 0014 cost= 1.117965972\nEpoch: 0014 cost= 1.161657875\nEpoch: 0014 cost= 1.184340741\nEpoch: 0014 cost= 1.184340741\nEpoch: 0014 cost= 1.184340741\nEpoch: 0014 cost= 1.184340741\nEpoch: 0014 cost= 1.222943688\nEpoch: 0014 cost= 1.222943688\nEpoch: 0014 cost= 1.222943688\nEpoch: 0014 cost= 1.225793261\nEpoch: 0014 cost= 1.225793261\nEpoch: 0014 cost= 1.225793261\n"
     ]
    },
    {
     "name": "stdout",
     "output_type": "stream",
     "text": [
      "Epoch: 0014 cost= 1.229890066\nEpoch: 0014 cost= 1.229890066\nEpoch: 0014 cost= 1.229890066\nEpoch: 0014 cost= 1.229890066\nEpoch: 0014 cost= 1.302486078\nEpoch: 0014 cost= 1.302486078\nEpoch: 0014 cost= 1.302486078\nEpoch: 0014 cost= 1.302486078\nEpoch: 0014 cost= 1.302486078\nEpoch: 0014 cost= 1.302486078\nEpoch: 0014 cost= 1.369882492\n"
     ]
    },
    {
     "name": "stdout",
     "output_type": "stream",
     "text": [
      "Epoch: 0014 cost= 1.410324945\nEpoch: 0014 cost= 1.410324945\nEpoch: 0014 cost= 1.410324945\nEpoch: 0014 cost= 1.410324945\nEpoch: 0014 cost= 1.410324945\nEpoch: 0014 cost= 1.410324945\nEpoch: 0014 cost= 1.410324945\nEpoch: 0014 cost= 1.410324945\nEpoch: 0014 cost= 1.410324945\nEpoch: 0014 cost= 1.426442798\nEpoch: 0014 cost= 1.426442798\nEpoch: 0014 cost= 1.495961467\n"
     ]
    },
    {
     "name": "stdout",
     "output_type": "stream",
     "text": [
      "Epoch: 0014 cost= 1.596293491\nEpoch: 0014 cost= 1.603005316\nEpoch: 0014 cost= 1.681412098\nEpoch: 0014 cost= 1.692292842\nEpoch: 0014 cost= 1.692292842\nEpoch: 0014 cost= 1.707968198\nEpoch: 0014 cost= 1.728973391\nEpoch: 0014 cost= 1.728973391\nEpoch: 0014 cost= 1.728973391\nEpoch: 0014 cost= 1.728973391\nEpoch: 0014 cost= 1.728973391\n"
     ]
    },
    {
     "name": "stdout",
     "output_type": "stream",
     "text": [
      "Epoch: 0014 cost= 1.752884524\nEpoch: 0014 cost= 1.752884524\nEpoch: 0014 cost= 1.752884524\nEpoch: 0014 cost= 1.763125007\nEpoch: 0014 cost= 1.786585967\nEpoch: 0014 cost= 1.790928510\nEpoch: 0014 cost= 1.790928510\nEpoch: 0014 cost= 1.790928510\nEpoch: 0014 cost= 1.790928510\nEpoch: 0014 cost= 1.790928510\nEpoch: 0014 cost= 1.790928510\nEpoch: 0014 cost= 1.790928510\n"
     ]
    },
    {
     "name": "stdout",
     "output_type": "stream",
     "text": [
      "Epoch: 0014 cost= 1.790928510\nEpoch: 0014 cost= 1.818154620\nEpoch: 0014 cost= 1.818154620\nEpoch: 0014 cost= 1.818154620\nEpoch: 0014 cost= 1.818154620\nEpoch: 0014 cost= 1.818154620\nEpoch: 0014 cost= 1.818154620\nEpoch: 0014 cost= 1.818154620\nEpoch: 0014 cost= 1.818154620\nEpoch: 0014 cost= 1.818154620\nEpoch: 0014 cost= 1.818154620\nEpoch: 0014 cost= 1.818154620\n"
     ]
    },
    {
     "name": "stdout",
     "output_type": "stream",
     "text": [
      "Epoch: 0014 cost= 1.818154620\nEpoch: 0014 cost= 1.818154620\nEpoch: 0014 cost= 1.818154620\nEpoch: 0014 cost= 1.818154620\nEpoch: 0014 cost= 1.830403909\nEpoch: 0014 cost= 1.830459880\nEpoch: 0014 cost= 1.834818029\nEpoch: 0014 cost= 1.834818029\nEpoch: 0014 cost= 1.834818029\nEpoch: 0014 cost= 1.834818029\nEpoch: 0014 cost= 1.834818029\n"
     ]
    },
    {
     "name": "stdout",
     "output_type": "stream",
     "text": [
      "Epoch: 0014 cost= 1.834818029\nEpoch: 0014 cost= 1.834818029\nEpoch: 0014 cost= 1.841361450\nEpoch: 0014 cost= 1.841361450\nEpoch: 0014 cost= 1.841361450\nEpoch: 0014 cost= 1.878354384\nEpoch: 0014 cost= 1.878354384\nEpoch: 0014 cost= 1.878354384\nEpoch: 0014 cost= 1.878354384\nEpoch: 0014 cost= 1.916959453\nEpoch: 0014 cost= 1.916959453\n"
     ]
    },
    {
     "name": "stdout",
     "output_type": "stream",
     "text": [
      "Epoch: 0014 cost= 1.926535975\nEpoch: 0014 cost= 1.981204600\nEpoch: 0014 cost= 1.990783914\nEpoch: 0014 cost= 1.990783914\nEpoch: 0014 cost= 1.992855753\nEpoch: 0014 cost= 1.992855753\nEpoch: 0014 cost= 2.107809242\nEpoch: 0014 cost= 2.107809242\nEpoch: 0014 cost= 2.107809242\nEpoch: 0014 cost= 2.186641119\nEpoch: 0014 cost= 2.186641119\nEpoch: 0014 cost= 2.186641119\n"
     ]
    },
    {
     "name": "stdout",
     "output_type": "stream",
     "text": [
      "Epoch: 0014 cost= 2.199986840\nEpoch: 0014 cost= 2.199986840\nEpoch: 0014 cost= 2.199986840\nEpoch: 0014 cost= 2.199986840\nEpoch: 0014 cost= 2.199986840\nEpoch: 0014 cost= 2.199986840\nEpoch: 0014 cost= 2.254637747\nEpoch: 0014 cost= 2.254637747\nEpoch: 0014 cost= 2.254637747\nEpoch: 0014 cost= 2.263936424\nEpoch: 0014 cost= 2.272405458\nEpoch: 0014 cost= 2.272405458\n"
     ]
    },
    {
     "name": "stdout",
     "output_type": "stream",
     "text": [
      "Epoch: 0014 cost= 2.272405458\nEpoch: 0014 cost= 2.272405458\nEpoch: 0014 cost= 2.272405458\nEpoch: 0014 cost= 2.272405458\nEpoch: 0014 cost= 2.272405458\nEpoch: 0014 cost= 2.272405458\nEpoch: 0014 cost= 2.314884748\nEpoch: 0014 cost= 2.314884748\nEpoch: 0014 cost= 2.367980007\nEpoch: 0014 cost= 2.367980007\nEpoch: 0014 cost= 2.367980007\nEpoch: 0014 cost= 2.491058315\n"
     ]
    },
    {
     "name": "stdout",
     "output_type": "stream",
     "text": [
      "Epoch: 0014 cost= 2.491058315\nEpoch: 0014 cost= 2.529616241\nEpoch: 0014 cost= 2.529906831\nEpoch: 0014 cost= 2.529906831\nEpoch: 0014 cost= 2.562011306\nEpoch: 0014 cost= 2.562011306\nEpoch: 0014 cost= 2.562011306\nEpoch: 0014 cost= 2.562011306\nEpoch: 0014 cost= 2.562011306\nEpoch: 0014 cost= 2.562011306\nEpoch: 0014 cost= 2.585881068\nEpoch: 0014 cost= 2.585881068\n"
     ]
    },
    {
     "name": "stdout",
     "output_type": "stream",
     "text": [
      "Epoch: 0014 cost= 2.595152553\nEpoch: 0014 cost= 2.595152553\nEpoch: 0014 cost= 2.595152553\nEpoch: 0014 cost= 2.609098265\nEpoch: 0014 cost= 2.797585231\nEpoch: 0014 cost= 2.797585231\nEpoch: 0014 cost= 2.797585231\nEpoch: 0014 cost= 2.797585231\nEpoch: 0014 cost= 2.797585231\nEpoch: 0014 cost= 2.797585231\nEpoch: 0014 cost= 2.870334033\n"
     ]
    },
    {
     "name": "stdout",
     "output_type": "stream",
     "text": [
      "Epoch: 0014 cost= 2.870334033\nEpoch: 0014 cost= 2.963734239\nEpoch: 0014 cost= 2.963734239\nEpoch: 0014 cost= 2.963734239\nEpoch: 0014 cost= 2.977788358\nEpoch: 0014 cost= 2.977788358\nEpoch: 0014 cost= 2.977788358\nEpoch: 0014 cost= 2.977788358\nEpoch: 0014 cost= 2.977788358\nEpoch: 0014 cost= 2.981434594\nEpoch: 0014 cost= 2.986229249\nEpoch:"
     ]
    },
    {
     "name": "stdout",
     "output_type": "stream",
     "text": [
      " 0014 cost= 2.986229249\nEpoch: 0014 cost= 3.078130564\nEpoch: 0014 cost= 3.078130564\nEpoch: 0014 cost= 3.078130564\nEpoch: 0014 cost= 3.078130564\nEpoch: 0014 cost= 3.078130564\nEpoch: 0014 cost= 3.108077980\nEpoch: 0014 cost= 3.108077980\nEpoch: 0014 cost= 3.108077980\nEpoch: 0014 cost= 3.127568588\nEpoch: 0014 cost= 3.127568588\nEpoch: 0014 cost= 3.134113261\n"
     ]
    },
    {
     "name": "stdout",
     "output_type": "stream",
     "text": [
      "Epoch: 0014 cost= 3.134113261\nEpoch: 0014 cost= 3.134113261\nEpoch: 0014 cost= 3.134113261\nEpoch: 0014 cost= 3.134113261\nEpoch: 0014 cost= 3.134113261\nEpoch: 0014 cost= 3.142639824\nEpoch: 0014 cost= 3.142639824\nEpoch: 0014 cost= 3.142639824\nEpoch: 0014 cost= 3.147226614\nEpoch: 0014 cost= 3.147226614\nEpoch: 0014 cost= 3.147226614\nEpoch: 0014 cost= 3.147226614\n"
     ]
    },
    {
     "name": "stdout",
     "output_type": "stream",
     "text": [
      "Epoch: 0014 cost= 3.147226614\nEpoch: 0014 cost= 3.147226614\nEpoch: 0014 cost= 3.182852391\nEpoch: 0014 cost= 3.182852391\nEpoch: 0014 cost= 3.182852391\nEpoch: 0014 cost= 3.182852391\nEpoch: 0014 cost= 3.182852391\nEpoch: 0014 cost= 3.182852391\nEpoch: 0014 cost= 3.182852391\nEpoch: 0014 cost= 3.182852391\nEpoch: 0014 cost= 3.182852391\nEpoch: 0014 cost= 3.247638615\n"
     ]
    },
    {
     "name": "stdout",
     "output_type": "stream",
     "text": [
      "Epoch: 0014 cost= 3.247638615\nEpoch: 0014 cost= 3.247638615\nEpoch: 0014 cost= 3.247638615\nEpoch: 0014 cost= 3.247638615\nEpoch: 0014 cost= 3.248894883\nEpoch: 0014 cost= 3.248894883\nEpoch: 0014 cost= 3.248894883\nEpoch: 0014 cost= 3.248894883\nEpoch: 0014 cost= 3.248894883\nEpoch: 0014 cost= 3.251690444\nEpoch: 0014 cost= 3.271749960\n"
     ]
    },
    {
     "name": "stdout",
     "output_type": "stream",
     "text": [
      "Epoch: 0014 cost= 3.271749960\nEpoch: 0014 cost= 3.285068706\nEpoch: 0014 cost= 3.301860219\nEpoch: 0014 cost= 3.301860219\nEpoch: 0014 cost= 3.301860219\nEpoch: 0014 cost= 3.301860219\nEpoch: 0014 cost= 3.304637794\nEpoch: 0014 cost= 3.332169470\nEpoch: 0014 cost= 3.332169470\nEpoch: 0014 cost= 3.332169470\nEpoch: 0014 cost= 3.332169470\nEpoch: 0014 cost= 3.332169470\nEpoch: "
     ]
    },
    {
     "name": "stdout",
     "output_type": "stream",
     "text": [
      "0014 cost= 3.332169470\nEpoch: 0014 cost= 3.511512940\nEpoch: 0014 cost= 3.511512940\nEpoch: 0014 cost= 3.511512940\nEpoch: 0014 cost= 3.511512940\nEpoch: 0014 cost= 3.511512940\nEpoch: 0014 cost= 3.511512940\nEpoch: 0014 cost= 3.511512940\nEpoch: 0014 cost= 3.511512940\nEpoch: 0014 cost= 3.511512940\nEpoch: 0014 cost= 3.567784600\nEpoch: 0014 cost= 3.567784600\n"
     ]
    },
    {
     "name": "stdout",
     "output_type": "stream",
     "text": [
      "Epoch: 0014 cost= 3.574688356\nEpoch: 0014 cost= 3.574688356\nEpoch: 0014 cost= 3.620326149\nEpoch: 0014 cost= 3.620326149\nEpoch: 0014 cost= 3.620326149\nEpoch: 0014 cost= 3.660685046\nEpoch: 0014 cost= 3.660685046\nEpoch: 0014 cost= 3.667466615\nEpoch: 0014 cost= 3.673419545\nEpoch: 0014 cost= 3.734722403\nEpoch: 0014 cost= 3.734722403\nEpoch: 0014 cost= 3.739470325\n"
     ]
    },
    {
     "name": "stdout",
     "output_type": "stream",
     "text": [
      "Epoch: 0014 cost= 3.739470325\nEpoch: 0014 cost= 3.880315482\nEpoch: 0014 cost= 3.880315482\nEpoch: 0014 cost= 3.880315482\nEpoch: 0014 cost= 3.880315482\nEpoch: 0014 cost= 3.880315482\nEpoch: 0014 cost= 3.880315482\nEpoch: 0014 cost= 3.880315482\nEpoch: 0014 cost= 3.880315482\nEpoch: 0014 cost= 3.880315482\nEpoch: 0014 cost= 3.880315482\nEpoch: 0014 cost= 3.880315482\n"
     ]
    },
    {
     "name": "stdout",
     "output_type": "stream",
     "text": [
      "Epoch: 0014 cost= 3.887097975\nEpoch: 0014 cost= 3.887097975\nEpoch: 0014 cost= 4.082501029\nEpoch: 0014 cost= 4.082501029\nEpoch: 0014 cost= 4.082501029\nEpoch: 0014 cost= 4.082501029\nEpoch: 0014 cost= 4.082501029\nEpoch: 0014 cost= 4.082501029\nEpoch: 0014 cost= 4.082501029\nEpoch: 0014 cost= 4.103165854\nEpoch: 0014 cost= 4.110542465\nEpoch: 0014 cost= 4.111173200\n"
     ]
    },
    {
     "name": "stdout",
     "output_type": "stream",
     "text": [
      "Epoch: 0014 cost= 4.111173200\nEpoch: 0014 cost= 4.111173200\nEpoch: 0014 cost= 4.111173200\nEpoch: 0014 cost= 4.111173200\nEpoch: 0014 cost= 4.111173200\nEpoch: 0014 cost= 4.124856403\nEpoch: 0014 cost= 4.151771194\nEpoch: 0014 cost= 4.151771194\nEpoch: 0014 cost= 4.209494614\nEpoch: 0014 cost= 4.209494614\nEpoch: 0014 cost= 4.209494614\n"
     ]
    },
    {
     "name": "stdout",
     "output_type": "stream",
     "text": [
      "Epoch: 0014 cost= 4.209494614\nEpoch: 0014 cost= 4.209494614\nEpoch: 0014 cost= 4.209494614\nEpoch: 0014 cost= 4.213701476\nEpoch: 0014 cost= 4.232330791\nEpoch: 0014 cost= 4.232330791\nEpoch: 0014 cost= 4.280798823\nEpoch: 0014 cost= 4.280798823\nEpoch: 0014 cost= 4.280798823\nEpoch: 0014 cost= 4.280798823\nEpoch: 0014 cost= 4.280798823\nEpoch: 0014 cost= 4.355248736\n"
     ]
    },
    {
     "name": "stdout",
     "output_type": "stream",
     "text": [
      "Epoch: 0014 cost= 4.379509079\nEpoch: 0014 cost= 4.379509079\nEpoch: 0014 cost= 4.380976142\nEpoch: 0014 cost= 4.380976142\nEpoch: 0014 cost= 4.380976142\nEpoch: 0014 cost= 4.385933937\nEpoch: 0014 cost= 4.399719013\nEpoch: 0014 cost= 4.399719013\nEpoch: 0014 cost= 4.399719013\nEpoch: 0014 cost= 4.412338189\nEpoch: 0014 cost= 4.420162026\nEpoch: 0014 cost= 4.423286529\n"
     ]
    },
    {
     "name": "stdout",
     "output_type": "stream",
     "text": [
      "Epoch: 0014 cost= 4.423286529\nEpoch: 0014 cost= 4.423286529\nEpoch: 0014 cost= 4.423286529\nEpoch: 0014 cost= 4.439255741\nEpoch: 0014 cost= 4.439255741\nEpoch: 0014 cost= 4.439255741\nEpoch: 0014 cost= 4.439255741\nEpoch: 0014 cost= 4.439255741\nEpoch: 0014 cost= 4.525333088\nEpoch: 0014 cost= 4.525333088\nEpoch: 0014 cost= 4.525333088\nEpoch: 0014 cost= 4.525333088\n"
     ]
    },
    {
     "name": "stdout",
     "output_type": "stream",
     "text": [
      "Epoch: 0014 cost= 4.525333088\nEpoch: 0014 cost= 4.525333088\nEpoch: 0014 cost= 4.525333088\nEpoch: 0014 cost= 4.560603324\nEpoch: 0014 cost= 4.560603324\nEpoch: 0014 cost= 4.565320503\nEpoch: 0014 cost= 4.565320503\nEpoch: 0014 cost= 4.565320503\nEpoch: 0014 cost= 4.565320503\nEpoch: 0014 cost= 4.565320503\nEpoch: 0014 cost= 4.565320503\nEpoch: 0014 cost= 4.593450119\n"
     ]
    },
    {
     "name": "stdout",
     "output_type": "stream",
     "text": [
      "Epoch: 0014 cost= 4.634693322\nEpoch: 0014 cost= 4.643837711\nEpoch: 0014 cost= 4.643837711\nEpoch: 0014 cost= 4.643837711\nEpoch: 0014 cost= 4.643837711\nEpoch: 0014 cost= 4.643837711\nEpoch: 0014 cost= 4.643837711\nEpoch: 0014 cost= 4.643837711\nEpoch: 0014 cost= 4.643837711\nEpoch: 0014 cost= 4.659753779\nEpoch: 0014 cost= 4.659753779\n"
     ]
    },
    {
     "name": "stdout",
     "output_type": "stream",
     "text": [
      "Epoch: 0014 cost= 4.659753779\nEpoch: 0014 cost= 4.659753779\nEpoch: 0014 cost= 4.659753779\nEpoch: 0014 cost= 4.659753779\nEpoch: 0014 cost= 4.659753779\nEpoch: 0014 cost= 4.659753779\nEpoch: 0014 cost= 4.659753779\nEpoch: 0014 cost= 4.665689522\nEpoch: 0014 cost= 4.665689522\nEpoch: 0014 cost= 4.665689522\nEpoch: 0014 cost= 4.665689522\nEpoch: 0014 cost= 4.665689522\n"
     ]
    },
    {
     "name": "stdout",
     "output_type": "stream",
     "text": [
      "Epoch: 0014 cost= 4.665689522\nEpoch: 0014 cost= 4.665689522\nEpoch: 0014 cost= 4.665689522\nEpoch: 0014 cost= 4.665689522\nEpoch: 0014 cost= 4.665689522\nEpoch: 0014 cost= 4.665689522\nEpoch: 0014 cost= 4.665689522\nEpoch: 0014 cost= 4.665689522\nEpoch: 0014 cost= 4.665689522\nEpoch: 0014 cost= 4.665689522\nEpoch: 0014 cost= 4.665689522\n"
     ]
    },
    {
     "name": "stdout",
     "output_type": "stream",
     "text": [
      "Epoch: 0015 cost= 0.000000000\nEpoch: 0015 cost= 0.000000000\nEpoch: 0015 cost= 0.000000000\nEpoch: 0015 cost= 0.000000000\nEpoch: 0015 cost= 0.000000000\nEpoch: 0015 cost= 0.036165855\nEpoch: 0015 cost= 0.036165855\nEpoch: 0015 cost= 0.039698774\nEpoch: 0015 cost= 0.039698774\nEpoch: 0015 cost= 0.078326117\nEpoch: 0015 cost= 0.078326117\n"
     ]
    },
    {
     "name": "stdout",
     "output_type": "stream",
     "text": [
      "Epoch: 0015 cost= 0.089219175\nEpoch: 0015 cost= 0.095971377\nEpoch: 0015 cost= 0.095971377\nEpoch: 0015 cost= 0.095971377\nEpoch: 0015 cost= 0.095971377\nEpoch: 0015 cost= 0.095971377\nEpoch: 0015 cost= 0.179282812\nEpoch: 0015 cost= 0.179282812\nEpoch: 0015 cost= 0.179282812\nEpoch: 0015 cost= 0.179282812\nEpoch: 0015 cost= 0.179282812\nEpoch: 0015 cost= 0.183613813\n"
     ]
    },
    {
     "name": "stdout",
     "output_type": "stream",
     "text": [
      "Epoch: 0015 cost= 0.183613813\nEpoch: 0015 cost= 0.183613813\nEpoch: 0015 cost= 0.183613813\nEpoch: 0015 cost= 0.183613813\nEpoch: 0015 cost= 0.183613813\nEpoch: 0015 cost= 0.214485243\nEpoch: 0015 cost= 0.228645967\nEpoch: 0015 cost= 0.228645967\nEpoch: 0015 cost= 0.228645967\nEpoch: 0015 cost= 0.228645967\nEpoch: 0015 cost= 0.228645967\n"
     ]
    },
    {
     "name": "stdout",
     "output_type": "stream",
     "text": [
      "Epoch: 0015 cost= 0.228645967\nEpoch: 0015 cost= 0.228645967\nEpoch: 0015 cost= 0.228645967\nEpoch: 0015 cost= 0.228645967\nEpoch: 0015 cost= 0.228645967\nEpoch: 0015 cost= 0.281004559\nEpoch: 0015 cost= 0.291023220\nEpoch: 0015 cost= 0.291023220\nEpoch: 0015 cost= 0.326382984\nEpoch: 0015 cost= 0.328784183\nEpoch: 0015 cost= 0.328784183\nEpoch: 0015 cost= 0.328784183\n"
     ]
    },
    {
     "name": "stdout",
     "output_type": "stream",
     "text": [
      "Epoch: 0015 cost= 0.328784183\nEpoch: 0015 cost= 0.328784183\nEpoch: 0015 cost= 0.328784183\nEpoch: 0015 cost= 0.328784183\nEpoch: 0015 cost= 0.328784183\nEpoch: 0015 cost= 0.386816534\nEpoch: 0015 cost= 0.386816534\nEpoch: 0015 cost= 0.386816534\nEpoch: 0015 cost= 0.386816534\nEpoch: 0015 cost= 0.425737495\nEpoch: 0015 cost= 0.425737495\nEpoch: 0015 cost= 0.427358997\n"
     ]
    },
    {
     "name": "stdout",
     "output_type": "stream",
     "text": [
      "Epoch: 0015 cost= 0.431265584\nEpoch: 0015 cost= 0.431265584\nEpoch: 0015 cost= 0.431265584\nEpoch: 0015 cost= 0.460052211\nEpoch: 0015 cost= 0.460052211\nEpoch: 0015 cost= 0.460052211\nEpoch: 0015 cost= 0.531765197\nEpoch: 0015 cost= 0.531765197\nEpoch: 0015 cost= 0.531765197\nEpoch: 0015 cost= 0.531765197\nEpoch: 0015 cost= 0.531765197\nEpoch: 0015 cost= 0.531765197\n"
     ]
    },
    {
     "name": "stdout",
     "output_type": "stream",
     "text": [
      "Epoch: 0015 cost= 0.531765197\nEpoch: 0015 cost= 0.531765197\nEpoch: 0015 cost= 0.549621287\nEpoch: 0015 cost= 0.549621287\nEpoch: 0015 cost= 0.549621287\nEpoch: 0015 cost= 0.549621287\nEpoch: 0015 cost= 0.549621287\nEpoch: 0015 cost= 0.556391999\nEpoch: 0015 cost= 0.575121483\nEpoch: 0015 cost= 0.575121483\nEpoch: 0015 cost= 0.575121483\n"
     ]
    },
    {
     "name": "stdout",
     "output_type": "stream",
     "text": [
      "Epoch: 0015 cost= 0.575121483\nEpoch: 0015 cost= 0.575121483\nEpoch: 0015 cost= 0.575121483\nEpoch: 0015 cost= 0.575121483\nEpoch: 0015 cost= 0.575121483\nEpoch: 0015 cost= 0.575121483\nEpoch: 0015 cost= 0.575121483\nEpoch: 0015 cost= 0.587415002\nEpoch: 0015 cost= 0.587415002\nEpoch: 0015 cost= 0.587415002\nEpoch: 0015 cost= 0.587415002\nEpoch: 0015 cost= 0.587415002\n"
     ]
    },
    {
     "name": "stdout",
     "output_type": "stream",
     "text": [
      "Epoch: 0015 cost= 0.587415002\nEpoch: 0015 cost= 0.587415002\nEpoch: 0015 cost= 0.612660944\nEpoch: 0015 cost= 0.612660944\nEpoch: 0015 cost= 0.627788714\nEpoch: 0015 cost= 0.627788714\nEpoch: 0015 cost= 0.637294897\nEpoch: 0015 cost= 0.637294897\nEpoch: 0015 cost= 0.637294897\nEpoch: 0015 cost= 0.637294897\nEpoch: 0015 cost= 0.637294897\n"
     ]
    },
    {
     "name": "stdout",
     "output_type": "stream",
     "text": [
      "Epoch: 0015 cost= 0.643646770\nEpoch: 0015 cost= 0.643646770\nEpoch: 0015 cost= 0.643646770\nEpoch: 0015 cost= 0.660582654\nEpoch: 0015 cost= 0.660582654\nEpoch: 0015 cost= 0.660582654\nEpoch: 0015 cost= 0.660582654\nEpoch: 0015 cost= 0.700201119\nEpoch: 0015 cost= 0.700201119\nEpoch: 0015 cost= 0.700201119\nEpoch: 0015 cost= 0.700201119\nEpoch: 0015 cost= 0.700201119\n"
     ]
    },
    {
     "name": "stdout",
     "output_type": "stream",
     "text": [
      "Epoch: 0015 cost= 0.700201119\nEpoch: 0015 cost= 0.700201119\nEpoch: 0015 cost= 0.700201119\nEpoch: 0015 cost= 0.700201119\nEpoch: 0015 cost= 0.717309996\nEpoch: 0015 cost= 0.717309996\nEpoch: 0015 cost= 0.717309996\nEpoch: 0015 cost= 0.717309996\nEpoch: 0015 cost= 0.717309996\nEpoch: 0015 cost= 0.717309996\nEpoch: 0015 cost= 0.739837552\n"
     ]
    },
    {
     "name": "stdout",
     "output_type": "stream",
     "text": [
      "Epoch: 0015 cost= 0.739837552\nEpoch: 0015 cost= 0.788570067\nEpoch: 0015 cost= 0.823131075\nEpoch: 0015 cost= 0.823131075\nEpoch: 0015 cost= 0.823131075\nEpoch: 0015 cost= 0.823131075\nEpoch: 0015 cost= 0.823131075\nEpoch: 0015 cost= 0.860583845\nEpoch: 0015 cost= 0.860583845\nEpoch: 0015 cost= 0.860583845\nEpoch: 0015 cost= 0.860583845\nEpoch: 0015 cost= 0.860583845\n"
     ]
    },
    {
     "name": "stdout",
     "output_type": "stream",
     "text": [
      "Epoch: 0015 cost= 0.941737042\nEpoch: 0015 cost= 0.989330430\nEpoch: 0015 cost= 0.989330430\nEpoch: 0015 cost= 0.989330430\nEpoch: 0015 cost= 0.989330430\nEpoch: 0015 cost= 0.989330430\nEpoch: 0015 cost= 0.989330430\nEpoch: 0015 cost= 0.989330430\nEpoch: 0015 cost= 0.989330430\nEpoch: 0015 cost= 0.989330430\nEpoch: 0015 cost= 1.008503512\nEpoch: 0015 cost= 1.008503512\n"
     ]
    },
    {
     "name": "stdout",
     "output_type": "stream",
     "text": [
      "Epoch: 0015 cost= 1.008503512\nEpoch: 0015 cost= 1.008503512\nEpoch: 0015 cost= 1.008503512\nEpoch: 0015 cost= 1.008503512\nEpoch: 0015 cost= 1.008503512\nEpoch: 0015 cost= 1.036384656\nEpoch: 0015 cost= 1.048722866\nEpoch: 0015 cost= 1.048722866\nEpoch: 0015 cost= 1.126113537\nEpoch: 0015 cost= 1.126113537\nEpoch: 0015 cost= 1.136930973\n"
     ]
    },
    {
     "name": "stdout",
     "output_type": "stream",
     "text": [
      "Epoch: 0015 cost= 1.158056345\nEpoch: 0015 cost= 1.158056345\nEpoch: 0015 cost= 1.159960997\nEpoch: 0015 cost= 1.159960997\nEpoch: 0015 cost= 1.159960997\nEpoch: 0015 cost= 1.159960997\nEpoch: 0015 cost= 1.159960997\nEpoch: 0015 cost= 1.209504575\nEpoch: 0015 cost= 1.209504575\nEpoch: 0015 cost= 1.209504575\nEpoch: 0015 cost= 1.210286855\nEpoch: 0015 cost= 1.232401716\n"
     ]
    },
    {
     "name": "stdout",
     "output_type": "stream",
     "text": [
      "Epoch: 0015 cost= 1.232401716\nEpoch: 0015 cost= 1.232401716\nEpoch: 0015 cost= 1.251776077\nEpoch: 0015 cost= 1.251776077\nEpoch: 0015 cost= 1.251776077\nEpoch: 0015 cost= 1.268053882\nEpoch: 0015 cost= 1.268053882\nEpoch: 0015 cost= 1.268053882\nEpoch: 0015 cost= 1.268053882\nEpoch: 0015 cost= 1.290148342\nEpoch: 0015 cost= 1.290148342\nEpoch: 0015 cost= 1.290148342\n"
     ]
    },
    {
     "name": "stdout",
     "output_type": "stream",
     "text": [
      "Epoch: 0015 cost= 1.355179095\nEpoch: 0015 cost= 1.355179095\nEpoch: 0015 cost= 1.355179095\nEpoch: 0015 cost= 1.355961428\nEpoch: 0015 cost= 1.426182431\nEpoch: 0015 cost= 1.426182431\nEpoch: 0015 cost= 1.451578286\nEpoch: 0015 cost= 1.451578286\nEpoch: 0015 cost= 1.451578286\nEpoch: 0015 cost= 1.451578286\nEpoch: 0015 cost= 1.451578286\n"
     ]
    },
    {
     "name": "stdout",
     "output_type": "stream",
     "text": [
      "Epoch: 0015 cost= 1.451578286\nEpoch: 0015 cost= 1.461548829\nEpoch: 0015 cost= 1.461548829\nEpoch: 0015 cost= 1.490034446\nEpoch: 0015 cost= 1.563606737\nEpoch: 0015 cost= 1.563606737\nEpoch: 0015 cost= 1.563606737\nEpoch: 0015 cost= 1.566381861\nEpoch: 0015 cost= 1.645754163\nEpoch: 0015 cost= 1.645754163\nEpoch: 0015 cost= 1.645754163\nEpoch: 0015 cost= 1.645754163\n"
     ]
    },
    {
     "name": "stdout",
     "output_type": "stream",
     "text": [
      "Epoch: 0015 cost= 1.645754163\nEpoch: 0015 cost= 1.645754163\nEpoch: 0015 cost= 1.645754163\nEpoch: 0015 cost= 1.645754163\nEpoch: 0015 cost= 1.645754163\nEpoch: 0015 cost= 1.645754163\nEpoch: 0015 cost= 1.645754163\nEpoch: 0015 cost= 1.682976821\nEpoch: 0015 cost= 1.682976821\nEpoch: 0015 cost= 1.686064623\nEpoch: 0015 cost= 1.686064623\nEpoch: 0015 cost= 1.707491505\n"
     ]
    },
    {
     "name": "stdout",
     "output_type": "stream",
     "text": [
      "Epoch: 0015 cost= 1.707491505\nEpoch: 0015 cost= 1.727353793\nEpoch: 0015 cost= 1.768574069\nEpoch: 0015 cost= 1.768574069\nEpoch: 0015 cost= 1.779207663\nEpoch: 0015 cost= 1.779207663\nEpoch: 0015 cost= 1.784106562\nEpoch: 0015 cost= 1.784106562\nEpoch: 0015 cost= 1.831782981\nEpoch: 0015 cost= 1.879736400\nEpoch: 0015 cost= 1.879736400\n"
     ]
    },
    {
     "name": "stdout",
     "output_type": "stream",
     "text": [
      "Epoch: 0015 cost= 1.879736400\nEpoch: 0015 cost= 1.879736400\nEpoch: 0015 cost= 1.888427309\nEpoch: 0015 cost= 1.888427309\nEpoch: 0015 cost= 1.888427309\nEpoch: 0015 cost= 1.888427309\nEpoch: 0015 cost= 1.904148972\nEpoch: 0015 cost= 1.904148972\nEpoch: 0015 cost= 1.904148972\nEpoch: 0015 cost= 1.904148972\nEpoch: 0015 cost= 1.904148972\nEpoch: 0015 cost= 1.904148972\n"
     ]
    },
    {
     "name": "stdout",
     "output_type": "stream",
     "text": [
      "Epoch: 0015 cost= 1.904148972\nEpoch: 0015 cost= 1.966275187\nEpoch: 0015 cost= 1.991831987\nEpoch: 0015 cost= 1.991831987\nEpoch: 0015 cost= 1.991831987\nEpoch: 0015 cost= 1.991831987\nEpoch: 0015 cost= 1.991831987\nEpoch: 0015 cost= 1.991831987\nEpoch: 0015 cost= 1.991831987\nEpoch: 0015 cost= 1.991831987\nEpoch: 0015 cost= 1.991831987\nEpoch: 0015 cost= 1.991831987\n"
     ]
    },
    {
     "name": "stdout",
     "output_type": "stream",
     "text": [
      "Epoch: 0015 cost= 1.998458328\nEpoch: 0015 cost= 1.998458328\nEpoch: 0015 cost= 1.998458328\nEpoch: 0015 cost= 1.998458328\nEpoch: 0015 cost= 1.998458328\nEpoch: 0015 cost= 1.998458328\nEpoch: 0015 cost= 1.998458328\nEpoch: 0015 cost= 1.998458328\nEpoch: 0015 cost= 2.026232653\nEpoch: 0015 cost= 2.026232653\nEpoch: 0015 cost= 2.067229742\nEpoch: 0015 cost= 2.067229742\n"
     ]
    },
    {
     "name": "stdout",
     "output_type": "stream",
     "text": [
      "Epoch: 0015 cost= 2.067229742\nEpoch: 0015 cost= 2.067229742\nEpoch: 0015 cost= 2.067229742\nEpoch: 0015 cost= 2.067229742\nEpoch: 0015 cost= 2.067229742\nEpoch: 0015 cost= 2.067229742\nEpoch: 0015 cost= 2.097941745\nEpoch: 0015 cost= 2.097941745\nEpoch: 0015 cost= 2.097941745\nEpoch: 0015 cost= 2.097941745\nEpoch: 0015 cost= 2.097941745\nEpoch: 0015 cost= 2.097941745\n"
     ]
    },
    {
     "name": "stdout",
     "output_type": "stream",
     "text": [
      "Epoch: 0015 cost= 2.097941745\nEpoch: 0015 cost= 2.098277336\nEpoch: 0015 cost= 2.098277336\nEpoch: 0015 cost= 2.098277336\nEpoch: 0015 cost= 2.098277336\nEpoch: 0015 cost= 2.098277336\nEpoch: 0015 cost= 2.098277336\nEpoch: 0015 cost= 2.098277336\nEpoch: 0015 cost= 2.098277336\nEpoch: 0015 cost= 2.161001315\nEpoch: 0015 cost= 2.165200799\nEpoch: 0015 cost= 2.165200799\n"
     ]
    },
    {
     "name": "stdout",
     "output_type": "stream",
     "text": [
      "Epoch: 0015 cost= 2.165200799\nEpoch: 0015 cost= 2.165200799\nEpoch: 0015 cost= 2.165200799\nEpoch: 0015 cost= 2.165200799\nEpoch: 0015 cost= 2.165200799\nEpoch: 0015 cost= 2.165200799\nEpoch: 0015 cost= 2.165200799\nEpoch: 0015 cost= 2.203454226\nEpoch: 0015 cost= 2.203454226\nEpoch: 0015 cost= 2.203454226\nEpoch: 0015 cost= 2.263531013\nEpoch: 0015 cost= 2.263531013\n"
     ]
    },
    {
     "name": "stdout",
     "output_type": "stream",
     "text": [
      "Epoch: 0015 cost= 2.263531013\nEpoch: 0015 cost= 2.263531013\nEpoch: 0015 cost= 2.263531013\nEpoch: 0015 cost= 2.263531013\nEpoch: 0015 cost= 2.263531013\nEpoch: 0015 cost= 2.263531013\nEpoch: 0015 cost= 2.263531013\nEpoch: 0015 cost= 2.263531013\nEpoch: 0015 cost= 2.304008932\nEpoch: 0015 cost= 2.336042277\nEpoch: 0015 cost= 2.336042277\nEpoch: 0015 cost= 2.336042277\n"
     ]
    },
    {
     "name": "stdout",
     "output_type": "stream",
     "text": [
      "Epoch: 0015 cost= 2.336042277\nEpoch: 0015 cost= 2.336042277\nEpoch: 0015 cost= 2.336042277\nEpoch: 0015 cost= 2.336042277\nEpoch: 0015 cost= 2.336042277\nEpoch: 0015 cost= 2.336042277\nEpoch: 0015 cost= 2.336042277\nEpoch: 0015 cost= 2.336042277\nEpoch: 0015 cost= 2.336042277\nEpoch: 0015 cost= 2.336042277\nEpoch: 0015 cost= 2.336042277\nEpoch: 0015 cost= 2.356203893\n"
     ]
    },
    {
     "name": "stdout",
     "output_type": "stream",
     "text": [
      "Epoch: 0015 cost= 2.356203893\nEpoch: 0015 cost= 2.356203893\nEpoch: 0015 cost= 2.356203893\nEpoch: 0015 cost= 2.356203893\nEpoch: 0015 cost= 2.356203893\nEpoch: 0015 cost= 2.356203893\nEpoch: 0015 cost= 2.356203893\nEpoch: 0015 cost= 2.356203893\nEpoch: 0015 cost= 2.356203893\nEpoch: 0015 cost= 2.356203893\nEpoch: 0015 cost= 2.356203893\nEpoch: 0015 cost= 2.356488179\n"
     ]
    },
    {
     "name": "stdout",
     "output_type": "stream",
     "text": [
      "Epoch: 0015 cost= 2.356488179\nEpoch: 0015 cost= 2.356488179\nEpoch: 0015 cost= 2.356488179\nEpoch: 0015 cost= 2.356488179\nEpoch: 0015 cost= 2.356488179\nEpoch: 0015 cost= 2.410020215\nEpoch: 0015 cost= 2.410020215\nEpoch: 0015 cost= 2.410020215\nEpoch: 0015 cost= 2.448389355\nEpoch: 0015 cost= 2.448389355\nEpoch: 0015 cost= 2.452580948\n"
     ]
    },
    {
     "name": "stdout",
     "output_type": "stream",
     "text": [
      "Epoch: 0015 cost= 2.464506090\nEpoch: 0015 cost= 2.503174411\nEpoch: 0015 cost= 2.503174411\nEpoch: 0015 cost= 2.503174411\nEpoch: 0015 cost= 2.503174411\nEpoch: 0015 cost= 2.507855306\nEpoch: 0015 cost= 2.511015373\nEpoch: 0015 cost= 2.545804289\nEpoch: 0015 cost= 2.545804289\nEpoch: 0015 cost= 2.545804289\nEpoch: 0015 cost= 2.545804289\nEpoch: 0015 cost= 2.545804289\n"
     ]
    },
    {
     "name": "stdout",
     "output_type": "stream",
     "text": [
      "Epoch: 0015 cost= 2.545804289\nEpoch: 0015 cost= 2.560302549\nEpoch: 0015 cost= 2.560302549\nEpoch: 0015 cost= 2.560302549\nEpoch: 0015 cost= 2.563355851\nEpoch: 0015 cost= 2.563355851\nEpoch: 0015 cost= 2.563355851\nEpoch: 0015 cost= 2.594244565\nEpoch: 0015 cost= 2.594244565\nEpoch: 0015 cost= 2.621809196\nEpoch: 0015 cost= 2.626929313\n"
     ]
    },
    {
     "name": "stdout",
     "output_type": "stream",
     "text": [
      "Epoch: 0015 cost= 2.626929313\nEpoch: 0015 cost= 2.626929313\nEpoch: 0015 cost= 2.626929313\nEpoch: 0015 cost= 2.626929313\nEpoch: 0015 cost= 2.626929313\nEpoch: 0015 cost= 2.626929313\nEpoch: 0015 cost= 2.819340660\nEpoch: 0015 cost= 2.835655929\nEpoch: 0015 cost= 2.835655929\nEpoch: 0015 cost= 2.835655929\nEpoch: 0015 cost= 2.835655929\nEpoch: 0015 cost= 2.835655929\n"
     ]
    },
    {
     "name": "stdout",
     "output_type": "stream",
     "text": [
      "Epoch: 0015 cost= 2.835655929\nEpoch: 0015 cost= 2.835655929\nEpoch: 0015 cost= 2.835655929\nEpoch: 0015 cost= 2.835655929\nEpoch: 0015 cost= 2.835655929\nEpoch: 0015 cost= 2.835655929\nEpoch: 0015 cost= 2.835655929\nEpoch: 0015 cost= 2.835655929\nEpoch: 0015 cost= 2.869755154\nEpoch: 0015 cost= 2.869755154\nEpoch: 0015 cost= 2.870630651\n"
     ]
    },
    {
     "name": "stdout",
     "output_type": "stream",
     "text": [
      "Epoch: 0015 cost= 2.870630651\nEpoch: 0015 cost= 2.870630651\nEpoch: 0015 cost= 2.870630651\nEpoch: 0015 cost= 2.870630651\nEpoch: 0015 cost= 2.890655065\nEpoch: 0015 cost= 2.890655065\nEpoch: 0015 cost= 2.890655065\nEpoch: 0015 cost= 2.916101319\nEpoch: 0015 cost= 2.916101319\nEpoch: 0015 cost= 2.916101319\nEpoch: 0015 cost= 2.916101319\nEpoch: 0015 cost= 2.959901985\n"
     ]
    },
    {
     "name": "stdout",
     "output_type": "stream",
     "text": [
      "Epoch: 0015 cost= 2.993684941\nEpoch: 0015 cost= 2.993684941\nEpoch: 0015 cost= 2.993684941\nEpoch: 0015 cost= 2.993684941\nEpoch: 0015 cost= 3.034645984\nEpoch: 0015 cost= 3.034645984\nEpoch: 0015 cost= 3.034645984\nEpoch: 0015 cost= 3.034645984\nEpoch: 0015 cost= 3.070096011\nEpoch: 0015 cost= 3.070096011\nEpoch: 0015 cost= 3.070096011\n"
     ]
    },
    {
     "name": "stdout",
     "output_type": "stream",
     "text": [
      "Epoch: 0015 cost= 3.070096011\nEpoch: 0015 cost= 3.070096011\nEpoch: 0015 cost= 3.070096011\nEpoch: 0015 cost= 3.070096011\nEpoch: 0015 cost= 3.118233509\nEpoch: 0015 cost= 3.118233509\nEpoch: 0015 cost= 3.118233509\nEpoch: 0015 cost= 3.118233509\nEpoch: 0015 cost= 3.118233509\nEpoch: 0015 cost= 3.118233509\nEpoch: 0015 cost= 3.118233509\nEpoch: 0015 cost= 3.118574263\n"
     ]
    },
    {
     "name": "stdout",
     "output_type": "stream",
     "text": [
      "Epoch: 0015 cost= 3.118574263\nEpoch: 0015 cost= 3.118574263\nEpoch: 0015 cost= 3.143377442\nEpoch: 0015 cost= 3.143377442\nEpoch: 0015 cost= 3.156976483\nEpoch: 0015 cost= 3.156976483\nEpoch: 0015 cost= 3.162943680\nEpoch: 0015 cost= 3.162943680\nEpoch: 0015 cost= 3.162943680\nEpoch: 0015 cost= 3.180208577\nEpoch: 0015 cost= 3.183554226\nEpoch: 0015 cost= 3.183554226\n"
     ]
    },
    {
     "name": "stdout",
     "output_type": "stream",
     "text": [
      "Epoch: 0015 cost= 3.222659139\nEpoch: 0015 cost= 3.234972296\nEpoch: 0015 cost= 3.234972296\nEpoch: 0015 cost= 3.234972296\nEpoch: 0015 cost= 3.241748166\nEpoch: 0015 cost= 3.297391542\nEpoch: 0015 cost= 3.297391542\nEpoch: 0015 cost= 3.297391542\nEpoch: 0015 cost= 3.307070200\nEpoch: 0015 cost= 3.307070200\nEpoch: 0015 cost= 3.307070200\nEpoch: 0015 cost= 3.307070200\n"
     ]
    },
    {
     "name": "stdout",
     "output_type": "stream",
     "text": [
      "Epoch: 0015 cost= 3.307070200\nEpoch: 0015 cost= 3.307070200\nEpoch: 0015 cost= 3.314193025\nEpoch: 0015 cost= 3.314193025\nEpoch: 0015 cost= 3.315122393\nEpoch: 0015 cost= 3.401791323\nEpoch: 0015 cost= 3.415879995\nEpoch: 0015 cost= 3.415879995\nEpoch: 0015 cost= 3.415879995\nEpoch: 0015 cost= 3.424177403\nEpoch:"
     ]
    },
    {
     "name": "stdout",
     "output_type": "stream",
     "text": [
      " 0015 cost= 3.428303966\nEpoch: 0015 cost= 3.428303966\nEpoch: 0015 cost= 3.465670264\nEpoch: 0015 cost= 3.465670264\nEpoch: 0015 cost= 3.465670264\nEpoch: 0015 cost= 3.465670264\nEpoch: 0015 cost= 3.476057267\nEpoch: 0015 cost= 3.476057267\nEpoch: 0015 cost= 3.476057267\nEpoch: 0015 cost= 3.476139215\nEpoch: 0015 cost= 3.498433355\n"
     ]
    },
    {
     "name": "stdout",
     "output_type": "stream",
     "text": [
      "Epoch: 0015 cost= 3.498433355\nEpoch: 0015 cost= 3.586661997\nEpoch: 0015 cost= 3.586661997\nEpoch: 0015 cost= 3.652166044\nEpoch: 0015 cost= 3.652166044\nEpoch: 0015 cost= 3.652166044\nEpoch: 0015 cost= 3.731761921\nEpoch: 0015 cost= 3.731761921\nEpoch: 0015 cost= 3.731761921\nEpoch: 0015 cost= 3.731761921\nEpoch: 0015 cost= 3.731761921\nEpoch: 0015 cost= 3.751211989\n"
     ]
    },
    {
     "name": "stdout",
     "output_type": "stream",
     "text": [
      "Epoch: 0015 cost= 3.751211989\nEpoch: 0015 cost= 3.751211989\nEpoch: 0015 cost= 3.751211989\nEpoch: 0015 cost= 3.751211989\nEpoch: 0015 cost= 3.760802144\nEpoch: 0015 cost= 3.798228950\nEpoch: 0015 cost= 3.798228950\nEpoch: 0015 cost= 3.798228950\nEpoch: 0015 cost= 3.800030033\nEpoch: 0015 cost= 3.800030033\nEpoch: 0015 cost= 3.800030033\nEpoch: 0015 cost= 3.855772522\n"
     ]
    },
    {
     "name": "stdout",
     "output_type": "stream",
     "text": [
      "Epoch: 0015 cost= 3.855772522\nEpoch: 0015 cost= 3.855772522\nEpoch: 0015 cost= 3.855772522\nEpoch: 0015 cost= 3.855772522\nEpoch: 0015 cost= 3.962493915\nEpoch: 0015 cost= 3.962493915\nEpoch: 0015 cost= 3.962493915\nEpoch: 0015 cost= 3.975224010\nEpoch: 0015 cost= 3.975224010\nEpoch: 0015 cost= 3.975224010\nEpoch: 0015 cost= 4.012177236\n"
     ]
    },
    {
     "name": "stdout",
     "output_type": "stream",
     "text": [
      "Epoch: 0015 cost= 4.012177236\nEpoch: 0015 cost= 4.012177236\nEpoch: 0015 cost= 4.012177236\nEpoch: 0015 cost= 4.012177236\nEpoch: 0015 cost= 4.012177236\nEpoch: 0015 cost= 4.081983838\nEpoch: 0015 cost= 4.081983838\nEpoch: 0015 cost= 4.081983838\nEpoch: 0015 cost= 4.081983838\nEpoch: 0015 cost= 4.109865505\nEpoch: 0015 cost= 4.109865505\nEpoch: 0015 cost= 4.109865505\n"
     ]
    },
    {
     "name": "stdout",
     "output_type": "stream",
     "text": [
      "Epoch: 0015 cost= 4.109865505\nEpoch: 0015 cost= 4.109865505\nEpoch: 0015 cost= 4.135581397\nEpoch: 0015 cost= 4.135581397\nEpoch: 0015 cost= 4.170215294\nEpoch: 0015 cost= 4.170215294\nEpoch: 0015 cost= 4.170215294\nEpoch: 0015 cost= 4.170215294\nEpoch: 0015 cost= 4.170215294\nEpoch: 0015 cost= 4.207297255\nEpoch: 0015 cost= 4.214523613\nEpoch: 0015 cost= 4.214523613\n"
     ]
    },
    {
     "name": "stdout",
     "output_type": "stream",
     "text": [
      "Epoch: 0015 cost= 4.214523613\nEpoch: 0015 cost= 4.214523613\nEpoch: 0015 cost= 4.214523613\nEpoch: 0015 cost= 4.214523613\nEpoch: 0015 cost= 4.214523613\nEpoch: 0015 cost= 4.214523613\nEpoch: 0015 cost= 4.223616038\nEpoch: 0015 cost= 4.238511874\nEpoch: 0015 cost= 4.238511874\nEpoch: 0015 cost= 4.238511874\nEpoch: 0015 cost= 4.238511874\nEpoch: 0015 cost= 4.238511874\n"
     ]
    },
    {
     "name": "stdout",
     "output_type": "stream",
     "text": [
      "Epoch: 0015 cost= 4.238511874\nEpoch: 0015 cost= 4.238511874\nOptimization Finished!\n"
     ]
    },
    {
     "name": "stdout",
     "output_type": "stream",
     "text": [
      "Accuracy: 0.955600, Time: 141.148410\n"
     ]
    }
   ],
   "source": [
    "learning_rate = 0.001# 학습 속도\n",
    "training_epochs = 15# epoch 돌릴 횟수\n",
    "batch_size = 100# 배치 크기\n",
    "\n",
    "### 신경망 모델 구성\n",
    "predict=mlp(X,weights,biases)\n",
    "cost=tf.reduce_mean(tf.nn.softmax_cross_entropy_with_logits(logits=predict,labels=Y))\n",
    "optimizer=tf.train.AdamOptimizer(learning_rate=learning_rate).minimize(cost)\n",
    "init=tf.initialize_all_variables()\n",
    "### 신경망 모델 학습\n",
    "# Launch the graph,\n",
    "with tf.Session() as sess:\n",
    "    start=time.time()\n",
    "    sess.run(init)\n",
    "\n",
    "    # Training cycle\n",
    "    for epoch in range(training_epochs):\n",
    "        avg_cost = 0\n",
    "        total_batch = int(mnist.train.num_examples/batch_size)\n",
    "\n",
    "        # Fit the line.\n",
    "        for step in range(total_batch):\n",
    "            batch_xs, batch_ys = mnist.train.next_batch(batch_size)\n",
    "\n",
    "            # Fit training using batch data\n",
    "\n",
    "            sess.run(optimizer, feed_dict={X: batch_xs, Y: batch_ys})\n",
    "\n",
    "            # Compute average loss\n",
    "            avg_cost += sess.run(cost, feed_dict={X: batch_xs, Y: batch_ys})/total_batch\n",
    "            \n",
    "            # Display \n",
    "            print (\"Epoch:\", '%04d' %(epoch+1), \"cost=\", \"{:.9f}\".format(avg_cost))\n",
    "\n",
    "    print (\"Optimization Finished!\")\n",
    "\n",
    "    ### 결과 확인\n",
    "    # Test model\n",
    "    correct_prediction = tf.equal(tf.argmax(predict, 1), tf.argmax(Y, 1))\n",
    "    # Calculate accuracy\n",
    "    accuracy = tf.reduce_mean(tf.cast(correct_prediction, \"float\"))\n",
    "    elapsed=time.time()-start\n",
    "    print (\"Accuracy: %f, Time: %f\"%(accuracy.eval({X: mnist.test.images, Y: mnist.test.labels}),elapsed))"
   ]
  }
 ],
 "metadata": {
  "kernelspec": {
   "display_name": "Python 3",
   "language": "python",
   "name": "python3"
  },
  "language_info": {
   "codemirror_mode": {
    "name": "ipython",
    "version": 3
   },
   "file_extension": ".py",
   "mimetype": "text/x-python",
   "name": "python",
   "nbconvert_exporter": "python",
   "pygments_lexer": "ipython3",
   "version": "3.6.6"
  }
 },
 "nbformat": 4,
 "nbformat_minor": 2
}
