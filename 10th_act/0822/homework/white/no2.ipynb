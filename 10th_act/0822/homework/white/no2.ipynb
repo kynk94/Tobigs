{
  "cells": [
    {
      "cell_type": "code",
      "execution_count": 1,
      "metadata": {
        "collapsed": true,
        "pycharm": {}
      },
      "outputs": [
        {
          "name": "stderr",
          "output_type": "stream",
          "text": [
            "C:\\Program Files (x86)\\Microsoft Visual Studio\\Shared\\Python36_64\\lib\\site-packages\\sklearn\\cross_validation.py:41: DeprecationWarning: This module was deprecated in version 0.18 in favor of the model_selection module into which all the refactored classes and functions are moved. Also note that the interface of the new CV iterators are different from that of this module. This module will be removed in 0.20.\n  \"This module will be removed in 0.20.\", DeprecationWarning)\n"
          ]
        }
      ],
      "source": [
        "import tensorflow as tf\n",
        "import numpy as np\n",
        "import time\n",
        "from sklearn.model_selection import train_test_split\n",
        "from sklearn.preprocessing import MinMaxScaler, StandardScaler\n",
        "from sklearn import cross_validation\n",
        "config \u003d tf.ConfigProto()\n",
        "config.gpu_options.allow_growth\u003dTrue"
      ]
    },
    {
      "cell_type": "code",
      "execution_count": 2,
      "metadata": {
        "pycharm": {}
      },
      "outputs": [],
      "source": "white \u003d np.loadtxt(\u0027/0822/TensorFlow-Tutorials/white.csv\u0027, skiprows\u003d1, delimiter\u003d\u0027,\u0027, dtype\u003dnp.float32)\nx_data \u003d white[:, 0:-1]; y_data \u003d white[:, [-1]]\nY_binary \u003d (y_data \u003e 5)\ndef minmaxscaler(data):\n    numerator \u003d data - np.min(data, 0)\n    denominator \u003d np.max(data, 0) - np.min(data, 0)\n    return numerator / denominator\nX_mm \u003d minmaxscaler(x_data)\nX_train, X_test, Y_train, Y_test \u003d train_test_split(X_mm,Y_binary, test_size\u003d 0.3, random_state\u003d 1)"
    },
    {
      "cell_type": "code",
      "execution_count": 3,
      "metadata": {
        "pycharm": {}
      },
      "outputs": [],
      "source": [
        "X \u003d tf.placeholder(tf.float32, [None, len(X_train[0])])\n",
        "Y \u003d tf.placeholder(tf.float32, [None, 1])"
      ]
    },
    {
      "cell_type": "code",
      "execution_count": 6,
      "metadata": {
        "pycharm": {}
      },
      "outputs": [],
      "source": [
        "W1 \u003d tf.Variable(tf.random_normal([11, 22]), name \u003d \"weight1\")\n",
        "b1 \u003d tf.Variable(tf.random_normal([22]), name \u003d \"bias1\")\n",
        "H1 \u003d tf.sigmoid(tf.matmul(X, W1) + b1)\n",
        "W2 \u003d tf.Variable(tf.random_normal([22, 1]), name \u003d \"weight2\")\n",
        "b2 \u003d tf.Variable(tf.random_normal([1]), name \u003d \"bias2\")\n",
        "H2 \u003d tf.sigmoid(tf.matmul(H1, W2) + b2)"
      ]
    },
    {
      "cell_type": "code",
      "execution_count": 8,
      "metadata": {
        "pycharm": {}
      },
      "outputs": [],
      "source": [
        "cost \u003d tf.reduce_sum(tf.pow(H2-Y,2))/len(X_train)\n",
        "optimizer \u003d tf.train.AdamOptimizer(learning_rate\u003d0.001).minimize(cost)\n",
        "predict \u003d tf.cast(H2 \u003e 0.5, dtype\u003dtf.float32)\n",
        "accuracy \u003d tf.reduce_mean(tf.cast(tf.equal(predict, Y), dtype\u003dtf.float32))"
      ]
    },
    {
      "cell_type": "code",
      "execution_count": 11,
      "metadata": {
        "pycharm": {}
      },
      "outputs": [
        {
          "name": "stdout",
          "output_type": "stream",
          "text": [
            "0 0.3347584\n"
          ]
        },
        {
          "name": "stdout",
          "output_type": "stream",
          "text": [
            "200 0.21664521\n"
          ]
        },
        {
          "name": "stdout",
          "output_type": "stream",
          "text": [
            "400 0.20159592\n"
          ]
        },
        {
          "name": "stdout",
          "output_type": "stream",
          "text": [
            "600 0.1915012\n"
          ]
        },
        {
          "name": "stdout",
          "output_type": "stream",
          "text": [
            "800 0.18365529\n"
          ]
        },
        {
          "name": "stdout",
          "output_type": "stream",
          "text": [
            "1000 0.17725128\n"
          ]
        },
        {
          "name": "stdout",
          "output_type": "stream",
          "text": [
            "1200 0.17204304\n"
          ]
        },
        {
          "name": "stdout",
          "output_type": "stream",
          "text": [
            "1400 0.16886352\n"
          ]
        },
        {
          "name": "stdout",
          "output_type": "stream",
          "text": [
            "1600 0.16707475\n"
          ]
        },
        {
          "name": "stdout",
          "output_type": "stream",
          "text": [
            "1800 0.16607448\n"
          ]
        },
        {
          "name": "stdout",
          "output_type": "stream",
          "text": [
            "2000 0.16550723\n"
          ]
        },
        {
          "name": "stdout",
          "output_type": "stream",
          "text": [
            "2200 0.16515154\n"
          ]
        },
        {
          "name": "stdout",
          "output_type": "stream",
          "text": [
            "2400 0.16487612\n"
          ]
        },
        {
          "name": "stdout",
          "output_type": "stream",
          "text": [
            "2600 0.16461547\n"
          ]
        },
        {
          "name": "stdout",
          "output_type": "stream",
          "text": [
            "2800 0.16433759\n"
          ]
        },
        {
          "name": "stdout",
          "output_type": "stream",
          "text": [
            "3000 0.16402516\n"
          ]
        },
        {
          "name": "stdout",
          "output_type": "stream",
          "text": [
            "3200 0.1636683\n"
          ]
        },
        {
          "name": "stdout",
          "output_type": "stream",
          "text": [
            "3400 0.16326046\n"
          ]
        },
        {
          "name": "stdout",
          "output_type": "stream",
          "text": [
            "3600 0.16279685\n"
          ]
        },
        {
          "name": "stdout",
          "output_type": "stream",
          "text": [
            "3800 0.16227274\n"
          ]
        },
        {
          "name": "stdout",
          "output_type": "stream",
          "text": [
            "4000 0.16168538\n"
          ]
        },
        {
          "name": "stdout",
          "output_type": "stream",
          "text": [
            "4200 0.16103442\n"
          ]
        },
        {
          "name": "stdout",
          "output_type": "stream",
          "text": [
            "4400 0.160318\n"
          ]
        },
        {
          "name": "stdout",
          "output_type": "stream",
          "text": [
            "4600 0.15953921\n"
          ]
        },
        {
          "name": "stdout",
          "output_type": "stream",
          "text": [
            "4800 0.15871583\n"
          ]
        },
        {
          "name": "stdout",
          "output_type": "stream",
          "text": [
            "5000 0.15787914\n"
          ]
        },
        {
          "name": "stdout",
          "output_type": "stream",
          "text": [
            "5200 0.15706596\n"
          ]
        },
        {
          "name": "stdout",
          "output_type": "stream",
          "text": [
            "5400 0.15630662\n"
          ]
        },
        {
          "name": "stdout",
          "output_type": "stream",
          "text": [
            "5600 0.1556143\n"
          ]
        },
        {
          "name": "stdout",
          "output_type": "stream",
          "text": [
            "5800 0.15498163\n"
          ]
        },
        {
          "name": "stdout",
          "output_type": "stream",
          "text": [
            "6000 0.15438604\n"
          ]
        },
        {
          "name": "stdout",
          "output_type": "stream",
          "text": [
            "6200 0.15380065\n"
          ]
        },
        {
          "name": "stdout",
          "output_type": "stream",
          "text": [
            "6400 0.15320398\n"
          ]
        },
        {
          "name": "stdout",
          "output_type": "stream",
          "text": [
            "6600 0.15258597\n"
          ]
        },
        {
          "name": "stdout",
          "output_type": "stream",
          "text": [
            "6800 0.15194832\n"
          ]
        },
        {
          "name": "stdout",
          "output_type": "stream",
          "text": [
            "7000 0.15129882\n"
          ]
        },
        {
          "name": "stdout",
          "output_type": "stream",
          "text": [
            "7200 0.15064836\n"
          ]
        },
        {
          "name": "stdout",
          "output_type": "stream",
          "text": [
            "7400 0.15000904\n"
          ]
        },
        {
          "name": "stdout",
          "output_type": "stream",
          "text": [
            "7600 0.1493858\n"
          ]
        },
        {
          "name": "stdout",
          "output_type": "stream",
          "text": [
            "7800 0.14877532\n"
          ]
        },
        {
          "name": "stdout",
          "output_type": "stream",
          "text": [
            "8000 0.14817218\n"
          ]
        },
        {
          "name": "stdout",
          "output_type": "stream",
          "text": [
            "8200 0.1475712\n"
          ]
        },
        {
          "name": "stdout",
          "output_type": "stream",
          "text": [
            "8400 0.14696665\n"
          ]
        },
        {
          "name": "stdout",
          "output_type": "stream",
          "text": [
            "8600 0.14635262\n"
          ]
        },
        {
          "name": "stdout",
          "output_type": "stream",
          "text": [
            "8800 0.14572261\n"
          ]
        },
        {
          "name": "stdout",
          "output_type": "stream",
          "text": [
            "9000 0.14507227\n"
          ]
        },
        {
          "name": "stdout",
          "output_type": "stream",
          "text": [
            "9200 0.14440587\n"
          ]
        },
        {
          "name": "stdout",
          "output_type": "stream",
          "text": [
            "9400 0.14373626\n"
          ]
        },
        {
          "name": "stdout",
          "output_type": "stream",
          "text": [
            "9600 0.14307746\n"
          ]
        },
        {
          "name": "stdout",
          "output_type": "stream",
          "text": [
            "9800 0.14243494\n"
          ]
        },
        {
          "name": "stdout",
          "output_type": "stream",
          "text": [
            "Accuracy :  0.7673469\n"
          ]
        }
      ],
      "source": [
        "sess \u003d tf.Session(config\u003dconfig)\n",
        "sess.run(tf.global_variables_initializer())\n",
        "\n",
        "for step in range(0,10000):\n",
        "    cost_val, _ \u003d sess.run([cost, optimizer], feed_dict\u003d{X: X_train, Y: Y_train})\n",
        "    if(step % 200 \u003d\u003d 0):\n",
        "        print(step, cost_val)\n",
        "\n",
        "print(\"Accuracy : \", sess.run(accuracy, feed_dict\u003d{X: X_test, Y: Y_test}))"
      ]
    }
  ],
  "metadata": {
    "kernelspec": {
      "display_name": "Python 2",
      "language": "python",
      "name": "python2"
    },
    "language_info": {
      "codemirror_mode": {
        "name": "ipython",
        "version": 2
      },
      "file_extension": ".py",
      "mimetype": "text/x-python",
      "name": "python",
      "nbconvert_exporter": "python",
      "pygments_lexer": "ipython2",
      "version": "2.7.6"
    }
  },
  "nbformat": 4,
  "nbformat_minor": 0
}