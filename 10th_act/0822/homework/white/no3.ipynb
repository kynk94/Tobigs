{
  "cells": [
    {
      "cell_type": "code",
      "execution_count": 1,
      "metadata": {
        "collapsed": true,
        "pycharm": {}
      },
      "outputs": [
        {
          "name": "stderr",
          "output_type": "stream",
          "text": [
            "C:\\Program Files (x86)\\Microsoft Visual Studio\\Shared\\Python36_64\\lib\\site-packages\\sklearn\\cross_validation.py:41: DeprecationWarning: This module was deprecated in version 0.18 in favor of the model_selection module into which all the refactored classes and functions are moved. Also note that the interface of the new CV iterators are different from that of this module. This module will be removed in 0.20.\n  \"This module will be removed in 0.20.\", DeprecationWarning)\n"
          ]
        }
      ],
      "source": [
        "import tensorflow as tf\n",
        "import numpy as np\n",
        "import time\n",
        "from sklearn.model_selection import train_test_split\n",
        "from sklearn.preprocessing import MinMaxScaler, StandardScaler\n",
        "from sklearn import cross_validation\n",
        "config \u003d tf.ConfigProto()\n",
        "config.gpu_options.allow_growth\u003dTrue"
      ]
    },
    {
      "cell_type": "code",
      "execution_count": 2,
      "metadata": {
        "pycharm": {}
      },
      "outputs": [],
      "source": "white \u003d np.loadtxt(\u0027/0822/TensorFlow-Tutorials/white.csv\u0027, skiprows\u003d1, delimiter\u003d\u0027,\u0027, dtype\u003dnp.float32)\nx_data \u003d white[:, 0:-1]; y_data \u003d white[:, [-1]]\nY_binary \u003d (y_data \u003e 5)\ndef minmaxscaler(data):\n    numerator \u003d data - np.min(data, 0)\n    denominator \u003d np.max(data, 0) - np.min(data, 0)\n    return numerator / denominator\nX_mm \u003d minmaxscaler(x_data)\nX_train, X_test, Y_train, Y_test \u003d train_test_split(X_mm,Y_binary, test_size\u003d 0.3, random_state\u003d 1)"
    },
    {
      "cell_type": "code",
      "execution_count": 4,
      "metadata": {
        "pycharm": {}
      },
      "outputs": [],
      "source": [
        "X \u003d tf.placeholder(tf.float32, [None, len(X_train[0])])\n",
        "Y \u003d tf.placeholder(tf.float32, [None, 1])"
      ]
    },
    {
      "cell_type": "code",
      "execution_count": 3,
      "metadata": {
        "pycharm": {}
      },
      "outputs": [],
      "source": [
        "def mlp(layer_n, data, output_size, act\u003d\u0027None\u0027):\n",
        "    w \u003d tf.get_variable(layer_n+\u0027w\u0027,[data.get_shape().as_list()[1],output_size],initializer\u003dtf.contrib.layers.xavier_initializer())\n",
        "    b \u003d tf.get_variable(layer_n+\u0027b\u0027,[output_size],initializer\u003dtf.contrib.layers.xavier_initializer())\n",
        "    if act \u003d\u003d \u0027relu\u0027:\n",
        "        res \u003d tf.nn.relu(tf.matmul(data,w)+b)\n",
        "        return res\n",
        "    elif act \u003d\u003d \u0027sigmoid\u0027:\n",
        "        res \u003d tf.nn.sigmoid(tf.matmul(data,w)+b)\n",
        "        return res\n",
        "    else:\n",
        "        return tf.matmul(data,w)+b"
      ]
    },
    {
      "cell_type": "code",
      "execution_count": 5,
      "metadata": {
        "pycharm": {}
      },
      "outputs": [],
      "source": [
        "l1\u003dmlp(\u0027l1\u0027, X, 22, \u0027relu\u0027)\n",
        "l2\u003dmlp(\u0027l2\u0027, l1, 22, \u0027relu\u0027)\n",
        "l3\u003dmlp(\u0027l3\u0027, l2, 44, \u0027relu\u0027)\n",
        "l4\u003dmlp(\u0027l4\u0027, l3, 44, \u0027relu\u0027)\n",
        "H\u003dmlp(\u0027l5\u0027, l4, 1)"
      ]
    },
    {
      "cell_type": "code",
      "execution_count": 6,
      "metadata": {
        "pycharm": {}
      },
      "outputs": [],
      "source": [
        "cost \u003d tf.reduce_sum(tf.pow(H-Y,2))/len(X_train)\n",
        "optimizer \u003d tf.train.AdamOptimizer(learning_rate\u003d0.001).minimize(cost)\n",
        "predict \u003d tf.cast(H \u003e 0.5, dtype\u003dtf.float32)\n",
        "accuracy \u003d tf.reduce_mean(tf.cast(tf.equal(predict, Y), dtype\u003dtf.float32))"
      ]
    },
    {
      "cell_type": "code",
      "execution_count": 7,
      "metadata": {
        "pycharm": {}
      },
      "outputs": [
        {
          "name": "stdout",
          "output_type": "stream",
          "text": [
            "0 4.9220853\n"
          ]
        },
        {
          "name": "stdout",
          "output_type": "stream",
          "text": [
            "200 0.1767737\n"
          ]
        },
        {
          "name": "stdout",
          "output_type": "stream",
          "text": [
            "400 0.15916449\n"
          ]
        },
        {
          "name": "stdout",
          "output_type": "stream",
          "text": [
            "600 0.15094191\n"
          ]
        },
        {
          "name": "stdout",
          "output_type": "stream",
          "text": [
            "800 0.14453939\n"
          ]
        },
        {
          "name": "stdout",
          "output_type": "stream",
          "text": [
            "1000 0.13993508\n"
          ]
        },
        {
          "name": "stdout",
          "output_type": "stream",
          "text": [
            "1200 0.13615203\n"
          ]
        },
        {
          "name": "stdout",
          "output_type": "stream",
          "text": [
            "1400 0.13300626\n"
          ]
        },
        {
          "name": "stdout",
          "output_type": "stream",
          "text": [
            "1600 0.12979554\n"
          ]
        },
        {
          "name": "stdout",
          "output_type": "stream",
          "text": [
            "1800 0.12663321\n"
          ]
        },
        {
          "name": "stdout",
          "output_type": "stream",
          "text": [
            "2000 0.123233266\n"
          ]
        },
        {
          "name": "stdout",
          "output_type": "stream",
          "text": [
            "2200 0.120606825\n"
          ]
        },
        {
          "name": "stdout",
          "output_type": "stream",
          "text": [
            "2400 0.118368305\n"
          ]
        },
        {
          "name": "stdout",
          "output_type": "stream",
          "text": [
            "2600 0.11686184\n"
          ]
        },
        {
          "name": "stdout",
          "output_type": "stream",
          "text": [
            "2800 0.11460626\n"
          ]
        },
        {
          "name": "stdout",
          "output_type": "stream",
          "text": [
            "3000 0.11322758\n"
          ]
        },
        {
          "name": "stdout",
          "output_type": "stream",
          "text": [
            "3200 0.11176886\n"
          ]
        },
        {
          "name": "stdout",
          "output_type": "stream",
          "text": [
            "3400 0.11037347\n"
          ]
        },
        {
          "name": "stdout",
          "output_type": "stream",
          "text": [
            "3600 0.10901669\n"
          ]
        },
        {
          "name": "stdout",
          "output_type": "stream",
          "text": [
            "3800 0.10754365\n"
          ]
        },
        {
          "name": "stdout",
          "output_type": "stream",
          "text": [
            "4000 0.10587762\n"
          ]
        },
        {
          "name": "stdout",
          "output_type": "stream",
          "text": [
            "4200 0.10442397\n"
          ]
        },
        {
          "name": "stdout",
          "output_type": "stream",
          "text": [
            "4400 0.10307759\n"
          ]
        },
        {
          "name": "stdout",
          "output_type": "stream",
          "text": [
            "4600 0.101657264\n"
          ]
        },
        {
          "name": "stdout",
          "output_type": "stream",
          "text": [
            "4800 0.100852884\n"
          ]
        },
        {
          "name": "stdout",
          "output_type": "stream",
          "text": [
            "5000 0.09958022\n"
          ]
        },
        {
          "name": "stdout",
          "output_type": "stream",
          "text": [
            "5200 0.09846177\n"
          ]
        },
        {
          "name": "stdout",
          "output_type": "stream",
          "text": [
            "5400 0.09728057\n"
          ]
        },
        {
          "name": "stdout",
          "output_type": "stream",
          "text": [
            "5600 0.096530624\n"
          ]
        },
        {
          "name": "stdout",
          "output_type": "stream",
          "text": [
            "5800 0.09511984\n"
          ]
        },
        {
          "name": "stdout",
          "output_type": "stream",
          "text": [
            "6000 0.09455624\n"
          ]
        },
        {
          "name": "stdout",
          "output_type": "stream",
          "text": [
            "6200 0.09346026\n"
          ]
        },
        {
          "name": "stdout",
          "output_type": "stream",
          "text": [
            "6400 0.092606515\n"
          ]
        },
        {
          "name": "stdout",
          "output_type": "stream",
          "text": [
            "6600 0.09205311\n"
          ]
        },
        {
          "name": "stdout",
          "output_type": "stream",
          "text": [
            "6800 0.091531835\n"
          ]
        },
        {
          "name": "stdout",
          "output_type": "stream",
          "text": [
            "7000 0.09094544\n"
          ]
        },
        {
          "name": "stdout",
          "output_type": "stream",
          "text": [
            "7200 0.09090422\n"
          ]
        },
        {
          "name": "stdout",
          "output_type": "stream",
          "text": [
            "7400 0.08977308\n"
          ]
        },
        {
          "name": "stdout",
          "output_type": "stream",
          "text": [
            "7600 0.08934805\n"
          ]
        },
        {
          "name": "stdout",
          "output_type": "stream",
          "text": [
            "7800 0.08891136\n"
          ]
        },
        {
          "name": "stdout",
          "output_type": "stream",
          "text": [
            "8000 0.08822616\n"
          ]
        },
        {
          "name": "stdout",
          "output_type": "stream",
          "text": [
            "8200 0.08730371\n"
          ]
        },
        {
          "name": "stdout",
          "output_type": "stream",
          "text": [
            "8400 0.086840704\n"
          ]
        },
        {
          "name": "stdout",
          "output_type": "stream",
          "text": [
            "8600 0.08645626\n"
          ]
        },
        {
          "name": "stdout",
          "output_type": "stream",
          "text": [
            "8800 0.08578856\n"
          ]
        },
        {
          "name": "stdout",
          "output_type": "stream",
          "text": [
            "9000 0.08544915\n"
          ]
        },
        {
          "name": "stdout",
          "output_type": "stream",
          "text": [
            "9200 0.08530395\n"
          ]
        },
        {
          "name": "stdout",
          "output_type": "stream",
          "text": [
            "9400 0.08442089\n"
          ]
        },
        {
          "name": "stdout",
          "output_type": "stream",
          "text": [
            "9600 0.08384016\n"
          ]
        },
        {
          "name": "stdout",
          "output_type": "stream",
          "text": [
            "9800 0.08380242\n"
          ]
        },
        {
          "name": "stdout",
          "output_type": "stream",
          "text": [
            "Accuracy :  0.78163266\n"
          ]
        }
      ],
      "source": [
        "sess \u003d tf.Session(config\u003dconfig)\n",
        "sess.run(tf.global_variables_initializer())\n",
        "\n",
        "for step in range(0,10000):\n",
        "    cost_val, _ \u003d sess.run([cost, optimizer], feed_dict\u003d{X: X_train, Y: Y_train})\n",
        "    if(step % 200 \u003d\u003d 0):\n",
        "        print(step, cost_val)\n",
        "\n",
        "print(\"Accuracy : \", sess.run(accuracy, feed_dict\u003d{X: X_test, Y: Y_test}))"
      ]
    }
  ],
  "metadata": {
    "kernelspec": {
      "display_name": "Python 2",
      "language": "python",
      "name": "python2"
    },
    "language_info": {
      "codemirror_mode": {
        "name": "ipython",
        "version": 2
      },
      "file_extension": ".py",
      "mimetype": "text/x-python",
      "name": "python",
      "nbconvert_exporter": "python",
      "pygments_lexer": "ipython2",
      "version": "2.7.6"
    }
  },
  "nbformat": 4,
  "nbformat_minor": 0
}