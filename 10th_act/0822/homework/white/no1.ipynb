{
  "cells": [
    {
      "cell_type": "code",
      "execution_count": 12,
      "metadata": {
        "collapsed": true,
        "pycharm": {}
      },
      "outputs": [],
      "source": [
        "import tensorflow as tf\n",
        "import numpy as np\n",
        "import time\n",
        "from sklearn.model_selection import train_test_split\n",
        "from sklearn.preprocessing import MinMaxScaler, StandardScaler\n",
        "from sklearn import cross_validation\n",
        "config \u003d tf.ConfigProto()\n",
        "config.gpu_options.allow_growth\u003dTrue"
      ]
    },
    {
      "cell_type": "code",
      "execution_count": 13,
      "metadata": {
        "pycharm": {}
      },
      "outputs": [],
      "source": "white \u003d np.loadtxt(\u0027/0822/TensorFlow-Tutorials/white.csv\u0027, skiprows\u003d1, delimiter\u003d\u0027,\u0027, dtype\u003dnp.float32)\nx_data \u003d white[:, 0:-1]; y_data \u003d white[:, [-1]]\nY_binary \u003d (y_data \u003e 5)\ndef minmaxscaler(data):\n    numerator \u003d data - np.min(data, 0)\n    denominator \u003d np.max(data, 0) - np.min(data, 0)\n    return numerator / denominator\nX_mm \u003d minmaxscaler(x_data)\nX_train, X_test, Y_train, Y_test \u003d train_test_split(X_mm,Y_binary, test_size\u003d 0.3, random_state\u003d 1)"
    },
    {
      "cell_type": "code",
      "execution_count": 7,
      "metadata": {
        "pycharm": {}
      },
      "outputs": [],
      "source": [
        "X \u003d tf.placeholder(tf.float32, [None, len(X_train[0])])\n",
        "Y \u003d tf.placeholder(tf.float32, [None, 1])"
      ]
    },
    {
      "cell_type": "code",
      "execution_count": 8,
      "metadata": {
        "pycharm": {}
      },
      "outputs": [],
      "source": [
        "W \u003d tf.Variable(tf.random_normal([11, 1]), name \u003d \"weight\")\n",
        "b \u003d tf.Variable(tf.random_normal([1]), name \u003d \"bias\")\n",
        "H \u003d tf.sigmoid(tf.matmul(X, W) + b)"
      ]
    },
    {
      "cell_type": "code",
      "execution_count": 16,
      "metadata": {
        "pycharm": {}
      },
      "outputs": [],
      "source": [
        "cost \u003d tf.reduce_sum(tf.pow(H-Y,2))/len(X_train)\n",
        "optimizer \u003d tf.train.GradientDescentOptimizer(learning_rate\u003d0.001).minimize(cost)\n",
        "predict \u003d tf.cast(H \u003e 0.5, dtype\u003dtf.float32)\n",
        "accuracy \u003d tf.reduce_mean(tf.cast(tf.equal(predict, Y), dtype\u003dtf.float32))"
      ]
    },
    {
      "cell_type": "code",
      "execution_count": 17,
      "metadata": {
        "pycharm": {}
      },
      "outputs": [
        {
          "name": "stdout",
          "output_type": "stream",
          "text": [
            "0 0.45200205\n200 0.44473892\n"
          ]
        },
        {
          "name": "stdout",
          "output_type": "stream",
          "text": [
            "400 0.4372585\n600 0.4295752\n"
          ]
        },
        {
          "name": "stdout",
          "output_type": "stream",
          "text": [
            "800 0.42170754\n1000 0.4136777\n"
          ]
        },
        {
          "name": "stdout",
          "output_type": "stream",
          "text": [
            "1200 0.40551147\n1400 0.39723924\n"
          ]
        },
        {
          "name": "stdout",
          "output_type": "stream",
          "text": [
            "1600 0.38889253\n"
          ]
        },
        {
          "name": "stdout",
          "output_type": "stream",
          "text": [
            "1800 0.3805081\n"
          ]
        },
        {
          "name": "stdout",
          "output_type": "stream",
          "text": [
            "2000 0.37212476\n2200 "
          ]
        },
        {
          "name": "stdout",
          "output_type": "stream",
          "text": [
            "0.3637806\n2400 0.3555165\n2600 0.34737173\n"
          ]
        },
        {
          "name": "stdout",
          "output_type": "stream",
          "text": [
            "2800 0.33938453\n3000 0.331591\n"
          ]
        },
        {
          "name": "stdout",
          "output_type": "stream",
          "text": [
            "3200 0.324024\n3400 0.31671238\n"
          ]
        },
        {
          "name": "stdout",
          "output_type": "stream",
          "text": [
            "3600 0.3096811\n3800 0.30294997\n"
          ]
        },
        {
          "name": "stdout",
          "output_type": "stream",
          "text": [
            "4000 0.29653412\n4200 0.29044396\n"
          ]
        },
        {
          "name": "stdout",
          "output_type": "stream",
          "text": [
            "4400 0.28468525\n4600 0.2792595\n"
          ]
        },
        {
          "name": "stdout",
          "output_type": "stream",
          "text": [
            "4800 0.2741642\n5000 0.26939383\n"
          ]
        },
        {
          "name": "stdout",
          "output_type": "stream",
          "text": [
            "5200 0.26493976\n5400 0.26079127\n"
          ]
        },
        {
          "name": "stdout",
          "output_type": "stream",
          "text": [
            "5600 0.25693583\n5800 0.2533596\n"
          ]
        },
        {
          "name": "stdout",
          "output_type": "stream",
          "text": [
            "6000 0.25004786\n6200 0.2469855\n"
          ]
        },
        {
          "name": "stdout",
          "output_type": "stream",
          "text": [
            "6400 0.24415708\n6600 0.24154745\n"
          ]
        },
        {
          "name": "stdout",
          "output_type": "stream",
          "text": [
            "6800 0.23914166\n7000 0.2369252\n"
          ]
        },
        {
          "name": "stdout",
          "output_type": "stream",
          "text": [
            "7200 0.23488411\n7400 0.23300526\n"
          ]
        },
        {
          "name": "stdout",
          "output_type": "stream",
          "text": [
            "7600 0.23127599\n7800 0.22968464\n"
          ]
        },
        {
          "name": "stdout",
          "output_type": "stream",
          "text": [
            "8000 0.2282201\n8200 0.22687213\n"
          ]
        },
        {
          "name": "stdout",
          "output_type": "stream",
          "text": [
            "8400 0.22563122\n8600 0.22448848\n"
          ]
        },
        {
          "name": "stdout",
          "output_type": "stream",
          "text": [
            "8800 0.2234358\n9000 0.22246566\n"
          ]
        },
        {
          "name": "stdout",
          "output_type": "stream",
          "text": [
            "9200 0.22157113\n9400 0.22074586\n"
          ]
        },
        {
          "name": "stdout",
          "output_type": "stream",
          "text": [
            "9600 0.21998407\n9800 0.21928038\n"
          ]
        },
        {
          "name": "stdout",
          "output_type": "stream",
          "text": [
            "Accuracy :  0.6761905\n"
          ]
        }
      ],
      "source": [
        "sess \u003d tf.Session(config\u003dconfig)\n",
        "sess.run(tf.global_variables_initializer())\n",
        "\n",
        "for step in range(0,10000):\n",
        "    cost_val, _ \u003d sess.run([cost, optimizer], feed_dict\u003d{X: X_train, Y: Y_train})\n",
        "    if(step % 200 \u003d\u003d 0):\n",
        "        print(step, cost_val)\n",
        "\n",
        "print(\"Accuracy : \", sess.run(accuracy, feed_dict\u003d{X: X_test, Y: Y_test}))"
      ]
    }
  ],
  "metadata": {
    "kernelspec": {
      "display_name": "Python 2",
      "language": "python",
      "name": "python2"
    },
    "language_info": {
      "codemirror_mode": {
        "name": "ipython",
        "version": 2
      },
      "file_extension": ".py",
      "mimetype": "text/x-python",
      "name": "python",
      "nbconvert_exporter": "python",
      "pygments_lexer": "ipython2",
      "version": "2.7.6"
    }
  },
  "nbformat": 4,
  "nbformat_minor": 0
}