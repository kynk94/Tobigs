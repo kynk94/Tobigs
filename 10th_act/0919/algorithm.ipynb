{
 "cells": [
  {
   "cell_type": "code",
   "execution_count": 1,
   "metadata": {},
   "outputs": [],
   "source": [
    "import numpy as np\n",
    "import itertools\n",
    "import copy"
   ]
  },
  {
   "cell_type": "code",
   "execution_count": 2,
   "metadata": {},
   "outputs": [],
   "source": [
    "coin = [10300, 9600, 9800, 8200, 7800, 8300, 9500, 9800, 10200, 9500]"
   ]
  },
  {
   "cell_type": "code",
   "execution_count": 3,
   "metadata": {},
   "outputs": [],
   "source": [
    "# coin 최대 이득 계산 C_list 함수\n",
    "def max_revenue(C_list):\n",
    "    return max([max(C_list[i+1:len(C_list)])-C_list[i] for i in range(len(C_list)-1)])"
   ]
  },
  {
   "cell_type": "code",
   "execution_count": 4,
   "metadata": {},
   "outputs": [
    {
     "name": "stdout",
     "output_type": "stream",
     "text": [
      "최대 이득은 2400원 입니다.\n"
     ]
    }
   ],
   "source": [
    "print(f'최대 이득은 {max_revenue(coin)}원 입니다.')"
   ]
  },
  {
   "cell_type": "code",
   "execution_count": 5,
   "metadata": {
    "scrolled": true
   },
   "outputs": [],
   "source": [
    "# 마을 크기 입력받기 rule 함수\n",
    "def rule():\n",
    "    while(1):\n",
    "        try:\n",
    "            row_num=int(input('마을의 크기를 입력하시오 :').strip())\n",
    "            print('\\n각 행의 원소를 띄어쓰기로 구분하여 입력하시오.')\n",
    "            break\n",
    "        except ValueError:\n",
    "            print('\\n정수만 입력하시오.\\n')\n",
    "    square=[]\n",
    "    for row in range(1,row_num+1):\n",
    "        i=1\n",
    "        while(i):\n",
    "            try:\n",
    "                r=input(str(row)+'번째 행 :').strip().split(' ')\n",
    "                assert len(r)==row_num\n",
    "                square.append([int(j) for j in r])\n",
    "                i=0\n",
    "            except AssertionError:\n",
    "                print('\\n입력한 행의 길이가 '+str(row_num)+'이 아닙니다.\\n다시 입력하시오.\\n')\n",
    "            except ValueError:\n",
    "                print('\\n정수만 입력하시오.\\n')\n",
    "    square=np.array(square)\n",
    "    return(square)"
   ]
  },
  {
   "cell_type": "code",
   "execution_count": 6,
   "metadata": {},
   "outputs": [],
   "source": [
    "# 최대값 계산 알고리즘 market 함수\n",
    "def market(matrix):\n",
    "    num_chestnut=copy.deepcopy(matrix)\n",
    "    row_num=matrix.shape[0]\n",
    "    for i in range(row_num):\n",
    "        for j in range(row_num):\n",
    "            if i==0 and j!=0:\n",
    "                num_chestnut[i][j]+=num_chestnut[i][j-1]\n",
    "            elif i!=0 and j==0:\n",
    "                num_chestnut[i][j]+=num_chestnut[i-1][j]\n",
    "            elif i>0 and j>0:\n",
    "                num_chestnut[i][j]+=max(num_chestnut[i-1][j],num_chestnut[i][j-1])\n",
    "    return(num_chestnut)"
   ]
  },
  {
   "cell_type": "markdown",
   "metadata": {},
   "source": [
    "문제 설명에서 저는 조금 바꿔서 작성하였습니다.\n",
    "\n",
    "난이도를 낮춘것은 아닙니다.\n",
    "\n",
    "1.한 번에 여러 지역의 법을 수정할 수 있도록 한다.\n",
    "\n",
    "2.하지만 큰 변화는 위험하므로 같은 지역에 여러 번 명령을 주어 2이상 변화가 생긴다면,\n",
    "명령을 다시 하도록 한다."
   ]
  },
  {
   "cell_type": "code",
   "execution_count": 7,
   "metadata": {},
   "outputs": [],
   "source": [
    "def how_many(matrix):\n",
    "    row_num=matrix.shape[0]\n",
    "    square=matrix\n",
    "    num_chestnut=market(square)\n",
    "    print('\\n현재 시장의 형태는 다음과 같습니다.')\n",
    "    print(f'지역별 개수\\n{square}\\n지역별 최대값\\n{num_chestnut}\\n')\n",
    "    print(f'시장에 유통되는 수량은 {sum(list(itertools.chain(*market(square))))}개 입니다.')\n",
    "    command=[]\n",
    "    tcommand=[]\n",
    "    tmp_square=copy.deepcopy(square)\n",
    "    while(1):\n",
    "        whether=input('\\n시장에 개입하시겠습니까? [Yes/No]\\n').strip().lower()\n",
    "        if whether=='yes' or whether=='y':\n",
    "            print('\\n명령을 입력하시오.\\n각 명령은 \\'A/B 행번호 열번호\\'의 형태로 띄어쓰기로 구분하여 입력할 것.')\n",
    "            print('명령 그만두기 : stop\\n명령 취소하기 : cancel\\n')\n",
    "            i=1\n",
    "            while(1):\n",
    "                try:\n",
    "                    tmp_command=input(str(i)+'번째 명령 : ').strip().lower().split(' ')\n",
    "                    if tmp_command[0]=='stop':\n",
    "                        command.append(list(itertools.chain(*tcommand)))\n",
    "                        square=copy.deepcopy(tmp_square)\n",
    "                        num_chestnut=market(square)\n",
    "                        print('현재까지의 명령을 적용합니다.')\n",
    "                        print('\\n현재 시장의 형태는 다음과 같습니다.')\n",
    "                        print(f'지역별 개수\\n{square}\\n지역별 최대값\\n{num_chestnut}')\n",
    "                        break\n",
    "                    elif tmp_command[0]=='cancel':\n",
    "                        tmp_square=copy.deepcopy(square)\n",
    "                        tcommand=[]\n",
    "                        print('모든 명령을 취소합니다.\\n현재 시장의 형태는 다음과 같습니다.')\n",
    "                        print(f'\\n지역별 개수\\n{square}\\n지역별 최대값\\n{num_chestnut}')\n",
    "                        break\n",
    "                    else:\n",
    "                        tmp_command[1:]=[int(elm) for elm in tmp_command[1:]]\n",
    "                        assert len(tmp_command)==3\n",
    "                        assert max(tmp_command[1:])<=row_num and min(tmp_command[1:])>=1\n",
    "                        assert tmp_command[0]=='a' or tmp_command[0]=='b'\n",
    "                        try:\n",
    "                            tmp=copy.deepcopy(tmp_square)\n",
    "                            if tmp_command[0]=='a':\n",
    "                                tmp_square[tmp_command[1]-1,tmp_command[2]-1]+=1\n",
    "                            elif tmp_command[0]=='b':\n",
    "                                tmp_square[tmp_command[1]-1,tmp_command[2]-1]-=1\n",
    "                            assert max([abs(i) for i in list(itertools.chain(*(tmp_square-square)))])<=1\n",
    "                            print(f'적용 시 유통되는 수량은 {sum(list(itertools.chain(*market(tmp_square))))}개 입니다.')\n",
    "                            i+=1\n",
    "                            tcommand.append(tmp_command)\n",
    "                        except AssertionError:\n",
    "                            print('\\n이 명령을 수행하면 2 이상의 변화가 생깁니다.\\n명령을 다시 입력하십시오.\\n')\n",
    "                            tmp_square=tmp\n",
    "                except (AssertionError,TypeError,ValueError):\n",
    "                    print('\\n잘못된 명령입니다.\\n다시 입력하시오.\\n')\n",
    "        elif whether=='no' or whether=='n':\n",
    "            break\n",
    "        else:\n",
    "            print('\\n잘못된 명령입니다.\\n다시 입력하시오.\\n')\n",
    "    command=np.array(list(itertools.chain(*command))).reshape((-1,3))\n",
    "    print(f'\\n시장에 유통되는 수량은 {sum(list(itertools.chain(*market(square))))}개 이며, 지금까지 적용한 전체 명령은\\n{command}\\n입니다.')\n",
    "    return 0"
   ]
  },
  {
   "cell_type": "code",
   "execution_count": 8,
   "metadata": {},
   "outputs": [
    {
     "name": "stdout",
     "output_type": "stream",
     "text": [
      "마을의 크기를 입력하시오 :3\n",
      "\n",
      "각 행의 원소를 띄어쓰기로 구분하여 입력하시오.\n",
      "1번째 행 :3 2 7\n",
      "2번째 행 :4 2 6\n",
      "3번째 행 :5 3 8\n"
     ]
    }
   ],
   "source": [
    "square=rule()\n",
    "\n",
    "# 마을의 크기를 입력하시오 :3\n",
    "\n",
    "# 각 행의 원소를 띄어쓰기로 구분하여 입력하시오.\n",
    "# 1번째 행 :3 2 7\n",
    "# 2번째 행 :4 2 6\n",
    "# 3번째 행 :5 3 8"
   ]
  },
  {
   "cell_type": "code",
   "execution_count": 9,
   "metadata": {
    "scrolled": false
   },
   "outputs": [
    {
     "name": "stdout",
     "output_type": "stream",
     "text": [
      "\n",
      "현재 시장의 형태는 다음과 같습니다.\n",
      "지역별 개수\n",
      "[[3 2 7]\n",
      " [4 2 6]\n",
      " [5 3 8]]\n",
      "지역별 최대값\n",
      "[[ 3  5 12]\n",
      " [ 7  9 18]\n",
      " [12 15 26]]\n",
      "\n",
      "시장에 유통되는 수량은 107개 입니다.\n",
      "\n",
      "시장에 개입하시겠습니까? [Yes/No]\n",
      "Yes\n",
      "\n",
      "명령을 입력하시오.\n",
      "각 명령은 'A/B 행번호 열번호'의 형태로 띄어쓰기로 구분하여 입력할 것.\n",
      "명령 그만두기 : stop\n",
      "명령 취소하기 : cancel\n",
      "\n",
      "1번째 명령 : A 1 2\n",
      "적용 시 유통되는 수량은 111개 입니다.\n",
      "2번째 명령 : B 3 2\n",
      "적용 시 유통되는 수량은 110개 입니다.\n",
      "3번째 명령 : A 1 2\n",
      "\n",
      "이 명령을 수행하면 2 이상의 변화가 생깁니다.\n",
      "명령을 다시 입력하십시오.\n",
      "\n",
      "3번째 명령 : A 1 a\n",
      "\n",
      "잘못된 명령입니다.\n",
      "다시 입력하시오.\n",
      "\n",
      "3번째 명령 : stop\n",
      "현재까지의 명령을 적용합니다.\n",
      "\n",
      "현재 시장의 형태는 다음과 같습니다.\n",
      "지역별 개수\n",
      "[[3 3 7]\n",
      " [4 2 6]\n",
      " [5 2 8]]\n",
      "지역별 최대값\n",
      "[[ 3  6 13]\n",
      " [ 7  9 19]\n",
      " [12 14 27]]\n",
      "\n",
      "시장에 개입하시겠습니까? [Yes/No]\n",
      "y\n",
      "\n",
      "명령을 입력하시오.\n",
      "각 명령은 'A/B 행번호 열번호'의 형태로 띄어쓰기로 구분하여 입력할 것.\n",
      "명령 그만두기 : stop\n",
      "명령 취소하기 : cancel\n",
      "\n",
      "1번째 명령 : B 3 3\n",
      "적용 시 유통되는 수량은 109개 입니다.\n",
      "2번째 명령 : B 1 2\n",
      "적용 시 유통되는 수량은 105개 입니다.\n",
      "3번째 명령 : cancel\n",
      "모든 명령을 취소합니다.\n",
      "현재 시장의 형태는 다음과 같습니다.\n",
      "\n",
      "지역별 개수\n",
      "[[3 3 7]\n",
      " [4 2 6]\n",
      " [5 2 8]]\n",
      "지역별 최대값\n",
      "[[ 3  6 13]\n",
      " [ 7  9 19]\n",
      " [12 14 27]]\n",
      "\n",
      "시장에 개입하시겠습니까? [Yes/No]\n",
      "yes\n",
      "\n",
      "명령을 입력하시오.\n",
      "각 명령은 'A/B 행번호 열번호'의 형태로 띄어쓰기로 구분하여 입력할 것.\n",
      "명령 그만두기 : stop\n",
      "명령 취소하기 : cancel\n",
      "\n",
      "1번째 명령 : A 1 2\n",
      "적용 시 유통되는 수량은 114개 입니다.\n",
      "2번째 명령 : stop\n",
      "현재까지의 명령을 적용합니다.\n",
      "\n",
      "현재 시장의 형태는 다음과 같습니다.\n",
      "지역별 개수\n",
      "[[3 4 7]\n",
      " [4 2 6]\n",
      " [5 2 8]]\n",
      "지역별 최대값\n",
      "[[ 3  7 14]\n",
      " [ 7  9 20]\n",
      " [12 14 28]]\n",
      "\n",
      "시장에 개입하시겠습니까? [Yes/No]\n",
      "No\n",
      "\n",
      "시장에 유통되는 수량은 114개 이며, 지금까지 적용한 전체 명령은\n",
      "[['a' '1' '2']\n",
      " ['b' '3' '2']\n",
      " ['a' '1' '2']]\n",
      "입니다.\n"
     ]
    },
    {
     "data": {
      "text/plain": [
       "0"
      ]
     },
     "execution_count": 9,
     "metadata": {},
     "output_type": "execute_result"
    }
   ],
   "source": [
    "how_many(square)"
   ]
  }
 ],
 "metadata": {
  "kernelspec": {
   "display_name": "Python 3",
   "language": "python",
   "name": "python3"
  },
  "language_info": {
   "codemirror_mode": {
    "name": "ipython",
    "version": 3
   },
   "file_extension": ".py",
   "mimetype": "text/x-python",
   "name": "python",
   "nbconvert_exporter": "python",
   "pygments_lexer": "ipython3",
   "version": "3.7.0"
  }
 },
 "nbformat": 4,
 "nbformat_minor": 1
}
